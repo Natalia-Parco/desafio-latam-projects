{
 "cells": [
  {
   "cell_type": "markdown",
   "metadata": {},
   "source": [
    "## Gráficos y Correlaciones"
   ]
  },
  {
   "cell_type": "markdown",
   "metadata": {},
   "source": [
    "### Desafío 1: \n",
    "\n",
    "- Importe las librerías básicas para el análisis de datos\n",
    "- Descarge e importe el archivo nations.csv . warning: va a encontrar un error en el formato.\n",
    "¿Cómo lo podemos solucionar?."
   ]
  },
  {
   "cell_type": "code",
   "execution_count": 1,
   "metadata": {
    "ExecuteTime": {
     "end_time": "2020-12-04T00:40:44.891628Z",
     "start_time": "2020-12-04T00:40:43.372629Z"
    }
   },
   "outputs": [],
   "source": [
    "import pandas as pd\n",
    "import numpy as np\n",
    "import matplotlib.pyplot as plt \n",
    "import seaborn as sns"
   ]
  },
  {
   "cell_type": "code",
   "execution_count": 2,
   "metadata": {
    "ExecuteTime": {
     "end_time": "2020-12-04T00:40:44.927366Z",
     "start_time": "2020-12-04T00:40:44.894451Z"
    }
   },
   "outputs": [
    {
     "data": {
      "text/html": [
       "<div>\n",
       "<style scoped>\n",
       "    .dataframe tbody tr th:only-of-type {\n",
       "        vertical-align: middle;\n",
       "    }\n",
       "\n",
       "    .dataframe tbody tr th {\n",
       "        vertical-align: top;\n",
       "    }\n",
       "\n",
       "    .dataframe thead th {\n",
       "        text-align: right;\n",
       "    }\n",
       "</style>\n",
       "<table border=\"1\" class=\"dataframe\">\n",
       "  <thead>\n",
       "    <tr style=\"text-align: right;\">\n",
       "      <th></th>\n",
       "      <th>Unnamed: 0</th>\n",
       "      <th>country</th>\n",
       "      <th>region</th>\n",
       "      <th>gdp</th>\n",
       "      <th>school</th>\n",
       "      <th>adfert</th>\n",
       "      <th>chldmort</th>\n",
       "      <th>life</th>\n",
       "      <th>pop</th>\n",
       "      <th>urban</th>\n",
       "      <th>femlab</th>\n",
       "      <th>literacy</th>\n",
       "      <th>co2</th>\n",
       "      <th>gini</th>\n",
       "    </tr>\n",
       "  </thead>\n",
       "  <tbody>\n",
       "    <tr>\n",
       "      <th>0</th>\n",
       "      <td>1</td>\n",
       "      <td>Algeria</td>\n",
       "      <td>Africa</td>\n",
       "      <td>7300.399902</td>\n",
       "      <td>6.716667</td>\n",
       "      <td>7.300000</td>\n",
       "      <td>34.75</td>\n",
       "      <td>72.316666</td>\n",
       "      <td>34172236</td>\n",
       "      <td>64.933334</td>\n",
       "      <td>0.4522</td>\n",
       "      <td>72.599998</td>\n",
       "      <td>15.00</td>\n",
       "      <td>NaN</td>\n",
       "    </tr>\n",
       "    <tr>\n",
       "      <th>1</th>\n",
       "      <td>2</td>\n",
       "      <td>Benin</td>\n",
       "      <td>Africa</td>\n",
       "      <td>1338.800049</td>\n",
       "      <td>3.100000</td>\n",
       "      <td>111.699997</td>\n",
       "      <td>122.75</td>\n",
       "      <td>54.733334</td>\n",
       "      <td>8237634</td>\n",
       "      <td>41.000000</td>\n",
       "      <td>0.8482</td>\n",
       "      <td>41.700001</td>\n",
       "      <td>1.20</td>\n",
       "      <td>NaN</td>\n",
       "    </tr>\n",
       "    <tr>\n",
       "      <th>2</th>\n",
       "      <td>3</td>\n",
       "      <td>Botswana</td>\n",
       "      <td>Africa</td>\n",
       "      <td>12307.400391</td>\n",
       "      <td>8.600000</td>\n",
       "      <td>52.099998</td>\n",
       "      <td>60.25</td>\n",
       "      <td>52.250000</td>\n",
       "      <td>1941233</td>\n",
       "      <td>59.250000</td>\n",
       "      <td>0.8870</td>\n",
       "      <td>84.099998</td>\n",
       "      <td>9.20</td>\n",
       "      <td>NaN</td>\n",
       "    </tr>\n",
       "    <tr>\n",
       "      <th>3</th>\n",
       "      <td>4</td>\n",
       "      <td>Burkina Faso</td>\n",
       "      <td>Africa</td>\n",
       "      <td>1063.400024</td>\n",
       "      <td>1.300000</td>\n",
       "      <td>124.800003</td>\n",
       "      <td>170.50</td>\n",
       "      <td>53.783333</td>\n",
       "      <td>15308383</td>\n",
       "      <td>23.583334</td>\n",
       "      <td>0.8584</td>\n",
       "      <td>23.600000</td>\n",
       "      <td>0.20</td>\n",
       "      <td>NaN</td>\n",
       "    </tr>\n",
       "    <tr>\n",
       "      <th>4</th>\n",
       "      <td>5</td>\n",
       "      <td>Burundi</td>\n",
       "      <td>Africa</td>\n",
       "      <td>349.200012</td>\n",
       "      <td>2.483333</td>\n",
       "      <td>18.600000</td>\n",
       "      <td>168.50</td>\n",
       "      <td>48.866665</td>\n",
       "      <td>7821783</td>\n",
       "      <td>10.250000</td>\n",
       "      <td>1.0344</td>\n",
       "      <td>66.599998</td>\n",
       "      <td>0.10</td>\n",
       "      <td>33.299999</td>\n",
       "    </tr>\n",
       "    <tr>\n",
       "      <th>...</th>\n",
       "      <td>...</td>\n",
       "      <td>...</td>\n",
       "      <td>...</td>\n",
       "      <td>...</td>\n",
       "      <td>...</td>\n",
       "      <td>...</td>\n",
       "      <td>...</td>\n",
       "      <td>...</td>\n",
       "      <td>...</td>\n",
       "      <td>...</td>\n",
       "      <td>...</td>\n",
       "      <td>...</td>\n",
       "      <td>...</td>\n",
       "      <td>...</td>\n",
       "    </tr>\n",
       "    <tr>\n",
       "      <th>189</th>\n",
       "      <td>190</td>\n",
       "      <td>Samoa</td>\n",
       "      <td>Oceania</td>\n",
       "      <td>4012.600098</td>\n",
       "      <td>10.300000</td>\n",
       "      <td>28.299999</td>\n",
       "      <td>26.75</td>\n",
       "      <td>71.533333</td>\n",
       "      <td>181600</td>\n",
       "      <td>20.666668</td>\n",
       "      <td>0.5010</td>\n",
       "      <td>98.800003</td>\n",
       "      <td>3.10</td>\n",
       "      <td>NaN</td>\n",
       "    </tr>\n",
       "    <tr>\n",
       "      <th>190</th>\n",
       "      <td>191</td>\n",
       "      <td>Solomon Islands</td>\n",
       "      <td>Oceania</td>\n",
       "      <td>2249.199951</td>\n",
       "      <td>4.500000</td>\n",
       "      <td>70.300003</td>\n",
       "      <td>36.00</td>\n",
       "      <td>66.500000</td>\n",
       "      <td>503617</td>\n",
       "      <td>17.766666</td>\n",
       "      <td>0.4858</td>\n",
       "      <td>NaN</td>\n",
       "      <td>1.40</td>\n",
       "      <td>NaN</td>\n",
       "    </tr>\n",
       "    <tr>\n",
       "      <th>191</th>\n",
       "      <td>192</td>\n",
       "      <td>Tonga</td>\n",
       "      <td>Oceania</td>\n",
       "      <td>4072.199951</td>\n",
       "      <td>10.133333</td>\n",
       "      <td>22.299999</td>\n",
       "      <td>19.25</td>\n",
       "      <td>71.833336</td>\n",
       "      <td>102550</td>\n",
       "      <td>23.266666</td>\n",
       "      <td>0.7150</td>\n",
       "      <td>99.000000</td>\n",
       "      <td>4.85</td>\n",
       "      <td>NaN</td>\n",
       "    </tr>\n",
       "    <tr>\n",
       "      <th>192</th>\n",
       "      <td>193</td>\n",
       "      <td>Tuvalu</td>\n",
       "      <td>Oceania</td>\n",
       "      <td>NaN</td>\n",
       "      <td>NaN</td>\n",
       "      <td>23.299999</td>\n",
       "      <td>36.50</td>\n",
       "      <td>66.033333</td>\n",
       "      <td>9767</td>\n",
       "      <td>49.233334</td>\n",
       "      <td>NaN</td>\n",
       "      <td>NaN</td>\n",
       "      <td>NaN</td>\n",
       "      <td>NaN</td>\n",
       "    </tr>\n",
       "    <tr>\n",
       "      <th>193</th>\n",
       "      <td>194</td>\n",
       "      <td>Vanuatu</td>\n",
       "      <td>Oceania</td>\n",
       "      <td>3809.800049</td>\n",
       "      <td>6.700000</td>\n",
       "      <td>54.000000</td>\n",
       "      <td>17.75</td>\n",
       "      <td>69.966667</td>\n",
       "      <td>225317</td>\n",
       "      <td>24.500000</td>\n",
       "      <td>0.8988</td>\n",
       "      <td>82.000000</td>\n",
       "      <td>1.50</td>\n",
       "      <td>NaN</td>\n",
       "    </tr>\n",
       "  </tbody>\n",
       "</table>\n",
       "<p>194 rows × 14 columns</p>\n",
       "</div>"
      ],
      "text/plain": [
       "     Unnamed: 0          country   region           gdp     school  \\\n",
       "0             1          Algeria   Africa   7300.399902   6.716667   \n",
       "1             2            Benin   Africa   1338.800049   3.100000   \n",
       "2             3         Botswana   Africa  12307.400391   8.600000   \n",
       "3             4     Burkina Faso   Africa   1063.400024   1.300000   \n",
       "4             5          Burundi   Africa    349.200012   2.483333   \n",
       "..          ...              ...      ...           ...        ...   \n",
       "189         190            Samoa  Oceania   4012.600098  10.300000   \n",
       "190         191  Solomon Islands  Oceania   2249.199951   4.500000   \n",
       "191         192            Tonga  Oceania   4072.199951  10.133333   \n",
       "192         193           Tuvalu  Oceania           NaN        NaN   \n",
       "193         194          Vanuatu  Oceania   3809.800049   6.700000   \n",
       "\n",
       "         adfert  chldmort       life       pop      urban  femlab   literacy  \\\n",
       "0      7.300000     34.75  72.316666  34172236  64.933334  0.4522  72.599998   \n",
       "1    111.699997    122.75  54.733334   8237634  41.000000  0.8482  41.700001   \n",
       "2     52.099998     60.25  52.250000   1941233  59.250000  0.8870  84.099998   \n",
       "3    124.800003    170.50  53.783333  15308383  23.583334  0.8584  23.600000   \n",
       "4     18.600000    168.50  48.866665   7821783  10.250000  1.0344  66.599998   \n",
       "..          ...       ...        ...       ...        ...     ...        ...   \n",
       "189   28.299999     26.75  71.533333    181600  20.666668  0.5010  98.800003   \n",
       "190   70.300003     36.00  66.500000    503617  17.766666  0.4858        NaN   \n",
       "191   22.299999     19.25  71.833336    102550  23.266666  0.7150  99.000000   \n",
       "192   23.299999     36.50  66.033333      9767  49.233334     NaN        NaN   \n",
       "193   54.000000     17.75  69.966667    225317  24.500000  0.8988  82.000000   \n",
       "\n",
       "       co2       gini  \n",
       "0    15.00        NaN  \n",
       "1     1.20        NaN  \n",
       "2     9.20        NaN  \n",
       "3     0.20        NaN  \n",
       "4     0.10  33.299999  \n",
       "..     ...        ...  \n",
       "189   3.10        NaN  \n",
       "190   1.40        NaN  \n",
       "191   4.85        NaN  \n",
       "192    NaN        NaN  \n",
       "193   1.50        NaN  \n",
       "\n",
       "[194 rows x 14 columns]"
      ]
     },
     "execution_count": 2,
     "metadata": {},
     "output_type": "execute_result"
    }
   ],
   "source": [
    "df = pd.read_csv(\"nations.csv\", encoding = \"LATIN-1\")\n",
    "df"
   ]
  },
  {
   "cell_type": "markdown",
   "metadata": {},
   "source": [
    "* Apellidos desde la M hasta la Z enfocarse en las variables:\n",
    "        * femlab: Tasa entre hombres y mujeres en el mercado laboral, \n",
    "        * literacy: Tasa de alfabetismo,\n",
    "        * school: Promedio años de escolaridad."
   ]
  },
  {
   "cell_type": "code",
   "execution_count": 3,
   "metadata": {
    "ExecuteTime": {
     "end_time": "2020-12-04T00:40:45.069993Z",
     "start_time": "2020-12-04T00:40:44.929361Z"
    }
   },
   "outputs": [],
   "source": [
    "df = df[[\"country\", \"region\", \"adfert\", \"femlab\", \"literacy\", \"school\"]]"
   ]
  },
  {
   "cell_type": "markdown",
   "metadata": {},
   "source": [
    "### Desafío 2: \n",
    "\n",
    "- Se pide refactorizar con seaborn los siguientes gráficos contruídos con matplotlib. \n",
    "- Se presenta la función que se utilizó para construírlos. Intente llegar al resultado con mayor similitud. \n",
    "\n",
    "- Comente los principales resultados.\n"
   ]
  },
  {
   "cell_type": "markdown",
   "metadata": {},
   "source": [
    "#### 1. Matplotlib"
   ]
  },
  {
   "cell_type": "code",
   "execution_count": 4,
   "metadata": {
    "ExecuteTime": {
     "end_time": "2020-12-04T00:40:45.517864Z",
     "start_time": "2020-12-04T00:40:45.072987Z"
    },
    "code_folding": [
     0
    ]
   },
   "outputs": [
    {
     "name": "stderr",
     "output_type": "stream",
     "text": [
      "C:\\Users\\nparco\\Anaconda3\\lib\\site-packages\\ipykernel_launcher.py:3: SettingWithCopyWarning: \n",
      "A value is trying to be set on a copy of a slice from a DataFrame.\n",
      "Try using .loc[row_indexer,col_indexer] = value instead\n",
      "\n",
      "See the caveats in the documentation: https://pandas.pydata.org/pandas-docs/stable/user_guide/indexing.html#returning-a-view-versus-a-copy\n",
      "  This is separate from the ipykernel package so we can avoid doing imports until\n"
     ]
    },
    {
     "data": {
      "image/png": "[encoded data removed]",
      "text/plain": [
       "<Figure size 432x288 with 2 Axes>"
      ]
     },
     "metadata": {
      "needs_background": "light"
     },
     "output_type": "display_data"
    }
   ],
   "source": [
    "def binarize_histogram(dataframe, variable):\n",
    "    tmp = dataframe\n",
    "    tmp['binarize'] = np.where(tmp[variable]>np.mean(tmp[variable]), 1 ,0)\n",
    "    \n",
    "    hist_1 = tmp[tmp['binarize'] == 1][variable].dropna()\n",
    "    hist_0 = tmp[tmp['binarize'] == 0][variable].dropna()\n",
    "    \n",
    "    # Primer histograma\n",
    "    plt.subplot(1, 2, 1)\n",
    "    plt.hist(hist_0, alpha=.6, color=\"lightgrey\")\n",
    "    plt.axvline(np.mean(hist_0))\n",
    "    plt.title(\"{0} <= {1}\".format(variable, round(np.mean(hist_0),3)))\n",
    "    \n",
    "    # Segundo histograma\n",
    "    plt.subplot(1, 2, 2)\n",
    "    plt.hist(hist_1, alpha=.6, color=\"lightgrey\")\n",
    "    plt.axvline(np.mean(hist_1))\n",
    "    plt.title(\"{0} >= {1}\".format(variable, round(np.mean(hist_0),3)))\n",
    "binarize_histogram(df, 'femlab') "
   ]
  },
  {
   "cell_type": "markdown",
   "metadata": {},
   "source": [
    "#### 1. Seaborn"
   ]
  },
  {
   "cell_type": "code",
   "execution_count": 5,
   "metadata": {
    "ExecuteTime": {
     "end_time": "2020-12-04T00:40:45.529799Z",
     "start_time": "2020-12-04T00:40:45.519826Z"
    }
   },
   "outputs": [
    {
     "name": "stdout",
     "output_type": "stream",
     "text": [
      "Africa\n",
      "Americas\n",
      "Asia\n",
      "Europe\n",
      "Oceania\n"
     ]
    },
    {
     "name": "stderr",
     "output_type": "stream",
     "text": [
      "C:\\Users\\nparco\\Anaconda3\\lib\\site-packages\\ipykernel_launcher.py:3: SettingWithCopyWarning: \n",
      "A value is trying to be set on a copy of a slice from a DataFrame.\n",
      "Try using .loc[row_indexer,col_indexer] = value instead\n",
      "\n",
      "See the caveats in the documentation: https://pandas.pydata.org/pandas-docs/stable/user_guide/indexing.html#returning-a-view-versus-a-copy\n",
      "  This is separate from the ipykernel package so we can avoid doing imports until\n"
     ]
    }
   ],
   "source": [
    "for i in df[\"region\"].unique():\n",
    "    print(i)\n",
    "    df[i] = np.where(df[\"region\"]==i, 1, 0)"
   ]
  },
  {
   "cell_type": "code",
   "execution_count": 6,
   "metadata": {
    "ExecuteTime": {
     "end_time": "2020-12-04T00:40:45.623600Z",
     "start_time": "2020-12-04T00:40:45.531796Z"
    },
    "code_folding": []
   },
   "outputs": [],
   "source": [
    "# Hace un grupby con lo que le pasamos\n",
    "def histograma (df, var, binarize):\n",
    "    grid = sns.FacetGrid(df, col= binarize, col_wrap = 3)\n",
    "    grid = grid.map(sns.distplot, var)\n",
    "    numero = 0\n",
    "    for grafico in grid.axes:\n",
    "        if numero == 0:\n",
    "            grafico.axvline(df[df[binarize]==0][var].mean())\n",
    "        else: \n",
    "            grafico.axvline(df[df[binarize]==1][var].mean())\n",
    "        numero += 1"
   ]
  },
  {
   "cell_type": "code",
   "execution_count": 7,
   "metadata": {
    "ExecuteTime": {
     "end_time": "2020-12-04T00:40:46.030394Z",
     "start_time": "2020-12-04T00:40:45.624597Z"
    }
   },
   "outputs": [
    {
     "data": {
      "image/png": "[encoded data removed]",
      "text/plain": [
       "<Figure size 648x216 with 2 Axes>"
      ]
     },
     "metadata": {
      "needs_background": "light"
     },
     "output_type": "display_data"
    }
   ],
   "source": [
    "histograma(df,\"femlab\" ,\"Africa\")"
   ]
  },
  {
   "cell_type": "markdown",
   "metadata": {},
   "source": [
    "##### 2. Matplotlib"
   ]
  },
  {
   "cell_type": "code",
   "execution_count": 8,
   "metadata": {
    "ExecuteTime": {
     "end_time": "2020-12-04T00:40:46.413382Z",
     "start_time": "2020-12-04T00:40:46.032390Z"
    },
    "code_folding": [
     0
    ]
   },
   "outputs": [
    {
     "data": {
      "image/png": "[encoded data removed]",
      "text/plain": [
       "<Figure size 432x288 with 5 Axes>"
      ]
     },
     "metadata": {
      "needs_background": "light"
     },
     "output_type": "display_data"
    }
   ],
   "source": [
    "def grouped_boxplot(dataframe, variable, group_by):\n",
    "    tmp = dataframe\n",
    "    stratify_by = tmp[group_by].unique()\n",
    "    \n",
    "    if len(stratify_by) / 2 > 3:\n",
    "        fig, ax = plt.subplots(2, len(stratify_by),sharey=True)\n",
    "    \n",
    "    else:\n",
    "        fig, ax = plt.subplots(1, len(stratify_by),sharey=True)\n",
    "    \n",
    "    \n",
    "    for i, n in enumerate(stratify_by):\n",
    "        ax[i].boxplot(tmp[tmp[group_by] == n][variable])\n",
    "        ax[i].set_title(n)\n",
    "        \n",
    "grouped_boxplot(df, 'adfert', 'region')"
   ]
  },
  {
   "cell_type": "markdown",
   "metadata": {},
   "source": [
    "##### 2. Seaborn"
   ]
  },
  {
   "cell_type": "code",
   "execution_count": 9,
   "metadata": {
    "ExecuteTime": {
     "end_time": "2020-12-04T00:40:46.956968Z",
     "start_time": "2020-12-04T00:40:46.415348Z"
    }
   },
   "outputs": [
    {
     "name": "stderr",
     "output_type": "stream",
     "text": [
      "C:\\Users\\nparco\\Anaconda3\\lib\\site-packages\\seaborn\\axisgrid.py:728: UserWarning: Using the boxplot function without specifying `order` is likely to produce an incorrect plot.\n",
      "  warnings.warn(warning)\n"
     ]
    },
    {
     "data": {
      "image/png": "[encoded data removed]",
      "text/plain": [
       "<Figure size 1080x216 with 5 Axes>"
      ]
     },
     "metadata": {
      "needs_background": "light"
     },
     "output_type": "display_data"
    }
   ],
   "source": [
    "def boxplot(df, var, binarize):\n",
    "    grid=sns.FacetGrid(df,col=binarize, col_wrap=5)\n",
    "    grid.map(sns.boxplot, var, orient= \"v\")\n",
    "    plt.show()\n",
    "boxplot(df,'adfert',\"region\" )"
   ]
  },
  {
   "cell_type": "markdown",
   "metadata": {},
   "source": [
    "##### 3. Matplotlib"
   ]
  },
  {
   "cell_type": "code",
   "execution_count": 10,
   "metadata": {
    "ExecuteTime": {
     "end_time": "2020-12-04T00:40:47.466749Z",
     "start_time": "2020-12-04T00:40:46.957930Z"
    },
    "code_folding": [
     0
    ]
   },
   "outputs": [
    {
     "data": {
      "image/png": "[encoded data removed]",
      "text/plain": [
       "<Figure size 432x288 with 5 Axes>"
      ]
     },
     "metadata": {
      "needs_background": "light"
     },
     "output_type": "display_data"
    }
   ],
   "source": [
    "def grouped_scatterplot(dataframe, x, y, group_by):\n",
    "    tmp = dataframe\n",
    "    stratify_by = tmp[group_by].unique()\n",
    "    \n",
    "    if len(stratify_by) / 2 > 3:\n",
    "        fig, ax = plt.subplots(2, len(stratify_by),sharey=True)\n",
    "    else:\n",
    "        fig, ax = plt.subplots(1, len(stratify_by),sharey=True)\n",
    "    \n",
    "    for i, n in enumerate(stratify_by):\n",
    "        tmp_group_plt = tmp[tmp[group_by] == n]\n",
    "        ax[i].plot(tmp_group_plt[x], tmp_group_plt[y], 'o')\n",
    "        ax[i].set_title(n)\n",
    "grouped_scatterplot(df, 'school', \"literacy\", 'region')      "
   ]
  },
  {
   "cell_type": "markdown",
   "metadata": {},
   "source": [
    "##### 3. Seaborn"
   ]
  },
  {
   "cell_type": "code",
   "execution_count": 11,
   "metadata": {
    "ExecuteTime": {
     "end_time": "2020-12-04T00:40:48.082108Z",
     "start_time": "2020-12-04T00:40:47.469742Z"
    },
    "code_folding": [
     0
    ]
   },
   "outputs": [
    {
     "data": {
      "image/png": "[encoded data removed]",
      "text/plain": [
       "<Figure size 1080x216 with 5 Axes>"
      ]
     },
     "metadata": {
      "needs_background": "light"
     },
     "output_type": "display_data"
    }
   ],
   "source": [
    "def grouped_scatterplot_sns(df, x, y, group_by):\n",
    "    grid = sns.FacetGrid(df, col = group_by, col_wrap = 5)\n",
    "    grid = grid.map(plt.scatter, x, y)\n",
    "    \n",
    "grouped_scatterplot_sns(df, \"school\", \"literacy\", \"region\")"
   ]
  },
  {
   "cell_type": "markdown",
   "metadata": {},
   "source": [
    "### Desafío 3: \n",
    "\n",
    "- En base a las variables de interés asignadas, comente cuáles son las principales correlaciones existentes, tomando como criterio de corte aquellas superior a .6"
   ]
  },
  {
   "cell_type": "code",
   "execution_count": 12,
   "metadata": {
    "ExecuteTime": {
     "end_time": "2020-12-04T00:40:48.102588Z",
     "start_time": "2020-12-04T00:40:48.083655Z"
    }
   },
   "outputs": [
    {
     "data": {
      "text/html": [
       "<div>\n",
       "<style scoped>\n",
       "    .dataframe tbody tr th:only-of-type {\n",
       "        vertical-align: middle;\n",
       "    }\n",
       "\n",
       "    .dataframe tbody tr th {\n",
       "        vertical-align: top;\n",
       "    }\n",
       "\n",
       "    .dataframe thead th {\n",
       "        text-align: right;\n",
       "    }\n",
       "</style>\n",
       "<table border=\"1\" class=\"dataframe\">\n",
       "  <thead>\n",
       "    <tr style=\"text-align: right;\">\n",
       "      <th></th>\n",
       "      <th>country</th>\n",
       "      <th>region</th>\n",
       "      <th>adfert</th>\n",
       "      <th>femlab</th>\n",
       "      <th>literacy</th>\n",
       "      <th>school</th>\n",
       "    </tr>\n",
       "  </thead>\n",
       "  <tbody>\n",
       "    <tr>\n",
       "      <th>0</th>\n",
       "      <td>Algeria</td>\n",
       "      <td>Africa</td>\n",
       "      <td>7.300000</td>\n",
       "      <td>0.4522</td>\n",
       "      <td>72.599998</td>\n",
       "      <td>6.716667</td>\n",
       "    </tr>\n",
       "    <tr>\n",
       "      <th>1</th>\n",
       "      <td>Benin</td>\n",
       "      <td>Africa</td>\n",
       "      <td>111.699997</td>\n",
       "      <td>0.8482</td>\n",
       "      <td>41.700001</td>\n",
       "      <td>3.100000</td>\n",
       "    </tr>\n",
       "    <tr>\n",
       "      <th>2</th>\n",
       "      <td>Botswana</td>\n",
       "      <td>Africa</td>\n",
       "      <td>52.099998</td>\n",
       "      <td>0.8870</td>\n",
       "      <td>84.099998</td>\n",
       "      <td>8.600000</td>\n",
       "    </tr>\n",
       "    <tr>\n",
       "      <th>3</th>\n",
       "      <td>Burkina Faso</td>\n",
       "      <td>Africa</td>\n",
       "      <td>124.800003</td>\n",
       "      <td>0.8584</td>\n",
       "      <td>23.600000</td>\n",
       "      <td>1.300000</td>\n",
       "    </tr>\n",
       "    <tr>\n",
       "      <th>4</th>\n",
       "      <td>Burundi</td>\n",
       "      <td>Africa</td>\n",
       "      <td>18.600000</td>\n",
       "      <td>1.0344</td>\n",
       "      <td>66.599998</td>\n",
       "      <td>2.483333</td>\n",
       "    </tr>\n",
       "    <tr>\n",
       "      <th>...</th>\n",
       "      <td>...</td>\n",
       "      <td>...</td>\n",
       "      <td>...</td>\n",
       "      <td>...</td>\n",
       "      <td>...</td>\n",
       "      <td>...</td>\n",
       "    </tr>\n",
       "    <tr>\n",
       "      <th>189</th>\n",
       "      <td>Samoa</td>\n",
       "      <td>Oceania</td>\n",
       "      <td>28.299999</td>\n",
       "      <td>0.5010</td>\n",
       "      <td>98.800003</td>\n",
       "      <td>10.300000</td>\n",
       "    </tr>\n",
       "    <tr>\n",
       "      <th>190</th>\n",
       "      <td>Solomon Islands</td>\n",
       "      <td>Oceania</td>\n",
       "      <td>70.300003</td>\n",
       "      <td>0.4858</td>\n",
       "      <td>NaN</td>\n",
       "      <td>4.500000</td>\n",
       "    </tr>\n",
       "    <tr>\n",
       "      <th>191</th>\n",
       "      <td>Tonga</td>\n",
       "      <td>Oceania</td>\n",
       "      <td>22.299999</td>\n",
       "      <td>0.7150</td>\n",
       "      <td>99.000000</td>\n",
       "      <td>10.133333</td>\n",
       "    </tr>\n",
       "    <tr>\n",
       "      <th>192</th>\n",
       "      <td>Tuvalu</td>\n",
       "      <td>Oceania</td>\n",
       "      <td>23.299999</td>\n",
       "      <td>NaN</td>\n",
       "      <td>NaN</td>\n",
       "      <td>NaN</td>\n",
       "    </tr>\n",
       "    <tr>\n",
       "      <th>193</th>\n",
       "      <td>Vanuatu</td>\n",
       "      <td>Oceania</td>\n",
       "      <td>54.000000</td>\n",
       "      <td>0.8988</td>\n",
       "      <td>82.000000</td>\n",
       "      <td>6.700000</td>\n",
       "    </tr>\n",
       "  </tbody>\n",
       "</table>\n",
       "<p>194 rows × 6 columns</p>\n",
       "</div>"
      ],
      "text/plain": [
       "             country   region      adfert  femlab   literacy     school\n",
       "0            Algeria   Africa    7.300000  0.4522  72.599998   6.716667\n",
       "1              Benin   Africa  111.699997  0.8482  41.700001   3.100000\n",
       "2           Botswana   Africa   52.099998  0.8870  84.099998   8.600000\n",
       "3       Burkina Faso   Africa  124.800003  0.8584  23.600000   1.300000\n",
       "4            Burundi   Africa   18.600000  1.0344  66.599998   2.483333\n",
       "..               ...      ...         ...     ...        ...        ...\n",
       "189            Samoa  Oceania   28.299999  0.5010  98.800003  10.300000\n",
       "190  Solomon Islands  Oceania   70.300003  0.4858        NaN   4.500000\n",
       "191            Tonga  Oceania   22.299999  0.7150  99.000000  10.133333\n",
       "192           Tuvalu  Oceania   23.299999     NaN        NaN        NaN\n",
       "193          Vanuatu  Oceania   54.000000  0.8988  82.000000   6.700000\n",
       "\n",
       "[194 rows x 6 columns]"
      ]
     },
     "execution_count": 12,
     "metadata": {},
     "output_type": "execute_result"
    }
   ],
   "source": [
    "df = df.iloc[:,0:6]\n",
    "df"
   ]
  },
  {
   "cell_type": "code",
   "execution_count": 13,
   "metadata": {
    "ExecuteTime": {
     "end_time": "2020-12-04T00:40:48.393838Z",
     "start_time": "2020-12-04T00:40:48.104564Z"
    }
   },
   "outputs": [
    {
     "data": {
      "text/plain": [
       "<matplotlib.axes._subplots.AxesSubplot at 0x20f9ebeb308>"
      ]
     },
     "execution_count": 13,
     "metadata": {},
     "output_type": "execute_result"
    },
    {
     "data": {
      "image/png": "[encoded data removed]",
      "text/plain": [
       "<Figure size 432x288 with 2 Axes>"
      ]
     },
     "metadata": {
      "needs_background": "light"
     },
     "output_type": "display_data"
    }
   ],
   "source": [
    "corr = df.corr()[np.abs(df.corr())>.6]\n",
    "sns.heatmap(corr, annot = True)"
   ]
  },
  {
   "cell_type": "code",
   "execution_count": 14,
   "metadata": {
    "ExecuteTime": {
     "end_time": "2020-12-04T00:40:48.399791Z",
     "start_time": "2020-12-04T00:40:48.395800Z"
    }
   },
   "outputs": [
    {
     "name": "stdout",
     "output_type": "stream",
     "text": [
      "Las principales correlaciones existentes son entre: adfer y school poseen una correlacion negativa, es decir, cuando una aumenta la otra disminuye. La misma conclusion es posible asumir con adfert y literacy e inversa con literacy y school (positiva).\n"
     ]
    }
   ],
   "source": [
    "print(\"Las principales correlaciones existentes son entre: adfer y school poseen una correlacion negativa, es decir, cuando una aumenta la otra disminuye. La misma conclusion es posible asumir con adfert y literacy e inversa con literacy y school (positiva).\")"
   ]
  },
  {
   "cell_type": "markdown",
   "metadata": {},
   "source": [
    "### Desafío 4: \n",
    "\n",
    "- tip: Genere una nueva tabla segmentando con la siguiente sintáxis: tmp = df.loc[:,['variables', 'a', 'agregar']] . No olvide agregar la variable region .\n",
    "- tip: Genere un loop para recorrer cada región y generar un heatmap.\n",
    "- Comente brevemente las principales correlaciones a través de las regiones."
   ]
  },
  {
   "cell_type": "code",
   "execution_count": 15,
   "metadata": {
    "ExecuteTime": {
     "end_time": "2020-12-04T00:40:49.394528Z",
     "start_time": "2020-12-04T00:40:48.402784Z"
    }
   },
   "outputs": [
    {
     "data": {
      "image/png": "[encoded data removed]",
      "text/plain": [
       "<Figure size 432x288 with 2 Axes>"
      ]
     },
     "metadata": {
      "needs_background": "light"
     },
     "output_type": "display_data"
    },
    {
     "data": {
      "image/png": "[encoded data removed]",
      "text/plain": [
       "<Figure size 432x288 with 2 Axes>"
      ]
     },
     "metadata": {
      "needs_background": "light"
     },
     "output_type": "display_data"
    },
    {
     "data": {
      "image/png": "[encoded data removed]",
      "text/plain": [
       "<Figure size 432x288 with 2 Axes>"
      ]
     },
     "metadata": {
      "needs_background": "light"
     },
     "output_type": "display_data"
    },
    {
     "data": {
      "image/png": "[encoded data removed]",
      "text/plain": [
       "<Figure size 432x288 with 2 Axes>"
      ]
     },
     "metadata": {
      "needs_background": "light"
     },
     "output_type": "display_data"
    },
    {
     "data": {
      "image/png": "[encoded data removed]",
      "text/plain": [
       "<Figure size 432x288 with 2 Axes>"
      ]
     },
     "metadata": {
      "needs_background": "light"
     },
     "output_type": "display_data"
    }
   ],
   "source": [
    "df_subset = df.loc[:, [\"region\",\"femlab\", \"literacy\", \"school\"]]\n",
    "\n",
    "for i in df[\"region\"].unique():\n",
    "    plt.figure()\n",
    "    sns.heatmap(df_subset[df[\"region\"] == i].corr(), annot = True).set_title(f\"Correlaciones en: {i}\")"
   ]
  },
  {
   "cell_type": "markdown",
   "metadata": {},
   "source": [
    "Como conclusion regional podriamos decir que lo que cambia es el grado de asociacion entre las variables. Es posible observar como la correlacion positiva entre el nivel de alfabetismo y el grado de escolaridad alcanzado en el caso de Oceanía es casi perfecta y como se separa del resto del mundo Europa con un menor grado de asociación.\n",
    "Sorprende que el nivel de alfabetismo este asociado negativa con el trabajo femenino en Oceania."
   ]
  },
  {
   "cell_type": "markdown",
   "metadata": {},
   "source": [
    "### Bonus Points: \n",
    "\n",
    "Grafique los diagramas de dispersión para los principales hallazgos."
   ]
  },
  {
   "cell_type": "code",
   "execution_count": 16,
   "metadata": {
    "ExecuteTime": {
     "end_time": "2020-12-04T00:40:49.627406Z",
     "start_time": "2020-12-04T00:40:49.395560Z"
    }
   },
   "outputs": [
    {
     "data": {
      "text/plain": [
       "Text(0, 0.5, 'Mercado Laboral Femenino')"
      ]
     },
     "execution_count": 16,
     "metadata": {},
     "output_type": "execute_result"
    },
    {
     "data": {
      "image/png": "[encoded data removed]",
      "text/plain": [
       "<Figure size 432x288 with 1 Axes>"
      ]
     },
     "metadata": {
      "needs_background": "light"
     },
     "output_type": "display_data"
    }
   ],
   "source": [
    "plt.scatter(x = df[\"literacy\"], y = df[\"femlab\"])\n",
    "plt.title(\"Impacto de la educación en el mercado laboral femenino\")\n",
    "plt.xlabel(\"Educación\")\n",
    "plt.ylabel(\"Mercado Laboral Femenino\")"
   ]
  },
  {
   "cell_type": "code",
   "execution_count": 17,
   "metadata": {
    "ExecuteTime": {
     "end_time": "2020-12-04T00:40:49.781014Z",
     "start_time": "2020-12-04T00:40:49.628373Z"
    }
   },
   "outputs": [
    {
     "data": {
      "text/plain": [
       "Text(0, 0.5, 'Alfabetismo')"
      ]
     },
     "execution_count": 17,
     "metadata": {},
     "output_type": "execute_result"
    },
    {
     "data": {
      "image/png": "[encoded data removed]",
      "text/plain": [
       "<Figure size 432x288 with 1 Axes>"
      ]
     },
     "metadata": {
      "needs_background": "light"
     },
     "output_type": "display_data"
    }
   ],
   "source": [
    "plt.scatter(x = df[\"school\"], y = df[\"literacy\"])\n",
    "plt.title(\"Impacto de la educación en el alfabetismo\")\n",
    "plt.xlabel(\"Educación\")\n",
    "plt.ylabel(\"Alfabetismo\")"
   ]
  }
 ],
 "metadata": {
  "kernelspec": {
   "display_name": "Python 3 (ipykernel)",
   "language": "python",
   "name": "python3"
  },
  "language_info": {
   "codemirror_mode": {
    "name": "ipython",
    "version": 3
   },
   "file_extension": ".py",
   "mimetype": "text/x-python",
   "name": "python",
   "nbconvert_exporter": "python",
   "pygments_lexer": "ipython3",
   "version": "3.9.13"
  },
  "varInspector": {
   "cols": {
    "lenName": 16,
    "lenType": 16,
    "lenVar": 40
   },
   "kernels_config": {
    "python": {
     "delete_cmd_postfix": "",
     "delete_cmd_prefix": "del ",
     "library": "var_list.py",
     "varRefreshCmd": "print(var_dic_list())"
    },
    "r": {
     "delete_cmd_postfix": ") ",
     "delete_cmd_prefix": "rm(",
     "library": "var_list.r",
     "varRefreshCmd": "cat(var_dic_list()) "
    }
   },
   "types_to_exclude": [
    "module",
    "function",
    "builtin_function_or_method",
    "instance",
    "_Feature"
   ],
   "window_display": false
  }
 },
 "nbformat": 4,
 "nbformat_minor": 4
}
