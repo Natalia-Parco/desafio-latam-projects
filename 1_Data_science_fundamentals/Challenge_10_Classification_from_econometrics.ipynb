{
 "cells": [
  {
   "cell_type": "markdown",
   "metadata": {},
   "source": [
    "## Regresión Logística\n",
    "Se utiliza en fenómenos discretos.Se asumen 1 y 0. Los errores, que considerabamos en el modelo lineal pierden relevancia.\n",
    "\n",
    "$$log \\frac{Pr(Y1)}{1 - Pr(Y1)} = \\beta_0 + \\sum_{j=1}^N \\beta_j X = m$$\n",
    "\n",
    "Probabilidad de y:\n",
    "$$ Pr(Yi)= \\frac{e^m}{(1 + e^m)}$$\n",
    "Asi le puedo asignar un 1 o un 0 dependiendo si la prob me da mayor a .5 o menor .5"
   ]
  },
  {
   "cell_type": "markdown",
   "metadata": {},
   "source": [
    "### Desafio 1:\n",
    "- Se detallan los pasos a seguir\n",
    "- tip: Los tips o sugerencias preceden de tip\n",
    "- Se generan dos notebooks, uno con las soluciones y otro con los ejercicios"
   ]
  },
  {
   "cell_type": "code",
   "execution_count": 1,
   "metadata": {
    "ExecuteTime": {
     "end_time": "2020-12-06T02:06:59.133140Z",
     "start_time": "2020-12-06T02:06:57.550355Z"
    }
   },
   "outputs": [],
   "source": [
    "import pandas as pd\n",
    "import numpy as np\n",
    "import matplotlib.pyplot as plt\n",
    "import seaborn as sns\n",
    "import statsmodels.formula.api as smf\n",
    "\n",
    "from sklearn import linear_model\n",
    "from sklearn.metrics import mean_squared_error, r2_score\n",
    "from sklearn.model_selection import train_test_split"
   ]
  },
  {
   "cell_type": "code",
   "execution_count": 2,
   "metadata": {
    "ExecuteTime": {
     "end_time": "2020-12-06T02:06:59.167162Z",
     "start_time": "2020-12-06T02:06:59.135213Z"
    }
   },
   "outputs": [
    {
     "data": {
      "text/html": [
       "<div>\n",
       "<style scoped>\n",
       "    .dataframe tbody tr th:only-of-type {\n",
       "        vertical-align: middle;\n",
       "    }\n",
       "\n",
       "    .dataframe tbody tr th {\n",
       "        vertical-align: top;\n",
       "    }\n",
       "\n",
       "    .dataframe thead th {\n",
       "        text-align: right;\n",
       "    }\n",
       "</style>\n",
       "<table border=\"1\" class=\"dataframe\">\n",
       "  <thead>\n",
       "    <tr style=\"text-align: right;\">\n",
       "      <th></th>\n",
       "      <th>sbp</th>\n",
       "      <th>tobacco</th>\n",
       "      <th>ldl</th>\n",
       "      <th>adiposity</th>\n",
       "      <th>famhist</th>\n",
       "      <th>typea</th>\n",
       "      <th>obesity</th>\n",
       "      <th>alcohol</th>\n",
       "      <th>age</th>\n",
       "      <th>chd</th>\n",
       "    </tr>\n",
       "  </thead>\n",
       "  <tbody>\n",
       "    <tr>\n",
       "      <th>0</th>\n",
       "      <td>160</td>\n",
       "      <td>12.00</td>\n",
       "      <td>5.73</td>\n",
       "      <td>23.11</td>\n",
       "      <td>Present</td>\n",
       "      <td>49</td>\n",
       "      <td>25.30</td>\n",
       "      <td>97.20</td>\n",
       "      <td>52</td>\n",
       "      <td>1</td>\n",
       "    </tr>\n",
       "    <tr>\n",
       "      <th>1</th>\n",
       "      <td>144</td>\n",
       "      <td>0.01</td>\n",
       "      <td>4.41</td>\n",
       "      <td>28.61</td>\n",
       "      <td>Absent</td>\n",
       "      <td>55</td>\n",
       "      <td>28.87</td>\n",
       "      <td>2.06</td>\n",
       "      <td>63</td>\n",
       "      <td>1</td>\n",
       "    </tr>\n",
       "    <tr>\n",
       "      <th>2</th>\n",
       "      <td>118</td>\n",
       "      <td>0.08</td>\n",
       "      <td>3.48</td>\n",
       "      <td>32.28</td>\n",
       "      <td>Present</td>\n",
       "      <td>52</td>\n",
       "      <td>29.14</td>\n",
       "      <td>3.81</td>\n",
       "      <td>46</td>\n",
       "      <td>0</td>\n",
       "    </tr>\n",
       "    <tr>\n",
       "      <th>3</th>\n",
       "      <td>170</td>\n",
       "      <td>7.50</td>\n",
       "      <td>6.41</td>\n",
       "      <td>38.03</td>\n",
       "      <td>Present</td>\n",
       "      <td>51</td>\n",
       "      <td>31.99</td>\n",
       "      <td>24.26</td>\n",
       "      <td>58</td>\n",
       "      <td>1</td>\n",
       "    </tr>\n",
       "    <tr>\n",
       "      <th>4</th>\n",
       "      <td>134</td>\n",
       "      <td>13.60</td>\n",
       "      <td>3.50</td>\n",
       "      <td>27.78</td>\n",
       "      <td>Present</td>\n",
       "      <td>60</td>\n",
       "      <td>25.99</td>\n",
       "      <td>57.34</td>\n",
       "      <td>49</td>\n",
       "      <td>1</td>\n",
       "    </tr>\n",
       "    <tr>\n",
       "      <th>...</th>\n",
       "      <td>...</td>\n",
       "      <td>...</td>\n",
       "      <td>...</td>\n",
       "      <td>...</td>\n",
       "      <td>...</td>\n",
       "      <td>...</td>\n",
       "      <td>...</td>\n",
       "      <td>...</td>\n",
       "      <td>...</td>\n",
       "      <td>...</td>\n",
       "    </tr>\n",
       "    <tr>\n",
       "      <th>457</th>\n",
       "      <td>214</td>\n",
       "      <td>0.40</td>\n",
       "      <td>5.98</td>\n",
       "      <td>31.72</td>\n",
       "      <td>Absent</td>\n",
       "      <td>64</td>\n",
       "      <td>28.45</td>\n",
       "      <td>0.00</td>\n",
       "      <td>58</td>\n",
       "      <td>0</td>\n",
       "    </tr>\n",
       "    <tr>\n",
       "      <th>458</th>\n",
       "      <td>182</td>\n",
       "      <td>4.20</td>\n",
       "      <td>4.41</td>\n",
       "      <td>32.10</td>\n",
       "      <td>Absent</td>\n",
       "      <td>52</td>\n",
       "      <td>28.61</td>\n",
       "      <td>18.72</td>\n",
       "      <td>52</td>\n",
       "      <td>1</td>\n",
       "    </tr>\n",
       "    <tr>\n",
       "      <th>459</th>\n",
       "      <td>108</td>\n",
       "      <td>3.00</td>\n",
       "      <td>1.59</td>\n",
       "      <td>15.23</td>\n",
       "      <td>Absent</td>\n",
       "      <td>40</td>\n",
       "      <td>20.09</td>\n",
       "      <td>26.64</td>\n",
       "      <td>55</td>\n",
       "      <td>0</td>\n",
       "    </tr>\n",
       "    <tr>\n",
       "      <th>460</th>\n",
       "      <td>118</td>\n",
       "      <td>5.40</td>\n",
       "      <td>11.61</td>\n",
       "      <td>30.79</td>\n",
       "      <td>Absent</td>\n",
       "      <td>64</td>\n",
       "      <td>27.35</td>\n",
       "      <td>23.97</td>\n",
       "      <td>40</td>\n",
       "      <td>0</td>\n",
       "    </tr>\n",
       "    <tr>\n",
       "      <th>461</th>\n",
       "      <td>132</td>\n",
       "      <td>0.00</td>\n",
       "      <td>4.82</td>\n",
       "      <td>33.41</td>\n",
       "      <td>Present</td>\n",
       "      <td>62</td>\n",
       "      <td>14.70</td>\n",
       "      <td>0.00</td>\n",
       "      <td>46</td>\n",
       "      <td>1</td>\n",
       "    </tr>\n",
       "  </tbody>\n",
       "</table>\n",
       "<p>462 rows × 10 columns</p>\n",
       "</div>"
      ],
      "text/plain": [
       "     sbp  tobacco    ldl  adiposity  famhist  typea  obesity  alcohol  age  \\\n",
       "0    160    12.00   5.73      23.11  Present     49    25.30    97.20   52   \n",
       "1    144     0.01   4.41      28.61   Absent     55    28.87     2.06   63   \n",
       "2    118     0.08   3.48      32.28  Present     52    29.14     3.81   46   \n",
       "3    170     7.50   6.41      38.03  Present     51    31.99    24.26   58   \n",
       "4    134    13.60   3.50      27.78  Present     60    25.99    57.34   49   \n",
       "..   ...      ...    ...        ...      ...    ...      ...      ...  ...   \n",
       "457  214     0.40   5.98      31.72   Absent     64    28.45     0.00   58   \n",
       "458  182     4.20   4.41      32.10   Absent     52    28.61    18.72   52   \n",
       "459  108     3.00   1.59      15.23   Absent     40    20.09    26.64   55   \n",
       "460  118     5.40  11.61      30.79   Absent     64    27.35    23.97   40   \n",
       "461  132     0.00   4.82      33.41  Present     62    14.70     0.00   46   \n",
       "\n",
       "     chd  \n",
       "0      1  \n",
       "1      1  \n",
       "2      0  \n",
       "3      1  \n",
       "4      1  \n",
       "..   ...  \n",
       "457    0  \n",
       "458    1  \n",
       "459    0  \n",
       "460    0  \n",
       "461    1  \n",
       "\n",
       "[462 rows x 10 columns]"
      ]
     },
     "execution_count": 2,
     "metadata": {},
     "output_type": "execute_result"
    }
   ],
   "source": [
    "df = pd.read_csv(\"southafricanheart.csv\").drop(columns=[\"Unnamed: 0\"])\n",
    "df"
   ]
  },
  {
   "cell_type": "markdown",
   "metadata": {},
   "source": [
    "### Desafio 2:\n",
    "- A continuación se presenta el siguiente modelo a estimar:\n",
    "- Para ello ejecute los siguientes pasos:\n",
    "    1. Recodifique famhist a dummy, asignando 1 a la categoría minoritaria.\n",
    "    2. Utilice smf.logit para estimar el modelo."
   ]
  },
  {
   "cell_type": "code",
   "execution_count": 3,
   "metadata": {
    "ExecuteTime": {
     "end_time": "2020-12-06T02:06:59.261101Z",
     "start_time": "2020-12-06T02:06:59.169155Z"
    }
   },
   "outputs": [
    {
     "data": {
      "text/plain": [
       "Absent     270\n",
       "Present    192\n",
       "Name: famhist, dtype: int64"
      ]
     },
     "execution_count": 3,
     "metadata": {},
     "output_type": "execute_result"
    }
   ],
   "source": [
    "df[\"famhist\"].value_counts()"
   ]
  },
  {
   "cell_type": "code",
   "execution_count": 4,
   "metadata": {
    "ExecuteTime": {
     "end_time": "2020-12-06T02:06:59.377142Z",
     "start_time": "2020-12-06T02:06:59.263132Z"
    }
   },
   "outputs": [],
   "source": [
    "#df[\"famhist\"].replace([\"Absent\",\"Present\"], [0,1])\n",
    "df[\"famhist\"] = np.where(df[\"famhist\"] == \"Present\", 1, 0)"
   ]
  },
  {
   "cell_type": "code",
   "execution_count": 5,
   "metadata": {
    "ExecuteTime": {
     "end_time": "2020-12-06T02:06:59.493211Z",
     "start_time": "2020-12-06T02:06:59.382133Z"
    }
   },
   "outputs": [
    {
     "name": "stdout",
     "output_type": "stream",
     "text": [
      "Optimization terminated successfully.\n",
      "         Current function value: 0.608111\n",
      "         Iterations 5\n"
     ]
    }
   ],
   "source": [
    "formula_0 = \"chd ~ famhist\"\n",
    "model_0 = smf.logit(formula_0, df).fit()"
   ]
  },
  {
   "cell_type": "code",
   "execution_count": 6,
   "metadata": {
    "ExecuteTime": {
     "end_time": "2020-12-06T02:06:59.932778Z",
     "start_time": "2020-12-06T02:06:59.494209Z"
    },
    "scrolled": true
   },
   "outputs": [
    {
     "data": {
      "text/html": [
       "<table class=\"simpletable\">\n",
       "<caption>Logit Regression Results</caption>\n",
       "<tr>\n",
       "  <th>Dep. Variable:</th>          <td>chd</td>       <th>  No. Observations:  </th>  <td>   462</td>  \n",
       "</tr>\n",
       "<tr>\n",
       "  <th>Model:</th>                 <td>Logit</td>      <th>  Df Residuals:      </th>  <td>   460</td>  \n",
       "</tr>\n",
       "<tr>\n",
       "  <th>Method:</th>                 <td>MLE</td>       <th>  Df Model:          </th>  <td>     1</td>  \n",
       "</tr>\n",
       "<tr>\n",
       "  <th>Date:</th>            <td>Sat, 05 Dec 2020</td> <th>  Pseudo R-squ.:     </th>  <td>0.05740</td> \n",
       "</tr>\n",
       "<tr>\n",
       "  <th>Time:</th>                <td>23:06:59</td>     <th>  Log-Likelihood:    </th> <td> -280.95</td> \n",
       "</tr>\n",
       "<tr>\n",
       "  <th>converged:</th>             <td>True</td>       <th>  LL-Null:           </th> <td> -298.05</td> \n",
       "</tr>\n",
       "<tr>\n",
       "  <th>Covariance Type:</th>     <td>nonrobust</td>    <th>  LLR p-value:       </th> <td>4.937e-09</td>\n",
       "</tr>\n",
       "</table>\n",
       "<table class=\"simpletable\">\n",
       "<tr>\n",
       "      <td></td>         <th>coef</th>     <th>std err</th>      <th>z</th>      <th>P>|z|</th>  <th>[0.025</th>    <th>0.975]</th>  \n",
       "</tr>\n",
       "<tr>\n",
       "  <th>Intercept</th> <td>   -1.1690</td> <td>    0.143</td> <td>   -8.169</td> <td> 0.000</td> <td>   -1.449</td> <td>   -0.889</td>\n",
       "</tr>\n",
       "<tr>\n",
       "  <th>famhist</th>   <td>    1.1690</td> <td>    0.203</td> <td>    5.751</td> <td> 0.000</td> <td>    0.771</td> <td>    1.567</td>\n",
       "</tr>\n",
       "</table>"
      ],
      "text/plain": [
       "<class 'statsmodels.iolib.summary.Summary'>\n",
       "\"\"\"\n",
       "                           Logit Regression Results                           \n",
       "==============================================================================\n",
       "Dep. Variable:                    chd   No. Observations:                  462\n",
       "Model:                          Logit   Df Residuals:                      460\n",
       "Method:                           MLE   Df Model:                            1\n",
       "Date:                Sat, 05 Dec 2020   Pseudo R-squ.:                 0.05740\n",
       "Time:                        23:06:59   Log-Likelihood:                -280.95\n",
       "converged:                       True   LL-Null:                       -298.05\n",
       "Covariance Type:            nonrobust   LLR p-value:                 4.937e-09\n",
       "==============================================================================\n",
       "                 coef    std err          z      P>|z|      [0.025      0.975]\n",
       "------------------------------------------------------------------------------\n",
       "Intercept     -1.1690      0.143     -8.169      0.000      -1.449      -0.889\n",
       "famhist        1.1690      0.203      5.751      0.000       0.771       1.567\n",
       "==============================================================================\n",
       "\"\"\""
      ]
     },
     "execution_count": 6,
     "metadata": {},
     "output_type": "execute_result"
    }
   ],
   "source": [
    "model_0.summary()"
   ]
  },
  {
   "cell_type": "code",
   "execution_count": 7,
   "metadata": {
    "ExecuteTime": {
     "end_time": "2020-12-06T02:07:00.076393Z",
     "start_time": "2020-12-06T02:06:59.934774Z"
    }
   },
   "outputs": [],
   "source": [
    "#model.score(df)"
   ]
  },
  {
   "cell_type": "markdown",
   "metadata": {},
   "source": [
    "  3. Implemente una función inverse_logit que realize el mapeo de log-odds a probabilidad."
   ]
  },
  {
   "cell_type": "code",
   "execution_count": 8,
   "metadata": {
    "ExecuteTime": {
     "end_time": "2020-12-06T02:07:00.285364Z",
     "start_time": "2020-12-06T02:07:00.079386Z"
    }
   },
   "outputs": [],
   "source": [
    "def inverse_logit(log_odds):\n",
    "    return np.exp(log_odds) / ( 1 + np.exp(log_odds))"
   ]
  },
  {
   "cell_type": "markdown",
   "metadata": {},
   "source": [
    "  4. Con el modelo estimado, responda lo siguiente:\n",
    "        - ¿Cuál es la probabilidad de un individuo con antecedentes familiares de tener una\n",
    "enfermedad coronaria?\n",
    "        - ¿Cuál es la probabilidad de un individuo sin antecedentes familiares de tener una\n",
    "enfermedad coronaria?\n",
    "        - ¿Cuál es la diferencia en la probabilidad entre un individuo con antecedentes y otro sin\n",
    "antecedentes?"
   ]
  },
  {
   "cell_type": "code",
   "execution_count": 9,
   "metadata": {
    "ExecuteTime": {
     "end_time": "2020-12-06T02:07:00.386396Z",
     "start_time": "2020-12-06T02:07:00.288325Z"
    }
   },
   "outputs": [
    {
     "name": "stdout",
     "output_type": "stream",
     "text": [
      "La probabilidad de que una persona con antecedentes familiares tenga una enfermedad coronaria es:  0.4999999999999999\n"
     ]
    }
   ],
   "source": [
    "prob_con_famhist = inverse_logit(model_0.params[\"Intercept\"] + model_0.params[\"famhist\"]*1)\n",
    "print(\"La probabilidad de que una persona con antecedentes familiares tenga una enfermedad coronaria es: \", prob_con_famhist)"
   ]
  },
  {
   "cell_type": "code",
   "execution_count": 10,
   "metadata": {
    "ExecuteTime": {
     "end_time": "2020-12-06T02:07:00.472772Z",
     "start_time": "2020-12-06T02:07:00.391382Z"
    }
   },
   "outputs": [
    {
     "name": "stdout",
     "output_type": "stream",
     "text": [
      "La probabilidad de que una persona sin antecedentes familiares tenga una enfermedad coronaria es:  0.23703703703703705\n"
     ]
    }
   ],
   "source": [
    "prob_sin_famhist = inverse_logit(model_0.params[\"Intercept\"]+ model_0.params[\"famhist\"]*0)\n",
    "print(\"La probabilidad de que una persona sin antecedentes familiares tenga una enfermedad coronaria es: \", prob_sin_famhist)"
   ]
  },
  {
   "cell_type": "markdown",
   "metadata": {},
   "source": [
    "- Replique el modelo con smf.ols "
   ]
  },
  {
   "cell_type": "code",
   "execution_count": 11,
   "metadata": {
    "ExecuteTime": {
     "end_time": "2020-12-06T02:07:00.582638Z",
     "start_time": "2020-12-06T02:07:00.473769Z"
    }
   },
   "outputs": [],
   "source": [
    "ols = smf.ols(formula_0, df).fit()"
   ]
  },
  {
   "cell_type": "code",
   "execution_count": 12,
   "metadata": {
    "ExecuteTime": {
     "end_time": "2020-12-06T02:07:00.750226Z",
     "start_time": "2020-12-06T02:07:00.583635Z"
    }
   },
   "outputs": [
    {
     "data": {
      "text/html": [
       "<table class=\"simpletable\">\n",
       "<caption>OLS Regression Results</caption>\n",
       "<tr>\n",
       "  <th>Dep. Variable:</th>           <td>chd</td>       <th>  R-squared:         </th> <td>   0.074</td>\n",
       "</tr>\n",
       "<tr>\n",
       "  <th>Model:</th>                   <td>OLS</td>       <th>  Adj. R-squared:    </th> <td>   0.072</td>\n",
       "</tr>\n",
       "<tr>\n",
       "  <th>Method:</th>             <td>Least Squares</td>  <th>  F-statistic:       </th> <td>   36.86</td>\n",
       "</tr>\n",
       "<tr>\n",
       "  <th>Date:</th>             <td>Sat, 05 Dec 2020</td> <th>  Prob (F-statistic):</th> <td>2.66e-09</td>\n",
       "</tr>\n",
       "<tr>\n",
       "  <th>Time:</th>                 <td>23:07:00</td>     <th>  Log-Likelihood:    </th> <td> -294.59</td>\n",
       "</tr>\n",
       "<tr>\n",
       "  <th>No. Observations:</th>      <td>   462</td>      <th>  AIC:               </th> <td>   593.2</td>\n",
       "</tr>\n",
       "<tr>\n",
       "  <th>Df Residuals:</th>          <td>   460</td>      <th>  BIC:               </th> <td>   601.4</td>\n",
       "</tr>\n",
       "<tr>\n",
       "  <th>Df Model:</th>              <td>     1</td>      <th>                     </th>     <td> </td>   \n",
       "</tr>\n",
       "<tr>\n",
       "  <th>Covariance Type:</th>      <td>nonrobust</td>    <th>                     </th>     <td> </td>   \n",
       "</tr>\n",
       "</table>\n",
       "<table class=\"simpletable\">\n",
       "<tr>\n",
       "      <td></td>         <th>coef</th>     <th>std err</th>      <th>t</th>      <th>P>|t|</th>  <th>[0.025</th>    <th>0.975]</th>  \n",
       "</tr>\n",
       "<tr>\n",
       "  <th>Intercept</th> <td>    0.2370</td> <td>    0.028</td> <td>    8.489</td> <td> 0.000</td> <td>    0.182</td> <td>    0.292</td>\n",
       "</tr>\n",
       "<tr>\n",
       "  <th>famhist</th>   <td>    0.2630</td> <td>    0.043</td> <td>    6.071</td> <td> 0.000</td> <td>    0.178</td> <td>    0.348</td>\n",
       "</tr>\n",
       "</table>\n",
       "<table class=\"simpletable\">\n",
       "<tr>\n",
       "  <th>Omnibus:</th>       <td>768.898</td> <th>  Durbin-Watson:     </th> <td>   1.961</td>\n",
       "</tr>\n",
       "<tr>\n",
       "  <th>Prob(Omnibus):</th> <td> 0.000</td>  <th>  Jarque-Bera (JB):  </th> <td>  58.778</td>\n",
       "</tr>\n",
       "<tr>\n",
       "  <th>Skew:</th>          <td> 0.579</td>  <th>  Prob(JB):          </th> <td>1.72e-13</td>\n",
       "</tr>\n",
       "<tr>\n",
       "  <th>Kurtosis:</th>      <td> 1.692</td>  <th>  Cond. No.          </th> <td>    2.47</td>\n",
       "</tr>\n",
       "</table><br/><br/>Warnings:<br/>[1] Standard Errors assume that the covariance matrix of the errors is correctly specified."
      ],
      "text/plain": [
       "<class 'statsmodels.iolib.summary.Summary'>\n",
       "\"\"\"\n",
       "                            OLS Regression Results                            \n",
       "==============================================================================\n",
       "Dep. Variable:                    chd   R-squared:                       0.074\n",
       "Model:                            OLS   Adj. R-squared:                  0.072\n",
       "Method:                 Least Squares   F-statistic:                     36.86\n",
       "Date:                Sat, 05 Dec 2020   Prob (F-statistic):           2.66e-09\n",
       "Time:                        23:07:00   Log-Likelihood:                -294.59\n",
       "No. Observations:                 462   AIC:                             593.2\n",
       "Df Residuals:                     460   BIC:                             601.4\n",
       "Df Model:                           1                                         \n",
       "Covariance Type:            nonrobust                                         \n",
       "==============================================================================\n",
       "                 coef    std err          t      P>|t|      [0.025      0.975]\n",
       "------------------------------------------------------------------------------\n",
       "Intercept      0.2370      0.028      8.489      0.000       0.182       0.292\n",
       "famhist        0.2630      0.043      6.071      0.000       0.178       0.348\n",
       "==============================================================================\n",
       "Omnibus:                      768.898   Durbin-Watson:                   1.961\n",
       "Prob(Omnibus):                  0.000   Jarque-Bera (JB):               58.778\n",
       "Skew:                           0.579   Prob(JB):                     1.72e-13\n",
       "Kurtosis:                       1.692   Cond. No.                         2.47\n",
       "==============================================================================\n",
       "\n",
       "Warnings:\n",
       "[1] Standard Errors assume that the covariance matrix of the errors is correctly specified.\n",
       "\"\"\""
      ]
     },
     "execution_count": 12,
     "metadata": {},
     "output_type": "execute_result"
    }
   ],
   "source": [
    "ols.summary()"
   ]
  },
  {
   "cell_type": "markdown",
   "metadata": {},
   "source": [
    "Comente las similitudes entre los coeficientes estimados.\n",
    "- tip: Utilice B/4\n",
    "\n",
    "A medida que más cercano a la media nos encontremos mayor sera las similitudes de los modelos."
   ]
  },
  {
   "cell_type": "code",
   "execution_count": 13,
   "metadata": {
    "ExecuteTime": {
     "end_time": "2020-12-06T02:07:00.868020Z",
     "start_time": "2020-12-06T02:07:00.752184Z"
    }
   },
   "outputs": [
    {
     "data": {
      "text/plain": [
       "Intercept   -0.292248\n",
       "famhist      0.292248\n",
       "dtype: float64"
      ]
     },
     "execution_count": 13,
     "metadata": {},
     "output_type": "execute_result"
    }
   ],
   "source": [
    "model_0.params/4"
   ]
  },
  {
   "cell_type": "code",
   "execution_count": 14,
   "metadata": {
    "ExecuteTime": {
     "end_time": "2020-12-06T02:07:00.982732Z",
     "start_time": "2020-12-06T02:07:00.872010Z"
    }
   },
   "outputs": [
    {
     "data": {
      "text/plain": [
       "Intercept    0.237037\n",
       "famhist      0.262963\n",
       "dtype: float64"
      ]
     },
     "execution_count": 14,
     "metadata": {},
     "output_type": "execute_result"
    }
   ],
   "source": [
    "ols.params"
   ]
  },
  {
   "cell_type": "markdown",
   "metadata": {},
   "source": [
    "- Estime el mismo modelo con LPM"
   ]
  },
  {
   "cell_type": "code",
   "execution_count": 15,
   "metadata": {
    "ExecuteTime": {
     "end_time": "2020-12-06T02:07:01.406526Z",
     "start_time": "2020-12-06T02:07:00.986717Z"
    }
   },
   "outputs": [
    {
     "data": {
      "text/plain": [
       "<seaborn.axisgrid.FacetGrid at 0x1de2dea3bc8>"
      ]
     },
     "execution_count": 15,
     "metadata": {},
     "output_type": "execute_result"
    },
    {
     "data": {
      "image/png": "[encoded data removed]",
      "text/plain": [
       "<Figure size 360x360 with 1 Axes>"
      ]
     },
     "metadata": {
      "needs_background": "light"
     },
     "output_type": "display_data"
    }
   ],
   "source": [
    "sns.lmplot(\"famhist\", \"chd\", df)"
   ]
  },
  {
   "cell_type": "markdown",
   "metadata": {},
   "source": [
    "### Desafio 3:\n",
    "- Implemente un modelo con la siguiente forma\n",
    "$$log \\frac{Pr(chd = 1)}{1 - Pr(chd = 1)} = \\beta_0 + \\sum_{j=1}^N \\beta_j X$$\n",
    "- Depure el modelo manteniendo las variables con significancia estadística al 95%."
   ]
  },
  {
   "cell_type": "code",
   "execution_count": 16,
   "metadata": {
    "ExecuteTime": {
     "end_time": "2020-12-06T02:07:01.413506Z",
     "start_time": "2020-12-06T02:07:01.407522Z"
    },
    "code_folding": [
     0
    ]
   },
   "outputs": [],
   "source": [
    "def formula(df, vble_y , drop):\n",
    "    preffix = vble_y +\" ~ \"\n",
    "    formula = \"\"\n",
    "\n",
    "    for i in df.drop(columns=drop).columns:\n",
    "        formula +=f\"{i} + \"\n",
    "    formula = formula.strip(\" + \")\n",
    "\n",
    "    return preffix + formula"
   ]
  },
  {
   "cell_type": "code",
   "execution_count": 17,
   "metadata": {
    "ExecuteTime": {
     "end_time": "2020-12-06T02:07:01.539173Z",
     "start_time": "2020-12-06T02:07:01.415501Z"
    },
    "code_folding": [
     0
    ]
   },
   "outputs": [],
   "source": [
    "def filtrado(modelo, trae_mayor_a):\n",
    "    \n",
    "    rtado = modelo.summary2().tables[1]\n",
    "    display(rtado)\n",
    "    \n",
    "    filtrar = rtado[rtado['P>|z|']>trae_mayor_a].sort_values(by = 'P>|z|',ascending= False)\n",
    "    print(f\"\\nLas variables a quitar son: {list(filtrar.index)}\")\n",
    "    return filtrar   "
   ]
  },
  {
   "cell_type": "code",
   "execution_count": 18,
   "metadata": {
    "ExecuteTime": {
     "end_time": "2020-12-06T02:07:01.637426Z",
     "start_time": "2020-12-06T02:07:01.541981Z"
    },
    "code_folding": [
     0
    ]
   },
   "outputs": [],
   "source": [
    "# def check_pvalues(model):\n",
    "#     if model.pvalues.max()>.05:\n",
    "#         print(model.pvalues.idmax())"
   ]
  },
  {
   "cell_type": "markdown",
   "metadata": {},
   "source": [
    "#### Modelo 1:"
   ]
  },
  {
   "cell_type": "code",
   "execution_count": 19,
   "metadata": {
    "ExecuteTime": {
     "end_time": "2020-12-06T02:07:01.794701Z",
     "start_time": "2020-12-06T02:07:01.644434Z"
    }
   },
   "outputs": [
    {
     "name": "stdout",
     "output_type": "stream",
     "text": [
      "El modelo es: chd ~ sbp + tobacco + ldl + adiposity + famhist + typea + obesity + alcohol + age\n",
      "\n",
      "Optimization terminated successfully.\n",
      "         Current function value: 0.510974\n",
      "         Iterations 6\n"
     ]
    },
    {
     "data": {
      "text/html": [
       "<div>\n",
       "<style scoped>\n",
       "    .dataframe tbody tr th:only-of-type {\n",
       "        vertical-align: middle;\n",
       "    }\n",
       "\n",
       "    .dataframe tbody tr th {\n",
       "        vertical-align: top;\n",
       "    }\n",
       "\n",
       "    .dataframe thead th {\n",
       "        text-align: right;\n",
       "    }\n",
       "</style>\n",
       "<table border=\"1\" class=\"dataframe\">\n",
       "  <thead>\n",
       "    <tr style=\"text-align: right;\">\n",
       "      <th></th>\n",
       "      <th>Coef.</th>\n",
       "      <th>Std.Err.</th>\n",
       "      <th>z</th>\n",
       "      <th>P&gt;|z|</th>\n",
       "      <th>[0.025</th>\n",
       "      <th>0.975]</th>\n",
       "    </tr>\n",
       "  </thead>\n",
       "  <tbody>\n",
       "    <tr>\n",
       "      <th>Intercept</th>\n",
       "      <td>-6.150721</td>\n",
       "      <td>1.308260</td>\n",
       "      <td>-4.701451</td>\n",
       "      <td>0.000003</td>\n",
       "      <td>-8.714863</td>\n",
       "      <td>-3.586578</td>\n",
       "    </tr>\n",
       "    <tr>\n",
       "      <th>sbp</th>\n",
       "      <td>0.006504</td>\n",
       "      <td>0.005730</td>\n",
       "      <td>1.135003</td>\n",
       "      <td>0.256374</td>\n",
       "      <td>-0.004727</td>\n",
       "      <td>0.017735</td>\n",
       "    </tr>\n",
       "    <tr>\n",
       "      <th>tobacco</th>\n",
       "      <td>0.079376</td>\n",
       "      <td>0.026603</td>\n",
       "      <td>2.983758</td>\n",
       "      <td>0.002847</td>\n",
       "      <td>0.027236</td>\n",
       "      <td>0.131517</td>\n",
       "    </tr>\n",
       "    <tr>\n",
       "      <th>ldl</th>\n",
       "      <td>0.173924</td>\n",
       "      <td>0.059662</td>\n",
       "      <td>2.915166</td>\n",
       "      <td>0.003555</td>\n",
       "      <td>0.056989</td>\n",
       "      <td>0.290859</td>\n",
       "    </tr>\n",
       "    <tr>\n",
       "      <th>adiposity</th>\n",
       "      <td>0.018587</td>\n",
       "      <td>0.029289</td>\n",
       "      <td>0.634583</td>\n",
       "      <td>0.525700</td>\n",
       "      <td>-0.038820</td>\n",
       "      <td>0.075993</td>\n",
       "    </tr>\n",
       "    <tr>\n",
       "      <th>famhist</th>\n",
       "      <td>0.925370</td>\n",
       "      <td>0.227894</td>\n",
       "      <td>4.060530</td>\n",
       "      <td>0.000049</td>\n",
       "      <td>0.478706</td>\n",
       "      <td>1.372034</td>\n",
       "    </tr>\n",
       "    <tr>\n",
       "      <th>typea</th>\n",
       "      <td>0.039595</td>\n",
       "      <td>0.012320</td>\n",
       "      <td>3.213823</td>\n",
       "      <td>0.001310</td>\n",
       "      <td>0.015448</td>\n",
       "      <td>0.063742</td>\n",
       "    </tr>\n",
       "    <tr>\n",
       "      <th>obesity</th>\n",
       "      <td>-0.062910</td>\n",
       "      <td>0.044248</td>\n",
       "      <td>-1.421764</td>\n",
       "      <td>0.155095</td>\n",
       "      <td>-0.149634</td>\n",
       "      <td>0.023814</td>\n",
       "    </tr>\n",
       "    <tr>\n",
       "      <th>alcohol</th>\n",
       "      <td>0.000122</td>\n",
       "      <td>0.004483</td>\n",
       "      <td>0.027137</td>\n",
       "      <td>0.978350</td>\n",
       "      <td>-0.008665</td>\n",
       "      <td>0.008909</td>\n",
       "    </tr>\n",
       "    <tr>\n",
       "      <th>age</th>\n",
       "      <td>0.045225</td>\n",
       "      <td>0.012130</td>\n",
       "      <td>3.728464</td>\n",
       "      <td>0.000193</td>\n",
       "      <td>0.021451</td>\n",
       "      <td>0.068999</td>\n",
       "    </tr>\n",
       "  </tbody>\n",
       "</table>\n",
       "</div>"
      ],
      "text/plain": [
       "              Coef.  Std.Err.         z     P>|z|    [0.025    0.975]\n",
       "Intercept -6.150721  1.308260 -4.701451  0.000003 -8.714863 -3.586578\n",
       "sbp        0.006504  0.005730  1.135003  0.256374 -0.004727  0.017735\n",
       "tobacco    0.079376  0.026603  2.983758  0.002847  0.027236  0.131517\n",
       "ldl        0.173924  0.059662  2.915166  0.003555  0.056989  0.290859\n",
       "adiposity  0.018587  0.029289  0.634583  0.525700 -0.038820  0.075993\n",
       "famhist    0.925370  0.227894  4.060530  0.000049  0.478706  1.372034\n",
       "typea      0.039595  0.012320  3.213823  0.001310  0.015448  0.063742\n",
       "obesity   -0.062910  0.044248 -1.421764  0.155095 -0.149634  0.023814\n",
       "alcohol    0.000122  0.004483  0.027137  0.978350 -0.008665  0.008909\n",
       "age        0.045225  0.012130  3.728464  0.000193  0.021451  0.068999"
      ]
     },
     "metadata": {},
     "output_type": "display_data"
    },
    {
     "name": "stdout",
     "output_type": "stream",
     "text": [
      "\n",
      "Las variables a quitar son: ['alcohol', 'adiposity', 'sbp', 'obesity']\n"
     ]
    },
    {
     "data": {
      "text/html": [
       "<div>\n",
       "<style scoped>\n",
       "    .dataframe tbody tr th:only-of-type {\n",
       "        vertical-align: middle;\n",
       "    }\n",
       "\n",
       "    .dataframe tbody tr th {\n",
       "        vertical-align: top;\n",
       "    }\n",
       "\n",
       "    .dataframe thead th {\n",
       "        text-align: right;\n",
       "    }\n",
       "</style>\n",
       "<table border=\"1\" class=\"dataframe\">\n",
       "  <thead>\n",
       "    <tr style=\"text-align: right;\">\n",
       "      <th></th>\n",
       "      <th>Coef.</th>\n",
       "      <th>Std.Err.</th>\n",
       "      <th>z</th>\n",
       "      <th>P&gt;|z|</th>\n",
       "      <th>[0.025</th>\n",
       "      <th>0.975]</th>\n",
       "    </tr>\n",
       "  </thead>\n",
       "  <tbody>\n",
       "    <tr>\n",
       "      <th>alcohol</th>\n",
       "      <td>0.000122</td>\n",
       "      <td>0.004483</td>\n",
       "      <td>0.027137</td>\n",
       "      <td>0.978350</td>\n",
       "      <td>-0.008665</td>\n",
       "      <td>0.008909</td>\n",
       "    </tr>\n",
       "    <tr>\n",
       "      <th>adiposity</th>\n",
       "      <td>0.018587</td>\n",
       "      <td>0.029289</td>\n",
       "      <td>0.634583</td>\n",
       "      <td>0.525700</td>\n",
       "      <td>-0.038820</td>\n",
       "      <td>0.075993</td>\n",
       "    </tr>\n",
       "    <tr>\n",
       "      <th>sbp</th>\n",
       "      <td>0.006504</td>\n",
       "      <td>0.005730</td>\n",
       "      <td>1.135003</td>\n",
       "      <td>0.256374</td>\n",
       "      <td>-0.004727</td>\n",
       "      <td>0.017735</td>\n",
       "    </tr>\n",
       "    <tr>\n",
       "      <th>obesity</th>\n",
       "      <td>-0.062910</td>\n",
       "      <td>0.044248</td>\n",
       "      <td>-1.421764</td>\n",
       "      <td>0.155095</td>\n",
       "      <td>-0.149634</td>\n",
       "      <td>0.023814</td>\n",
       "    </tr>\n",
       "  </tbody>\n",
       "</table>\n",
       "</div>"
      ],
      "text/plain": [
       "              Coef.  Std.Err.         z     P>|z|    [0.025    0.975]\n",
       "alcohol    0.000122  0.004483  0.027137  0.978350 -0.008665  0.008909\n",
       "adiposity  0.018587  0.029289  0.634583  0.525700 -0.038820  0.075993\n",
       "sbp        0.006504  0.005730  1.135003  0.256374 -0.004727  0.017735\n",
       "obesity   -0.062910  0.044248 -1.421764  0.155095 -0.149634  0.023814"
      ]
     },
     "execution_count": 19,
     "metadata": {},
     "output_type": "execute_result"
    }
   ],
   "source": [
    "formula_1 = formula(df, 'chd', ['chd'])\n",
    "print(f\"El modelo es: {formula_1}\\n\")\n",
    "\n",
    "model_1 = smf.logit(formula_1, df).fit()\n",
    "\n",
    "filtrado(model_1,.05)"
   ]
  },
  {
   "cell_type": "markdown",
   "metadata": {},
   "source": [
    "#### Modelo 2:"
   ]
  },
  {
   "cell_type": "code",
   "execution_count": 20,
   "metadata": {
    "ExecuteTime": {
     "end_time": "2020-12-06T02:07:01.890412Z",
     "start_time": "2020-12-06T02:07:01.795663Z"
    }
   },
   "outputs": [
    {
     "name": "stdout",
     "output_type": "stream",
     "text": [
      "El modelo es: chd ~ sbp + tobacco + ldl + adiposity + famhist + typea + obesity + age\n",
      "\n",
      "Optimization terminated successfully.\n",
      "         Current function value: 0.510975\n",
      "         Iterations 6\n"
     ]
    },
    {
     "data": {
      "text/html": [
       "<div>\n",
       "<style scoped>\n",
       "    .dataframe tbody tr th:only-of-type {\n",
       "        vertical-align: middle;\n",
       "    }\n",
       "\n",
       "    .dataframe tbody tr th {\n",
       "        vertical-align: top;\n",
       "    }\n",
       "\n",
       "    .dataframe thead th {\n",
       "        text-align: right;\n",
       "    }\n",
       "</style>\n",
       "<table border=\"1\" class=\"dataframe\">\n",
       "  <thead>\n",
       "    <tr style=\"text-align: right;\">\n",
       "      <th></th>\n",
       "      <th>Coef.</th>\n",
       "      <th>Std.Err.</th>\n",
       "      <th>z</th>\n",
       "      <th>P&gt;|z|</th>\n",
       "      <th>[0.025</th>\n",
       "      <th>0.975]</th>\n",
       "    </tr>\n",
       "  </thead>\n",
       "  <tbody>\n",
       "    <tr>\n",
       "      <th>Intercept</th>\n",
       "      <td>-6.150058</td>\n",
       "      <td>1.308008</td>\n",
       "      <td>-4.701851</td>\n",
       "      <td>0.000003</td>\n",
       "      <td>-8.713706</td>\n",
       "      <td>-3.586410</td>\n",
       "    </tr>\n",
       "    <tr>\n",
       "      <th>sbp</th>\n",
       "      <td>0.006524</td>\n",
       "      <td>0.005685</td>\n",
       "      <td>1.147562</td>\n",
       "      <td>0.251149</td>\n",
       "      <td>-0.004618</td>\n",
       "      <td>0.017666</td>\n",
       "    </tr>\n",
       "    <tr>\n",
       "      <th>tobacco</th>\n",
       "      <td>0.079515</td>\n",
       "      <td>0.026114</td>\n",
       "      <td>3.044965</td>\n",
       "      <td>0.002327</td>\n",
       "      <td>0.028333</td>\n",
       "      <td>0.130696</td>\n",
       "    </tr>\n",
       "    <tr>\n",
       "      <th>ldl</th>\n",
       "      <td>0.173770</td>\n",
       "      <td>0.059393</td>\n",
       "      <td>2.925771</td>\n",
       "      <td>0.003436</td>\n",
       "      <td>0.057362</td>\n",
       "      <td>0.290178</td>\n",
       "    </tr>\n",
       "    <tr>\n",
       "      <th>adiposity</th>\n",
       "      <td>0.018631</td>\n",
       "      <td>0.029245</td>\n",
       "      <td>0.637070</td>\n",
       "      <td>0.524079</td>\n",
       "      <td>-0.038688</td>\n",
       "      <td>0.075949</td>\n",
       "    </tr>\n",
       "    <tr>\n",
       "      <th>famhist</th>\n",
       "      <td>0.925831</td>\n",
       "      <td>0.227266</td>\n",
       "      <td>4.073768</td>\n",
       "      <td>0.000046</td>\n",
       "      <td>0.480397</td>\n",
       "      <td>1.371265</td>\n",
       "    </tr>\n",
       "    <tr>\n",
       "      <th>typea</th>\n",
       "      <td>0.039604</td>\n",
       "      <td>0.012316</td>\n",
       "      <td>3.215646</td>\n",
       "      <td>0.001302</td>\n",
       "      <td>0.015465</td>\n",
       "      <td>0.063743</td>\n",
       "    </tr>\n",
       "    <tr>\n",
       "      <th>obesity</th>\n",
       "      <td>-0.062957</td>\n",
       "      <td>0.044216</td>\n",
       "      <td>-1.423854</td>\n",
       "      <td>0.154489</td>\n",
       "      <td>-0.149618</td>\n",
       "      <td>0.023704</td>\n",
       "    </tr>\n",
       "    <tr>\n",
       "      <th>age</th>\n",
       "      <td>0.045191</td>\n",
       "      <td>0.012061</td>\n",
       "      <td>3.746762</td>\n",
       "      <td>0.000179</td>\n",
       "      <td>0.021551</td>\n",
       "      <td>0.068830</td>\n",
       "    </tr>\n",
       "  </tbody>\n",
       "</table>\n",
       "</div>"
      ],
      "text/plain": [
       "              Coef.  Std.Err.         z     P>|z|    [0.025    0.975]\n",
       "Intercept -6.150058  1.308008 -4.701851  0.000003 -8.713706 -3.586410\n",
       "sbp        0.006524  0.005685  1.147562  0.251149 -0.004618  0.017666\n",
       "tobacco    0.079515  0.026114  3.044965  0.002327  0.028333  0.130696\n",
       "ldl        0.173770  0.059393  2.925771  0.003436  0.057362  0.290178\n",
       "adiposity  0.018631  0.029245  0.637070  0.524079 -0.038688  0.075949\n",
       "famhist    0.925831  0.227266  4.073768  0.000046  0.480397  1.371265\n",
       "typea      0.039604  0.012316  3.215646  0.001302  0.015465  0.063743\n",
       "obesity   -0.062957  0.044216 -1.423854  0.154489 -0.149618  0.023704\n",
       "age        0.045191  0.012061  3.746762  0.000179  0.021551  0.068830"
      ]
     },
     "metadata": {},
     "output_type": "display_data"
    },
    {
     "name": "stdout",
     "output_type": "stream",
     "text": [
      "\n",
      "Las variables a quitar son: ['adiposity', 'sbp', 'obesity']\n"
     ]
    },
    {
     "data": {
      "text/html": [
       "<div>\n",
       "<style scoped>\n",
       "    .dataframe tbody tr th:only-of-type {\n",
       "        vertical-align: middle;\n",
       "    }\n",
       "\n",
       "    .dataframe tbody tr th {\n",
       "        vertical-align: top;\n",
       "    }\n",
       "\n",
       "    .dataframe thead th {\n",
       "        text-align: right;\n",
       "    }\n",
       "</style>\n",
       "<table border=\"1\" class=\"dataframe\">\n",
       "  <thead>\n",
       "    <tr style=\"text-align: right;\">\n",
       "      <th></th>\n",
       "      <th>Coef.</th>\n",
       "      <th>Std.Err.</th>\n",
       "      <th>z</th>\n",
       "      <th>P&gt;|z|</th>\n",
       "      <th>[0.025</th>\n",
       "      <th>0.975]</th>\n",
       "    </tr>\n",
       "  </thead>\n",
       "  <tbody>\n",
       "    <tr>\n",
       "      <th>adiposity</th>\n",
       "      <td>0.018631</td>\n",
       "      <td>0.029245</td>\n",
       "      <td>0.637070</td>\n",
       "      <td>0.524079</td>\n",
       "      <td>-0.038688</td>\n",
       "      <td>0.075949</td>\n",
       "    </tr>\n",
       "    <tr>\n",
       "      <th>sbp</th>\n",
       "      <td>0.006524</td>\n",
       "      <td>0.005685</td>\n",
       "      <td>1.147562</td>\n",
       "      <td>0.251149</td>\n",
       "      <td>-0.004618</td>\n",
       "      <td>0.017666</td>\n",
       "    </tr>\n",
       "    <tr>\n",
       "      <th>obesity</th>\n",
       "      <td>-0.062957</td>\n",
       "      <td>0.044216</td>\n",
       "      <td>-1.423854</td>\n",
       "      <td>0.154489</td>\n",
       "      <td>-0.149618</td>\n",
       "      <td>0.023704</td>\n",
       "    </tr>\n",
       "  </tbody>\n",
       "</table>\n",
       "</div>"
      ],
      "text/plain": [
       "              Coef.  Std.Err.         z     P>|z|    [0.025    0.975]\n",
       "adiposity  0.018631  0.029245  0.637070  0.524079 -0.038688  0.075949\n",
       "sbp        0.006524  0.005685  1.147562  0.251149 -0.004618  0.017666\n",
       "obesity   -0.062957  0.044216 -1.423854  0.154489 -0.149618  0.023704"
      ]
     },
     "execution_count": 20,
     "metadata": {},
     "output_type": "execute_result"
    }
   ],
   "source": [
    "formula_2 = formula(df, 'chd', ['chd','alcohol'])\n",
    "print(f\"El modelo es: {formula_2}\\n\")\n",
    "\n",
    "model_2 = smf.logit(formula_2, df).fit()\n",
    "\n",
    "filtrado(model_2,.05)"
   ]
  },
  {
   "cell_type": "markdown",
   "metadata": {},
   "source": [
    "#### Modelo 3"
   ]
  },
  {
   "cell_type": "code",
   "execution_count": 21,
   "metadata": {
    "ExecuteTime": {
     "end_time": "2020-12-06T02:07:02.005137Z",
     "start_time": "2020-12-06T02:07:01.892405Z"
    }
   },
   "outputs": [
    {
     "name": "stdout",
     "output_type": "stream",
     "text": [
      "El modelo es: chd ~ sbp + tobacco + ldl + famhist + typea + obesity + age\n",
      "\n",
      "Optimization terminated successfully.\n",
      "         Current function value: 0.511417\n",
      "         Iterations 6\n"
     ]
    },
    {
     "data": {
      "text/html": [
       "<div>\n",
       "<style scoped>\n",
       "    .dataframe tbody tr th:only-of-type {\n",
       "        vertical-align: middle;\n",
       "    }\n",
       "\n",
       "    .dataframe tbody tr th {\n",
       "        vertical-align: top;\n",
       "    }\n",
       "\n",
       "    .dataframe thead th {\n",
       "        text-align: right;\n",
       "    }\n",
       "</style>\n",
       "<table border=\"1\" class=\"dataframe\">\n",
       "  <thead>\n",
       "    <tr style=\"text-align: right;\">\n",
       "      <th></th>\n",
       "      <th>Coef.</th>\n",
       "      <th>Std.Err.</th>\n",
       "      <th>z</th>\n",
       "      <th>P&gt;|z|</th>\n",
       "      <th>[0.025</th>\n",
       "      <th>0.975]</th>\n",
       "    </tr>\n",
       "  </thead>\n",
       "  <tbody>\n",
       "    <tr>\n",
       "      <th>Intercept</th>\n",
       "      <td>-6.416927</td>\n",
       "      <td>1.240101</td>\n",
       "      <td>-5.174520</td>\n",
       "      <td>2.284973e-07</td>\n",
       "      <td>-8.847480</td>\n",
       "      <td>-3.986374</td>\n",
       "    </tr>\n",
       "    <tr>\n",
       "      <th>sbp</th>\n",
       "      <td>0.006780</td>\n",
       "      <td>0.005683</td>\n",
       "      <td>1.193028</td>\n",
       "      <td>2.328585e-01</td>\n",
       "      <td>-0.004358</td>\n",
       "      <td>0.017918</td>\n",
       "    </tr>\n",
       "    <tr>\n",
       "      <th>tobacco</th>\n",
       "      <td>0.079886</td>\n",
       "      <td>0.026157</td>\n",
       "      <td>3.054054</td>\n",
       "      <td>2.257712e-03</td>\n",
       "      <td>0.028619</td>\n",
       "      <td>0.131154</td>\n",
       "    </tr>\n",
       "    <tr>\n",
       "      <th>ldl</th>\n",
       "      <td>0.182102</td>\n",
       "      <td>0.058077</td>\n",
       "      <td>3.135530</td>\n",
       "      <td>1.715439e-03</td>\n",
       "      <td>0.068273</td>\n",
       "      <td>0.295930</td>\n",
       "    </tr>\n",
       "    <tr>\n",
       "      <th>famhist</th>\n",
       "      <td>0.924464</td>\n",
       "      <td>0.227061</td>\n",
       "      <td>4.071433</td>\n",
       "      <td>4.672477e-05</td>\n",
       "      <td>0.479433</td>\n",
       "      <td>1.369496</td>\n",
       "    </tr>\n",
       "    <tr>\n",
       "      <th>typea</th>\n",
       "      <td>0.038966</td>\n",
       "      <td>0.012266</td>\n",
       "      <td>3.176633</td>\n",
       "      <td>1.489952e-03</td>\n",
       "      <td>0.014924</td>\n",
       "      <td>0.063007</td>\n",
       "    </tr>\n",
       "    <tr>\n",
       "      <th>obesity</th>\n",
       "      <td>-0.042200</td>\n",
       "      <td>0.029437</td>\n",
       "      <td>-1.433573</td>\n",
       "      <td>1.516942e-01</td>\n",
       "      <td>-0.099895</td>\n",
       "      <td>0.015495</td>\n",
       "    </tr>\n",
       "    <tr>\n",
       "      <th>age</th>\n",
       "      <td>0.048927</td>\n",
       "      <td>0.010556</td>\n",
       "      <td>4.634888</td>\n",
       "      <td>3.571307e-06</td>\n",
       "      <td>0.028237</td>\n",
       "      <td>0.069616</td>\n",
       "    </tr>\n",
       "  </tbody>\n",
       "</table>\n",
       "</div>"
      ],
      "text/plain": [
       "              Coef.  Std.Err.         z         P>|z|    [0.025    0.975]\n",
       "Intercept -6.416927  1.240101 -5.174520  2.284973e-07 -8.847480 -3.986374\n",
       "sbp        0.006780  0.005683  1.193028  2.328585e-01 -0.004358  0.017918\n",
       "tobacco    0.079886  0.026157  3.054054  2.257712e-03  0.028619  0.131154\n",
       "ldl        0.182102  0.058077  3.135530  1.715439e-03  0.068273  0.295930\n",
       "famhist    0.924464  0.227061  4.071433  4.672477e-05  0.479433  1.369496\n",
       "typea      0.038966  0.012266  3.176633  1.489952e-03  0.014924  0.063007\n",
       "obesity   -0.042200  0.029437 -1.433573  1.516942e-01 -0.099895  0.015495\n",
       "age        0.048927  0.010556  4.634888  3.571307e-06  0.028237  0.069616"
      ]
     },
     "metadata": {},
     "output_type": "display_data"
    },
    {
     "name": "stdout",
     "output_type": "stream",
     "text": [
      "\n",
      "Las variables a quitar son: ['sbp', 'obesity']\n"
     ]
    },
    {
     "data": {
      "text/html": [
       "<div>\n",
       "<style scoped>\n",
       "    .dataframe tbody tr th:only-of-type {\n",
       "        vertical-align: middle;\n",
       "    }\n",
       "\n",
       "    .dataframe tbody tr th {\n",
       "        vertical-align: top;\n",
       "    }\n",
       "\n",
       "    .dataframe thead th {\n",
       "        text-align: right;\n",
       "    }\n",
       "</style>\n",
       "<table border=\"1\" class=\"dataframe\">\n",
       "  <thead>\n",
       "    <tr style=\"text-align: right;\">\n",
       "      <th></th>\n",
       "      <th>Coef.</th>\n",
       "      <th>Std.Err.</th>\n",
       "      <th>z</th>\n",
       "      <th>P&gt;|z|</th>\n",
       "      <th>[0.025</th>\n",
       "      <th>0.975]</th>\n",
       "    </tr>\n",
       "  </thead>\n",
       "  <tbody>\n",
       "    <tr>\n",
       "      <th>sbp</th>\n",
       "      <td>0.00678</td>\n",
       "      <td>0.005683</td>\n",
       "      <td>1.193028</td>\n",
       "      <td>0.232859</td>\n",
       "      <td>-0.004358</td>\n",
       "      <td>0.017918</td>\n",
       "    </tr>\n",
       "    <tr>\n",
       "      <th>obesity</th>\n",
       "      <td>-0.04220</td>\n",
       "      <td>0.029437</td>\n",
       "      <td>-1.433573</td>\n",
       "      <td>0.151694</td>\n",
       "      <td>-0.099895</td>\n",
       "      <td>0.015495</td>\n",
       "    </tr>\n",
       "  </tbody>\n",
       "</table>\n",
       "</div>"
      ],
      "text/plain": [
       "           Coef.  Std.Err.         z     P>|z|    [0.025    0.975]\n",
       "sbp      0.00678  0.005683  1.193028  0.232859 -0.004358  0.017918\n",
       "obesity -0.04220  0.029437 -1.433573  0.151694 -0.099895  0.015495"
      ]
     },
     "execution_count": 21,
     "metadata": {},
     "output_type": "execute_result"
    }
   ],
   "source": [
    "formula_3 = formula(df, 'chd', ['chd','alcohol','adiposity'])\n",
    "print(f\"El modelo es: {formula_3}\\n\")\n",
    "\n",
    "model_3 = smf.logit(formula_3, df).fit()\n",
    "\n",
    "filtrado(model_3,.05)"
   ]
  },
  {
   "cell_type": "markdown",
   "metadata": {
    "ExecuteTime": {
     "end_time": "2020-12-05T23:36:32.927121Z",
     "start_time": "2020-12-05T23:36:32.922134Z"
    }
   },
   "source": [
    "#### Modelo 4:"
   ]
  },
  {
   "cell_type": "code",
   "execution_count": 22,
   "metadata": {
    "ExecuteTime": {
     "end_time": "2020-12-06T02:07:02.141739Z",
     "start_time": "2020-12-06T02:07:02.007098Z"
    }
   },
   "outputs": [
    {
     "name": "stdout",
     "output_type": "stream",
     "text": [
      "El modelo es: chd ~ tobacco + ldl + famhist + typea + obesity + age\n",
      "\n",
      "Optimization terminated successfully.\n",
      "         Current function value: 0.512965\n",
      "         Iterations 6\n"
     ]
    },
    {
     "data": {
      "text/html": [
       "<div>\n",
       "<style scoped>\n",
       "    .dataframe tbody tr th:only-of-type {\n",
       "        vertical-align: middle;\n",
       "    }\n",
       "\n",
       "    .dataframe tbody tr th {\n",
       "        vertical-align: top;\n",
       "    }\n",
       "\n",
       "    .dataframe thead th {\n",
       "        text-align: right;\n",
       "    }\n",
       "</style>\n",
       "<table border=\"1\" class=\"dataframe\">\n",
       "  <thead>\n",
       "    <tr style=\"text-align: right;\">\n",
       "      <th></th>\n",
       "      <th>Coef.</th>\n",
       "      <th>Std.Err.</th>\n",
       "      <th>z</th>\n",
       "      <th>P&gt;|z|</th>\n",
       "      <th>[0.025</th>\n",
       "      <th>0.975]</th>\n",
       "    </tr>\n",
       "  </thead>\n",
       "  <tbody>\n",
       "    <tr>\n",
       "      <th>Intercept</th>\n",
       "      <td>-5.702726</td>\n",
       "      <td>1.076397</td>\n",
       "      <td>-5.297978</td>\n",
       "      <td>1.170919e-07</td>\n",
       "      <td>-7.812425</td>\n",
       "      <td>-3.593027</td>\n",
       "    </tr>\n",
       "    <tr>\n",
       "      <th>tobacco</th>\n",
       "      <td>0.079989</td>\n",
       "      <td>0.025978</td>\n",
       "      <td>3.079124</td>\n",
       "      <td>2.076103e-03</td>\n",
       "      <td>0.029073</td>\n",
       "      <td>0.130905</td>\n",
       "    </tr>\n",
       "    <tr>\n",
       "      <th>ldl</th>\n",
       "      <td>0.183715</td>\n",
       "      <td>0.058178</td>\n",
       "      <td>3.157818</td>\n",
       "      <td>1.589547e-03</td>\n",
       "      <td>0.069689</td>\n",
       "      <td>0.297742</td>\n",
       "    </tr>\n",
       "    <tr>\n",
       "      <th>famhist</th>\n",
       "      <td>0.916096</td>\n",
       "      <td>0.226448</td>\n",
       "      <td>4.045500</td>\n",
       "      <td>5.221152e-05</td>\n",
       "      <td>0.472266</td>\n",
       "      <td>1.359926</td>\n",
       "    </tr>\n",
       "    <tr>\n",
       "      <th>typea</th>\n",
       "      <td>0.038274</td>\n",
       "      <td>0.012218</td>\n",
       "      <td>3.132502</td>\n",
       "      <td>1.733231e-03</td>\n",
       "      <td>0.014326</td>\n",
       "      <td>0.062221</td>\n",
       "    </tr>\n",
       "    <tr>\n",
       "      <th>obesity</th>\n",
       "      <td>-0.037597</td>\n",
       "      <td>0.029101</td>\n",
       "      <td>-1.291946</td>\n",
       "      <td>1.963757e-01</td>\n",
       "      <td>-0.094634</td>\n",
       "      <td>0.019440</td>\n",
       "    </tr>\n",
       "    <tr>\n",
       "      <th>age</th>\n",
       "      <td>0.052111</td>\n",
       "      <td>0.010243</td>\n",
       "      <td>5.087493</td>\n",
       "      <td>3.628271e-07</td>\n",
       "      <td>0.032035</td>\n",
       "      <td>0.072187</td>\n",
       "    </tr>\n",
       "  </tbody>\n",
       "</table>\n",
       "</div>"
      ],
      "text/plain": [
       "              Coef.  Std.Err.         z         P>|z|    [0.025    0.975]\n",
       "Intercept -5.702726  1.076397 -5.297978  1.170919e-07 -7.812425 -3.593027\n",
       "tobacco    0.079989  0.025978  3.079124  2.076103e-03  0.029073  0.130905\n",
       "ldl        0.183715  0.058178  3.157818  1.589547e-03  0.069689  0.297742\n",
       "famhist    0.916096  0.226448  4.045500  5.221152e-05  0.472266  1.359926\n",
       "typea      0.038274  0.012218  3.132502  1.733231e-03  0.014326  0.062221\n",
       "obesity   -0.037597  0.029101 -1.291946  1.963757e-01 -0.094634  0.019440\n",
       "age        0.052111  0.010243  5.087493  3.628271e-07  0.032035  0.072187"
      ]
     },
     "metadata": {},
     "output_type": "display_data"
    },
    {
     "name": "stdout",
     "output_type": "stream",
     "text": [
      "\n",
      "Las variables a quitar son: ['obesity']\n"
     ]
    },
    {
     "data": {
      "text/html": [
       "<div>\n",
       "<style scoped>\n",
       "    .dataframe tbody tr th:only-of-type {\n",
       "        vertical-align: middle;\n",
       "    }\n",
       "\n",
       "    .dataframe tbody tr th {\n",
       "        vertical-align: top;\n",
       "    }\n",
       "\n",
       "    .dataframe thead th {\n",
       "        text-align: right;\n",
       "    }\n",
       "</style>\n",
       "<table border=\"1\" class=\"dataframe\">\n",
       "  <thead>\n",
       "    <tr style=\"text-align: right;\">\n",
       "      <th></th>\n",
       "      <th>Coef.</th>\n",
       "      <th>Std.Err.</th>\n",
       "      <th>z</th>\n",
       "      <th>P&gt;|z|</th>\n",
       "      <th>[0.025</th>\n",
       "      <th>0.975]</th>\n",
       "    </tr>\n",
       "  </thead>\n",
       "  <tbody>\n",
       "    <tr>\n",
       "      <th>obesity</th>\n",
       "      <td>-0.037597</td>\n",
       "      <td>0.029101</td>\n",
       "      <td>-1.291946</td>\n",
       "      <td>0.196376</td>\n",
       "      <td>-0.094634</td>\n",
       "      <td>0.01944</td>\n",
       "    </tr>\n",
       "  </tbody>\n",
       "</table>\n",
       "</div>"
      ],
      "text/plain": [
       "            Coef.  Std.Err.         z     P>|z|    [0.025   0.975]\n",
       "obesity -0.037597  0.029101 -1.291946  0.196376 -0.094634  0.01944"
      ]
     },
     "execution_count": 22,
     "metadata": {},
     "output_type": "execute_result"
    }
   ],
   "source": [
    "formula_4 = formula(df, 'chd', ['chd','alcohol','adiposity','sbp'])\n",
    "print(f\"El modelo es: {formula_4}\\n\")\n",
    "\n",
    "model_4 = smf.logit(formula_4, df).fit()\n",
    "\n",
    "filtrado(model_4,.05)"
   ]
  },
  {
   "cell_type": "markdown",
   "metadata": {},
   "source": [
    "#### Modelo 5:"
   ]
  },
  {
   "cell_type": "code",
   "execution_count": 23,
   "metadata": {
    "ExecuteTime": {
     "end_time": "2020-12-06T02:07:02.253472Z",
     "start_time": "2020-12-06T02:07:02.146725Z"
    }
   },
   "outputs": [
    {
     "name": "stdout",
     "output_type": "stream",
     "text": [
      "El modelo es: chd ~ tobacco + ldl + famhist + typea + age\n",
      "\n",
      "Optimization terminated successfully.\n",
      "         Current function value: 0.514811\n",
      "         Iterations 6\n"
     ]
    }
   ],
   "source": [
    "formula_5 = formula(df, 'chd', ['chd','alcohol','adiposity','sbp','obesity'])\n",
    "print(f\"El modelo es: {formula_5}\\n\")\n",
    "\n",
    "model_5 = smf.logit(formula_5, df).fit()"
   ]
  },
  {
   "cell_type": "markdown",
   "metadata": {},
   "source": [
    "#### Conclusiones:\n",
    "- Compare los estadísticos de bondad de ajuste entre ambos."
   ]
  },
  {
   "cell_type": "code",
   "execution_count": 24,
   "metadata": {
    "ExecuteTime": {
     "end_time": "2020-12-06T02:07:02.347187Z",
     "start_time": "2020-12-06T02:07:02.255436Z"
    },
    "code_folding": []
   },
   "outputs": [],
   "source": [
    "def comparacion_modelos(lista_modelos):\n",
    "    AIC = []\n",
    "    BIC = []\n",
    "    Log_Likelihood = []\n",
    "    LLR_p_value = []\n",
    "    \n",
    "    for i in lista_modelos:\n",
    "        AIC.append(round(i.aic,2))\n",
    "        BIC.append(round(i.bic,2))\n",
    "        Log_Likelihood.append(round(i.llf,2))\n",
    "        LLR_p_value.append(round(i.llr_pvalue,10))\n",
    "        \n",
    "    modelos = pd.DataFrame({\"AIC\": AIC,\n",
    "                            \"BIC\": BIC,\n",
    "                            \"Log_Likelihood\": Log_Likelihood,\n",
    "                             \"LLR_p_value\": LLR_p_value})\n",
    "    return modelos      "
   ]
  },
  {
   "cell_type": "code",
   "execution_count": 25,
   "metadata": {
    "ExecuteTime": {
     "end_time": "2020-12-06T02:07:02.480793Z",
     "start_time": "2020-12-06T02:07:02.349184Z"
    }
   },
   "outputs": [],
   "source": [
    "comparacion_modelos = comparacion_modelos([model_0, model_1, model_2, model_3, model_4, model_5])"
   ]
  },
  {
   "cell_type": "code",
   "execution_count": 26,
   "metadata": {
    "ExecuteTime": {
     "end_time": "2020-12-06T02:07:02.615433Z",
     "start_time": "2020-12-06T02:07:02.483793Z"
    }
   },
   "outputs": [
    {
     "data": {
      "text/html": [
       "<div>\n",
       "<style scoped>\n",
       "    .dataframe tbody tr th:only-of-type {\n",
       "        vertical-align: middle;\n",
       "    }\n",
       "\n",
       "    .dataframe tbody tr th {\n",
       "        vertical-align: top;\n",
       "    }\n",
       "\n",
       "    .dataframe thead th {\n",
       "        text-align: right;\n",
       "    }\n",
       "</style>\n",
       "<table border=\"1\" class=\"dataframe\">\n",
       "  <thead>\n",
       "    <tr style=\"text-align: right;\">\n",
       "      <th></th>\n",
       "      <th>AIC</th>\n",
       "      <th>BIC</th>\n",
       "      <th>Log_Likelihood</th>\n",
       "      <th>LLR_p_value</th>\n",
       "      <th>Modelos</th>\n",
       "    </tr>\n",
       "  </thead>\n",
       "  <tbody>\n",
       "    <tr>\n",
       "      <th>0</th>\n",
       "      <td>565.89</td>\n",
       "      <td>574.17</td>\n",
       "      <td>-280.95</td>\n",
       "      <td>4.900000e-09</td>\n",
       "      <td>chd ~ famhist</td>\n",
       "    </tr>\n",
       "    <tr>\n",
       "      <th>1</th>\n",
       "      <td>492.14</td>\n",
       "      <td>533.50</td>\n",
       "      <td>-236.07</td>\n",
       "      <td>0.000000e+00</td>\n",
       "      <td>chd ~ sbp + tobacco + ldl + adiposity + famhis...</td>\n",
       "    </tr>\n",
       "    <tr>\n",
       "      <th>2</th>\n",
       "      <td>490.14</td>\n",
       "      <td>527.36</td>\n",
       "      <td>-236.07</td>\n",
       "      <td>0.000000e+00</td>\n",
       "      <td>chd ~ sbp + tobacco + ldl + adiposity + famhis...</td>\n",
       "    </tr>\n",
       "    <tr>\n",
       "      <th>3</th>\n",
       "      <td>488.55</td>\n",
       "      <td>521.63</td>\n",
       "      <td>-236.27</td>\n",
       "      <td>0.000000e+00</td>\n",
       "      <td>chd ~ sbp + tobacco + ldl + famhist + typea + ...</td>\n",
       "    </tr>\n",
       "    <tr>\n",
       "      <th>4</th>\n",
       "      <td>487.98</td>\n",
       "      <td>516.93</td>\n",
       "      <td>-236.99</td>\n",
       "      <td>0.000000e+00</td>\n",
       "      <td>chd ~ tobacco + ldl + famhist + typea + obesit...</td>\n",
       "    </tr>\n",
       "    <tr>\n",
       "      <th>5</th>\n",
       "      <td>487.69</td>\n",
       "      <td>512.50</td>\n",
       "      <td>-237.84</td>\n",
       "      <td>0.000000e+00</td>\n",
       "      <td>chd ~ tobacco + ldl + famhist + typea + age</td>\n",
       "    </tr>\n",
       "  </tbody>\n",
       "</table>\n",
       "</div>"
      ],
      "text/plain": [
       "      AIC     BIC  Log_Likelihood   LLR_p_value  \\\n",
       "0  565.89  574.17         -280.95  4.900000e-09   \n",
       "1  492.14  533.50         -236.07  0.000000e+00   \n",
       "2  490.14  527.36         -236.07  0.000000e+00   \n",
       "3  488.55  521.63         -236.27  0.000000e+00   \n",
       "4  487.98  516.93         -236.99  0.000000e+00   \n",
       "5  487.69  512.50         -237.84  0.000000e+00   \n",
       "\n",
       "                                             Modelos  \n",
       "0                                      chd ~ famhist  \n",
       "1  chd ~ sbp + tobacco + ldl + adiposity + famhis...  \n",
       "2  chd ~ sbp + tobacco + ldl + adiposity + famhis...  \n",
       "3  chd ~ sbp + tobacco + ldl + famhist + typea + ...  \n",
       "4  chd ~ tobacco + ldl + famhist + typea + obesit...  \n",
       "5        chd ~ tobacco + ldl + famhist + typea + age  "
      ]
     },
     "execution_count": 26,
     "metadata": {},
     "output_type": "execute_result"
    }
   ],
   "source": [
    "comparacion_modelos[\"Modelos\"] = [formula_0, formula_1, formula_2, formula_3, formula_4, formula_5]\n",
    "comparacion_modelos"
   ]
  },
  {
   "cell_type": "code",
   "execution_count": 27,
   "metadata": {
    "ExecuteTime": {
     "end_time": "2020-12-06T02:07:02.802234Z",
     "start_time": "2020-12-06T02:07:02.617428Z"
    }
   },
   "outputs": [
    {
     "name": "stdout",
     "output_type": "stream",
     "text": [
      "Modelo 1: chd ~ sbp + tobacco + ldl + adiposity + famhist + typea + obesity + alcohol + age\n"
     ]
    },
    {
     "data": {
      "text/html": [
       "<div>\n",
       "<style scoped>\n",
       "    .dataframe tbody tr th:only-of-type {\n",
       "        vertical-align: middle;\n",
       "    }\n",
       "\n",
       "    .dataframe tbody tr th {\n",
       "        vertical-align: top;\n",
       "    }\n",
       "\n",
       "    .dataframe thead th {\n",
       "        text-align: right;\n",
       "    }\n",
       "</style>\n",
       "<table border=\"1\" class=\"dataframe\">\n",
       "  <thead>\n",
       "    <tr style=\"text-align: right;\">\n",
       "      <th></th>\n",
       "      <th>0</th>\n",
       "      <th>1</th>\n",
       "      <th>2</th>\n",
       "      <th>3</th>\n",
       "    </tr>\n",
       "  </thead>\n",
       "  <tbody>\n",
       "    <tr>\n",
       "      <th>0</th>\n",
       "      <td>Model:</td>\n",
       "      <td>Logit</td>\n",
       "      <td>Pseudo R-squared:</td>\n",
       "      <td>0.208</td>\n",
       "    </tr>\n",
       "    <tr>\n",
       "      <th>1</th>\n",
       "      <td>Dependent Variable:</td>\n",
       "      <td>chd</td>\n",
       "      <td>AIC:</td>\n",
       "      <td>492.1400</td>\n",
       "    </tr>\n",
       "    <tr>\n",
       "      <th>2</th>\n",
       "      <td>Date:</td>\n",
       "      <td>2020-12-05 23:07</td>\n",
       "      <td>BIC:</td>\n",
       "      <td>533.4957</td>\n",
       "    </tr>\n",
       "    <tr>\n",
       "      <th>3</th>\n",
       "      <td>No. Observations:</td>\n",
       "      <td>462</td>\n",
       "      <td>Log-Likelihood:</td>\n",
       "      <td>-236.07</td>\n",
       "    </tr>\n",
       "    <tr>\n",
       "      <th>4</th>\n",
       "      <td>Df Model:</td>\n",
       "      <td>9</td>\n",
       "      <td>LL-Null:</td>\n",
       "      <td>-298.05</td>\n",
       "    </tr>\n",
       "    <tr>\n",
       "      <th>5</th>\n",
       "      <td>Df Residuals:</td>\n",
       "      <td>452</td>\n",
       "      <td>LLR p-value:</td>\n",
       "      <td>2.0548e-22</td>\n",
       "    </tr>\n",
       "    <tr>\n",
       "      <th>6</th>\n",
       "      <td>Converged:</td>\n",
       "      <td>1.0000</td>\n",
       "      <td>Scale:</td>\n",
       "      <td>1.0000</td>\n",
       "    </tr>\n",
       "    <tr>\n",
       "      <th>7</th>\n",
       "      <td>No. Iterations:</td>\n",
       "      <td>6.0000</td>\n",
       "      <td></td>\n",
       "      <td></td>\n",
       "    </tr>\n",
       "  </tbody>\n",
       "</table>\n",
       "</div>"
      ],
      "text/plain": [
       "                     0                 1                  2           3\n",
       "0               Model:             Logit  Pseudo R-squared:       0.208\n",
       "1  Dependent Variable:               chd               AIC:    492.1400\n",
       "2                Date:  2020-12-05 23:07               BIC:    533.4957\n",
       "3    No. Observations:               462    Log-Likelihood:     -236.07\n",
       "4            Df Model:                 9           LL-Null:     -298.05\n",
       "5        Df Residuals:               452       LLR p-value:  2.0548e-22\n",
       "6           Converged:            1.0000             Scale:      1.0000\n",
       "7      No. Iterations:            6.0000                               "
      ]
     },
     "metadata": {},
     "output_type": "display_data"
    },
    {
     "name": "stdout",
     "output_type": "stream",
     "text": [
      "\n",
      "Modelo 5: chd ~ tobacco + ldl + famhist + typea + age\n"
     ]
    },
    {
     "data": {
      "text/html": [
       "<div>\n",
       "<style scoped>\n",
       "    .dataframe tbody tr th:only-of-type {\n",
       "        vertical-align: middle;\n",
       "    }\n",
       "\n",
       "    .dataframe tbody tr th {\n",
       "        vertical-align: top;\n",
       "    }\n",
       "\n",
       "    .dataframe thead th {\n",
       "        text-align: right;\n",
       "    }\n",
       "</style>\n",
       "<table border=\"1\" class=\"dataframe\">\n",
       "  <thead>\n",
       "    <tr style=\"text-align: right;\">\n",
       "      <th></th>\n",
       "      <th>0</th>\n",
       "      <th>1</th>\n",
       "      <th>2</th>\n",
       "      <th>3</th>\n",
       "    </tr>\n",
       "  </thead>\n",
       "  <tbody>\n",
       "    <tr>\n",
       "      <th>0</th>\n",
       "      <td>Model:</td>\n",
       "      <td>Logit</td>\n",
       "      <td>Pseudo R-squared:</td>\n",
       "      <td>0.202</td>\n",
       "    </tr>\n",
       "    <tr>\n",
       "      <th>1</th>\n",
       "      <td>Dependent Variable:</td>\n",
       "      <td>chd</td>\n",
       "      <td>AIC:</td>\n",
       "      <td>487.6856</td>\n",
       "    </tr>\n",
       "    <tr>\n",
       "      <th>2</th>\n",
       "      <td>Date:</td>\n",
       "      <td>2020-12-05 23:07</td>\n",
       "      <td>BIC:</td>\n",
       "      <td>512.4990</td>\n",
       "    </tr>\n",
       "    <tr>\n",
       "      <th>3</th>\n",
       "      <td>No. Observations:</td>\n",
       "      <td>462</td>\n",
       "      <td>Log-Likelihood:</td>\n",
       "      <td>-237.84</td>\n",
       "    </tr>\n",
       "    <tr>\n",
       "      <th>4</th>\n",
       "      <td>Df Model:</td>\n",
       "      <td>5</td>\n",
       "      <td>LL-Null:</td>\n",
       "      <td>-298.05</td>\n",
       "    </tr>\n",
       "    <tr>\n",
       "      <th>5</th>\n",
       "      <td>Df Residuals:</td>\n",
       "      <td>456</td>\n",
       "      <td>LLR p-value:</td>\n",
       "      <td>2.5537e-24</td>\n",
       "    </tr>\n",
       "    <tr>\n",
       "      <th>6</th>\n",
       "      <td>Converged:</td>\n",
       "      <td>1.0000</td>\n",
       "      <td>Scale:</td>\n",
       "      <td>1.0000</td>\n",
       "    </tr>\n",
       "    <tr>\n",
       "      <th>7</th>\n",
       "      <td>No. Iterations:</td>\n",
       "      <td>6.0000</td>\n",
       "      <td></td>\n",
       "      <td></td>\n",
       "    </tr>\n",
       "  </tbody>\n",
       "</table>\n",
       "</div>"
      ],
      "text/plain": [
       "                     0                 1                  2           3\n",
       "0               Model:             Logit  Pseudo R-squared:       0.202\n",
       "1  Dependent Variable:               chd               AIC:    487.6856\n",
       "2                Date:  2020-12-05 23:07               BIC:    512.4990\n",
       "3    No. Observations:               462    Log-Likelihood:     -237.84\n",
       "4            Df Model:                 5           LL-Null:     -298.05\n",
       "5        Df Residuals:               456       LLR p-value:  2.5537e-24\n",
       "6           Converged:            1.0000             Scale:      1.0000\n",
       "7      No. Iterations:            6.0000                               "
      ]
     },
     "metadata": {},
     "output_type": "display_data"
    }
   ],
   "source": [
    "print(f\"Modelo 1: {formula_1}\")\n",
    "display(model_1.summary2().tables[0])\n",
    "print(f\"\\nModelo 5: {formula_5}\")\n",
    "display(model_5.summary2().tables[0])"
   ]
  },
  {
   "cell_type": "markdown",
   "metadata": {},
   "source": [
    "Vemos por los criterios de AIC, BIC y Log Likelihood que el modelo 5 que contiene unicamente las variables que tienen significancia estadistica es mejor al modelo 1."
   ]
  },
  {
   "cell_type": "markdown",
   "metadata": {},
   "source": [
    "- Reporte de forma sucinta el efecto de las variables en el log-odds de tener una enfermedad coronaria"
   ]
  },
  {
   "cell_type": "code",
   "execution_count": 28,
   "metadata": {
    "ExecuteTime": {
     "end_time": "2020-12-06T02:07:02.874368Z",
     "start_time": "2020-12-06T02:07:02.806226Z"
    }
   },
   "outputs": [
    {
     "data": {
      "text/html": [
       "<div>\n",
       "<style scoped>\n",
       "    .dataframe tbody tr th:only-of-type {\n",
       "        vertical-align: middle;\n",
       "    }\n",
       "\n",
       "    .dataframe tbody tr th {\n",
       "        vertical-align: top;\n",
       "    }\n",
       "\n",
       "    .dataframe thead th {\n",
       "        text-align: right;\n",
       "    }\n",
       "</style>\n",
       "<table border=\"1\" class=\"dataframe\">\n",
       "  <thead>\n",
       "    <tr style=\"text-align: right;\">\n",
       "      <th></th>\n",
       "      <th>Coef.</th>\n",
       "    </tr>\n",
       "  </thead>\n",
       "  <tbody>\n",
       "    <tr>\n",
       "      <th>Intercept</th>\n",
       "      <td>-6.446445</td>\n",
       "    </tr>\n",
       "    <tr>\n",
       "      <th>tobacco</th>\n",
       "      <td>0.080375</td>\n",
       "    </tr>\n",
       "    <tr>\n",
       "      <th>ldl</th>\n",
       "      <td>0.161992</td>\n",
       "    </tr>\n",
       "    <tr>\n",
       "      <th>famhist</th>\n",
       "      <td>0.908175</td>\n",
       "    </tr>\n",
       "    <tr>\n",
       "      <th>typea</th>\n",
       "      <td>0.037115</td>\n",
       "    </tr>\n",
       "    <tr>\n",
       "      <th>age</th>\n",
       "      <td>0.050460</td>\n",
       "    </tr>\n",
       "  </tbody>\n",
       "</table>\n",
       "</div>"
      ],
      "text/plain": [
       "              Coef.\n",
       "Intercept -6.446445\n",
       "tobacco    0.080375\n",
       "ldl        0.161992\n",
       "famhist    0.908175\n",
       "typea      0.037115\n",
       "age        0.050460"
      ]
     },
     "execution_count": 28,
     "metadata": {},
     "output_type": "execute_result"
    }
   ],
   "source": [
    "modelo = model_5.summary2().tables[1][['Coef.']]\n",
    "modelo"
   ]
  },
  {
   "cell_type": "markdown",
   "metadata": {},
   "source": [
    "### Desafío 4: \n",
    "\n",
    "- A partir  del  modelo depurado,  genere  las  estimaciones  en  log-odds  y  posteriormente  transfórmelas a probabilidades con  inverse_logit . Los perfiles a estimar son los siguientes:\n",
    "    - La probabilidad de tener una enfermedad coronaria para un individuo con características similares a la muestra (media).\n",
    "    - La probabilidad de tener una enfemerdad coronaria para un individuo con altos niveles de lipoproteína de baja densidad, manteniendo todas las demás características constantes.\n",
    "    - La probabilidad de tener una enfemerdad coronaria para un individuo con bajos niveles de lipoproteína de baja densidad, manteniendo todas las demás características constantes."
   ]
  },
  {
   "cell_type": "code",
   "execution_count": 29,
   "metadata": {
    "ExecuteTime": {
     "end_time": "2020-12-06T02:07:02.990339Z",
     "start_time": "2020-12-06T02:07:02.875334Z"
    }
   },
   "outputs": [
    {
     "data": {
      "text/plain": [
       "'chd ~ tobacco + ldl + famhist + typea + age'"
      ]
     },
     "execution_count": 29,
     "metadata": {},
     "output_type": "execute_result"
    }
   ],
   "source": [
    "#model_5.params.index\n",
    "formula_5"
   ]
  },
  {
   "cell_type": "code",
   "execution_count": 30,
   "metadata": {
    "ExecuteTime": {
     "end_time": "2020-12-06T02:07:03.090479Z",
     "start_time": "2020-12-06T02:07:02.995338Z"
    }
   },
   "outputs": [],
   "source": [
    "df_filtrado =df[[\"tobacco\", \"ldl\", \"famhist\",\"typea\", \"age\"]]"
   ]
  },
  {
   "cell_type": "markdown",
   "metadata": {
    "ExecuteTime": {
     "end_time": "2020-12-06T01:15:53.353025Z",
     "start_time": "2020-12-06T01:15:46.584Z"
    }
   },
   "source": [
    "Intercep+ params[tobacco]+ media_tobacco+..."
   ]
  },
  {
   "cell_type": "code",
   "execution_count": 31,
   "metadata": {
    "ExecuteTime": {
     "end_time": "2020-12-06T02:07:03.206899Z",
     "start_time": "2020-12-06T02:07:03.092509Z"
    },
    "code_folding": []
   },
   "outputs": [
    {
     "name": "stdout",
     "output_type": "stream",
     "text": [
      "La probabilidad de tener una enfermedad coronaria para un individuo con características similares a la muestra es de: 0.2937\n"
     ]
    }
   ],
   "source": [
    "result = 0\n",
    "for i in model_5.params.index:\n",
    "    if i == 'Intercept':\n",
    "        result += model_5.params[i]\n",
    "    else:\n",
    "        result += model_5.params[i] * df_filtrado[i].mean()\n",
    "\n",
    "print(f\"La probabilidad de tener una enfermedad coronaria para un individuo con características similares a la muestra es de: {round(inverse_logit(result),4)}\")"
   ]
  },
  {
   "cell_type": "code",
   "execution_count": 32,
   "metadata": {
    "ExecuteTime": {
     "end_time": "2020-12-06T02:07:03.302191Z",
     "start_time": "2020-12-06T02:07:03.212841Z"
    }
   },
   "outputs": [
    {
     "name": "stdout",
     "output_type": "stream",
     "text": [
      "La probabilidad de tener una enfermedad coronaria para un individuo con altos niveles de lipoproteína es: 0.3302\n"
     ]
    }
   ],
   "source": [
    "result1 = 0\n",
    "for i in model_5.params.index:  \n",
    "    if i == \"Intercept\":\n",
    "        result1 += model_5.params[i]\n",
    "    elif i == \"ldl\":\n",
    "        result1 += model_5.params[i] * df_filtrado[i].quantile(0.75)\n",
    "    else:\n",
    "        result1 += model_5.params[i] * df_filtrado[i].mean()\n",
    "\n",
    "print(f\"La probabilidad de tener una enfermedad coronaria para un individuo con altos niveles de lipoproteína es: {round(inverse_logit(result1),4)}\")"
   ]
  },
  {
   "cell_type": "code",
   "execution_count": 33,
   "metadata": {
    "ExecuteTime": {
     "end_time": "2020-12-06T02:07:03.408623Z",
     "start_time": "2020-12-06T02:07:03.303156Z"
    }
   },
   "outputs": [
    {
     "name": "stdout",
     "output_type": "stream",
     "text": [
      "La probabilidad de tener una enfermedad coronaria para un individuo con bajos niveles de lipoproteína es: 0.2472\n"
     ]
    }
   ],
   "source": [
    "result2 = 0\n",
    "for i in model_5.params.index:    \n",
    "    if i == \"Intercept\":\n",
    "        result2 += model_5.params[i]\n",
    "    elif i == \"ldl\":\n",
    "        result2 += model_5.params[i] * df_filtrado[i].quantile(0.25)\n",
    "    else:\n",
    "        result2 += model_5.params[i] * df_filtrado[i].mean()\n",
    "\n",
    "print(f\"La probabilidad de tener una enfermedad coronaria para un individuo con bajos niveles de lipoproteína es: {round(inverse_logit(result2),4)}\")"
   ]
  }
 ],
 "metadata": {
  "kernelspec": {
   "display_name": "Python 3 (ipykernel)",
   "language": "python",
   "name": "python3"
  },
  "language_info": {
   "codemirror_mode": {
    "name": "ipython",
    "version": 3
   },
   "file_extension": ".py",
   "mimetype": "text/x-python",
   "name": "python",
   "nbconvert_exporter": "python",
   "pygments_lexer": "ipython3",
   "version": "3.9.13"
  },
  "varInspector": {
   "cols": {
    "lenName": 16,
    "lenType": 16,
    "lenVar": 40
   },
   "kernels_config": {
    "python": {
     "delete_cmd_postfix": "",
     "delete_cmd_prefix": "del ",
     "library": "var_list.py",
     "varRefreshCmd": "print(var_dic_list())"
    },
    "r": {
     "delete_cmd_postfix": ") ",
     "delete_cmd_prefix": "rm(",
     "library": "var_list.r",
     "varRefreshCmd": "cat(var_dic_list()) "
    }
   },
   "types_to_exclude": [
    "module",
    "function",
    "builtin_function_or_method",
    "instance",
    "_Feature"
   ],
   "window_display": false
  }
 },
 "nbformat": 4,
 "nbformat_minor": 4
}
