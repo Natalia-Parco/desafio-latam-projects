{
 "cells": [
  {
   "cell_type": "markdown",
   "metadata": {},
   "source": [
    "## Regresión desde la econometría"
   ]
  },
  {
   "cell_type": "markdown",
   "metadata": {},
   "source": [
    "### Desafio 1:\n",
    "\n",
    "- Importe las librerías básicas para el análisis de datos.\n",
    "- Incluya los import base de statsmodels .\n",
    "- Importe la base de datos Credit.csv y elimine la columna Unnamed: 0 ."
   ]
  },
  {
   "cell_type": "code",
   "execution_count": 1,
   "metadata": {
    "ExecuteTime": {
     "end_time": "2020-11-29T23:36:05.231035Z",
     "start_time": "2020-11-29T23:36:01.414591Z"
    }
   },
   "outputs": [],
   "source": [
    "import pandas as pd\n",
    "import numpy as np\n",
    "import matplotlib.pyplot as plt\n",
    "import seaborn as sns\n",
    "import statsmodels.formula.api as smf\n",
    "import statsmodels.api as sm\n",
    "import scipy.stats as stats\n",
    "\n",
    "plt.style.use(\"ggplot\")"
   ]
  },
  {
   "cell_type": "code",
   "execution_count": 2,
   "metadata": {
    "ExecuteTime": {
     "end_time": "2020-11-29T23:36:05.255373Z",
     "start_time": "2020-11-29T23:36:05.233765Z"
    }
   },
   "outputs": [],
   "source": [
    "df = pd.read_csv(\"Credit.csv\").drop(columns=[\"Unnamed: 0\"])"
   ]
  },
  {
   "cell_type": "markdown",
   "metadata": {},
   "source": [
    "- Siguiendo las buenas prácticas, genere variables binarias para capturar el efecto del grupo minoritario en cada variable.\n",
    "- Para el caso de Ethnicity, genere binarias para African_American y Asian .\n",
    "    - tip: Utilice value_counts() para revisar la cantidad de casos en las variables categóricas"
   ]
  },
  {
   "cell_type": "code",
   "execution_count": 3,
   "metadata": {
    "ExecuteTime": {
     "end_time": "2020-11-29T23:36:05.369170Z",
     "start_time": "2020-11-29T23:36:05.259197Z"
    },
    "code_folding": []
   },
   "outputs": [],
   "source": [
    "# df[\"Gender\"] = df[\"Gender\"].str.strip()\n",
    "# df[\"gender_male\"] = np.where(df[\"Gender\"] == \"Male\", 1 , 0)\n",
    "# df[df[\"gender_male\"] == 1]"
   ]
  },
  {
   "cell_type": "code",
   "execution_count": 4,
   "metadata": {
    "ExecuteTime": {
     "end_time": "2020-11-29T23:36:05.482681Z",
     "start_time": "2020-11-29T23:36:05.372579Z"
    }
   },
   "outputs": [],
   "source": [
    "var_cat = ['Gender','Student','Married', 'Ethnicity']"
   ]
  },
  {
   "cell_type": "code",
   "execution_count": 5,
   "metadata": {
    "ExecuteTime": {
     "end_time": "2020-11-29T23:36:05.666258Z",
     "start_time": "2020-11-29T23:36:05.486927Z"
    },
    "code_folding": [
     1
    ]
   },
   "outputs": [
    {
     "name": "stdout",
     "output_type": "stream",
     "text": [
      "Gender\n",
      "Student\n",
      "Married\n",
      "Ethnicity\n"
     ]
    },
    {
     "data": {
      "text/html": [
       "<div>\n",
       "<style scoped>\n",
       "    .dataframe tbody tr th:only-of-type {\n",
       "        vertical-align: middle;\n",
       "    }\n",
       "\n",
       "    .dataframe tbody tr th {\n",
       "        vertical-align: top;\n",
       "    }\n",
       "\n",
       "    .dataframe thead th {\n",
       "        text-align: right;\n",
       "    }\n",
       "</style>\n",
       "<table border=\"1\" class=\"dataframe\">\n",
       "  <thead>\n",
       "    <tr style=\"text-align: right;\">\n",
       "      <th></th>\n",
       "      <th>Income</th>\n",
       "      <th>Limit</th>\n",
       "      <th>Rating</th>\n",
       "      <th>Cards</th>\n",
       "      <th>Age</th>\n",
       "      <th>Education</th>\n",
       "      <th>Gender</th>\n",
       "      <th>Student</th>\n",
       "      <th>Married</th>\n",
       "      <th>Ethnicity</th>\n",
       "      <th>Balance</th>\n",
       "      <th>gender__male</th>\n",
       "      <th>student_yes</th>\n",
       "      <th>married_no</th>\n",
       "      <th>ethnicity_african_american</th>\n",
       "    </tr>\n",
       "  </thead>\n",
       "  <tbody>\n",
       "    <tr>\n",
       "      <th>0</th>\n",
       "      <td>14.891</td>\n",
       "      <td>3606</td>\n",
       "      <td>283</td>\n",
       "      <td>2</td>\n",
       "      <td>34</td>\n",
       "      <td>11</td>\n",
       "      <td>Male</td>\n",
       "      <td>No</td>\n",
       "      <td>Yes</td>\n",
       "      <td>Caucasian</td>\n",
       "      <td>333</td>\n",
       "      <td>1</td>\n",
       "      <td>0</td>\n",
       "      <td>0</td>\n",
       "      <td>0</td>\n",
       "    </tr>\n",
       "    <tr>\n",
       "      <th>1</th>\n",
       "      <td>106.025</td>\n",
       "      <td>6645</td>\n",
       "      <td>483</td>\n",
       "      <td>3</td>\n",
       "      <td>82</td>\n",
       "      <td>15</td>\n",
       "      <td>Female</td>\n",
       "      <td>Yes</td>\n",
       "      <td>Yes</td>\n",
       "      <td>Asian</td>\n",
       "      <td>903</td>\n",
       "      <td>0</td>\n",
       "      <td>1</td>\n",
       "      <td>0</td>\n",
       "      <td>0</td>\n",
       "    </tr>\n",
       "    <tr>\n",
       "      <th>2</th>\n",
       "      <td>104.593</td>\n",
       "      <td>7075</td>\n",
       "      <td>514</td>\n",
       "      <td>4</td>\n",
       "      <td>71</td>\n",
       "      <td>11</td>\n",
       "      <td>Male</td>\n",
       "      <td>No</td>\n",
       "      <td>No</td>\n",
       "      <td>Asian</td>\n",
       "      <td>580</td>\n",
       "      <td>1</td>\n",
       "      <td>0</td>\n",
       "      <td>1</td>\n",
       "      <td>0</td>\n",
       "    </tr>\n",
       "    <tr>\n",
       "      <th>3</th>\n",
       "      <td>148.924</td>\n",
       "      <td>9504</td>\n",
       "      <td>681</td>\n",
       "      <td>3</td>\n",
       "      <td>36</td>\n",
       "      <td>11</td>\n",
       "      <td>Female</td>\n",
       "      <td>No</td>\n",
       "      <td>No</td>\n",
       "      <td>Asian</td>\n",
       "      <td>964</td>\n",
       "      <td>0</td>\n",
       "      <td>0</td>\n",
       "      <td>1</td>\n",
       "      <td>0</td>\n",
       "    </tr>\n",
       "    <tr>\n",
       "      <th>4</th>\n",
       "      <td>55.882</td>\n",
       "      <td>4897</td>\n",
       "      <td>357</td>\n",
       "      <td>2</td>\n",
       "      <td>68</td>\n",
       "      <td>16</td>\n",
       "      <td>Male</td>\n",
       "      <td>No</td>\n",
       "      <td>Yes</td>\n",
       "      <td>Caucasian</td>\n",
       "      <td>331</td>\n",
       "      <td>1</td>\n",
       "      <td>0</td>\n",
       "      <td>0</td>\n",
       "      <td>0</td>\n",
       "    </tr>\n",
       "    <tr>\n",
       "      <th>...</th>\n",
       "      <td>...</td>\n",
       "      <td>...</td>\n",
       "      <td>...</td>\n",
       "      <td>...</td>\n",
       "      <td>...</td>\n",
       "      <td>...</td>\n",
       "      <td>...</td>\n",
       "      <td>...</td>\n",
       "      <td>...</td>\n",
       "      <td>...</td>\n",
       "      <td>...</td>\n",
       "      <td>...</td>\n",
       "      <td>...</td>\n",
       "      <td>...</td>\n",
       "      <td>...</td>\n",
       "    </tr>\n",
       "    <tr>\n",
       "      <th>395</th>\n",
       "      <td>12.096</td>\n",
       "      <td>4100</td>\n",
       "      <td>307</td>\n",
       "      <td>3</td>\n",
       "      <td>32</td>\n",
       "      <td>13</td>\n",
       "      <td>Male</td>\n",
       "      <td>No</td>\n",
       "      <td>Yes</td>\n",
       "      <td>Caucasian</td>\n",
       "      <td>560</td>\n",
       "      <td>1</td>\n",
       "      <td>0</td>\n",
       "      <td>0</td>\n",
       "      <td>0</td>\n",
       "    </tr>\n",
       "    <tr>\n",
       "      <th>396</th>\n",
       "      <td>13.364</td>\n",
       "      <td>3838</td>\n",
       "      <td>296</td>\n",
       "      <td>5</td>\n",
       "      <td>65</td>\n",
       "      <td>17</td>\n",
       "      <td>Male</td>\n",
       "      <td>No</td>\n",
       "      <td>No</td>\n",
       "      <td>African American</td>\n",
       "      <td>480</td>\n",
       "      <td>1</td>\n",
       "      <td>0</td>\n",
       "      <td>1</td>\n",
       "      <td>1</td>\n",
       "    </tr>\n",
       "    <tr>\n",
       "      <th>397</th>\n",
       "      <td>57.872</td>\n",
       "      <td>4171</td>\n",
       "      <td>321</td>\n",
       "      <td>5</td>\n",
       "      <td>67</td>\n",
       "      <td>12</td>\n",
       "      <td>Female</td>\n",
       "      <td>No</td>\n",
       "      <td>Yes</td>\n",
       "      <td>Caucasian</td>\n",
       "      <td>138</td>\n",
       "      <td>0</td>\n",
       "      <td>0</td>\n",
       "      <td>0</td>\n",
       "      <td>0</td>\n",
       "    </tr>\n",
       "    <tr>\n",
       "      <th>398</th>\n",
       "      <td>37.728</td>\n",
       "      <td>2525</td>\n",
       "      <td>192</td>\n",
       "      <td>1</td>\n",
       "      <td>44</td>\n",
       "      <td>13</td>\n",
       "      <td>Male</td>\n",
       "      <td>No</td>\n",
       "      <td>Yes</td>\n",
       "      <td>Caucasian</td>\n",
       "      <td>0</td>\n",
       "      <td>1</td>\n",
       "      <td>0</td>\n",
       "      <td>0</td>\n",
       "      <td>0</td>\n",
       "    </tr>\n",
       "    <tr>\n",
       "      <th>399</th>\n",
       "      <td>18.701</td>\n",
       "      <td>5524</td>\n",
       "      <td>415</td>\n",
       "      <td>5</td>\n",
       "      <td>64</td>\n",
       "      <td>7</td>\n",
       "      <td>Female</td>\n",
       "      <td>No</td>\n",
       "      <td>No</td>\n",
       "      <td>Asian</td>\n",
       "      <td>966</td>\n",
       "      <td>0</td>\n",
       "      <td>0</td>\n",
       "      <td>1</td>\n",
       "      <td>0</td>\n",
       "    </tr>\n",
       "  </tbody>\n",
       "</table>\n",
       "<p>400 rows × 15 columns</p>\n",
       "</div>"
      ],
      "text/plain": [
       "      Income  Limit  Rating  Cards  Age  Education  Gender Student Married  \\\n",
       "0     14.891   3606     283      2   34         11    Male      No     Yes   \n",
       "1    106.025   6645     483      3   82         15  Female     Yes     Yes   \n",
       "2    104.593   7075     514      4   71         11    Male      No      No   \n",
       "3    148.924   9504     681      3   36         11  Female      No      No   \n",
       "4     55.882   4897     357      2   68         16    Male      No     Yes   \n",
       "..       ...    ...     ...    ...  ...        ...     ...     ...     ...   \n",
       "395   12.096   4100     307      3   32         13    Male      No     Yes   \n",
       "396   13.364   3838     296      5   65         17    Male      No      No   \n",
       "397   57.872   4171     321      5   67         12  Female      No     Yes   \n",
       "398   37.728   2525     192      1   44         13    Male      No     Yes   \n",
       "399   18.701   5524     415      5   64          7  Female      No      No   \n",
       "\n",
       "            Ethnicity  Balance  gender__male  student_yes  married_no  \\\n",
       "0           Caucasian      333             1            0           0   \n",
       "1               Asian      903             0            1           0   \n",
       "2               Asian      580             1            0           1   \n",
       "3               Asian      964             0            0           1   \n",
       "4           Caucasian      331             1            0           0   \n",
       "..                ...      ...           ...          ...         ...   \n",
       "395         Caucasian      560             1            0           0   \n",
       "396  African American      480             1            0           1   \n",
       "397         Caucasian      138             0            0           0   \n",
       "398         Caucasian        0             1            0           0   \n",
       "399             Asian      966             0            0           1   \n",
       "\n",
       "     ethnicity_african_american  \n",
       "0                             0  \n",
       "1                             0  \n",
       "2                             0  \n",
       "3                             0  \n",
       "4                             0  \n",
       "..                          ...  \n",
       "395                           0  \n",
       "396                           1  \n",
       "397                           0  \n",
       "398                           0  \n",
       "399                           0  \n",
       "\n",
       "[400 rows x 15 columns]"
      ]
     },
     "metadata": {},
     "output_type": "display_data"
    }
   ],
   "source": [
    "#idx me pone el indice del valor que se repite menos veces\n",
    "for cat in var_cat:\n",
    "    print(cat)\n",
    "    val_min = df[cat].value_counts().idxmin()\n",
    "    df[f\"{cat.lower()}_{val_min.lower().replace(' ', '_')}\"] =np.where(df[cat] == val_min ,1 , 0)\n",
    "display(df)"
   ]
  },
  {
   "cell_type": "code",
   "execution_count": 6,
   "metadata": {
    "ExecuteTime": {
     "end_time": "2020-11-29T23:36:05.716121Z",
     "start_time": "2020-11-29T23:36:05.667566Z"
    }
   },
   "outputs": [],
   "source": [
    "df[\"ethnicity_asian\"] = np.where(df[\"Ethnicity\"] == \"Asian\", 1 , 0)"
   ]
  },
  {
   "cell_type": "markdown",
   "metadata": {},
   "source": [
    "### Desafio 2:\n",
    "- Genere una función llamada plot_hist que genere un histograma de la variable e indique la\n",
    "media y mediana de la misma. Agrege una legenda para indicar qué representa cada línea.\n",
    "- ¿Cuál es el comportamiento de Balance , Income , Cards y Rating ?"
   ]
  },
  {
   "cell_type": "code",
   "execution_count": 7,
   "metadata": {
    "ExecuteTime": {
     "end_time": "2020-11-29T23:36:05.848636Z",
     "start_time": "2020-11-29T23:36:05.718811Z"
    },
    "code_folding": [
     0
    ]
   },
   "outputs": [],
   "source": [
    "def plot_hist(df, var):\n",
    "    plt.figure(figsize=(10,7))\n",
    "    df[var].hist(alpha = .5)\n",
    "    plt.axvline(df[var].mean(), label= \"Media\", color=\"tomato\")\n",
    "    plt.axvline(df[var].median(), label= \"Mediana\", color=\"indigo\")\n",
    "    plt.title(f\"Histograma de: {var}\")\n",
    "    plt.legend()"
   ]
  },
  {
   "cell_type": "code",
   "execution_count": 8,
   "metadata": {
    "ExecuteTime": {
     "end_time": "2020-11-29T23:36:07.684006Z",
     "start_time": "2020-11-29T23:36:05.858530Z"
    },
    "code_folding": [
     0
    ]
   },
   "outputs": [
    {
     "data": {
      "image/png": "[encoded data removed]",
      "text/plain": [
       "<Figure size 720x504 with 1 Axes>"
      ]
     },
     "metadata": {},
     "output_type": "display_data"
    },
    {
     "data": {
      "image/png": "[encoded data removed]",
      "text/plain": [
       "<Figure size 720x504 with 1 Axes>"
      ]
     },
     "metadata": {},
     "output_type": "display_data"
    },
    {
     "data": {
      "image/png": "[encoded data removed]",
      "text/plain": [
       "<Figure size 720x504 with 1 Axes>"
      ]
     },
     "metadata": {},
     "output_type": "display_data"
    },
    {
     "data": {
      "image/png": "[encoded data removed]",
      "text/plain": [
       "<Figure size 720x504 with 1 Axes>"
      ]
     },
     "metadata": {},
     "output_type": "display_data"
    }
   ],
   "source": [
    "for i in [\"Balance\",\"Income\", \"Cards\",\"Rating\"]:\n",
    "    plot_hist(df, i)\n",
    "    plt.show()"
   ]
  },
  {
   "cell_type": "code",
   "execution_count": 9,
   "metadata": {
    "ExecuteTime": {
     "end_time": "2020-11-29T23:36:07.701552Z",
     "start_time": "2020-11-29T23:36:07.688994Z"
    }
   },
   "outputs": [
    {
     "name": "stdout",
     "output_type": "stream",
     "text": [
      "Las variables parecen tener una distribucion sesgada hacia la izquierda\n"
     ]
    }
   ],
   "source": [
    "print(\"Las variables parecen tener una distribucion sesgada hacia la izquierda\")"
   ]
  },
  {
   "cell_type": "markdown",
   "metadata": {},
   "source": [
    "### Desafío 3:\n",
    "- A continuación generaremos una serie de modelos simples:\n",
    "$$ Balance = \\beta_0 + \\beta_1 * Student + \\epsilon $$\n",
    "$$ Balance = \\beta_0 + \\beta_1 * Income + \\epsilon $$\n",
    "$$ Balance = \\beta_0 + \\beta_1 * Rating + \\epsilon $$"
   ]
  },
  {
   "cell_type": "code",
   "execution_count": 10,
   "metadata": {
    "ExecuteTime": {
     "end_time": "2020-11-29T23:36:07.889660Z",
     "start_time": "2020-11-29T23:36:07.704591Z"
    }
   },
   "outputs": [
    {
     "data": {
      "text/html": [
       "<table class=\"simpletable\">\n",
       "<caption>OLS Regression Results</caption>\n",
       "<tr>\n",
       "  <th>Dep. Variable:</th>         <td>Balance</td>     <th>  R-squared:         </th> <td>   0.067</td>\n",
       "</tr>\n",
       "<tr>\n",
       "  <th>Model:</th>                   <td>OLS</td>       <th>  Adj. R-squared:    </th> <td>   0.065</td>\n",
       "</tr>\n",
       "<tr>\n",
       "  <th>Method:</th>             <td>Least Squares</td>  <th>  F-statistic:       </th> <td>   28.62</td>\n",
       "</tr>\n",
       "<tr>\n",
       "  <th>Date:</th>             <td>Sun, 29 Nov 2020</td> <th>  Prob (F-statistic):</th> <td>1.49e-07</td>\n",
       "</tr>\n",
       "<tr>\n",
       "  <th>Time:</th>                 <td>20:36:07</td>     <th>  Log-Likelihood:    </th> <td> -3005.5</td>\n",
       "</tr>\n",
       "<tr>\n",
       "  <th>No. Observations:</th>      <td>   400</td>      <th>  AIC:               </th> <td>   6015.</td>\n",
       "</tr>\n",
       "<tr>\n",
       "  <th>Df Residuals:</th>          <td>   398</td>      <th>  BIC:               </th> <td>   6023.</td>\n",
       "</tr>\n",
       "<tr>\n",
       "  <th>Df Model:</th>              <td>     1</td>      <th>                     </th>     <td> </td>   \n",
       "</tr>\n",
       "<tr>\n",
       "  <th>Covariance Type:</th>      <td>nonrobust</td>    <th>                     </th>     <td> </td>   \n",
       "</tr>\n",
       "</table>"
      ],
      "text/plain": [
       "<class 'statsmodels.iolib.table.SimpleTable'>"
      ]
     },
     "execution_count": 10,
     "metadata": {},
     "output_type": "execute_result"
    }
   ],
   "source": [
    "model = smf.ols(\"Balance ~ Student\", df)\n",
    "model= model.fit()\n",
    "results = model.summary()\n",
    "results.tables[0]"
   ]
  },
  {
   "cell_type": "code",
   "execution_count": 11,
   "metadata": {
    "ExecuteTime": {
     "end_time": "2020-11-29T23:36:07.966672Z",
     "start_time": "2020-11-29T23:36:07.891661Z"
    }
   },
   "outputs": [
    {
     "data": {
      "text/html": [
       "<table class=\"simpletable\">\n",
       "<caption>OLS Regression Results</caption>\n",
       "<tr>\n",
       "  <th>Dep. Variable:</th>         <td>Balance</td>     <th>  R-squared:         </th> <td>   0.215</td>\n",
       "</tr>\n",
       "<tr>\n",
       "  <th>Model:</th>                   <td>OLS</td>       <th>  Adj. R-squared:    </th> <td>   0.213</td>\n",
       "</tr>\n",
       "<tr>\n",
       "  <th>Method:</th>             <td>Least Squares</td>  <th>  F-statistic:       </th> <td>   109.0</td>\n",
       "</tr>\n",
       "<tr>\n",
       "  <th>Date:</th>             <td>Sun, 29 Nov 2020</td> <th>  Prob (F-statistic):</th> <td>1.03e-22</td>\n",
       "</tr>\n",
       "<tr>\n",
       "  <th>Time:</th>                 <td>20:36:07</td>     <th>  Log-Likelihood:    </th> <td> -2970.9</td>\n",
       "</tr>\n",
       "<tr>\n",
       "  <th>No. Observations:</th>      <td>   400</td>      <th>  AIC:               </th> <td>   5946.</td>\n",
       "</tr>\n",
       "<tr>\n",
       "  <th>Df Residuals:</th>          <td>   398</td>      <th>  BIC:               </th> <td>   5954.</td>\n",
       "</tr>\n",
       "<tr>\n",
       "  <th>Df Model:</th>              <td>     1</td>      <th>                     </th>     <td> </td>   \n",
       "</tr>\n",
       "<tr>\n",
       "  <th>Covariance Type:</th>      <td>nonrobust</td>    <th>                     </th>     <td> </td>   \n",
       "</tr>\n",
       "</table>"
      ],
      "text/plain": [
       "<class 'statsmodels.iolib.table.SimpleTable'>"
      ]
     },
     "execution_count": 11,
     "metadata": {},
     "output_type": "execute_result"
    }
   ],
   "source": [
    "model_1 = smf.ols(\"Balance ~ Income\", df).fit()\n",
    "results_1 =model_1.summary()\n",
    "results_1.tables[0]"
   ]
  },
  {
   "cell_type": "code",
   "execution_count": 12,
   "metadata": {
    "ExecuteTime": {
     "end_time": "2020-11-29T23:36:08.091902Z",
     "start_time": "2020-11-29T23:36:07.968667Z"
    }
   },
   "outputs": [
    {
     "data": {
      "text/html": [
       "<table class=\"simpletable\">\n",
       "<caption>OLS Regression Results</caption>\n",
       "<tr>\n",
       "  <th>Dep. Variable:</th>         <td>Balance</td>     <th>  R-squared:         </th> <td>   0.746</td> \n",
       "</tr>\n",
       "<tr>\n",
       "  <th>Model:</th>                   <td>OLS</td>       <th>  Adj. R-squared:    </th> <td>   0.745</td> \n",
       "</tr>\n",
       "<tr>\n",
       "  <th>Method:</th>             <td>Least Squares</td>  <th>  F-statistic:       </th> <td>   1168.</td> \n",
       "</tr>\n",
       "<tr>\n",
       "  <th>Date:</th>             <td>Sun, 29 Nov 2020</td> <th>  Prob (F-statistic):</th> <td>1.90e-120</td>\n",
       "</tr>\n",
       "<tr>\n",
       "  <th>Time:</th>                 <td>20:36:08</td>     <th>  Log-Likelihood:    </th> <td> -2745.4</td> \n",
       "</tr>\n",
       "<tr>\n",
       "  <th>No. Observations:</th>      <td>   400</td>      <th>  AIC:               </th> <td>   5495.</td> \n",
       "</tr>\n",
       "<tr>\n",
       "  <th>Df Residuals:</th>          <td>   398</td>      <th>  BIC:               </th> <td>   5503.</td> \n",
       "</tr>\n",
       "<tr>\n",
       "  <th>Df Model:</th>              <td>     1</td>      <th>                     </th>     <td> </td>    \n",
       "</tr>\n",
       "<tr>\n",
       "  <th>Covariance Type:</th>      <td>nonrobust</td>    <th>                     </th>     <td> </td>    \n",
       "</tr>\n",
       "</table>"
      ],
      "text/plain": [
       "<class 'statsmodels.iolib.table.SimpleTable'>"
      ]
     },
     "execution_count": 12,
     "metadata": {},
     "output_type": "execute_result"
    }
   ],
   "source": [
    "model_2 = smf.ols(\"Balance ~ Rating\", df).fit()\n",
    "results_2 =model_2.summary()\n",
    "results_2.tables[0]"
   ]
  },
  {
   "cell_type": "markdown",
   "metadata": {},
   "source": [
    "- Utilizando statsmodels, comente brevemente los siguientes puntos:\n",
    "    - ¿Qué variable presenta un mayor poder explicativo de la variabilidad de Balance ?"
   ]
  },
  {
   "cell_type": "code",
   "execution_count": 13,
   "metadata": {
    "ExecuteTime": {
     "end_time": "2020-11-29T23:36:08.189306Z",
     "start_time": "2020-11-29T23:36:08.093942Z"
    }
   },
   "outputs": [
    {
     "name": "stdout",
     "output_type": "stream",
     "text": [
      "La variable que presenta un mayor poder explicativo de la variable Balance es Rating. Esto se debe a que este modelo posee un mayor R cuadrado adj y un menor valor en los criterios de AIC y BIC.\n"
     ]
    }
   ],
   "source": [
    "print(\"La variable que presenta un mayor poder explicativo de la variable Balance es Rating. Esto se debe a que este modelo posee un mayor R cuadrado adj y un menor valor en los criterios de AIC y BIC.\")"
   ]
  },
  {
   "cell_type": "markdown",
   "metadata": {},
   "source": [
    "   - ¿Qué podemos decir sobre el comportamiento de Student ?"
   ]
  },
  {
   "cell_type": "code",
   "execution_count": 14,
   "metadata": {
    "ExecuteTime": {
     "end_time": "2020-11-29T23:36:08.300191Z",
     "start_time": "2020-11-29T23:36:08.192217Z"
    }
   },
   "outputs": [
    {
     "name": "stdout",
     "output_type": "stream",
     "text": [
      "Podemos decir que el modelo con la variable explicativa Student es el menos representativo de los tres presentados.\n"
     ]
    }
   ],
   "source": [
    "print(\"Podemos decir que el modelo con la variable explicativa Student es el menos representativo de los tres presentados.\")"
   ]
  },
  {
   "cell_type": "markdown",
   "metadata": {},
   "source": [
    "- ¿Qué pasa si aplicamos una prueba de hipótesis para muestras independientes de Balance entre aquellos que son y no son estudiantes?"
   ]
  },
  {
   "cell_type": "code",
   "execution_count": 15,
   "metadata": {
    "ExecuteTime": {
     "end_time": "2020-11-29T23:36:08.431735Z",
     "start_time": "2020-11-29T23:36:08.301196Z"
    }
   },
   "outputs": [
    {
     "data": {
      "text/plain": [
       "Ttest_indResult(statistic=5.349964123075003, pvalue=1.4877341077323024e-07)"
      ]
     },
     "execution_count": 15,
     "metadata": {},
     "output_type": "execute_result"
    }
   ],
   "source": [
    "stats.ttest_ind(df[df[\"student_yes\"] == 1][\"Balance\"], df[df[\"student_yes\"] == 0][\"Balance\"])"
   ]
  },
  {
   "cell_type": "markdown",
   "metadata": {},
   "source": [
    "### Desafio 4:\n",
    "- Comente brevemente sobre el poder explicativo en la varianza de y las principales características de los predictores."
   ]
  },
  {
   "cell_type": "code",
   "execution_count": 16,
   "metadata": {
    "ExecuteTime": {
     "end_time": "2020-11-29T23:36:08.827850Z",
     "start_time": "2020-11-29T23:36:08.434539Z"
    },
    "code_folding": []
   },
   "outputs": [
    {
     "name": "stdout",
     "output_type": "stream",
     "text": [
      "Income\n",
      "Limit\n",
      "Rating\n",
      "Cards\n",
      "Age\n",
      "Education\n",
      "Gender\n",
      "Student\n",
      "Married\n",
      "Ethnicity\n"
     ]
    }
   ],
   "source": [
    "formula = \"Balance ~\"\n",
    "for i in df.loc[:,\"Income\":\"Ethnicity\"].columns:\n",
    "    print(i)\n",
    "    formula += f\" {i} +\"\n",
    "formula = formula.strip(\" +\")"
   ]
  },
  {
   "cell_type": "code",
   "execution_count": 17,
   "metadata": {
    "ExecuteTime": {
     "end_time": "2020-11-29T23:36:09.675925Z",
     "start_time": "2020-11-29T23:36:08.834645Z"
    }
   },
   "outputs": [
    {
     "data": {
      "text/plain": [
       "'Balance ~ Income + Limit + Rating + Cards + Age + Education + Gender + Student + Married + Ethnicity'"
      ]
     },
     "execution_count": 17,
     "metadata": {},
     "output_type": "execute_result"
    }
   ],
   "source": [
    "formula"
   ]
  },
  {
   "cell_type": "code",
   "execution_count": 18,
   "metadata": {
    "ExecuteTime": {
     "end_time": "2020-11-29T23:36:09.887784Z",
     "start_time": "2020-11-29T23:36:09.681100Z"
    }
   },
   "outputs": [
    {
     "data": {
      "text/html": [
       "<table class=\"simpletable\">\n",
       "<caption>OLS Regression Results</caption>\n",
       "<tr>\n",
       "  <th>Dep. Variable:</th>         <td>Balance</td>     <th>  R-squared:         </th> <td>   0.955</td> \n",
       "</tr>\n",
       "<tr>\n",
       "  <th>Model:</th>                   <td>OLS</td>       <th>  Adj. R-squared:    </th> <td>   0.954</td> \n",
       "</tr>\n",
       "<tr>\n",
       "  <th>Method:</th>             <td>Least Squares</td>  <th>  F-statistic:       </th> <td>   750.3</td> \n",
       "</tr>\n",
       "<tr>\n",
       "  <th>Date:</th>             <td>Sun, 29 Nov 2020</td> <th>  Prob (F-statistic):</th> <td>1.11e-253</td>\n",
       "</tr>\n",
       "<tr>\n",
       "  <th>Time:</th>                 <td>20:36:09</td>     <th>  Log-Likelihood:    </th> <td> -2398.7</td> \n",
       "</tr>\n",
       "<tr>\n",
       "  <th>No. Observations:</th>      <td>   400</td>      <th>  AIC:               </th> <td>   4821.</td> \n",
       "</tr>\n",
       "<tr>\n",
       "  <th>Df Residuals:</th>          <td>   388</td>      <th>  BIC:               </th> <td>   4869.</td> \n",
       "</tr>\n",
       "<tr>\n",
       "  <th>Df Model:</th>              <td>    11</td>      <th>                     </th>     <td> </td>    \n",
       "</tr>\n",
       "<tr>\n",
       "  <th>Covariance Type:</th>      <td>nonrobust</td>    <th>                     </th>     <td> </td>    \n",
       "</tr>\n",
       "</table>"
      ],
      "text/plain": [
       "<class 'statsmodels.iolib.table.SimpleTable'>"
      ]
     },
     "execution_count": 18,
     "metadata": {},
     "output_type": "execute_result"
    }
   ],
   "source": [
    "model_3 = smf.ols(formula, df)\n",
    "model_3 = model_3.fit()\n",
    "results_3 = model_3.summary()\n",
    "results_3.tables[0]"
   ]
  },
  {
   "cell_type": "markdown",
   "metadata": {},
   "source": [
    "Modelo explicativo alto. Explica el 95,5.\n",
    "Mejoro el R cuadrado ajustado y los criterios de AIC y BIC\n",
    "\n",
    "Las variables que no son significativas las debo excluir ya que no suman a la explicatividad de la variable dependiente."
   ]
  },
  {
   "cell_type": "markdown",
   "metadata": {},
   "source": [
    "### Desafio 5:\n",
    "- En base al modelo anterior, refactorize e incluya sólo las variables con un nivel de significancia $p - value \\leq 0.025$. Comente brevemente sobre el poder explicativo en la varianza de y las principales características de los predictores.\n",
    "- ¿Mejoró o empeoró el modelo con la reducción de regresores?"
   ]
  },
  {
   "cell_type": "code",
   "execution_count": 19,
   "metadata": {
    "ExecuteTime": {
     "end_time": "2020-11-29T23:36:09.992360Z",
     "start_time": "2020-11-29T23:36:09.892369Z"
    }
   },
   "outputs": [
    {
     "data": {
      "text/html": [
       "<div>\n",
       "<style scoped>\n",
       "    .dataframe tbody tr th:only-of-type {\n",
       "        vertical-align: middle;\n",
       "    }\n",
       "\n",
       "    .dataframe tbody tr th {\n",
       "        vertical-align: top;\n",
       "    }\n",
       "\n",
       "    .dataframe thead th {\n",
       "        text-align: right;\n",
       "    }\n",
       "</style>\n",
       "<table border=\"1\" class=\"dataframe\">\n",
       "  <thead>\n",
       "    <tr style=\"text-align: right;\">\n",
       "      <th></th>\n",
       "      <th>Coef.</th>\n",
       "      <th>Std.Err.</th>\n",
       "      <th>t</th>\n",
       "      <th>P&gt;|t|</th>\n",
       "      <th>[0.025</th>\n",
       "      <th>0.975]</th>\n",
       "    </tr>\n",
       "  </thead>\n",
       "  <tbody>\n",
       "    <tr>\n",
       "      <th>Intercept</th>\n",
       "      <td>-479.207871</td>\n",
       "      <td>35.773937</td>\n",
       "      <td>-13.395447</td>\n",
       "      <td>6.730600e-34</td>\n",
       "      <td>-549.542897</td>\n",
       "      <td>-408.872844</td>\n",
       "    </tr>\n",
       "    <tr>\n",
       "      <th>Gender[T.Female]</th>\n",
       "      <td>-10.653248</td>\n",
       "      <td>9.914000</td>\n",
       "      <td>-1.074566</td>\n",
       "      <td>2.832368e-01</td>\n",
       "      <td>-30.145132</td>\n",
       "      <td>8.838637</td>\n",
       "    </tr>\n",
       "    <tr>\n",
       "      <th>Student[T.Yes]</th>\n",
       "      <td>425.747360</td>\n",
       "      <td>16.722580</td>\n",
       "      <td>25.459430</td>\n",
       "      <td>8.854521e-85</td>\n",
       "      <td>392.869147</td>\n",
       "      <td>458.625572</td>\n",
       "    </tr>\n",
       "    <tr>\n",
       "      <th>Married[T.Yes]</th>\n",
       "      <td>-8.533901</td>\n",
       "      <td>10.362875</td>\n",
       "      <td>-0.823507</td>\n",
       "      <td>4.107256e-01</td>\n",
       "      <td>-28.908316</td>\n",
       "      <td>11.840515</td>\n",
       "    </tr>\n",
       "    <tr>\n",
       "      <th>Ethnicity[T.Asian]</th>\n",
       "      <td>16.804179</td>\n",
       "      <td>14.119063</td>\n",
       "      <td>1.190177</td>\n",
       "      <td>2.347047e-01</td>\n",
       "      <td>-10.955267</td>\n",
       "      <td>44.563625</td>\n",
       "    </tr>\n",
       "    <tr>\n",
       "      <th>Ethnicity[T.Caucasian]</th>\n",
       "      <td>10.107025</td>\n",
       "      <td>12.209923</td>\n",
       "      <td>0.827771</td>\n",
       "      <td>4.083088e-01</td>\n",
       "      <td>-13.898867</td>\n",
       "      <td>34.112917</td>\n",
       "    </tr>\n",
       "    <tr>\n",
       "      <th>Income</th>\n",
       "      <td>-7.803102</td>\n",
       "      <td>0.234232</td>\n",
       "      <td>-33.313573</td>\n",
       "      <td>7.372312e-116</td>\n",
       "      <td>-8.263624</td>\n",
       "      <td>-7.342579</td>\n",
       "    </tr>\n",
       "    <tr>\n",
       "      <th>Limit</th>\n",
       "      <td>0.190907</td>\n",
       "      <td>0.032779</td>\n",
       "      <td>5.824124</td>\n",
       "      <td>1.205974e-08</td>\n",
       "      <td>0.126461</td>\n",
       "      <td>0.255353</td>\n",
       "    </tr>\n",
       "    <tr>\n",
       "      <th>Rating</th>\n",
       "      <td>1.136527</td>\n",
       "      <td>0.490894</td>\n",
       "      <td>2.315216</td>\n",
       "      <td>2.112213e-02</td>\n",
       "      <td>0.171380</td>\n",
       "      <td>2.101673</td>\n",
       "    </tr>\n",
       "    <tr>\n",
       "      <th>Cards</th>\n",
       "      <td>17.724484</td>\n",
       "      <td>4.341033</td>\n",
       "      <td>4.083011</td>\n",
       "      <td>5.401200e-05</td>\n",
       "      <td>9.189592</td>\n",
       "      <td>26.259375</td>\n",
       "    </tr>\n",
       "    <tr>\n",
       "      <th>Age</th>\n",
       "      <td>-0.613909</td>\n",
       "      <td>0.293989</td>\n",
       "      <td>-2.088200</td>\n",
       "      <td>3.743127e-02</td>\n",
       "      <td>-1.191920</td>\n",
       "      <td>-0.035897</td>\n",
       "    </tr>\n",
       "    <tr>\n",
       "      <th>Education</th>\n",
       "      <td>-1.098855</td>\n",
       "      <td>1.597951</td>\n",
       "      <td>-0.687665</td>\n",
       "      <td>4.920746e-01</td>\n",
       "      <td>-4.240582</td>\n",
       "      <td>2.042872</td>\n",
       "    </tr>\n",
       "  </tbody>\n",
       "</table>\n",
       "</div>"
      ],
      "text/plain": [
       "                             Coef.   Std.Err.          t          P>|t|  \\\n",
       "Intercept              -479.207871  35.773937 -13.395447   6.730600e-34   \n",
       "Gender[T.Female]        -10.653248   9.914000  -1.074566   2.832368e-01   \n",
       "Student[T.Yes]          425.747360  16.722580  25.459430   8.854521e-85   \n",
       "Married[T.Yes]           -8.533901  10.362875  -0.823507   4.107256e-01   \n",
       "Ethnicity[T.Asian]       16.804179  14.119063   1.190177   2.347047e-01   \n",
       "Ethnicity[T.Caucasian]   10.107025  12.209923   0.827771   4.083088e-01   \n",
       "Income                   -7.803102   0.234232 -33.313573  7.372312e-116   \n",
       "Limit                     0.190907   0.032779   5.824124   1.205974e-08   \n",
       "Rating                    1.136527   0.490894   2.315216   2.112213e-02   \n",
       "Cards                    17.724484   4.341033   4.083011   5.401200e-05   \n",
       "Age                      -0.613909   0.293989  -2.088200   3.743127e-02   \n",
       "Education                -1.098855   1.597951  -0.687665   4.920746e-01   \n",
       "\n",
       "                            [0.025      0.975]  \n",
       "Intercept              -549.542897 -408.872844  \n",
       "Gender[T.Female]        -30.145132    8.838637  \n",
       "Student[T.Yes]          392.869147  458.625572  \n",
       "Married[T.Yes]          -28.908316   11.840515  \n",
       "Ethnicity[T.Asian]      -10.955267   44.563625  \n",
       "Ethnicity[T.Caucasian]  -13.898867   34.112917  \n",
       "Income                   -8.263624   -7.342579  \n",
       "Limit                     0.126461    0.255353  \n",
       "Rating                    0.171380    2.101673  \n",
       "Cards                     9.189592   26.259375  \n",
       "Age                      -1.191920   -0.035897  \n",
       "Education                -4.240582    2.042872  "
      ]
     },
     "execution_count": 19,
     "metadata": {},
     "output_type": "execute_result"
    }
   ],
   "source": [
    "tablita = model_3.summary2().tables[1]\n",
    "tablita"
   ]
  },
  {
   "cell_type": "code",
   "execution_count": 20,
   "metadata": {
    "ExecuteTime": {
     "end_time": "2020-11-29T23:36:10.096896Z",
     "start_time": "2020-11-29T23:36:09.992360Z"
    }
   },
   "outputs": [
    {
     "data": {
      "text/plain": [
       "['Gender[T.Female]',\n",
       " 'Married[T.Yes]',\n",
       " 'Ethnicity[T.Asian]',\n",
       " 'Ethnicity[T.Caucasian]',\n",
       " 'Age',\n",
       " 'Education']"
      ]
     },
     "execution_count": 20,
     "metadata": {},
     "output_type": "execute_result"
    }
   ],
   "source": [
    "filtrar = list(tablita[tablita['P>|t|'] > .025].index)\n",
    "filtrar"
   ]
  },
  {
   "cell_type": "code",
   "execution_count": 21,
   "metadata": {
    "ExecuteTime": {
     "end_time": "2020-11-29T23:36:10.404163Z",
     "start_time": "2020-11-29T23:36:10.101146Z"
    }
   },
   "outputs": [
    {
     "data": {
      "text/html": [
       "<table class=\"simpletable\">\n",
       "<caption>OLS Regression Results</caption>\n",
       "<tr>\n",
       "  <th>Dep. Variable:</th>         <td>Balance</td>     <th>  R-squared:         </th> <td>   0.954</td> \n",
       "</tr>\n",
       "<tr>\n",
       "  <th>Model:</th>                   <td>OLS</td>       <th>  Adj. R-squared:    </th> <td>   0.954</td> \n",
       "</tr>\n",
       "<tr>\n",
       "  <th>Method:</th>             <td>Least Squares</td>  <th>  F-statistic:       </th> <td>   1640.</td> \n",
       "</tr>\n",
       "<tr>\n",
       "  <th>Date:</th>             <td>Sun, 29 Nov 2020</td> <th>  Prob (F-statistic):</th> <td>3.60e-261</td>\n",
       "</tr>\n",
       "<tr>\n",
       "  <th>Time:</th>                 <td>20:36:10</td>     <th>  Log-Likelihood:    </th> <td> -2402.8</td> \n",
       "</tr>\n",
       "<tr>\n",
       "  <th>No. Observations:</th>      <td>   400</td>      <th>  AIC:               </th> <td>   4818.</td> \n",
       "</tr>\n",
       "<tr>\n",
       "  <th>Df Residuals:</th>          <td>   394</td>      <th>  BIC:               </th> <td>   4842.</td> \n",
       "</tr>\n",
       "<tr>\n",
       "  <th>Df Model:</th>              <td>     5</td>      <th>                     </th>     <td> </td>    \n",
       "</tr>\n",
       "<tr>\n",
       "  <th>Covariance Type:</th>      <td>nonrobust</td>    <th>                     </th>     <td> </td>    \n",
       "</tr>\n",
       "</table>"
      ],
      "text/plain": [
       "<class 'statsmodels.iolib.table.SimpleTable'>"
      ]
     },
     "execution_count": 21,
     "metadata": {},
     "output_type": "execute_result"
    }
   ],
   "source": [
    "model_4 = smf.ols('Balance ~ Income + Limit + Cards + Student + Rating', df)\n",
    "model_4 = model_4.fit()\n",
    "results_4 = model_4.summary()\n",
    "model_4.summary().tables[0]"
   ]
  },
  {
   "cell_type": "code",
   "execution_count": 22,
   "metadata": {
    "ExecuteTime": {
     "end_time": "2020-11-29T23:36:10.470497Z",
     "start_time": "2020-11-29T23:36:10.404163Z"
    }
   },
   "outputs": [
    {
     "name": "stdout",
     "output_type": "stream",
     "text": [
      "Considerando los criterios de AIC y BIC el modelo mejoro con respecto a los iniciales.\n"
     ]
    }
   ],
   "source": [
    "print(\"Considerando los criterios de AIC y BIC el modelo mejoro con respecto a los iniciales.\")"
   ]
  },
  {
   "cell_type": "markdown",
   "metadata": {},
   "source": [
    "### Desafio 6:\n",
    "Utilizando lmplot de seaborn , inspeccione el comportamiento de los tres principales\n",
    "determinantes."
   ]
  },
  {
   "cell_type": "code",
   "execution_count": 23,
   "metadata": {
    "ExecuteTime": {
     "end_time": "2020-11-29T23:36:11.494586Z",
     "start_time": "2020-11-29T23:36:10.479883Z"
    }
   },
   "outputs": [
    {
     "data": {
      "text/plain": [
       "<matplotlib.axes._subplots.AxesSubplot at 0x1e6bcde1c48>"
      ]
     },
     "execution_count": 23,
     "metadata": {},
     "output_type": "execute_result"
    },
    {
     "data": {
      "image/png": "[encoded data removed]",
      "text/plain": [
       "<Figure size 432x288 with 1 Axes>"
      ]
     },
     "metadata": {},
     "output_type": "display_data"
    }
   ],
   "source": [
    "sns.regplot(\"Income\", \"Balance\", data =df)"
   ]
  },
  {
   "cell_type": "code",
   "execution_count": 24,
   "metadata": {
    "ExecuteTime": {
     "end_time": "2020-11-29T23:36:12.160860Z",
     "start_time": "2020-11-29T23:36:11.501273Z"
    }
   },
   "outputs": [
    {
     "data": {
      "text/plain": [
       "<matplotlib.axes._subplots.AxesSubplot at 0x1e6bd0ade88>"
      ]
     },
     "execution_count": 24,
     "metadata": {},
     "output_type": "execute_result"
    },
    {
     "data": {
      "image/png": "[encoded data removed]",
      "text/plain": [
       "<Figure size 432x288 with 1 Axes>"
      ]
     },
     "metadata": {},
     "output_type": "display_data"
    }
   ],
   "source": [
    "sns.regplot(\"Rating\", \"Balance\", data =df)"
   ]
  },
  {
   "cell_type": "code",
   "execution_count": 25,
   "metadata": {
    "ExecuteTime": {
     "end_time": "2020-11-29T23:36:12.830068Z",
     "start_time": "2020-11-29T23:36:12.164259Z"
    }
   },
   "outputs": [
    {
     "data": {
      "text/plain": [
       "<matplotlib.axes._subplots.AxesSubplot at 0x1e6beb4da08>"
      ]
     },
     "execution_count": 25,
     "metadata": {},
     "output_type": "execute_result"
    },
    {
     "data": {
      "image/png": "[encoded data removed]",
      "text/plain": [
       "<Figure size 432x288 with 1 Axes>"
      ]
     },
     "metadata": {},
     "output_type": "display_data"
    }
   ],
   "source": [
    "sns.regplot(\"Limit\", \"Balance\", data =df)"
   ]
  },
  {
   "cell_type": "code",
   "execution_count": 26,
   "metadata": {
    "ExecuteTime": {
     "end_time": "2020-11-29T23:36:13.577504Z",
     "start_time": "2020-11-29T23:36:12.832348Z"
    }
   },
   "outputs": [
    {
     "data": {
      "text/plain": [
       "<matplotlib.axes._subplots.AxesSubplot at 0x1e6bebbf548>"
      ]
     },
     "execution_count": 26,
     "metadata": {},
     "output_type": "execute_result"
    },
    {
     "data": {
      "image/png": "[encoded data removed]",
      "text/plain": [
       "<Figure size 432x288 with 1 Axes>"
      ]
     },
     "metadata": {},
     "output_type": "display_data"
    }
   ],
   "source": [
    "sns.regplot(\"Cards\", \"Balance\", data =df)"
   ]
  }
 ],
 "metadata": {
  "kernelspec": {
   "display_name": "Python 3 (ipykernel)",
   "language": "python",
   "name": "python3"
  },
  "language_info": {
   "codemirror_mode": {
    "name": "ipython",
    "version": 3
   },
   "file_extension": ".py",
   "mimetype": "text/x-python",
   "name": "python",
   "nbconvert_exporter": "python",
   "pygments_lexer": "ipython3",
   "version": "3.9.13"
  },
  "varInspector": {
   "cols": {
    "lenName": 16,
    "lenType": 16,
    "lenVar": 40
   },
   "kernels_config": {
    "python": {
     "delete_cmd_postfix": "",
     "delete_cmd_prefix": "del ",
     "library": "var_list.py",
     "varRefreshCmd": "print(var_dic_list())"
    },
    "r": {
     "delete_cmd_postfix": ") ",
     "delete_cmd_prefix": "rm(",
     "library": "var_list.r",
     "varRefreshCmd": "cat(var_dic_list()) "
    }
   },
   "types_to_exclude": [
    "module",
    "function",
    "builtin_function_or_method",
    "instance",
    "_Feature"
   ],
   "window_display": false
  }
 },
 "nbformat": 4,
 "nbformat_minor": 4
}
