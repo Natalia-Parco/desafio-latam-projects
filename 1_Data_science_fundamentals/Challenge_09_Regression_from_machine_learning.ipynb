{
 "cells": [
  {
   "cell_type": "markdown",
   "metadata": {},
   "source": [
    "# Precio de las viviendas en Boston"
   ]
  },
  {
   "cell_type": "markdown",
   "metadata": {},
   "source": [
    "#### Desafio 1:\n",
    "\n",
    "- Importe las librerías básicas para el análisis de datos.\n",
    "- Importe el módulo linear_model , y las funciones mean_squared_error , r2_score y train_test_split .\n",
    "- Importe la base de datos boston.csv y elimine la columna Unnamed: 0 .\n",
    "- Obtenga las medidas descriptivas de la base de datos con .describe() ."
   ]
  },
  {
   "cell_type": "code",
   "execution_count": 1,
   "metadata": {
    "ExecuteTime": {
     "end_time": "2020-12-04T01:34:36.620814Z",
     "start_time": "2020-12-04T01:34:35.129783Z"
    }
   },
   "outputs": [],
   "source": [
    "import pandas as pd\n",
    "import numpy as np\n",
    "import matplotlib.pyplot as plt\n",
    "import seaborn as sns\n",
    "from sklearn.linear_model import LinearRegression\n",
    "from sklearn.model_selection import train_test_split\n",
    "from sklearn.metrics import r2_score, mean_squared_error"
   ]
  },
  {
   "cell_type": "code",
   "execution_count": 2,
   "metadata": {
    "ExecuteTime": {
     "end_time": "2020-12-04T01:34:36.632817Z",
     "start_time": "2020-12-04T01:34:36.621811Z"
    }
   },
   "outputs": [],
   "source": [
    "df = pd.read_csv(\"boston.csv\").drop(columns=[\"Unnamed: 0\"])"
   ]
  },
  {
   "cell_type": "code",
   "execution_count": 3,
   "metadata": {
    "ExecuteTime": {
     "end_time": "2020-12-04T01:34:36.800798Z",
     "start_time": "2020-12-04T01:34:36.635775Z"
    }
   },
   "outputs": [
    {
     "data": {
      "text/html": [
       "<div>\n",
       "<style scoped>\n",
       "    .dataframe tbody tr th:only-of-type {\n",
       "        vertical-align: middle;\n",
       "    }\n",
       "\n",
       "    .dataframe tbody tr th {\n",
       "        vertical-align: top;\n",
       "    }\n",
       "\n",
       "    .dataframe thead th {\n",
       "        text-align: right;\n",
       "    }\n",
       "</style>\n",
       "<table border=\"1\" class=\"dataframe\">\n",
       "  <thead>\n",
       "    <tr style=\"text-align: right;\">\n",
       "      <th></th>\n",
       "      <th>crim</th>\n",
       "      <th>zn</th>\n",
       "      <th>indus</th>\n",
       "      <th>chas</th>\n",
       "      <th>nox</th>\n",
       "      <th>rm</th>\n",
       "      <th>age</th>\n",
       "      <th>dis</th>\n",
       "      <th>rad</th>\n",
       "      <th>tax</th>\n",
       "      <th>ptratio</th>\n",
       "      <th>black</th>\n",
       "      <th>lstat</th>\n",
       "      <th>medv</th>\n",
       "    </tr>\n",
       "  </thead>\n",
       "  <tbody>\n",
       "    <tr>\n",
       "      <th>count</th>\n",
       "      <td>506.000000</td>\n",
       "      <td>506.000000</td>\n",
       "      <td>506.000000</td>\n",
       "      <td>506.000000</td>\n",
       "      <td>506.000000</td>\n",
       "      <td>506.000000</td>\n",
       "      <td>506.000000</td>\n",
       "      <td>506.000000</td>\n",
       "      <td>506.000000</td>\n",
       "      <td>506.000000</td>\n",
       "      <td>506.000000</td>\n",
       "      <td>506.000000</td>\n",
       "      <td>506.000000</td>\n",
       "      <td>506.000000</td>\n",
       "    </tr>\n",
       "    <tr>\n",
       "      <th>mean</th>\n",
       "      <td>3.613524</td>\n",
       "      <td>11.363636</td>\n",
       "      <td>11.136779</td>\n",
       "      <td>0.069170</td>\n",
       "      <td>0.554695</td>\n",
       "      <td>6.284634</td>\n",
       "      <td>68.574901</td>\n",
       "      <td>3.795043</td>\n",
       "      <td>9.549407</td>\n",
       "      <td>408.237154</td>\n",
       "      <td>18.455534</td>\n",
       "      <td>356.674032</td>\n",
       "      <td>12.653063</td>\n",
       "      <td>22.532806</td>\n",
       "    </tr>\n",
       "    <tr>\n",
       "      <th>std</th>\n",
       "      <td>8.601545</td>\n",
       "      <td>23.322453</td>\n",
       "      <td>6.860353</td>\n",
       "      <td>0.253994</td>\n",
       "      <td>0.115878</td>\n",
       "      <td>0.702617</td>\n",
       "      <td>28.148861</td>\n",
       "      <td>2.105710</td>\n",
       "      <td>8.707259</td>\n",
       "      <td>168.537116</td>\n",
       "      <td>2.164946</td>\n",
       "      <td>91.294864</td>\n",
       "      <td>7.141062</td>\n",
       "      <td>9.197104</td>\n",
       "    </tr>\n",
       "    <tr>\n",
       "      <th>min</th>\n",
       "      <td>0.006320</td>\n",
       "      <td>0.000000</td>\n",
       "      <td>0.460000</td>\n",
       "      <td>0.000000</td>\n",
       "      <td>0.385000</td>\n",
       "      <td>3.561000</td>\n",
       "      <td>2.900000</td>\n",
       "      <td>1.129600</td>\n",
       "      <td>1.000000</td>\n",
       "      <td>187.000000</td>\n",
       "      <td>12.600000</td>\n",
       "      <td>0.320000</td>\n",
       "      <td>1.730000</td>\n",
       "      <td>5.000000</td>\n",
       "    </tr>\n",
       "    <tr>\n",
       "      <th>25%</th>\n",
       "      <td>0.082045</td>\n",
       "      <td>0.000000</td>\n",
       "      <td>5.190000</td>\n",
       "      <td>0.000000</td>\n",
       "      <td>0.449000</td>\n",
       "      <td>5.885500</td>\n",
       "      <td>45.025000</td>\n",
       "      <td>2.100175</td>\n",
       "      <td>4.000000</td>\n",
       "      <td>279.000000</td>\n",
       "      <td>17.400000</td>\n",
       "      <td>375.377500</td>\n",
       "      <td>6.950000</td>\n",
       "      <td>17.025000</td>\n",
       "    </tr>\n",
       "    <tr>\n",
       "      <th>50%</th>\n",
       "      <td>0.256510</td>\n",
       "      <td>0.000000</td>\n",
       "      <td>9.690000</td>\n",
       "      <td>0.000000</td>\n",
       "      <td>0.538000</td>\n",
       "      <td>6.208500</td>\n",
       "      <td>77.500000</td>\n",
       "      <td>3.207450</td>\n",
       "      <td>5.000000</td>\n",
       "      <td>330.000000</td>\n",
       "      <td>19.050000</td>\n",
       "      <td>391.440000</td>\n",
       "      <td>11.360000</td>\n",
       "      <td>21.200000</td>\n",
       "    </tr>\n",
       "    <tr>\n",
       "      <th>75%</th>\n",
       "      <td>3.677082</td>\n",
       "      <td>12.500000</td>\n",
       "      <td>18.100000</td>\n",
       "      <td>0.000000</td>\n",
       "      <td>0.624000</td>\n",
       "      <td>6.623500</td>\n",
       "      <td>94.075000</td>\n",
       "      <td>5.188425</td>\n",
       "      <td>24.000000</td>\n",
       "      <td>666.000000</td>\n",
       "      <td>20.200000</td>\n",
       "      <td>396.225000</td>\n",
       "      <td>16.955000</td>\n",
       "      <td>25.000000</td>\n",
       "    </tr>\n",
       "    <tr>\n",
       "      <th>max</th>\n",
       "      <td>88.976200</td>\n",
       "      <td>100.000000</td>\n",
       "      <td>27.740000</td>\n",
       "      <td>1.000000</td>\n",
       "      <td>0.871000</td>\n",
       "      <td>8.780000</td>\n",
       "      <td>100.000000</td>\n",
       "      <td>12.126500</td>\n",
       "      <td>24.000000</td>\n",
       "      <td>711.000000</td>\n",
       "      <td>22.000000</td>\n",
       "      <td>396.900000</td>\n",
       "      <td>37.970000</td>\n",
       "      <td>50.000000</td>\n",
       "    </tr>\n",
       "  </tbody>\n",
       "</table>\n",
       "</div>"
      ],
      "text/plain": [
       "             crim          zn       indus        chas         nox          rm  \\\n",
       "count  506.000000  506.000000  506.000000  506.000000  506.000000  506.000000   \n",
       "mean     3.613524   11.363636   11.136779    0.069170    0.554695    6.284634   \n",
       "std      8.601545   23.322453    6.860353    0.253994    0.115878    0.702617   \n",
       "min      0.006320    0.000000    0.460000    0.000000    0.385000    3.561000   \n",
       "25%      0.082045    0.000000    5.190000    0.000000    0.449000    5.885500   \n",
       "50%      0.256510    0.000000    9.690000    0.000000    0.538000    6.208500   \n",
       "75%      3.677082   12.500000   18.100000    0.000000    0.624000    6.623500   \n",
       "max     88.976200  100.000000   27.740000    1.000000    0.871000    8.780000   \n",
       "\n",
       "              age         dis         rad         tax     ptratio       black  \\\n",
       "count  506.000000  506.000000  506.000000  506.000000  506.000000  506.000000   \n",
       "mean    68.574901    3.795043    9.549407  408.237154   18.455534  356.674032   \n",
       "std     28.148861    2.105710    8.707259  168.537116    2.164946   91.294864   \n",
       "min      2.900000    1.129600    1.000000  187.000000   12.600000    0.320000   \n",
       "25%     45.025000    2.100175    4.000000  279.000000   17.400000  375.377500   \n",
       "50%     77.500000    3.207450    5.000000  330.000000   19.050000  391.440000   \n",
       "75%     94.075000    5.188425   24.000000  666.000000   20.200000  396.225000   \n",
       "max    100.000000   12.126500   24.000000  711.000000   22.000000  396.900000   \n",
       "\n",
       "            lstat        medv  \n",
       "count  506.000000  506.000000  \n",
       "mean    12.653063   22.532806  \n",
       "std      7.141062    9.197104  \n",
       "min      1.730000    5.000000  \n",
       "25%      6.950000   17.025000  \n",
       "50%     11.360000   21.200000  \n",
       "75%     16.955000   25.000000  \n",
       "max     37.970000   50.000000  "
      ]
     },
     "execution_count": 3,
     "metadata": {},
     "output_type": "execute_result"
    }
   ],
   "source": [
    "df.describe()"
   ]
  },
  {
   "cell_type": "markdown",
   "metadata": {},
   "source": [
    "#### Desafio 2:\n",
    "- Genere conjuntos de entrenamiento y validación con train_test_split .\n",
    "- Genere segmentaciones del 33% para las muestras de validación.\n",
    "- Incluya una semilla pseudoaleatoria"
   ]
  },
  {
   "cell_type": "code",
   "execution_count": 4,
   "metadata": {
    "ExecuteTime": {
     "end_time": "2020-12-04T01:34:36.868607Z",
     "start_time": "2020-12-04T01:34:36.802824Z"
    }
   },
   "outputs": [],
   "source": [
    "df_train, df_test = train_test_split(df, test_size = .33, random_state = 2054)"
   ]
  },
  {
   "cell_type": "markdown",
   "metadata": {},
   "source": [
    "#### Desafo 3:\n",
    "- Ahora implementaremos dos versiones del modelo lineal:\n",
    "* Con intercepto y atributos normalizados.\n",
    "* Sin intercepto y atributos no normalizados."
   ]
  },
  {
   "cell_type": "code",
   "execution_count": 5,
   "metadata": {
    "ExecuteTime": {
     "end_time": "2020-12-04T01:34:36.972555Z",
     "start_time": "2020-12-04T01:34:36.869575Z"
    }
   },
   "outputs": [],
   "source": [
    "y_train = df_train['medv']"
   ]
  },
  {
   "cell_type": "code",
   "execution_count": 6,
   "metadata": {
    "ExecuteTime": {
     "end_time": "2020-12-04T01:34:37.078582Z",
     "start_time": "2020-12-04T01:34:36.975379Z"
    }
   },
   "outputs": [],
   "source": [
    "df_train = df_train.drop(columns=\"medv\")"
   ]
  },
  {
   "cell_type": "code",
   "execution_count": 7,
   "metadata": {
    "ExecuteTime": {
     "end_time": "2020-12-04T01:34:37.182163Z",
     "start_time": "2020-12-04T01:34:37.080578Z"
    }
   },
   "outputs": [],
   "source": [
    "model1 = LinearRegression(fit_intercept = True, normalize = True)  # Y = a + bX \n",
    "model2 = LinearRegression(fit_intercept = False, normalize = False) # Y = bX"
   ]
  },
  {
   "cell_type": "markdown",
   "metadata": {},
   "source": [
    "- Cada versión debe generarse en un nuevo objeto inicializado.\n",
    "- Posteriormente se deben entrenar los modelos especificando la matriz y vector de entrenamiento."
   ]
  },
  {
   "cell_type": "code",
   "execution_count": 8,
   "metadata": {
    "ExecuteTime": {
     "end_time": "2020-12-04T01:34:37.300148Z",
     "start_time": "2020-12-04T01:34:37.186998Z"
    }
   },
   "outputs": [],
   "source": [
    "model1 = model1.fit(df_train, y_train)\n",
    "model2 = model2.fit(df_train, y_train)"
   ]
  },
  {
   "cell_type": "code",
   "execution_count": 9,
   "metadata": {
    "ExecuteTime": {
     "end_time": "2020-12-04T01:34:37.395882Z",
     "start_time": "2020-12-04T01:34:37.302103Z"
    }
   },
   "outputs": [],
   "source": [
    "y_test = df_test[\"medv\"]\n",
    "df_test = df_test.drop(columns=\"medv\")"
   ]
  },
  {
   "cell_type": "markdown",
   "metadata": {},
   "source": [
    "- Con los modelos entrenados, genere una predicción de matriz de validación."
   ]
  },
  {
   "cell_type": "code",
   "execution_count": 10,
   "metadata": {
    "ExecuteTime": {
     "end_time": "2020-12-04T01:34:37.490635Z",
     "start_time": "2020-12-04T01:34:37.396849Z"
    }
   },
   "outputs": [],
   "source": [
    "# Precio de una casa \n",
    "y_hat_model1 = model1.predict(df_test)\n",
    "y_hat_model2 = model2.predict(df_test)"
   ]
  },
  {
   "cell_type": "code",
   "execution_count": 11,
   "metadata": {
    "ExecuteTime": {
     "end_time": "2020-12-04T01:34:37.582859Z",
     "start_time": "2020-12-04T01:34:37.492593Z"
    }
   },
   "outputs": [],
   "source": [
    "#Ejemplo para pasar un solo dato\n",
    "#df_test.iloc[0]\n",
    "#model1.predict([df_test.iloc[0]])"
   ]
  },
  {
   "cell_type": "markdown",
   "metadata": {},
   "source": [
    "#### Desafio 4\n",
    "- Ahora generemos una función llamada report_scores que ingrese como argumentos el vector de datos predichos y el vector de datos por validar.\n",
    "- La función debe imprimir las métricas del Error Cuadrático Promedio y R2.\n",
    "- Reporte las métricas para ambos modelos. En base a ello, seleccione el mejor modelo."
   ]
  },
  {
   "cell_type": "code",
   "execution_count": 12,
   "metadata": {
    "ExecuteTime": {
     "end_time": "2020-12-04T01:34:37.691148Z",
     "start_time": "2020-12-04T01:34:37.585760Z"
    }
   },
   "outputs": [],
   "source": [
    "def report_score(y_true, y_pred):\n",
    "    mse = mean_squared_error(y_true, y_pred)\n",
    "    r2 = r2_score(y_true, y_pred)\n",
    "    print(f\"MSE: {mse}.\\nR2: {r2}\")  "
   ]
  },
  {
   "cell_type": "code",
   "execution_count": 13,
   "metadata": {
    "ExecuteTime": {
     "end_time": "2020-12-04T01:34:37.799899Z",
     "start_time": "2020-12-04T01:34:37.697082Z"
    }
   },
   "outputs": [
    {
     "name": "stdout",
     "output_type": "stream",
     "text": [
      "MSE: 26.798263722697577.\n",
      "R2: 0.6967163657038413\n"
     ]
    }
   ],
   "source": [
    "report_score(y_test, y_hat_model1)"
   ]
  },
  {
   "cell_type": "code",
   "execution_count": 14,
   "metadata": {
    "ExecuteTime": {
     "end_time": "2020-12-04T01:34:37.926252Z",
     "start_time": "2020-12-04T01:34:37.803852Z"
    }
   },
   "outputs": [
    {
     "name": "stdout",
     "output_type": "stream",
     "text": [
      "MSE: 26.874136908111037.\n",
      "R2: 0.6958576871097379\n"
     ]
    }
   ],
   "source": [
    "report_score(y_test, y_hat_model2)"
   ]
  },
  {
   "cell_type": "markdown",
   "metadata": {},
   "source": [
    "El mejor modelo es el modelo 1 que considera el intercepto y normaliza los datos ya que el MSE es menor al del modelo 2 y posee un R cuadrado mayor, es decir, en este caso, el 69,67% de la variabilidad es explicada por el modelo"
   ]
  },
  {
   "cell_type": "markdown",
   "metadata": {},
   "source": [
    "#### Desafio 5:\n",
    "- Genere una función llamada fetch_features que ingrese como argumentos la base de datos y el nombre del vector objetivo. El nombre del vector debe ser medv por defecto\n",
    "- La función debe retornar una lista con las correlaciones entre cada atributo y el vector objetivo y su nombre.\n",
    "- Reporte brevemente cuales los 6 atributos con una mayor correlación con medv\n"
   ]
  },
  {
   "cell_type": "code",
   "execution_count": 15,
   "metadata": {
    "ExecuteTime": {
     "end_time": "2020-12-04T01:34:38.037885Z",
     "start_time": "2020-12-04T01:34:37.928205Z"
    },
    "code_folding": []
   },
   "outputs": [],
   "source": [
    "def fetch_features(df, vector_objetivo = \"medv\"):\n",
    "    columns = df.columns\n",
    "\n",
    "    attr_name = []\n",
    "    coef_pearson = []\n",
    "    abs_coef_pearson = []\n",
    "\n",
    "    for col in columns:\n",
    "        if col != vector_objetivo:\n",
    "            attr_name.append(col)\n",
    "            coef_pearson.append(df[col].corr(df[vector_objetivo]))\n",
    "            abs_coef_pearson.append(abs(df[col].corr(df[vector_objetivo])))\n",
    "\n",
    "    features = pd.DataFrame({\n",
    "            'Atributos': attr_name,\n",
    "            'Correlación':coef_pearson,\n",
    "            'abs_corr':abs_coef_pearson\n",
    "    })\n",
    "\n",
    "    df_corr = features.sort_values(by=['abs_corr'], ascending=False)\n",
    "    return df_corr"
   ]
  },
  {
   "cell_type": "code",
   "execution_count": 16,
   "metadata": {
    "ExecuteTime": {
     "end_time": "2020-12-04T01:34:38.162303Z",
     "start_time": "2020-12-04T01:34:38.038835Z"
    }
   },
   "outputs": [
    {
     "data": {
      "text/html": [
       "<div>\n",
       "<style scoped>\n",
       "    .dataframe tbody tr th:only-of-type {\n",
       "        vertical-align: middle;\n",
       "    }\n",
       "\n",
       "    .dataframe tbody tr th {\n",
       "        vertical-align: top;\n",
       "    }\n",
       "\n",
       "    .dataframe thead th {\n",
       "        text-align: right;\n",
       "    }\n",
       "</style>\n",
       "<table border=\"1\" class=\"dataframe\">\n",
       "  <thead>\n",
       "    <tr style=\"text-align: right;\">\n",
       "      <th></th>\n",
       "      <th>Atributos</th>\n",
       "      <th>Correlación</th>\n",
       "      <th>abs_corr</th>\n",
       "    </tr>\n",
       "  </thead>\n",
       "  <tbody>\n",
       "    <tr>\n",
       "      <th>12</th>\n",
       "      <td>lstat</td>\n",
       "      <td>-0.737663</td>\n",
       "      <td>0.737663</td>\n",
       "    </tr>\n",
       "    <tr>\n",
       "      <th>5</th>\n",
       "      <td>rm</td>\n",
       "      <td>0.695360</td>\n",
       "      <td>0.695360</td>\n",
       "    </tr>\n",
       "    <tr>\n",
       "      <th>10</th>\n",
       "      <td>ptratio</td>\n",
       "      <td>-0.507787</td>\n",
       "      <td>0.507787</td>\n",
       "    </tr>\n",
       "    <tr>\n",
       "      <th>2</th>\n",
       "      <td>indus</td>\n",
       "      <td>-0.483725</td>\n",
       "      <td>0.483725</td>\n",
       "    </tr>\n",
       "    <tr>\n",
       "      <th>9</th>\n",
       "      <td>tax</td>\n",
       "      <td>-0.468536</td>\n",
       "      <td>0.468536</td>\n",
       "    </tr>\n",
       "    <tr>\n",
       "      <th>4</th>\n",
       "      <td>nox</td>\n",
       "      <td>-0.427321</td>\n",
       "      <td>0.427321</td>\n",
       "    </tr>\n",
       "  </tbody>\n",
       "</table>\n",
       "</div>"
      ],
      "text/plain": [
       "   Atributos  Correlación  abs_corr\n",
       "12     lstat    -0.737663  0.737663\n",
       "5         rm     0.695360  0.695360\n",
       "10   ptratio    -0.507787  0.507787\n",
       "2      indus    -0.483725  0.483725\n",
       "9        tax    -0.468536  0.468536\n",
       "4        nox    -0.427321  0.427321"
      ]
     },
     "execution_count": 16,
     "metadata": {},
     "output_type": "execute_result"
    }
   ],
   "source": [
    "df_corr = fetch_features(df, \"medv\").head(6)\n",
    "df_corr"
   ]
  },
  {
   "cell_type": "markdown",
   "metadata": {},
   "source": [
    "#### Desafio 6\n",
    "- Genere otros conjuntos de entrenamiento y validación en base a una matriz con los 6 atributos identificados y el vector objetivo.\n",
    "- Entrene un modelo en base al mejor desempeño.\n",
    "- Reporte las métricas para el nuevo modelo."
   ]
  },
  {
   "cell_type": "code",
   "execution_count": 17,
   "metadata": {
    "ExecuteTime": {
     "end_time": "2020-12-04T01:34:38.248826Z",
     "start_time": "2020-12-04T01:34:38.163264Z"
    }
   },
   "outputs": [],
   "source": [
    "df_1 = df[[\"lstat\", \"rm\", \"ptratio\", \"indus\", \"tax\", \"nox\", \"medv\"]]"
   ]
  },
  {
   "cell_type": "code",
   "execution_count": 18,
   "metadata": {
    "ExecuteTime": {
     "end_time": "2020-12-04T01:34:38.352994Z",
     "start_time": "2020-12-04T01:34:38.250782Z"
    }
   },
   "outputs": [],
   "source": [
    "df_train, df_test = train_test_split(df_1, test_size = .33, random_state = 2054)"
   ]
  },
  {
   "cell_type": "code",
   "execution_count": 19,
   "metadata": {
    "ExecuteTime": {
     "end_time": "2020-12-04T01:34:38.457235Z",
     "start_time": "2020-12-04T01:34:38.353991Z"
    }
   },
   "outputs": [],
   "source": [
    "y_train = df_train['medv']\n",
    "df_train = df_train.drop(columns=\"medv\")"
   ]
  },
  {
   "cell_type": "code",
   "execution_count": 20,
   "metadata": {
    "ExecuteTime": {
     "end_time": "2020-12-04T01:34:38.548850Z",
     "start_time": "2020-12-04T01:34:38.458235Z"
    }
   },
   "outputs": [],
   "source": [
    "model3 = LinearRegression(fit_intercept = True, normalize = True)  # Y = a + bX \n",
    "model4 = LinearRegression(fit_intercept = False, normalize = False) # Y = bX"
   ]
  },
  {
   "cell_type": "code",
   "execution_count": 21,
   "metadata": {
    "ExecuteTime": {
     "end_time": "2020-12-04T01:34:38.663006Z",
     "start_time": "2020-12-04T01:34:38.549848Z"
    }
   },
   "outputs": [],
   "source": [
    "model3 = model3.fit(df_train, y_train)\n",
    "model4 = model4.fit(df_train, y_train)"
   ]
  },
  {
   "cell_type": "code",
   "execution_count": 22,
   "metadata": {
    "ExecuteTime": {
     "end_time": "2020-12-04T01:34:38.853523Z",
     "start_time": "2020-12-04T01:34:38.667989Z"
    }
   },
   "outputs": [],
   "source": [
    "y_test = df_test[\"medv\"]\n",
    "df_test = df_test.drop(columns=\"medv\")"
   ]
  },
  {
   "cell_type": "code",
   "execution_count": 23,
   "metadata": {
    "ExecuteTime": {
     "end_time": "2020-12-04T01:34:39.035906Z",
     "start_time": "2020-12-04T01:34:38.858474Z"
    }
   },
   "outputs": [],
   "source": [
    "y_hat_model3 = model3.predict(df_test)\n",
    "y_hat_model4 = model4.predict(df_test)"
   ]
  },
  {
   "cell_type": "code",
   "execution_count": 24,
   "metadata": {
    "ExecuteTime": {
     "end_time": "2020-12-04T01:34:39.164249Z",
     "start_time": "2020-12-04T01:34:39.043893Z"
    }
   },
   "outputs": [
    {
     "name": "stdout",
     "output_type": "stream",
     "text": [
      "MSE: 29.708910035474993.\n",
      "R2: 0.6637757468255304\n"
     ]
    }
   ],
   "source": [
    "report_score(y_test, y_hat_model3)"
   ]
  },
  {
   "cell_type": "code",
   "execution_count": 25,
   "metadata": {
    "ExecuteTime": {
     "end_time": "2020-12-04T01:34:39.265638Z",
     "start_time": "2020-12-04T01:34:39.169236Z"
    }
   },
   "outputs": [
    {
     "name": "stdout",
     "output_type": "stream",
     "text": [
      "MSE: 29.73840694602486.\n",
      "R2: 0.6634419218313202\n"
     ]
    }
   ],
   "source": [
    "report_score(y_test, y_hat_model4)"
   ]
  },
  {
   "cell_type": "markdown",
   "metadata": {},
   "source": [
    "El mejor modelo es el modelo 3 que considera el intercepto y normaliza los datos ya que el MSE es menor al del modelo 4 y posee un R cuadrado mayor."
   ]
  },
  {
   "cell_type": "markdown",
   "metadata": {},
   "source": [
    "#### Desafío 7\n",
    "A continuación se generaron dos arrays que representan el peor escenario posible\n",
    "(worst_neighbor) y el mejor escenario posible (best_neighbor).\n",
    "Ingrese los arrays en el modelo entrenado y reporte cuál sería el valor esperado dada las\n",
    "condiciones."
   ]
  },
  {
   "cell_type": "code",
   "execution_count": 26,
   "metadata": {
    "ExecuteTime": {
     "end_time": "2020-12-04T01:34:39.376589Z",
     "start_time": "2020-12-04T01:34:39.266604Z"
    }
   },
   "outputs": [
    {
     "name": "stdout",
     "output_type": "stream",
     "text": [
      "lstat\n",
      "rm\n",
      "ptratio\n",
      "indus\n",
      "tax\n",
      "nox\n"
     ]
    }
   ],
   "source": [
    "lista_mejor = []\n",
    "for i in df_corr.sort_values(by=\"abs_corr\",ascending= False)[:6][\"Atributos\"].values:\n",
    "    print(i)\n",
    "    if df_corr[df_corr[\"Atributos\"]==i][\"Correlación\"].iloc[0]>0:\n",
    "        lista_mejor.append({\"Atributos\": i ,\"valor\": df[i].max() })\n",
    "    else:\n",
    "        lista_mejor.append({\"Atributos\": i ,\"valor\": df[i].min() })"
   ]
  },
  {
   "cell_type": "code",
   "execution_count": 27,
   "metadata": {
    "ExecuteTime": {
     "end_time": "2020-12-04T01:34:39.489286Z",
     "start_time": "2020-12-04T01:34:39.378564Z"
    }
   },
   "outputs": [
    {
     "name": "stdout",
     "output_type": "stream",
     "text": [
      "lstat\n",
      "rm\n",
      "ptratio\n",
      "indus\n",
      "tax\n",
      "nox\n"
     ]
    }
   ],
   "source": [
    "lista_peor = []\n",
    "for i in df_corr.sort_values(by=\"abs_corr\",ascending= False)[:6][\"Atributos\"].values:\n",
    "    print(i)\n",
    "    if df_corr[df_corr[\"Atributos\"]==i][\"Correlación\"].iloc[0]>0:\n",
    "        lista_peor.append({\"Atributos\": i ,\"valor\": df[i].min() })\n",
    "    else:\n",
    "        lista_peor.append({\"Atributos\": i ,\"valor\": df[i].max() })"
   ]
  },
  {
   "cell_type": "code",
   "execution_count": 28,
   "metadata": {
    "ExecuteTime": {
     "end_time": "2020-12-04T01:34:39.723097Z",
     "start_time": "2020-12-04T01:34:39.490254Z"
    }
   },
   "outputs": [
    {
     "data": {
      "text/plain": [
       "array([-6.4726495])"
      ]
     },
     "execution_count": 28,
     "metadata": {},
     "output_type": "execute_result"
    }
   ],
   "source": [
    "model3.predict(pd.DataFrame(data = [x[\"valor\"] for x in lista_peor], index =[x[\"Atributos\"] for x in lista_peor]).T)"
   ]
  },
  {
   "cell_type": "code",
   "execution_count": 29,
   "metadata": {
    "ExecuteTime": {
     "end_time": "2020-12-04T01:34:39.858023Z",
     "start_time": "2020-12-04T01:34:39.724064Z"
    }
   },
   "outputs": [
    {
     "data": {
      "text/plain": [
       "array([43.94635396])"
      ]
     },
     "execution_count": 29,
     "metadata": {},
     "output_type": "execute_result"
    }
   ],
   "source": [
    "model3.predict(pd.DataFrame(data = [x[\"valor\"] for x in lista_mejor], index =[x[\"Atributos\"] for x in lista_mejor]).T)"
   ]
  }
 ],
 "metadata": {
  "kernelspec": {
   "display_name": "Python 3 (ipykernel)",
   "language": "python",
   "name": "python3"
  },
  "language_info": {
   "codemirror_mode": {
    "name": "ipython",
    "version": 3
   },
   "file_extension": ".py",
   "mimetype": "text/x-python",
   "name": "python",
   "nbconvert_exporter": "python",
   "pygments_lexer": "ipython3",
   "version": "3.9.13"
  },
  "varInspector": {
   "cols": {
    "lenName": 16,
    "lenType": 16,
    "lenVar": 40
   },
   "kernels_config": {
    "python": {
     "delete_cmd_postfix": "",
     "delete_cmd_prefix": "del ",
     "library": "var_list.py",
     "varRefreshCmd": "print(var_dic_list())"
    },
    "r": {
     "delete_cmd_postfix": ") ",
     "delete_cmd_prefix": "rm(",
     "library": "var_list.r",
     "varRefreshCmd": "cat(var_dic_list()) "
    }
   },
   "types_to_exclude": [
    "module",
    "function",
    "builtin_function_or_method",
    "instance",
    "_Feature"
   ],
   "window_display": false
  }
 },
 "nbformat": 4,
 "nbformat_minor": 4
}
