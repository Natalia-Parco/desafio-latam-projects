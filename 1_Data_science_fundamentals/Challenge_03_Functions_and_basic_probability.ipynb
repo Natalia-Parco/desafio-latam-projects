{
 "cells": [
  {
   "cell_type": "markdown",
   "metadata": {},
   "source": [
    "## Funciones y Probabilidad Básica"
   ]
  },
  {
   "cell_type": "code",
   "execution_count": 1,
   "metadata": {
    "ExecuteTime": {
     "end_time": "2020-11-23T13:53:32.705737Z",
     "start_time": "2020-11-23T13:53:31.662963Z"
    }
   },
   "outputs": [],
   "source": [
    "import pandas as pd\n",
    "import numpy as np\n",
    "from functools import reduce"
   ]
  },
  {
   "cell_type": "code",
   "execution_count": 2,
   "metadata": {
    "ExecuteTime": {
     "end_time": "2020-11-23T13:53:32.754935Z",
     "start_time": "2020-11-23T13:53:32.707756Z"
    }
   },
   "outputs": [
    {
     "data": {
      "text/html": [
       "<div>\n",
       "<style scoped>\n",
       "    .dataframe tbody tr th:only-of-type {\n",
       "        vertical-align: middle;\n",
       "    }\n",
       "\n",
       "    .dataframe tbody tr th {\n",
       "        vertical-align: top;\n",
       "    }\n",
       "\n",
       "    .dataframe thead th {\n",
       "        text-align: right;\n",
       "    }\n",
       "</style>\n",
       "<table border=\"1\" class=\"dataframe\">\n",
       "  <thead>\n",
       "    <tr style=\"text-align: right;\">\n",
       "      <th></th>\n",
       "      <th>team</th>\n",
       "      <th>continent</th>\n",
       "      <th>group</th>\n",
       "      <th>group_pos</th>\n",
       "      <th>cantidad_juegos</th>\n",
       "      <th>juegos_ganados</th>\n",
       "      <th>juegos_empatados</th>\n",
       "      <th>juegos_perdidos</th>\n",
       "      <th>goles_favor</th>\n",
       "      <th>goles_contra</th>\n",
       "      <th>goles_diferencia</th>\n",
       "      <th>puntos</th>\n",
       "      <th>clasificado</th>\n",
       "    </tr>\n",
       "  </thead>\n",
       "  <tbody>\n",
       "    <tr>\n",
       "      <th>0</th>\n",
       "      <td>Brazil</td>\n",
       "      <td>southamerica</td>\n",
       "      <td>A</td>\n",
       "      <td>1</td>\n",
       "      <td>3</td>\n",
       "      <td>2</td>\n",
       "      <td>1</td>\n",
       "      <td>0</td>\n",
       "      <td>7</td>\n",
       "      <td>2</td>\n",
       "      <td>5</td>\n",
       "      <td>7</td>\n",
       "      <td>1</td>\n",
       "    </tr>\n",
       "    <tr>\n",
       "      <th>1</th>\n",
       "      <td>Mexico</td>\n",
       "      <td>northamerica</td>\n",
       "      <td>A</td>\n",
       "      <td>2</td>\n",
       "      <td>3</td>\n",
       "      <td>2</td>\n",
       "      <td>1</td>\n",
       "      <td>0</td>\n",
       "      <td>4</td>\n",
       "      <td>1</td>\n",
       "      <td>3</td>\n",
       "      <td>7</td>\n",
       "      <td>1</td>\n",
       "    </tr>\n",
       "  </tbody>\n",
       "</table>\n",
       "</div>"
      ],
      "text/plain": [
       "     team     continent group  group_pos  cantidad_juegos  juegos_ganados  \\\n",
       "0  Brazil  southamerica     A          1                3               2   \n",
       "1  Mexico  northamerica     A          2                3               2   \n",
       "\n",
       "   juegos_empatados  juegos_perdidos  goles_favor  goles_contra  \\\n",
       "0                 1                0            7             2   \n",
       "1                 1                0            4             1   \n",
       "\n",
       "  goles_diferencia  puntos  clasificado  \n",
       "0                5       7            1  \n",
       "1                3       7            1  "
      ]
     },
     "execution_count": 2,
     "metadata": {},
     "output_type": "execute_result"
    }
   ],
   "source": [
    "df = pd.read_csv(\"worldcup2014.csv\")\n",
    "df.head(2)"
   ]
  },
  {
   "cell_type": "markdown",
   "metadata": {},
   "source": [
    "#### Desafío 1:\n",
    "Genere funciones para calcular la media y varianza de un vector, cumpliendo con los siguientes requistos: \n",
    "- Ambas funciones deben ingresar un argumento x.\n",
    "- Las funciones deben contener docstrings con la documentación asociada a la variable.\n",
    "- Deben retornar el resultado (tip: utilice return ).\n",
    "- La función de la varianza debe llamar a la función de la media. "
   ]
  },
  {
   "cell_type": "code",
   "execution_count": 3,
   "metadata": {
    "ExecuteTime": {
     "end_time": "2020-11-23T13:53:33.585182Z",
     "start_time": "2020-11-23T13:53:32.759308Z"
    },
    "code_folding": []
   },
   "outputs": [],
   "source": [
    "def media (x):\n",
    "    \"\"\" Esta función calcula la media de un conjunto de datos.\n",
    "    Args: Conjunto de datos sobre el cual calcularemos la media\n",
    "        x(pd.Series)\n",
    "    Returs:\n",
    "        (float): Valor de la media\n",
    "    \"\"\"\n",
    "    return reduce (lambda x, y: x + y, x / len(x))\n",
    "\n",
    "\n",
    "def varianza(x):\n",
    "    \"\"\" Esta función calcula la varianza de un conjunto de datos.\n",
    "    Args: Conjunto de datos sobre el cual calcularemos la varianza\n",
    "        x(pd.Series)\n",
    "    Returs:\n",
    "        (float): Valor de la varianza\n",
    "    \"\"\"\n",
    "    me = media(x)\n",
    "    x_menos_la_media = x - me\n",
    "    x_mlm_al_cuadrado = np.power(x_menos_la_media, 2)\n",
    "    sumat = reduce(lambda x,y: x + y, x_mlm_al_cuadrado)\n",
    "    \n",
    "    return round((sumat / (len(x) - 1)),2)"
   ]
  },
  {
   "cell_type": "markdown",
   "metadata": {},
   "source": [
    "Utilice las funciones para reportar la información sobre goles_favor, goles_contra, puntos ."
   ]
  },
  {
   "cell_type": "code",
   "execution_count": 4,
   "metadata": {
    "ExecuteTime": {
     "end_time": "2020-11-23T13:53:33.758801Z",
     "start_time": "2020-11-23T13:53:33.587175Z"
    }
   },
   "outputs": [
    {
     "name": "stdout",
     "output_type": "stream",
     "text": [
      "La media de goles_favor es: 4.25\n",
      "La varianza de goles_favor es: 5.35\n",
      "\n",
      "La media de goles_contra es: 4.25\n",
      "La varianza de goles_contra es: 4.97\n",
      "\n",
      "La media de puntos es: 4.21875\n",
      "La varianza de puntos es: 8.31\n",
      "\n"
     ]
    }
   ],
   "source": [
    "lista = [\"goles_favor\", \"goles_contra\", \"puntos\"]\n",
    "for i in lista:\n",
    "    print(f\"La media de {i} es: {media(df[i])}\")\n",
    "    print(f\"La varianza de {i} es: {varianza(df[i])}\\n\")"
   ]
  },
  {
   "cell_type": "markdown",
   "metadata": {},
   "source": [
    "#### Desafío 2:\n",
    "A continuación se presenta el siguiente código para obtener la media y varianza de una variable para distintos continentes"
   ]
  },
  {
   "cell_type": "code",
   "execution_count": 5,
   "metadata": {
    "ExecuteTime": {
     "end_time": "2020-11-23T13:53:33.862417Z",
     "start_time": "2020-11-23T13:53:33.758801Z"
    }
   },
   "outputs": [],
   "source": [
    "# continent = []\n",
    "# store_mean = []\n",
    "# store_std = []\n",
    " \n",
    "# for d in [africa_df, europe_df, asia_df, northamerica_df, southamerica_df]:\n",
    "#     continent.append(d.iloc[0,1])\n",
    "#     store_mean.append(media(d['goles_favor']))\n",
    "#     store_std.append(varianza(d['goles_favor']))\n",
    "# tmp = pd.DataFrame({'continente': continent,\n",
    "#                         'media_goles': store_mean,\n",
    "#                         'std_goles': store_std})\n",
    " \n",
    "# tmp"
   ]
  },
  {
   "cell_type": "markdown",
   "metadata": {},
   "source": [
    "- En base a la información disponible, genere una función con los argumentos group_by y var para ingresar una lista de submuestras y una variable a analizar, respectivamente.\n",
    "- La función debe retornar un DataFrame.\n",
    "- Implemente la función para extraer la información sobre la cantidad de goles a favor, en contra y la cantidad de puntos. \n",
    "- Reporte en qué continente se encuentra la mayor cantidad de goles a favor, en contra y cantidad de puntos."
   ]
  },
  {
   "cell_type": "code",
   "execution_count": 6,
   "metadata": {
    "ExecuteTime": {
     "end_time": "2020-11-23T13:53:33.998691Z",
     "start_time": "2020-11-23T13:53:33.863290Z"
    }
   },
   "outputs": [],
   "source": [
    "dicc = {}\n",
    "for cont in df[\"continent\"].unique():\n",
    "    dicc[cont] = df[df[\"continent\"] == cont]"
   ]
  },
  {
   "cell_type": "code",
   "execution_count": 7,
   "metadata": {
    "ExecuteTime": {
     "end_time": "2020-11-23T13:53:34.136107Z",
     "start_time": "2020-11-23T13:53:34.004337Z"
    },
    "code_folding": [
     0
    ]
   },
   "outputs": [],
   "source": [
    "def por_continentes(var,group_by):\n",
    "    total_gf = []\n",
    "    media_gf = []\n",
    "    varianza_gf = []\n",
    "    continentes = []\n",
    "    \n",
    "    for cont, df_c in group_by.items():\n",
    "        \n",
    "        continentes.append(cont)\n",
    "        varianza_gf.append(varianza(df_c[var]))\n",
    "        media_gf.append(media(df_c[var]))\n",
    "        total_gf.append(sum(df_c[var]))\n",
    "  \n",
    "\n",
    "    tmp = pd.DataFrame({\"continentes\": continentes,\n",
    "                        \"Total\": total_gf,\n",
    "                        \"media\": media_gf,\n",
    "                        \"varianza\": varianza_gf\n",
    "                       })  \n",
    "    return  tmp"
   ]
  },
  {
   "cell_type": "code",
   "execution_count": 8,
   "metadata": {
    "ExecuteTime": {
     "end_time": "2020-11-23T13:53:34.390163Z",
     "start_time": "2020-11-23T13:53:34.146505Z"
    }
   },
   "outputs": [
    {
     "name": "stdout",
     "output_type": "stream",
     "text": [
      "Variable: GOLES_FAVOR\n"
     ]
    },
    {
     "data": {
      "text/html": [
       "<div>\n",
       "<style scoped>\n",
       "    .dataframe tbody tr th:only-of-type {\n",
       "        vertical-align: middle;\n",
       "    }\n",
       "\n",
       "    .dataframe tbody tr th {\n",
       "        vertical-align: top;\n",
       "    }\n",
       "\n",
       "    .dataframe thead th {\n",
       "        text-align: right;\n",
       "    }\n",
       "</style>\n",
       "<table border=\"1\" class=\"dataframe\">\n",
       "  <thead>\n",
       "    <tr style=\"text-align: right;\">\n",
       "      <th></th>\n",
       "      <th>continentes</th>\n",
       "      <th>Total</th>\n",
       "      <th>media</th>\n",
       "      <th>varianza</th>\n",
       "    </tr>\n",
       "  </thead>\n",
       "  <tbody>\n",
       "    <tr>\n",
       "      <th>0</th>\n",
       "      <td>southamerica</td>\n",
       "      <td>34</td>\n",
       "      <td>5.666667</td>\n",
       "      <td>4.67</td>\n",
       "    </tr>\n",
       "    <tr>\n",
       "      <th>1</th>\n",
       "      <td>northamerica</td>\n",
       "      <td>13</td>\n",
       "      <td>3.250000</td>\n",
       "      <td>2.25</td>\n",
       "    </tr>\n",
       "    <tr>\n",
       "      <th>2</th>\n",
       "      <td>europe</td>\n",
       "      <td>62</td>\n",
       "      <td>4.769231</td>\n",
       "      <td>6.86</td>\n",
       "    </tr>\n",
       "    <tr>\n",
       "      <th>3</th>\n",
       "      <td>africa</td>\n",
       "      <td>18</td>\n",
       "      <td>3.600000</td>\n",
       "      <td>3.30</td>\n",
       "    </tr>\n",
       "    <tr>\n",
       "      <th>4</th>\n",
       "      <td>asia</td>\n",
       "      <td>9</td>\n",
       "      <td>2.250000</td>\n",
       "      <td>0.92</td>\n",
       "    </tr>\n",
       "  </tbody>\n",
       "</table>\n",
       "</div>"
      ],
      "text/plain": [
       "    continentes  Total     media  varianza\n",
       "0  southamerica     34  5.666667      4.67\n",
       "1  northamerica     13  3.250000      2.25\n",
       "2        europe     62  4.769231      6.86\n",
       "3        africa     18  3.600000      3.30\n",
       "4          asia      9  2.250000      0.92"
      ]
     },
     "metadata": {},
     "output_type": "display_data"
    },
    {
     "name": "stdout",
     "output_type": "stream",
     "text": [
      "La mayor cantidad de goles_favor son 62\n",
      "\n",
      "\n",
      "Variable: GOLES_CONTRA\n"
     ]
    },
    {
     "data": {
      "text/html": [
       "<div>\n",
       "<style scoped>\n",
       "    .dataframe tbody tr th:only-of-type {\n",
       "        vertical-align: middle;\n",
       "    }\n",
       "\n",
       "    .dataframe tbody tr th {\n",
       "        vertical-align: top;\n",
       "    }\n",
       "\n",
       "    .dataframe thead th {\n",
       "        text-align: right;\n",
       "    }\n",
       "</style>\n",
       "<table border=\"1\" class=\"dataframe\">\n",
       "  <thead>\n",
       "    <tr style=\"text-align: right;\">\n",
       "      <th></th>\n",
       "      <th>continentes</th>\n",
       "      <th>Total</th>\n",
       "      <th>media</th>\n",
       "      <th>varianza</th>\n",
       "    </tr>\n",
       "  </thead>\n",
       "  <tbody>\n",
       "    <tr>\n",
       "      <th>0</th>\n",
       "      <td>southamerica</td>\n",
       "      <td>17</td>\n",
       "      <td>2.833333</td>\n",
       "      <td>0.57</td>\n",
       "    </tr>\n",
       "    <tr>\n",
       "      <th>1</th>\n",
       "      <td>northamerica</td>\n",
       "      <td>14</td>\n",
       "      <td>3.500000</td>\n",
       "      <td>11.00</td>\n",
       "    </tr>\n",
       "    <tr>\n",
       "      <th>2</th>\n",
       "      <td>europe</td>\n",
       "      <td>52</td>\n",
       "      <td>4.000000</td>\n",
       "      <td>3.83</td>\n",
       "    </tr>\n",
       "    <tr>\n",
       "      <th>3</th>\n",
       "      <td>africa</td>\n",
       "      <td>28</td>\n",
       "      <td>5.600000</td>\n",
       "      <td>4.80</td>\n",
       "    </tr>\n",
       "    <tr>\n",
       "      <th>4</th>\n",
       "      <td>asia</td>\n",
       "      <td>25</td>\n",
       "      <td>6.250000</td>\n",
       "      <td>4.25</td>\n",
       "    </tr>\n",
       "  </tbody>\n",
       "</table>\n",
       "</div>"
      ],
      "text/plain": [
       "    continentes  Total     media  varianza\n",
       "0  southamerica     17  2.833333      0.57\n",
       "1  northamerica     14  3.500000     11.00\n",
       "2        europe     52  4.000000      3.83\n",
       "3        africa     28  5.600000      4.80\n",
       "4          asia     25  6.250000      4.25"
      ]
     },
     "metadata": {},
     "output_type": "display_data"
    },
    {
     "name": "stdout",
     "output_type": "stream",
     "text": [
      "La mayor cantidad de goles_contra son 52\n",
      "\n",
      "\n",
      "Variable: PUNTOS\n"
     ]
    },
    {
     "data": {
      "text/html": [
       "<div>\n",
       "<style scoped>\n",
       "    .dataframe tbody tr th:only-of-type {\n",
       "        vertical-align: middle;\n",
       "    }\n",
       "\n",
       "    .dataframe tbody tr th {\n",
       "        vertical-align: top;\n",
       "    }\n",
       "\n",
       "    .dataframe thead th {\n",
       "        text-align: right;\n",
       "    }\n",
       "</style>\n",
       "<table border=\"1\" class=\"dataframe\">\n",
       "  <thead>\n",
       "    <tr style=\"text-align: right;\">\n",
       "      <th></th>\n",
       "      <th>continentes</th>\n",
       "      <th>Total</th>\n",
       "      <th>media</th>\n",
       "      <th>varianza</th>\n",
       "    </tr>\n",
       "  </thead>\n",
       "  <tbody>\n",
       "    <tr>\n",
       "      <th>0</th>\n",
       "      <td>southamerica</td>\n",
       "      <td>41</td>\n",
       "      <td>6.833333</td>\n",
       "      <td>3.77</td>\n",
       "    </tr>\n",
       "    <tr>\n",
       "      <th>1</th>\n",
       "      <td>northamerica</td>\n",
       "      <td>18</td>\n",
       "      <td>4.500000</td>\n",
       "      <td>11.00</td>\n",
       "    </tr>\n",
       "    <tr>\n",
       "      <th>2</th>\n",
       "      <td>europe</td>\n",
       "      <td>61</td>\n",
       "      <td>4.692308</td>\n",
       "      <td>6.90</td>\n",
       "    </tr>\n",
       "    <tr>\n",
       "      <th>3</th>\n",
       "      <td>africa</td>\n",
       "      <td>12</td>\n",
       "      <td>2.400000</td>\n",
       "      <td>3.30</td>\n",
       "    </tr>\n",
       "    <tr>\n",
       "      <th>4</th>\n",
       "      <td>asia</td>\n",
       "      <td>3</td>\n",
       "      <td>0.750000</td>\n",
       "      <td>0.25</td>\n",
       "    </tr>\n",
       "  </tbody>\n",
       "</table>\n",
       "</div>"
      ],
      "text/plain": [
       "    continentes  Total     media  varianza\n",
       "0  southamerica     41  6.833333      3.77\n",
       "1  northamerica     18  4.500000     11.00\n",
       "2        europe     61  4.692308      6.90\n",
       "3        africa     12  2.400000      3.30\n",
       "4          asia      3  0.750000      0.25"
      ]
     },
     "metadata": {},
     "output_type": "display_data"
    },
    {
     "name": "stdout",
     "output_type": "stream",
     "text": [
      "La mayor cantidad de puntos son 61\n",
      "\n",
      "\n"
     ]
    }
   ],
   "source": [
    "for i in lista:\n",
    "    print(f\"Variable: {i.upper()}\")\n",
    "    display(por_continentes(i, dicc))\n",
    "    maximo = por_continentes(i,dicc)[[\"Total\"]].max()\n",
    "    print(f\"La mayor cantidad de {i} son {maximo[0]}\\n\\n\")   "
   ]
  },
  {
   "cell_type": "code",
   "execution_count": 9,
   "metadata": {
    "ExecuteTime": {
     "end_time": "2020-11-23T13:53:34.471257Z",
     "start_time": "2020-11-23T13:53:34.393414Z"
    }
   },
   "outputs": [],
   "source": [
    "# def agrup(groupby, var, df):\n",
    "#     return df.groupby(\"continent\")[\"goles_a favor\"]"
   ]
  },
  {
   "cell_type": "markdown",
   "metadata": {},
   "source": [
    "#### Desafío 3:\n",
    "Genere una función generate_pet que devuelva de forma aleatoria un string 'perro' o 'gato'.\n",
    "\n",
    "Ejecútela un par de veces.\n",
    "\n",
    "\n",
    "tip: Puede utilizar la función np.random.choice para retornar elementos al azar."
   ]
  },
  {
   "cell_type": "code",
   "execution_count": 10,
   "metadata": {
    "ExecuteTime": {
     "end_time": "2020-11-23T13:53:34.845525Z",
     "start_time": "2020-11-23T13:53:34.474611Z"
    }
   },
   "outputs": [],
   "source": [
    "def generate_pet():\n",
    "    return np.random.choice([\"perro\",\"gato\"], p =[.7,.3])"
   ]
  },
  {
   "cell_type": "code",
   "execution_count": 11,
   "metadata": {
    "ExecuteTime": {
     "end_time": "2020-11-23T13:53:35.079436Z",
     "start_time": "2020-11-23T13:53:34.845525Z"
    }
   },
   "outputs": [
    {
     "data": {
      "text/plain": [
       "'perro'"
      ]
     },
     "execution_count": 11,
     "metadata": {},
     "output_type": "execute_result"
    }
   ],
   "source": [
    "generate_pet()"
   ]
  },
  {
   "cell_type": "markdown",
   "metadata": {},
   "source": [
    "Aplique la función generate_pet 20 veces mediante un loop y guarde los resultados en una lista.\n",
    "\n",
    "tip: Puede generar una lista vacía con [ ] y asignarla a un objeto.\n",
    "\n",
    "Puede añadir elementos a la lista con .append."
   ]
  },
  {
   "cell_type": "code",
   "execution_count": 12,
   "metadata": {
    "ExecuteTime": {
     "end_time": "2020-11-23T13:53:35.246493Z",
     "start_time": "2020-11-23T13:53:35.080436Z"
    }
   },
   "outputs": [
    {
     "data": {
      "text/plain": [
       "['gato',\n",
       " 'gato',\n",
       " 'perro',\n",
       " 'perro',\n",
       " 'perro',\n",
       " 'perro',\n",
       " 'perro',\n",
       " 'gato',\n",
       " 'perro',\n",
       " 'gato',\n",
       " 'perro',\n",
       " 'perro',\n",
       " 'perro',\n",
       " 'perro',\n",
       " 'perro',\n",
       " 'gato',\n",
       " 'perro',\n",
       " 'gato',\n",
       " 'perro',\n",
       " 'perro']"
      ]
     },
     "execution_count": 12,
     "metadata": {},
     "output_type": "execute_result"
    }
   ],
   "source": [
    "# # El \"_\" me dice que el \"i\" no me interesa\n",
    "# mascotas = []\n",
    "# for i in range(20):\n",
    "#     mascotas.append(generate_pet())\n",
    "mascotas = [generate_pet() for _ in range(20)]\n",
    "mascotas"
   ]
  },
  {
   "cell_type": "markdown",
   "metadata": {},
   "source": [
    "¿Cuál es la probabilidad de elegir un perro al azar? ¿Y un gato?"
   ]
  },
  {
   "cell_type": "code",
   "execution_count": 13,
   "metadata": {
    "ExecuteTime": {
     "end_time": "2020-11-23T13:53:35.380970Z",
     "start_time": "2020-11-23T13:53:35.248166Z"
    }
   },
   "outputs": [
    {
     "data": {
      "text/plain": [
       "perro    0.7\n",
       "gato     0.3\n",
       "dtype: float64"
      ]
     },
     "execution_count": 13,
     "metadata": {},
     "output_type": "execute_result"
    }
   ],
   "source": [
    "prob = pd.Series(mascotas).value_counts(\"%\")\n",
    "prob"
   ]
  },
  {
   "cell_type": "code",
   "execution_count": 14,
   "metadata": {
    "ExecuteTime": {
     "end_time": "2020-11-23T13:53:35.506992Z",
     "start_time": "2020-11-23T13:53:35.381968Z"
    }
   },
   "outputs": [
    {
     "name": "stdout",
     "output_type": "stream",
     "text": [
      "La probabilidad de elegir un perro al azar es de 0.7 y de elegir un gato es 0.3\n"
     ]
    }
   ],
   "source": [
    "print(f\"La probabilidad de elegir un {prob.index[0]} al azar es de {prob[0]} y de elegir un {prob.index[1]} es {prob[1]}\")"
   ]
  },
  {
   "cell_type": "markdown",
   "metadata": {
    "ExecuteTime": {
     "end_time": "2020-11-08T17:31:22.137202Z",
     "start_time": "2020-11-08T17:31:22.130221Z"
    }
   },
   "source": [
    "Agrege np.random.seed(2) al inicio. ¿Qué hace éste método en la simulación?"
   ]
  },
  {
   "cell_type": "code",
   "execution_count": 15,
   "metadata": {
    "ExecuteTime": {
     "end_time": "2020-11-23T13:53:35.655603Z",
     "start_time": "2020-11-23T13:53:35.511319Z"
    }
   },
   "outputs": [
    {
     "name": "stdout",
     "output_type": "stream",
     "text": [
      "seed - Es una semilla que suaviza la aleatoriedad. Fija lo aleatorio\n"
     ]
    },
    {
     "data": {
      "text/plain": [
       "['perro',\n",
       " 'perro',\n",
       " 'perro',\n",
       " 'perro',\n",
       " 'perro',\n",
       " 'perro',\n",
       " 'perro',\n",
       " 'perro',\n",
       " 'perro',\n",
       " 'perro',\n",
       " 'perro',\n",
       " 'perro',\n",
       " 'perro',\n",
       " 'perro',\n",
       " 'perro',\n",
       " 'gato',\n",
       " 'gato',\n",
       " 'perro',\n",
       " 'gato',\n",
       " 'perro']"
      ]
     },
     "execution_count": 15,
     "metadata": {},
     "output_type": "execute_result"
    }
   ],
   "source": [
    "print(\"seed - Es una semilla que suaviza la aleatoriedad. Fija lo aleatorio\")\n",
    "np.random.seed(2)\n",
    "mascotas = [generate_pet() for _ in range(20)]\n",
    "mascotas"
   ]
  },
  {
   "cell_type": "markdown",
   "metadata": {},
   "source": [
    "#### Desafio 4;\n",
    "Genere un método llamado simulate_pets_prob que tome como argumento un número finito de simulaciones a generar. El método debe simular dos situaciones young_pet y old_pet , y contar la ocurrencia de los siguientes casos:\n",
    "\n",
    "De los dos animales simulados:\n",
    "- contar las ocasiones donde por lo menos uno de los animales sea **un perro**.\n",
    "- contar las ocasiones donde por lo menos uno sea **un perro viejo.**\n",
    "- contar las ocasiones donde los **dos sean perros**\n",
    "\n",
    "El método debe tener una semilla pseudoaleatoria de 1. \n",
    "\n",
    "De los tres escenarios, ¿Cuál es el menos probable? ¿Cuál es el más probable?"
   ]
  },
  {
   "cell_type": "code",
   "execution_count": 16,
   "metadata": {
    "ExecuteTime": {
     "end_time": "2020-11-23T13:53:35.774001Z",
     "start_time": "2020-11-23T13:53:35.661100Z"
    },
    "code_folding": []
   },
   "outputs": [],
   "source": [
    "def simulate(cantidad):\n",
    "    np.random.seed(1)\n",
    "    al_menos_un_perro=0\n",
    "    perro_viejo= 0\n",
    "    perro_perro = 0\n",
    "    for i in range(cantidad):\n",
    "        young_pet = generate_pet()\n",
    "        old_pet = generate_pet()\n",
    "        \n",
    "        if young_pet==\"perro\" or old_pet == \"perro\":\n",
    "            al_menos_un_perro += 1\n",
    "        if  old_pet == \"perro\":\n",
    "            perro_viejo += 1  \n",
    "        if young_pet==\"perro\" and old_pet == \"perro\":\n",
    "            perro_perro += 1\n",
    "    \n",
    "    print(f\"{al_menos_un_perro} veces salió al menos un perro.\")\n",
    "    print(f\"{perro_viejo} veces salió un perro viejo.\") \n",
    "    print(f\"{perro_perro} veces se dio que ambas mascotas eran perros.\")\n",
    "    \n",
    "    print(\"------------------------------------------------------\")\n",
    "    prob_al_menos_un_perro = al_menos_un_perro / cantidad\n",
    "    print(f\"La probabilidad de que salga al menos un perro es: {round(prob_al_menos_un_perro,2)}.\")\n",
    "    perro_viejo = perro_viejo / cantidad\n",
    "    print(f\"La probabilidad de que salga al menos un perro viejo es: {round(perro_viejo,2)}.\")\n",
    "    perro_perro = perro_perro / cantidad\n",
    "    print(f\"La probabilidad de que ambos sean perros es: {round(perro_perro,2)}.\")\n",
    "    print(\"------------------------------------------------------\")\n",
    "    print(\"Lo más probables es que salga un perro, seguido por un perro viejo  y, por último, lo menos probable es que salga perros en el par\")\n",
    "    "
   ]
  },
  {
   "cell_type": "code",
   "execution_count": 17,
   "metadata": {
    "ExecuteTime": {
     "end_time": "2020-11-23T13:53:36.294808Z",
     "start_time": "2020-11-23T13:53:35.779648Z"
    }
   },
   "outputs": [
    {
     "name": "stdout",
     "output_type": "stream",
     "text": [
      "1130 veces salió al menos un perro.\n",
      "850 veces salió un perro viejo.\n",
      "597 veces se dio que ambas mascotas eran perros.\n",
      "------------------------------------------------------\n",
      "La probabilidad de que salga al menos un perro es: 0.92.\n",
      "La probabilidad de que salga al menos un perro viejo es: 0.69.\n",
      "La probabilidad de que ambos sean perros es: 0.49.\n",
      "------------------------------------------------------\n",
      "Lo más probables es que salga un perro, seguido por un perro viejo  y, por último, lo menos probable es que salga perros en el par\n"
     ]
    }
   ],
   "source": [
    "simulate(1230)"
   ]
  }
 ],
 "metadata": {
  "kernelspec": {
   "display_name": "Python 3 (ipykernel)",
   "language": "python",
   "name": "python3"
  },
  "language_info": {
   "codemirror_mode": {
    "name": "ipython",
    "version": 3
   },
   "file_extension": ".py",
   "mimetype": "text/x-python",
   "name": "python",
   "nbconvert_exporter": "python",
   "pygments_lexer": "ipython3",
   "version": "3.9.13"
  },
  "varInspector": {
   "cols": {
    "lenName": 16,
    "lenType": 16,
    "lenVar": 40
   },
   "kernels_config": {
    "python": {
     "delete_cmd_postfix": "",
     "delete_cmd_prefix": "del ",
     "library": "var_list.py",
     "varRefreshCmd": "print(var_dic_list())"
    },
    "r": {
     "delete_cmd_postfix": ") ",
     "delete_cmd_prefix": "rm(",
     "library": "var_list.r",
     "varRefreshCmd": "cat(var_dic_list()) "
    }
   },
   "types_to_exclude": [
    "module",
    "function",
    "builtin_function_or_method",
    "instance",
    "_Feature"
   ],
   "window_display": false
  }
 },
 "nbformat": 4,
 "nbformat_minor": 4
}
