{
 "cells": [
  {
   "cell_type": "markdown",
   "metadata": {},
   "source": [
    "## Estimando Curvas Normales"
   ]
  },
  {
   "cell_type": "markdown",
   "metadata": {},
   "source": [
    "### Desafio 1:\n",
    "- Utilice la base de datos de un compañero creada en la sesión pasada"
   ]
  },
  {
   "cell_type": "code",
   "execution_count": 1,
   "metadata": {
    "ExecuteTime": {
     "end_time": "2020-12-07T02:42:47.640525Z",
     "start_time": "2020-12-07T02:42:45.354006Z"
    }
   },
   "outputs": [],
   "source": [
    "import pandas as pd\n",
    "import numpy as np\n",
    "import matplotlib.pyplot as plt\n",
    "\n",
    "from anc_functions import *\n",
    "from scipy import stats"
   ]
  },
  {
   "cell_type": "code",
   "execution_count": 2,
   "metadata": {
    "ExecuteTime": {
     "end_time": "2020-12-07T02:42:47.783017Z",
     "start_time": "2020-12-07T02:42:47.642225Z"
    }
   },
   "outputs": [],
   "source": [
    "df_full = pd.read_csv(\"qog_std_cs_jan18.csv\")"
   ]
  },
  {
   "cell_type": "code",
   "execution_count": 3,
   "metadata": {
    "ExecuteTime": {
     "end_time": "2020-12-07T02:42:47.805534Z",
     "start_time": "2020-12-07T02:42:47.784007Z"
    }
   },
   "outputs": [
    {
     "data": {
      "text/html": [
       "<div>\n",
       "<style scoped>\n",
       "    .dataframe tbody tr th:only-of-type {\n",
       "        vertical-align: middle;\n",
       "    }\n",
       "\n",
       "    .dataframe tbody tr th {\n",
       "        vertical-align: top;\n",
       "    }\n",
       "\n",
       "    .dataframe thead th {\n",
       "        text-align: right;\n",
       "    }\n",
       "</style>\n",
       "<table border=\"1\" class=\"dataframe\">\n",
       "  <thead>\n",
       "    <tr style=\"text-align: right;\">\n",
       "      <th></th>\n",
       "      <th>undp_hdi</th>\n",
       "      <th>ccodealp</th>\n",
       "      <th>ht_region</th>\n",
       "      <th>gle_cgdpc</th>\n",
       "      <th>imf_pop</th>\n",
       "      <th>ffp_hf</th>\n",
       "      <th>wdi_expedu</th>\n",
       "      <th>wdi_ners</th>\n",
       "    </tr>\n",
       "  </thead>\n",
       "  <tbody>\n",
       "    <tr>\n",
       "      <th>0</th>\n",
       "      <td>0.479</td>\n",
       "      <td>AFG</td>\n",
       "      <td>8</td>\n",
       "      <td>1282.6400</td>\n",
       "      <td>29.825001</td>\n",
       "      <td>8.1</td>\n",
       "      <td>3.78028</td>\n",
       "      <td>48.750320</td>\n",
       "    </tr>\n",
       "    <tr>\n",
       "      <th>1</th>\n",
       "      <td>0.762</td>\n",
       "      <td>ALB</td>\n",
       "      <td>1</td>\n",
       "      <td>8516.7002</td>\n",
       "      <td>NaN</td>\n",
       "      <td>7.1</td>\n",
       "      <td>3.53944</td>\n",
       "      <td>85.278214</td>\n",
       "    </tr>\n",
       "    <tr>\n",
       "      <th>2</th>\n",
       "      <td>0.743</td>\n",
       "      <td>DZA</td>\n",
       "      <td>3</td>\n",
       "      <td>5402.1699</td>\n",
       "      <td>39.113998</td>\n",
       "      <td>5.1</td>\n",
       "      <td>NaN</td>\n",
       "      <td>NaN</td>\n",
       "    </tr>\n",
       "    <tr>\n",
       "      <th>3</th>\n",
       "      <td>0.857</td>\n",
       "      <td>AND</td>\n",
       "      <td>5</td>\n",
       "      <td>32367.3300</td>\n",
       "      <td>NaN</td>\n",
       "      <td>NaN</td>\n",
       "      <td>2.99781</td>\n",
       "      <td>NaN</td>\n",
       "    </tr>\n",
       "    <tr>\n",
       "      <th>4</th>\n",
       "      <td>0.531</td>\n",
       "      <td>AGO</td>\n",
       "      <td>4</td>\n",
       "      <td>3771.2000</td>\n",
       "      <td>25.789000</td>\n",
       "      <td>6.0</td>\n",
       "      <td>NaN</td>\n",
       "      <td>NaN</td>\n",
       "    </tr>\n",
       "    <tr>\n",
       "      <th>...</th>\n",
       "      <td>...</td>\n",
       "      <td>...</td>\n",
       "      <td>...</td>\n",
       "      <td>...</td>\n",
       "      <td>...</td>\n",
       "      <td>...</td>\n",
       "      <td>...</td>\n",
       "      <td>...</td>\n",
       "    </tr>\n",
       "    <tr>\n",
       "      <th>189</th>\n",
       "      <td>0.697</td>\n",
       "      <td>UZB</td>\n",
       "      <td>1</td>\n",
       "      <td>7370.7202</td>\n",
       "      <td>29.746000</td>\n",
       "      <td>6.3</td>\n",
       "      <td>NaN</td>\n",
       "      <td>92.207382</td>\n",
       "    </tr>\n",
       "    <tr>\n",
       "      <th>190</th>\n",
       "      <td>0.769</td>\n",
       "      <td>VEN</td>\n",
       "      <td>2</td>\n",
       "      <td>10513.9600</td>\n",
       "      <td>NaN</td>\n",
       "      <td>5.2</td>\n",
       "      <td>NaN</td>\n",
       "      <td>74.789711</td>\n",
       "    </tr>\n",
       "    <tr>\n",
       "      <th>191</th>\n",
       "      <td>0.702</td>\n",
       "      <td>WSM</td>\n",
       "      <td>9</td>\n",
       "      <td>3167.7500</td>\n",
       "      <td>0.192000</td>\n",
       "      <td>8.9</td>\n",
       "      <td>NaN</td>\n",
       "      <td>79.545982</td>\n",
       "    </tr>\n",
       "    <tr>\n",
       "      <th>192</th>\n",
       "      <td>0.499</td>\n",
       "      <td>YEM</td>\n",
       "      <td>3</td>\n",
       "      <td>2170.9299</td>\n",
       "      <td>NaN</td>\n",
       "      <td>7.5</td>\n",
       "      <td>NaN</td>\n",
       "      <td>41.721760</td>\n",
       "    </tr>\n",
       "    <tr>\n",
       "      <th>193</th>\n",
       "      <td>0.576</td>\n",
       "      <td>ZMB</td>\n",
       "      <td>4</td>\n",
       "      <td>1916.7900</td>\n",
       "      <td>NaN</td>\n",
       "      <td>7.8</td>\n",
       "      <td>NaN</td>\n",
       "      <td>NaN</td>\n",
       "    </tr>\n",
       "  </tbody>\n",
       "</table>\n",
       "<p>194 rows × 8 columns</p>\n",
       "</div>"
      ],
      "text/plain": [
       "     undp_hdi ccodealp  ht_region   gle_cgdpc    imf_pop  ffp_hf  wdi_expedu  \\\n",
       "0       0.479      AFG          8   1282.6400  29.825001     8.1     3.78028   \n",
       "1       0.762      ALB          1   8516.7002        NaN     7.1     3.53944   \n",
       "2       0.743      DZA          3   5402.1699  39.113998     5.1         NaN   \n",
       "3       0.857      AND          5  32367.3300        NaN     NaN     2.99781   \n",
       "4       0.531      AGO          4   3771.2000  25.789000     6.0         NaN   \n",
       "..        ...      ...        ...         ...        ...     ...         ...   \n",
       "189     0.697      UZB          1   7370.7202  29.746000     6.3         NaN   \n",
       "190     0.769      VEN          2  10513.9600        NaN     5.2         NaN   \n",
       "191     0.702      WSM          9   3167.7500   0.192000     8.9         NaN   \n",
       "192     0.499      YEM          3   2170.9299        NaN     7.5         NaN   \n",
       "193     0.576      ZMB          4   1916.7900        NaN     7.8         NaN   \n",
       "\n",
       "      wdi_ners  \n",
       "0    48.750320  \n",
       "1    85.278214  \n",
       "2          NaN  \n",
       "3          NaN  \n",
       "4          NaN  \n",
       "..         ...  \n",
       "189  92.207382  \n",
       "190  74.789711  \n",
       "191  79.545982  \n",
       "192  41.721760  \n",
       "193        NaN  \n",
       "\n",
       "[194 rows x 8 columns]"
      ]
     },
     "execution_count": 3,
     "metadata": {},
     "output_type": "execute_result"
    }
   ],
   "source": [
    "df = pd.read_csv(\"subdample_sf_demo.csv\").drop(columns = [\"Unnamed: 0\"])\n",
    "df"
   ]
  },
  {
   "cell_type": "markdown",
   "metadata": {},
   "source": [
    "## Desafío 2: \n",
    "\n",
    "* Genere un archivo  ancilliary_funcs.py para guardar las funciones creadas en la sesión pasada e impórtelo.\n",
    "* Utilice las funciones creadas para inspeccionar la cantidad de casos perdidos de la muestra de su compañero."
   ]
  },
  {
   "cell_type": "code",
   "execution_count": 4,
   "metadata": {
    "ExecuteTime": {
     "end_time": "2020-12-07T02:42:47.919098Z",
     "start_time": "2020-12-07T02:42:47.806493Z"
    }
   },
   "outputs": [
    {
     "data": {
      "text/html": [
       "<div>\n",
       "<style scoped>\n",
       "    .dataframe tbody tr th:only-of-type {\n",
       "        vertical-align: middle;\n",
       "    }\n",
       "\n",
       "    .dataframe tbody tr th {\n",
       "        vertical-align: top;\n",
       "    }\n",
       "\n",
       "    .dataframe thead th {\n",
       "        text-align: right;\n",
       "    }\n",
       "</style>\n",
       "<table border=\"1\" class=\"dataframe\">\n",
       "  <thead>\n",
       "    <tr style=\"text-align: right;\">\n",
       "      <th></th>\n",
       "      <th>variable</th>\n",
       "      <th>perdidos</th>\n",
       "      <th>% de datos perdidos</th>\n",
       "    </tr>\n",
       "  </thead>\n",
       "  <tbody>\n",
       "    <tr>\n",
       "      <th>7</th>\n",
       "      <td>wdi_ners</td>\n",
       "      <td>61</td>\n",
       "      <td>0.31</td>\n",
       "    </tr>\n",
       "    <tr>\n",
       "      <th>6</th>\n",
       "      <td>wdi_expedu</td>\n",
       "      <td>54</td>\n",
       "      <td>0.28</td>\n",
       "    </tr>\n",
       "    <tr>\n",
       "      <th>4</th>\n",
       "      <td>imf_pop</td>\n",
       "      <td>49</td>\n",
       "      <td>0.25</td>\n",
       "    </tr>\n",
       "    <tr>\n",
       "      <th>5</th>\n",
       "      <td>ffp_hf</td>\n",
       "      <td>17</td>\n",
       "      <td>0.09</td>\n",
       "    </tr>\n",
       "    <tr>\n",
       "      <th>0</th>\n",
       "      <td>undp_hdi</td>\n",
       "      <td>8</td>\n",
       "      <td>0.04</td>\n",
       "    </tr>\n",
       "    <tr>\n",
       "      <th>3</th>\n",
       "      <td>gle_cgdpc</td>\n",
       "      <td>2</td>\n",
       "      <td>0.01</td>\n",
       "    </tr>\n",
       "    <tr>\n",
       "      <th>1</th>\n",
       "      <td>ccodealp</td>\n",
       "      <td>0</td>\n",
       "      <td>0.00</td>\n",
       "    </tr>\n",
       "    <tr>\n",
       "      <th>2</th>\n",
       "      <td>ht_region</td>\n",
       "      <td>0</td>\n",
       "      <td>0.00</td>\n",
       "    </tr>\n",
       "  </tbody>\n",
       "</table>\n",
       "</div>"
      ],
      "text/plain": [
       "     variable  perdidos  % de datos perdidos\n",
       "7    wdi_ners        61                 0.31\n",
       "6  wdi_expedu        54                 0.28\n",
       "4     imf_pop        49                 0.25\n",
       "5      ffp_hf        17                 0.09\n",
       "0    undp_hdi         8                 0.04\n",
       "3   gle_cgdpc         2                 0.01\n",
       "1    ccodealp         0                 0.00\n",
       "2   ht_region         0                 0.00"
      ]
     },
     "execution_count": 4,
     "metadata": {},
     "output_type": "execute_result"
    }
   ],
   "source": [
    "reporte_perdidos(df, df.columns)"
   ]
  },
  {
   "cell_type": "markdown",
   "metadata": {},
   "source": [
    "## Desafío 3: \n",
    "\n",
    "* Estime  el  puntaze  Z  para  las  10  primeras  y  últimas  observaciones  de  las  variables  con  una  menor cantidad de datos perdidos\n",
    "    - Genere una nueva columna en la tabla de datos mediante funciones vectorizadas. Recuerde que para calcular el puntaje z de una observación se utiliza la fórmula:  \n",
    "    $$ zi = \\frac {(xi - nx)}{dsx}$$\n",
    "    - Para ordenar los valores pueden utilzar la función  sort_values del  DataFrame analizado.\n",
    "    - Lean la documentación asociada al argumento  by . Para evitar conflictos en la sobreescritura\n",
    "    - Asegúrense de eliminar las observaciones que tengan valores perdidos con  dropna . Lean la documentación asociada al método  subset .\n",
    "    - Seleccionen las primeras y últimas 10 observaciones de la base reordenada. ¿Qué características en común se encuentran?"
   ]
  },
  {
   "cell_type": "code",
   "execution_count": 5,
   "metadata": {
    "ExecuteTime": {
     "end_time": "2020-12-07T02:42:48.027297Z",
     "start_time": "2020-12-07T02:42:47.921072Z"
    }
   },
   "outputs": [],
   "source": [
    "dsx = df[\"gle_cgdpc\"].std()\n",
    "nx = df[\"gle_cgdpc\"].mean()"
   ]
  },
  {
   "cell_type": "code",
   "execution_count": 6,
   "metadata": {
    "ExecuteTime": {
     "end_time": "2020-12-07T02:42:48.153981Z",
     "start_time": "2020-12-07T02:42:48.031323Z"
    }
   },
   "outputs": [],
   "source": [
    "df[\"z_gle_cgdpc\"] = (df[\"gle_cgdpc\"]- nx) /dsx"
   ]
  },
  {
   "cell_type": "code",
   "execution_count": 7,
   "metadata": {
    "ExecuteTime": {
     "end_time": "2020-12-07T02:42:48.246481Z",
     "start_time": "2020-12-07T02:42:48.154982Z"
    }
   },
   "outputs": [],
   "source": [
    "df = df.sort_values(by = \"z_gle_cgdpc\")"
   ]
  },
  {
   "cell_type": "code",
   "execution_count": 8,
   "metadata": {
    "ExecuteTime": {
     "end_time": "2020-12-07T02:42:48.348390Z",
     "start_time": "2020-12-07T02:42:48.250468Z"
    }
   },
   "outputs": [],
   "source": [
    "df = df.dropna(subset=[\"z_gle_cgdpc\"])"
   ]
  },
  {
   "cell_type": "code",
   "execution_count": 9,
   "metadata": {
    "ExecuteTime": {
     "end_time": "2020-12-07T02:42:48.471733Z",
     "start_time": "2020-12-07T02:42:48.355372Z"
    }
   },
   "outputs": [
    {
     "data": {
      "text/html": [
       "<div>\n",
       "<style scoped>\n",
       "    .dataframe tbody tr th:only-of-type {\n",
       "        vertical-align: middle;\n",
       "    }\n",
       "\n",
       "    .dataframe tbody tr th {\n",
       "        vertical-align: top;\n",
       "    }\n",
       "\n",
       "    .dataframe thead th {\n",
       "        text-align: right;\n",
       "    }\n",
       "</style>\n",
       "<table border=\"1\" class=\"dataframe\">\n",
       "  <thead>\n",
       "    <tr style=\"text-align: right;\">\n",
       "      <th></th>\n",
       "      <th>undp_hdi</th>\n",
       "      <th>ccodealp</th>\n",
       "      <th>ht_region</th>\n",
       "      <th>gle_cgdpc</th>\n",
       "      <th>imf_pop</th>\n",
       "      <th>ffp_hf</th>\n",
       "      <th>wdi_expedu</th>\n",
       "      <th>wdi_ners</th>\n",
       "      <th>z_gle_cgdpc</th>\n",
       "    </tr>\n",
       "  </thead>\n",
       "  <tbody>\n",
       "    <tr>\n",
       "      <th>41</th>\n",
       "      <td>0.425</td>\n",
       "      <td>COD</td>\n",
       "      <td>4</td>\n",
       "      <td>324.16000</td>\n",
       "      <td>NaN</td>\n",
       "      <td>7.1</td>\n",
       "      <td>2.24535</td>\n",
       "      <td>NaN</td>\n",
       "      <td>-0.778953</td>\n",
       "    </tr>\n",
       "    <tr>\n",
       "      <th>52</th>\n",
       "      <td>0.678</td>\n",
       "      <td>SLV</td>\n",
       "      <td>2</td>\n",
       "      <td>332.26999</td>\n",
       "      <td>NaN</td>\n",
       "      <td>6.9</td>\n",
       "      <td>3.44857</td>\n",
       "      <td>70.171722</td>\n",
       "      <td>-0.778500</td>\n",
       "    </tr>\n",
       "    <tr>\n",
       "      <th>97</th>\n",
       "      <td>0.427</td>\n",
       "      <td>LBR</td>\n",
       "      <td>4</td>\n",
       "      <td>488.26999</td>\n",
       "      <td>NaN</td>\n",
       "      <td>6.6</td>\n",
       "      <td>2.75756</td>\n",
       "      <td>NaN</td>\n",
       "      <td>-0.769792</td>\n",
       "    </tr>\n",
       "    <tr>\n",
       "      <th>125</th>\n",
       "      <td>0.351</td>\n",
       "      <td>NER</td>\n",
       "      <td>4</td>\n",
       "      <td>644.53998</td>\n",
       "      <td>NaN</td>\n",
       "      <td>6.9</td>\n",
       "      <td>6.70941</td>\n",
       "      <td>15.665040</td>\n",
       "      <td>-0.761070</td>\n",
       "    </tr>\n",
       "    <tr>\n",
       "      <th>26</th>\n",
       "      <td>0.406</td>\n",
       "      <td>BDI</td>\n",
       "      <td>4</td>\n",
       "      <td>663.57001</td>\n",
       "      <td>NaN</td>\n",
       "      <td>6.8</td>\n",
       "      <td>5.41642</td>\n",
       "      <td>24.948179</td>\n",
       "      <td>-0.760007</td>\n",
       "    </tr>\n",
       "    <tr>\n",
       "      <th>32</th>\n",
       "      <td>0.347</td>\n",
       "      <td>CAF</td>\n",
       "      <td>4</td>\n",
       "      <td>690.03998</td>\n",
       "      <td>NaN</td>\n",
       "      <td>6.9</td>\n",
       "      <td>1.22393</td>\n",
       "      <td>13.600750</td>\n",
       "      <td>-0.758530</td>\n",
       "    </tr>\n",
       "    <tr>\n",
       "      <th>102</th>\n",
       "      <td>0.511</td>\n",
       "      <td>MDG</td>\n",
       "      <td>4</td>\n",
       "      <td>822.62000</td>\n",
       "      <td>NaN</td>\n",
       "      <td>6.1</td>\n",
       "      <td>2.08204</td>\n",
       "      <td>31.080410</td>\n",
       "      <td>-0.751129</td>\n",
       "    </tr>\n",
       "    <tr>\n",
       "      <th>116</th>\n",
       "      <td>0.414</td>\n",
       "      <td>MOZ</td>\n",
       "      <td>4</td>\n",
       "      <td>852.39001</td>\n",
       "      <td>25.733</td>\n",
       "      <td>7.4</td>\n",
       "      <td>6.48322</td>\n",
       "      <td>19.439980</td>\n",
       "      <td>-0.749467</td>\n",
       "    </tr>\n",
       "    <tr>\n",
       "      <th>54</th>\n",
       "      <td>0.441</td>\n",
       "      <td>ETH</td>\n",
       "      <td>4</td>\n",
       "      <td>900.77002</td>\n",
       "      <td>88.347</td>\n",
       "      <td>7.0</td>\n",
       "      <td>4.50051</td>\n",
       "      <td>30.274250</td>\n",
       "      <td>-0.746767</td>\n",
       "    </tr>\n",
       "    <tr>\n",
       "      <th>103</th>\n",
       "      <td>0.473</td>\n",
       "      <td>MWI</td>\n",
       "      <td>4</td>\n",
       "      <td>938.34998</td>\n",
       "      <td>17.604</td>\n",
       "      <td>8.1</td>\n",
       "      <td>4.84254</td>\n",
       "      <td>32.942291</td>\n",
       "      <td>-0.744669</td>\n",
       "    </tr>\n",
       "  </tbody>\n",
       "</table>\n",
       "</div>"
      ],
      "text/plain": [
       "     undp_hdi ccodealp  ht_region  gle_cgdpc  imf_pop  ffp_hf  wdi_expedu  \\\n",
       "41      0.425      COD          4  324.16000      NaN     7.1     2.24535   \n",
       "52      0.678      SLV          2  332.26999      NaN     6.9     3.44857   \n",
       "97      0.427      LBR          4  488.26999      NaN     6.6     2.75756   \n",
       "125     0.351      NER          4  644.53998      NaN     6.9     6.70941   \n",
       "26      0.406      BDI          4  663.57001      NaN     6.8     5.41642   \n",
       "32      0.347      CAF          4  690.03998      NaN     6.9     1.22393   \n",
       "102     0.511      MDG          4  822.62000      NaN     6.1     2.08204   \n",
       "116     0.414      MOZ          4  852.39001   25.733     7.4     6.48322   \n",
       "54      0.441      ETH          4  900.77002   88.347     7.0     4.50051   \n",
       "103     0.473      MWI          4  938.34998   17.604     8.1     4.84254   \n",
       "\n",
       "      wdi_ners  z_gle_cgdpc  \n",
       "41         NaN    -0.778953  \n",
       "52   70.171722    -0.778500  \n",
       "97         NaN    -0.769792  \n",
       "125  15.665040    -0.761070  \n",
       "26   24.948179    -0.760007  \n",
       "32   13.600750    -0.758530  \n",
       "102  31.080410    -0.751129  \n",
       "116  19.439980    -0.749467  \n",
       "54   30.274250    -0.746767  \n",
       "103  32.942291    -0.744669  "
      ]
     },
     "execution_count": 9,
     "metadata": {},
     "output_type": "execute_result"
    }
   ],
   "source": [
    "df.head(10)"
   ]
  },
  {
   "cell_type": "code",
   "execution_count": 10,
   "metadata": {
    "ExecuteTime": {
     "end_time": "2020-12-07T02:42:48.607318Z",
     "start_time": "2020-12-07T02:42:48.473715Z"
    }
   },
   "outputs": [
    {
     "data": {
      "text/html": [
       "<div>\n",
       "<style scoped>\n",
       "    .dataframe tbody tr th:only-of-type {\n",
       "        vertical-align: middle;\n",
       "    }\n",
       "\n",
       "    .dataframe tbody tr th {\n",
       "        vertical-align: top;\n",
       "    }\n",
       "\n",
       "    .dataframe thead th {\n",
       "        text-align: right;\n",
       "    }\n",
       "</style>\n",
       "<table border=\"1\" class=\"dataframe\">\n",
       "  <thead>\n",
       "    <tr style=\"text-align: right;\">\n",
       "      <th></th>\n",
       "      <th>undp_hdi</th>\n",
       "      <th>ccodealp</th>\n",
       "      <th>ht_region</th>\n",
       "      <th>gle_cgdpc</th>\n",
       "      <th>imf_pop</th>\n",
       "      <th>ffp_hf</th>\n",
       "      <th>wdi_expedu</th>\n",
       "      <th>wdi_ners</th>\n",
       "      <th>z_gle_cgdpc</th>\n",
       "    </tr>\n",
       "  </thead>\n",
       "  <tbody>\n",
       "    <tr>\n",
       "      <th>80</th>\n",
       "      <td>0.920</td>\n",
       "      <td>IRL</td>\n",
       "      <td>5</td>\n",
       "      <td>46422.070</td>\n",
       "      <td>4.621000</td>\n",
       "      <td>2.8</td>\n",
       "      <td>5.32457</td>\n",
       "      <td>99.573357</td>\n",
       "      <td>1.794204</td>\n",
       "    </tr>\n",
       "    <tr>\n",
       "      <th>186</th>\n",
       "      <td>0.918</td>\n",
       "      <td>USA</td>\n",
       "      <td>5</td>\n",
       "      <td>47769.699</td>\n",
       "      <td>318.789001</td>\n",
       "      <td>1.5</td>\n",
       "      <td>5.38078</td>\n",
       "      <td>90.462288</td>\n",
       "      <td>1.869428</td>\n",
       "    </tr>\n",
       "    <tr>\n",
       "      <th>168</th>\n",
       "      <td>0.938</td>\n",
       "      <td>CHE</td>\n",
       "      <td>5</td>\n",
       "      <td>50454.410</td>\n",
       "      <td>8.140000</td>\n",
       "      <td>2.1</td>\n",
       "      <td>5.09608</td>\n",
       "      <td>84.246483</td>\n",
       "      <td>2.019287</td>\n",
       "    </tr>\n",
       "    <tr>\n",
       "      <th>155</th>\n",
       "      <td>0.924</td>\n",
       "      <td>SGP</td>\n",
       "      <td>7</td>\n",
       "      <td>54268.148</td>\n",
       "      <td>5.470000</td>\n",
       "      <td>3.3</td>\n",
       "      <td>2.91579</td>\n",
       "      <td>NaN</td>\n",
       "      <td>2.232168</td>\n",
       "    </tr>\n",
       "    <tr>\n",
       "      <th>127</th>\n",
       "      <td>0.948</td>\n",
       "      <td>NOR</td>\n",
       "      <td>5</td>\n",
       "      <td>57634.770</td>\n",
       "      <td>5.156000</td>\n",
       "      <td>1.6</td>\n",
       "      <td>7.37329</td>\n",
       "      <td>95.201927</td>\n",
       "      <td>2.420090</td>\n",
       "    </tr>\n",
       "    <tr>\n",
       "      <th>101</th>\n",
       "      <td>0.896</td>\n",
       "      <td>LUX</td>\n",
       "      <td>5</td>\n",
       "      <td>61404.480</td>\n",
       "      <td>0.550000</td>\n",
       "      <td>2.1</td>\n",
       "      <td>4.08388</td>\n",
       "      <td>84.603470</td>\n",
       "      <td>2.630513</td>\n",
       "    </tr>\n",
       "    <tr>\n",
       "      <th>91</th>\n",
       "      <td>0.799</td>\n",
       "      <td>KWT</td>\n",
       "      <td>3</td>\n",
       "      <td>64342.711</td>\n",
       "      <td>3.999000</td>\n",
       "      <td>3.1</td>\n",
       "      <td>NaN</td>\n",
       "      <td>83.578850</td>\n",
       "      <td>2.794524</td>\n",
       "    </tr>\n",
       "    <tr>\n",
       "      <th>99</th>\n",
       "      <td>0.911</td>\n",
       "      <td>LIE</td>\n",
       "      <td>5</td>\n",
       "      <td>102243.520</td>\n",
       "      <td>NaN</td>\n",
       "      <td>NaN</td>\n",
       "      <td>2.55604</td>\n",
       "      <td>91.538719</td>\n",
       "      <td>4.910124</td>\n",
       "    </tr>\n",
       "    <tr>\n",
       "      <th>141</th>\n",
       "      <td>0.855</td>\n",
       "      <td>QAT</td>\n",
       "      <td>3</td>\n",
       "      <td>104049.440</td>\n",
       "      <td>2.045000</td>\n",
       "      <td>3.1</td>\n",
       "      <td>3.60719</td>\n",
       "      <td>72.464622</td>\n",
       "      <td>5.010929</td>\n",
       "    </tr>\n",
       "    <tr>\n",
       "      <th>111</th>\n",
       "      <td>NaN</td>\n",
       "      <td>MCO</td>\n",
       "      <td>5</td>\n",
       "      <td>108481.130</td>\n",
       "      <td>NaN</td>\n",
       "      <td>NaN</td>\n",
       "      <td>1.02195</td>\n",
       "      <td>NaN</td>\n",
       "      <td>5.258303</td>\n",
       "    </tr>\n",
       "  </tbody>\n",
       "</table>\n",
       "</div>"
      ],
      "text/plain": [
       "     undp_hdi ccodealp  ht_region   gle_cgdpc     imf_pop  ffp_hf  wdi_expedu  \\\n",
       "80      0.920      IRL          5   46422.070    4.621000     2.8     5.32457   \n",
       "186     0.918      USA          5   47769.699  318.789001     1.5     5.38078   \n",
       "168     0.938      CHE          5   50454.410    8.140000     2.1     5.09608   \n",
       "155     0.924      SGP          7   54268.148    5.470000     3.3     2.91579   \n",
       "127     0.948      NOR          5   57634.770    5.156000     1.6     7.37329   \n",
       "101     0.896      LUX          5   61404.480    0.550000     2.1     4.08388   \n",
       "91      0.799      KWT          3   64342.711    3.999000     3.1         NaN   \n",
       "99      0.911      LIE          5  102243.520         NaN     NaN     2.55604   \n",
       "141     0.855      QAT          3  104049.440    2.045000     3.1     3.60719   \n",
       "111       NaN      MCO          5  108481.130         NaN     NaN     1.02195   \n",
       "\n",
       "      wdi_ners  z_gle_cgdpc  \n",
       "80   99.573357     1.794204  \n",
       "186  90.462288     1.869428  \n",
       "168  84.246483     2.019287  \n",
       "155        NaN     2.232168  \n",
       "127  95.201927     2.420090  \n",
       "101  84.603470     2.630513  \n",
       "91   83.578850     2.794524  \n",
       "99   91.538719     4.910124  \n",
       "141  72.464622     5.010929  \n",
       "111        NaN     5.258303  "
      ]
     },
     "execution_count": 10,
     "metadata": {},
     "output_type": "execute_result"
    }
   ],
   "source": [
    "df.tail(10)"
   ]
  },
  {
   "cell_type": "code",
   "execution_count": 11,
   "metadata": {
    "ExecuteTime": {
     "end_time": "2020-12-07T02:42:48.700587Z",
     "start_time": "2020-12-07T02:42:48.609273Z"
    }
   },
   "outputs": [],
   "source": [
    "dsx = df[\"undp_hdi\"].std()\n",
    "nx = df[\"undp_hdi\"].mean()"
   ]
  },
  {
   "cell_type": "code",
   "execution_count": 12,
   "metadata": {
    "ExecuteTime": {
     "end_time": "2020-12-07T02:42:48.806802Z",
     "start_time": "2020-12-07T02:42:48.701583Z"
    }
   },
   "outputs": [],
   "source": [
    "df[\"z_undp_hdi\"] = (df[\"undp_hdi\"]- nx) /dsx"
   ]
  },
  {
   "cell_type": "code",
   "execution_count": 13,
   "metadata": {
    "ExecuteTime": {
     "end_time": "2020-12-07T02:42:48.914805Z",
     "start_time": "2020-12-07T02:42:48.808973Z"
    }
   },
   "outputs": [],
   "source": [
    "df1 = df.sort_values(by = \"z_undp_hdi\").dropna(subset=[\"z_undp_hdi\"])"
   ]
  },
  {
   "cell_type": "code",
   "execution_count": 14,
   "metadata": {
    "ExecuteTime": {
     "end_time": "2020-12-07T02:42:49.034521Z",
     "start_time": "2020-12-07T02:42:48.916762Z"
    }
   },
   "outputs": [
    {
     "data": {
      "text/html": [
       "<div>\n",
       "<style scoped>\n",
       "    .dataframe tbody tr th:only-of-type {\n",
       "        vertical-align: middle;\n",
       "    }\n",
       "\n",
       "    .dataframe tbody tr th {\n",
       "        vertical-align: top;\n",
       "    }\n",
       "\n",
       "    .dataframe thead th {\n",
       "        text-align: right;\n",
       "    }\n",
       "</style>\n",
       "<table border=\"1\" class=\"dataframe\">\n",
       "  <thead>\n",
       "    <tr style=\"text-align: right;\">\n",
       "      <th></th>\n",
       "      <th>undp_hdi</th>\n",
       "      <th>ccodealp</th>\n",
       "      <th>ht_region</th>\n",
       "      <th>gle_cgdpc</th>\n",
       "      <th>imf_pop</th>\n",
       "      <th>ffp_hf</th>\n",
       "      <th>wdi_expedu</th>\n",
       "      <th>wdi_ners</th>\n",
       "      <th>z_gle_cgdpc</th>\n",
       "      <th>z_undp_hdi</th>\n",
       "    </tr>\n",
       "  </thead>\n",
       "  <tbody>\n",
       "    <tr>\n",
       "      <th>32</th>\n",
       "      <td>0.347</td>\n",
       "      <td>CAF</td>\n",
       "      <td>4</td>\n",
       "      <td>690.03998</td>\n",
       "      <td>NaN</td>\n",
       "      <td>6.9</td>\n",
       "      <td>1.22393</td>\n",
       "      <td>13.600750</td>\n",
       "      <td>-0.758530</td>\n",
       "      <td>-2.281653</td>\n",
       "    </tr>\n",
       "    <tr>\n",
       "      <th>125</th>\n",
       "      <td>0.351</td>\n",
       "      <td>NER</td>\n",
       "      <td>4</td>\n",
       "      <td>644.53998</td>\n",
       "      <td>NaN</td>\n",
       "      <td>6.9</td>\n",
       "      <td>6.70941</td>\n",
       "      <td>15.665040</td>\n",
       "      <td>-0.761070</td>\n",
       "      <td>-2.255682</td>\n",
       "    </tr>\n",
       "    <tr>\n",
       "      <th>34</th>\n",
       "      <td>0.394</td>\n",
       "      <td>TCD</td>\n",
       "      <td>4</td>\n",
       "      <td>1651.05000</td>\n",
       "      <td>NaN</td>\n",
       "      <td>8.6</td>\n",
       "      <td>2.84971</td>\n",
       "      <td>NaN</td>\n",
       "      <td>-0.704887</td>\n",
       "      <td>-1.976501</td>\n",
       "    </tr>\n",
       "    <tr>\n",
       "      <th>187</th>\n",
       "      <td>0.399</td>\n",
       "      <td>BFA</td>\n",
       "      <td>4</td>\n",
       "      <td>1095.96000</td>\n",
       "      <td>16.500</td>\n",
       "      <td>6.9</td>\n",
       "      <td>4.60476</td>\n",
       "      <td>26.492809</td>\n",
       "      <td>-0.735872</td>\n",
       "      <td>-1.944038</td>\n",
       "    </tr>\n",
       "    <tr>\n",
       "      <th>26</th>\n",
       "      <td>0.406</td>\n",
       "      <td>BDI</td>\n",
       "      <td>4</td>\n",
       "      <td>663.57001</td>\n",
       "      <td>NaN</td>\n",
       "      <td>6.8</td>\n",
       "      <td>5.41642</td>\n",
       "      <td>24.948179</td>\n",
       "      <td>-0.760007</td>\n",
       "      <td>-1.898590</td>\n",
       "    </tr>\n",
       "    <tr>\n",
       "      <th>70</th>\n",
       "      <td>0.414</td>\n",
       "      <td>GIN</td>\n",
       "      <td>4</td>\n",
       "      <td>993.83002</td>\n",
       "      <td>11.745</td>\n",
       "      <td>7.2</td>\n",
       "      <td>3.20817</td>\n",
       "      <td>31.788179</td>\n",
       "      <td>-0.741572</td>\n",
       "      <td>-1.846649</td>\n",
       "    </tr>\n",
       "    <tr>\n",
       "      <th>116</th>\n",
       "      <td>0.414</td>\n",
       "      <td>MOZ</td>\n",
       "      <td>4</td>\n",
       "      <td>852.39001</td>\n",
       "      <td>25.733</td>\n",
       "      <td>7.4</td>\n",
       "      <td>6.48322</td>\n",
       "      <td>19.439980</td>\n",
       "      <td>-0.749467</td>\n",
       "      <td>-1.846649</td>\n",
       "    </tr>\n",
       "    <tr>\n",
       "      <th>55</th>\n",
       "      <td>0.418</td>\n",
       "      <td>ERI</td>\n",
       "      <td>4</td>\n",
       "      <td>1007.28000</td>\n",
       "      <td>NaN</td>\n",
       "      <td>7.6</td>\n",
       "      <td>NaN</td>\n",
       "      <td>28.415560</td>\n",
       "      <td>-0.740822</td>\n",
       "      <td>-1.820678</td>\n",
       "    </tr>\n",
       "    <tr>\n",
       "      <th>139</th>\n",
       "      <td>0.421</td>\n",
       "      <td>GNB</td>\n",
       "      <td>4</td>\n",
       "      <td>961.26001</td>\n",
       "      <td>NaN</td>\n",
       "      <td>8.5</td>\n",
       "      <td>2.17313</td>\n",
       "      <td>NaN</td>\n",
       "      <td>-0.743390</td>\n",
       "      <td>-1.801201</td>\n",
       "    </tr>\n",
       "    <tr>\n",
       "      <th>41</th>\n",
       "      <td>0.425</td>\n",
       "      <td>COD</td>\n",
       "      <td>4</td>\n",
       "      <td>324.16000</td>\n",
       "      <td>NaN</td>\n",
       "      <td>7.1</td>\n",
       "      <td>2.24535</td>\n",
       "      <td>NaN</td>\n",
       "      <td>-0.778953</td>\n",
       "      <td>-1.775230</td>\n",
       "    </tr>\n",
       "  </tbody>\n",
       "</table>\n",
       "</div>"
      ],
      "text/plain": [
       "     undp_hdi ccodealp  ht_region   gle_cgdpc  imf_pop  ffp_hf  wdi_expedu  \\\n",
       "32      0.347      CAF          4   690.03998      NaN     6.9     1.22393   \n",
       "125     0.351      NER          4   644.53998      NaN     6.9     6.70941   \n",
       "34      0.394      TCD          4  1651.05000      NaN     8.6     2.84971   \n",
       "187     0.399      BFA          4  1095.96000   16.500     6.9     4.60476   \n",
       "26      0.406      BDI          4   663.57001      NaN     6.8     5.41642   \n",
       "70      0.414      GIN          4   993.83002   11.745     7.2     3.20817   \n",
       "116     0.414      MOZ          4   852.39001   25.733     7.4     6.48322   \n",
       "55      0.418      ERI          4  1007.28000      NaN     7.6         NaN   \n",
       "139     0.421      GNB          4   961.26001      NaN     8.5     2.17313   \n",
       "41      0.425      COD          4   324.16000      NaN     7.1     2.24535   \n",
       "\n",
       "      wdi_ners  z_gle_cgdpc  z_undp_hdi  \n",
       "32   13.600750    -0.758530   -2.281653  \n",
       "125  15.665040    -0.761070   -2.255682  \n",
       "34         NaN    -0.704887   -1.976501  \n",
       "187  26.492809    -0.735872   -1.944038  \n",
       "26   24.948179    -0.760007   -1.898590  \n",
       "70   31.788179    -0.741572   -1.846649  \n",
       "116  19.439980    -0.749467   -1.846649  \n",
       "55   28.415560    -0.740822   -1.820678  \n",
       "139        NaN    -0.743390   -1.801201  \n",
       "41         NaN    -0.778953   -1.775230  "
      ]
     },
     "execution_count": 14,
     "metadata": {},
     "output_type": "execute_result"
    }
   ],
   "source": [
    "df1.head(10)"
   ]
  },
  {
   "cell_type": "code",
   "execution_count": 15,
   "metadata": {
    "ExecuteTime": {
     "end_time": "2020-12-07T02:42:49.167706Z",
     "start_time": "2020-12-07T02:42:49.035518Z"
    }
   },
   "outputs": [
    {
     "data": {
      "text/html": [
       "<div>\n",
       "<style scoped>\n",
       "    .dataframe tbody tr th:only-of-type {\n",
       "        vertical-align: middle;\n",
       "    }\n",
       "\n",
       "    .dataframe tbody tr th {\n",
       "        vertical-align: top;\n",
       "    }\n",
       "\n",
       "    .dataframe thead th {\n",
       "        text-align: right;\n",
       "    }\n",
       "</style>\n",
       "<table border=\"1\" class=\"dataframe\">\n",
       "  <thead>\n",
       "    <tr style=\"text-align: right;\">\n",
       "      <th></th>\n",
       "      <th>undp_hdi</th>\n",
       "      <th>ccodealp</th>\n",
       "      <th>ht_region</th>\n",
       "      <th>gle_cgdpc</th>\n",
       "      <th>imf_pop</th>\n",
       "      <th>ffp_hf</th>\n",
       "      <th>wdi_expedu</th>\n",
       "      <th>wdi_ners</th>\n",
       "      <th>z_gle_cgdpc</th>\n",
       "      <th>z_undp_hdi</th>\n",
       "    </tr>\n",
       "  </thead>\n",
       "  <tbody>\n",
       "    <tr>\n",
       "      <th>30</th>\n",
       "      <td>0.919</td>\n",
       "      <td>CAN</td>\n",
       "      <td>5</td>\n",
       "      <td>36577.078</td>\n",
       "      <td>35.495998</td>\n",
       "      <td>2.2</td>\n",
       "      <td>5.28122</td>\n",
       "      <td>NaN</td>\n",
       "      <td>1.244663</td>\n",
       "      <td>1.432111</td>\n",
       "    </tr>\n",
       "    <tr>\n",
       "      <th>75</th>\n",
       "      <td>0.919</td>\n",
       "      <td>ISL</td>\n",
       "      <td>5</td>\n",
       "      <td>31313.609</td>\n",
       "      <td>0.329000</td>\n",
       "      <td>2.8</td>\n",
       "      <td>7.80585</td>\n",
       "      <td>87.681770</td>\n",
       "      <td>0.950859</td>\n",
       "      <td>1.432111</td>\n",
       "    </tr>\n",
       "    <tr>\n",
       "      <th>80</th>\n",
       "      <td>0.920</td>\n",
       "      <td>IRL</td>\n",
       "      <td>5</td>\n",
       "      <td>46422.070</td>\n",
       "      <td>4.621000</td>\n",
       "      <td>2.8</td>\n",
       "      <td>5.32457</td>\n",
       "      <td>99.573357</td>\n",
       "      <td>1.794204</td>\n",
       "      <td>1.438604</td>\n",
       "    </tr>\n",
       "    <tr>\n",
       "      <th>121</th>\n",
       "      <td>0.923</td>\n",
       "      <td>NLD</td>\n",
       "      <td>5</td>\n",
       "      <td>42258.352</td>\n",
       "      <td>16.865000</td>\n",
       "      <td>2.6</td>\n",
       "      <td>5.52938</td>\n",
       "      <td>93.882019</td>\n",
       "      <td>1.561788</td>\n",
       "      <td>1.458081</td>\n",
       "    </tr>\n",
       "    <tr>\n",
       "      <th>48</th>\n",
       "      <td>0.923</td>\n",
       "      <td>DNK</td>\n",
       "      <td>5</td>\n",
       "      <td>37406.762</td>\n",
       "      <td>5.627000</td>\n",
       "      <td>1.9</td>\n",
       "      <td>8.62711</td>\n",
       "      <td>89.817459</td>\n",
       "      <td>1.290975</td>\n",
       "      <td>1.458081</td>\n",
       "    </tr>\n",
       "    <tr>\n",
       "      <th>64</th>\n",
       "      <td>0.924</td>\n",
       "      <td>DEU</td>\n",
       "      <td>5</td>\n",
       "      <td>39486.699</td>\n",
       "      <td>80.983002</td>\n",
       "      <td>2.1</td>\n",
       "      <td>4.95219</td>\n",
       "      <td>NaN</td>\n",
       "      <td>1.407076</td>\n",
       "      <td>1.464574</td>\n",
       "    </tr>\n",
       "    <tr>\n",
       "      <th>155</th>\n",
       "      <td>0.924</td>\n",
       "      <td>SGP</td>\n",
       "      <td>7</td>\n",
       "      <td>54268.148</td>\n",
       "      <td>5.470000</td>\n",
       "      <td>3.3</td>\n",
       "      <td>2.91579</td>\n",
       "      <td>NaN</td>\n",
       "      <td>2.232168</td>\n",
       "      <td>1.464574</td>\n",
       "    </tr>\n",
       "    <tr>\n",
       "      <th>8</th>\n",
       "      <td>0.937</td>\n",
       "      <td>AUS</td>\n",
       "      <td>5</td>\n",
       "      <td>38611.949</td>\n",
       "      <td>23.621000</td>\n",
       "      <td>1.0</td>\n",
       "      <td>5.22534</td>\n",
       "      <td>87.572853</td>\n",
       "      <td>1.358248</td>\n",
       "      <td>1.548977</td>\n",
       "    </tr>\n",
       "    <tr>\n",
       "      <th>168</th>\n",
       "      <td>0.938</td>\n",
       "      <td>CHE</td>\n",
       "      <td>5</td>\n",
       "      <td>50454.410</td>\n",
       "      <td>8.140000</td>\n",
       "      <td>2.1</td>\n",
       "      <td>5.09608</td>\n",
       "      <td>84.246483</td>\n",
       "      <td>2.019287</td>\n",
       "      <td>1.555470</td>\n",
       "    </tr>\n",
       "    <tr>\n",
       "      <th>127</th>\n",
       "      <td>0.948</td>\n",
       "      <td>NOR</td>\n",
       "      <td>5</td>\n",
       "      <td>57634.770</td>\n",
       "      <td>5.156000</td>\n",
       "      <td>1.6</td>\n",
       "      <td>7.37329</td>\n",
       "      <td>95.201927</td>\n",
       "      <td>2.420090</td>\n",
       "      <td>1.620396</td>\n",
       "    </tr>\n",
       "  </tbody>\n",
       "</table>\n",
       "</div>"
      ],
      "text/plain": [
       "     undp_hdi ccodealp  ht_region  gle_cgdpc    imf_pop  ffp_hf  wdi_expedu  \\\n",
       "30      0.919      CAN          5  36577.078  35.495998     2.2     5.28122   \n",
       "75      0.919      ISL          5  31313.609   0.329000     2.8     7.80585   \n",
       "80      0.920      IRL          5  46422.070   4.621000     2.8     5.32457   \n",
       "121     0.923      NLD          5  42258.352  16.865000     2.6     5.52938   \n",
       "48      0.923      DNK          5  37406.762   5.627000     1.9     8.62711   \n",
       "64      0.924      DEU          5  39486.699  80.983002     2.1     4.95219   \n",
       "155     0.924      SGP          7  54268.148   5.470000     3.3     2.91579   \n",
       "8       0.937      AUS          5  38611.949  23.621000     1.0     5.22534   \n",
       "168     0.938      CHE          5  50454.410   8.140000     2.1     5.09608   \n",
       "127     0.948      NOR          5  57634.770   5.156000     1.6     7.37329   \n",
       "\n",
       "      wdi_ners  z_gle_cgdpc  z_undp_hdi  \n",
       "30         NaN     1.244663    1.432111  \n",
       "75   87.681770     0.950859    1.432111  \n",
       "80   99.573357     1.794204    1.438604  \n",
       "121  93.882019     1.561788    1.458081  \n",
       "48   89.817459     1.290975    1.458081  \n",
       "64         NaN     1.407076    1.464574  \n",
       "155        NaN     2.232168    1.464574  \n",
       "8    87.572853     1.358248    1.548977  \n",
       "168  84.246483     2.019287    1.555470  \n",
       "127  95.201927     2.420090    1.620396  "
      ]
     },
     "execution_count": 15,
     "metadata": {},
     "output_type": "execute_result"
    }
   ],
   "source": [
    "df1.tail(10)"
   ]
  },
  {
   "cell_type": "markdown",
   "metadata": {},
   "source": [
    "## Desafío 4:\n",
    "\n",
    "Estime el puntaje z de las regiones.Para  ello,  modifique la  función  para  generar  dotplots  de  la  semana  pasada,  donde  deberá  agregar una opción al argumento  statistic para calcular el puntaje z."
   ]
  },
  {
   "cell_type": "code",
   "execution_count": 16,
   "metadata": {
    "ExecuteTime": {
     "end_time": "2020-12-07T02:42:49.718808Z",
     "start_time": "2020-12-07T02:42:49.169663Z"
    }
   },
   "outputs": [
    {
     "data": {
      "image/png": "[encoded data removed]",
      "text/plain": [
       "<Figure size 1440x720 with 1 Axes>"
      ]
     },
     "metadata": {
      "needs_background": "light"
     },
     "output_type": "display_data"
    },
    {
     "data": {
      "image/png": "[encoded data removed]",
      "text/plain": [
       "<Figure size 1440x720 with 1 Axes>"
      ]
     },
     "metadata": {
      "needs_background": "light"
     },
     "output_type": "display_data"
    }
   ],
   "source": [
    "dotplot(df,\"gle_cgdpc\", \"ht_region\", use_zscore= True, global_state = True, df_completo =df_full)\n",
    "dotplot(df,\"gle_cgdpc\", \"ht_region\", statistic= \"median\", color=\"indigo\", use_zscore= True, global_state = True, df_completo =df_full)"
   ]
  },
  {
   "cell_type": "markdown",
   "metadata": {},
   "source": [
    "## Desafío 5:\n",
    "\n",
    "Genere un método que devuelva un gráfico comparando dos curvas de densidad\n",
    "\n",
    "El método debe contener los siguientes argumentos:\n",
    "* df1 : Tabla de datos 1.\n",
    "* df2 : Tabla de datos 2.\n",
    "* variable : Variable a contrastar.\n",
    "* log : Booleano. Si es True transformar la variable al logaritmo. Por defecto debe ser False."
   ]
  },
  {
   "cell_type": "code",
   "execution_count": 17,
   "metadata": {
    "ExecuteTime": {
     "end_time": "2020-12-07T02:42:49.726789Z",
     "start_time": "2020-12-07T02:42:49.719839Z"
    }
   },
   "outputs": [],
   "source": [
    "df1 = pd.read_csv(\"subdample_np_demo.csv\")\n",
    "df2 = df"
   ]
  },
  {
   "cell_type": "code",
   "execution_count": 18,
   "metadata": {
    "ExecuteTime": {
     "end_time": "2020-12-07T02:42:49.856890Z",
     "start_time": "2020-12-07T02:42:49.728785Z"
    }
   },
   "outputs": [],
   "source": [
    "def curva_densidad(df1, df2, var, log=False, puntos = 150):\n",
    "        \n",
    "    aux1 = df1[var]\n",
    "    aux2 = df2[var]\n",
    "    \n",
    "    if log is False:\n",
    "        aux1 = np.log(aux1)\n",
    "        aux2 = np.log(aux2)\n",
    "        \n",
    "        \n",
    "    mu1 = aux1.mean()\n",
    "    mu2 = aux2.mean()\n",
    "    sigma1 = aux1.std()\n",
    "    sigma2 = aux2.std()\n",
    "\n",
    "    x1 = np.linspace(aux1.min(), aux1.max(), puntos)\n",
    "    x2 = np.linspace(aux2.min(), aux2.max(), puntos)\n",
    "    \n",
    "    #pdf funcion de densidad probabilistica \n",
    "    y1 = stats.norm.pdf(x1, mu1, sigma1)\n",
    "    y2 = stats.norm.pdf(x2, mu2, sigma2)\n",
    "    \n",
    "    \n",
    "    plt.figure(figsize= (20,10))\n",
    "    plt.plot(x1,y1, label =\"DF1\")\n",
    "    plt.plot(x2,y2, label =\"DF2\")\n",
    "    plt.legend()\n",
    "    "
   ]
  },
  {
   "cell_type": "markdown",
   "metadata": {},
   "source": [
    "Grafique las  curvas  para  imf_pop ,  gle_cgdpc   y  undp_hdi . "
   ]
  },
  {
   "cell_type": "code",
   "execution_count": 19,
   "metadata": {
    "ExecuteTime": {
     "end_time": "2020-12-07T02:42:50.573048Z",
     "start_time": "2020-12-07T02:42:49.858851Z"
    },
    "scrolled": true
   },
   "outputs": [
    {
     "name": "stdout",
     "output_type": "stream",
     "text": [
      "imf_pop\n"
     ]
    },
    {
     "data": {
      "text/plain": [
       "<Figure size 1440x720 with 0 Axes>"
      ]
     },
     "metadata": {},
     "output_type": "display_data"
    },
    {
     "data": {
      "image/png": "[encoded data removed]",
      "text/plain": [
       "<Figure size 1440x720 with 1 Axes>"
      ]
     },
     "metadata": {
      "needs_background": "light"
     },
     "output_type": "display_data"
    },
    {
     "name": "stdout",
     "output_type": "stream",
     "text": [
      "gle_cgdpc\n"
     ]
    },
    {
     "data": {
      "text/plain": [
       "<Figure size 1440x720 with 0 Axes>"
      ]
     },
     "metadata": {},
     "output_type": "display_data"
    },
    {
     "data": {
      "image/png": "[encoded data removed]",
      "text/plain": [
       "<Figure size 1440x720 with 1 Axes>"
      ]
     },
     "metadata": {
      "needs_background": "light"
     },
     "output_type": "display_data"
    },
    {
     "name": "stdout",
     "output_type": "stream",
     "text": [
      "undp_hdi\n"
     ]
    },
    {
     "data": {
      "text/plain": [
       "<Figure size 1440x720 with 0 Axes>"
      ]
     },
     "metadata": {},
     "output_type": "display_data"
    },
    {
     "data": {
      "image/png": "[encoded data removed]",
      "text/plain": [
       "<Figure size 1440x720 with 1 Axes>"
      ]
     },
     "metadata": {
      "needs_background": "light"
     },
     "output_type": "display_data"
    }
   ],
   "source": [
    "for i in [\"imf_pop\", \"gle_cgdpc\", \"undp_hdi\" ]:\n",
    "    print(i)\n",
    "    plt.figure(figsize=(20, 10))\n",
    "    curva_densidad(df1, df2, i, log=True, puntos= 4000)\n",
    "    plt.show()"
   ]
  },
  {
   "cell_type": "markdown",
   "metadata": {},
   "source": [
    " ¿En  qué  casos  es  necesario utilizar logaritmos? ¿Por qué?"
   ]
  },
  {
   "cell_type": "markdown",
   "metadata": {},
   "source": [
    "Es necesario utilizar logaritmos cuando se busca una distribucion más normalizada que no tenga gran peso en las colas. Es una transformacion para quitar desvios, para balancear. \n",
    "\n",
    "Para distribuciones asimétricas positivas se usan las transformaciones √x, ln(x) y 1/x, que comprimen los valores altos y expanden los pequeños."
   ]
  },
  {
   "cell_type": "code",
   "execution_count": 20,
   "metadata": {
    "ExecuteTime": {
     "end_time": "2020-12-07T02:42:50.989966Z",
     "start_time": "2020-12-07T02:42:50.574044Z"
    }
   },
   "outputs": [
    {
     "name": "stdout",
     "output_type": "stream",
     "text": [
      "imf_pop\n"
     ]
    },
    {
     "data": {
      "text/plain": [
       "<Figure size 1440x720 with 0 Axes>"
      ]
     },
     "metadata": {},
     "output_type": "display_data"
    },
    {
     "data": {
      "image/png": "[encoded data removed]",
      "text/plain": [
       "<Figure size 1440x720 with 1 Axes>"
      ]
     },
     "metadata": {
      "needs_background": "light"
     },
     "output_type": "display_data"
    },
    {
     "name": "stdout",
     "output_type": "stream",
     "text": [
      "gle_cgdpc\n"
     ]
    },
    {
     "data": {
      "text/plain": [
       "<Figure size 1440x720 with 0 Axes>"
      ]
     },
     "metadata": {},
     "output_type": "display_data"
    },
    {
     "data": {
      "image/png": "[encoded data removed]",
      "text/plain": [
       "<Figure size 1440x720 with 1 Axes>"
      ]
     },
     "metadata": {
      "needs_background": "light"
     },
     "output_type": "display_data"
    }
   ],
   "source": [
    "for i in [\"imf_pop\", \"gle_cgdpc\"]:\n",
    "    print(i)\n",
    "    plt.figure(figsize=(20, 10))\n",
    "    curva_densidad(df1, df2, i, log=False, puntos= 4000)\n",
    "    plt.show()"
   ]
  }
 ],
 "metadata": {
  "kernelspec": {
   "display_name": "Python 3",
   "language": "python",
   "name": "python3"
  },
  "language_info": {
   "codemirror_mode": {
    "name": "ipython",
    "version": 3
   },
   "file_extension": ".py",
   "mimetype": "text/x-python",
   "name": "python",
   "nbconvert_exporter": "python",
   "pygments_lexer": "ipython3",
   "version": "3.7.6"
  },
  "varInspector": {
   "cols": {
    "lenName": 16,
    "lenType": 16,
    "lenVar": 40
   },
   "kernels_config": {
    "python": {
     "delete_cmd_postfix": "",
     "delete_cmd_prefix": "del ",
     "library": "var_list.py",
     "varRefreshCmd": "print(var_dic_list())"
    },
    "r": {
     "delete_cmd_postfix": ") ",
     "delete_cmd_prefix": "rm(",
     "library": "var_list.r",
     "varRefreshCmd": "cat(var_dic_list()) "
    }
   },
   "types_to_exclude": [
    "module",
    "function",
    "builtin_function_or_method",
    "instance",
    "_Feature"
   ],
   "window_display": false
  }
 },
 "nbformat": 4,
 "nbformat_minor": 4
}
