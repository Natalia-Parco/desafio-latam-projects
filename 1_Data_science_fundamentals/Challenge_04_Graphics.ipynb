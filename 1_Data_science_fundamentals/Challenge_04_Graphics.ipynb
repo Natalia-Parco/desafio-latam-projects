{
 "cells": [
  {
   "cell_type": "markdown",
   "metadata": {
    "ExecuteTime": {
     "end_time": "2020-11-02T23:11:33.217345Z",
     "start_time": "2020-11-02T23:11:33.200491Z"
    }
   },
   "source": [
    "<a id='contents' />\n",
    "\n",
    "## Gráficos\n",
    "\n",
    "* [Desafío 1: Genere una submuestra de casos](#desafiouno)\n",
    "* [Desafío 2: Genere una función que ingrese su objeto y devuelva](#desafiodos)\n",
    "* [Desafío 3: Genere una función que liste las observaciones perdidas de una variable](#desafiotres)\n",
    "* [Desafío 4: Grafique los histogramas](#desafiocuatro)\n",
    "* [Desafío 5: Genere una función que devuelva un dotplot](#desafiocinco)\n",
    "* [Desafío 6: Guarde la base de datos](#desafioseis)\n",
    "    "
   ]
  },
  {
   "cell_type": "code",
   "execution_count": 1,
   "metadata": {
    "ExecuteTime": {
     "end_time": "2020-11-23T22:50:21.183428Z",
     "start_time": "2020-11-23T22:50:08.604589Z"
    }
   },
   "outputs": [],
   "source": [
    "import pandas as pd\n",
    "import numpy as np\n",
    "import matplotlib.pyplot as plt\n",
    "\n",
    "plt.style.use(\"ggplot\")"
   ]
  },
  {
   "cell_type": "code",
   "execution_count": 2,
   "metadata": {
    "ExecuteTime": {
     "end_time": "2020-11-23T22:50:21.812221Z",
     "start_time": "2020-11-23T22:50:21.183428Z"
    }
   },
   "outputs": [
    {
     "data": {
      "text/html": [
       "<div>\n",
       "<style scoped>\n",
       "    .dataframe tbody tr th:only-of-type {\n",
       "        vertical-align: middle;\n",
       "    }\n",
       "\n",
       "    .dataframe tbody tr th {\n",
       "        vertical-align: top;\n",
       "    }\n",
       "\n",
       "    .dataframe thead th {\n",
       "        text-align: right;\n",
       "    }\n",
       "</style>\n",
       "<table border=\"1\" class=\"dataframe\">\n",
       "  <thead>\n",
       "    <tr style=\"text-align: right;\">\n",
       "      <th></th>\n",
       "      <th>ccode</th>\n",
       "      <th>cname</th>\n",
       "      <th>ccodealp</th>\n",
       "      <th>ccodecow</th>\n",
       "      <th>ccodewb</th>\n",
       "      <th>version</th>\n",
       "      <th>aid_cpnc</th>\n",
       "      <th>aid_cpsc</th>\n",
       "      <th>aid_crnc</th>\n",
       "      <th>aid_crnio</th>\n",
       "      <th>...</th>\n",
       "      <th>wvs_relacc</th>\n",
       "      <th>wvs_relsch</th>\n",
       "      <th>wvs_relsci</th>\n",
       "      <th>wvs_satfin</th>\n",
       "      <th>wvs_satlif</th>\n",
       "      <th>wvs_screl</th>\n",
       "      <th>wvs_subh</th>\n",
       "      <th>wvs_survself</th>\n",
       "      <th>wvs_tradrat</th>\n",
       "      <th>wvs_trust</th>\n",
       "    </tr>\n",
       "  </thead>\n",
       "  <tbody>\n",
       "    <tr>\n",
       "      <th>0</th>\n",
       "      <td>4</td>\n",
       "      <td>Afghanistan</td>\n",
       "      <td>AFG</td>\n",
       "      <td>700.0</td>\n",
       "      <td>4.0</td>\n",
       "      <td>QoGStdCSJan18</td>\n",
       "      <td>NaN</td>\n",
       "      <td>NaN</td>\n",
       "      <td>29.0</td>\n",
       "      <td>13.0</td>\n",
       "      <td>...</td>\n",
       "      <td>NaN</td>\n",
       "      <td>NaN</td>\n",
       "      <td>NaN</td>\n",
       "      <td>NaN</td>\n",
       "      <td>NaN</td>\n",
       "      <td>NaN</td>\n",
       "      <td>NaN</td>\n",
       "      <td>NaN</td>\n",
       "      <td>NaN</td>\n",
       "      <td>NaN</td>\n",
       "    </tr>\n",
       "    <tr>\n",
       "      <th>1</th>\n",
       "      <td>8</td>\n",
       "      <td>Albania</td>\n",
       "      <td>ALB</td>\n",
       "      <td>339.0</td>\n",
       "      <td>8.0</td>\n",
       "      <td>QoGStdCSJan18</td>\n",
       "      <td>NaN</td>\n",
       "      <td>NaN</td>\n",
       "      <td>26.0</td>\n",
       "      <td>13.0</td>\n",
       "      <td>...</td>\n",
       "      <td>NaN</td>\n",
       "      <td>NaN</td>\n",
       "      <td>NaN</td>\n",
       "      <td>NaN</td>\n",
       "      <td>NaN</td>\n",
       "      <td>NaN</td>\n",
       "      <td>NaN</td>\n",
       "      <td>NaN</td>\n",
       "      <td>NaN</td>\n",
       "      <td>NaN</td>\n",
       "    </tr>\n",
       "    <tr>\n",
       "      <th>2</th>\n",
       "      <td>12</td>\n",
       "      <td>Algeria</td>\n",
       "      <td>DZA</td>\n",
       "      <td>615.0</td>\n",
       "      <td>12.0</td>\n",
       "      <td>QoGStdCSJan18</td>\n",
       "      <td>NaN</td>\n",
       "      <td>NaN</td>\n",
       "      <td>21.0</td>\n",
       "      <td>6.0</td>\n",
       "      <td>...</td>\n",
       "      <td>3.710616</td>\n",
       "      <td>1.704692</td>\n",
       "      <td>3.681347</td>\n",
       "      <td>5.988125</td>\n",
       "      <td>6.301029</td>\n",
       "      <td>5.339371</td>\n",
       "      <td>3.805579</td>\n",
       "      <td>-0.409807</td>\n",
       "      <td>-0.498164</td>\n",
       "      <td>0.179286</td>\n",
       "    </tr>\n",
       "    <tr>\n",
       "      <th>3</th>\n",
       "      <td>20</td>\n",
       "      <td>Andorra</td>\n",
       "      <td>AND</td>\n",
       "      <td>232.0</td>\n",
       "      <td>20.0</td>\n",
       "      <td>QoGStdCSJan18</td>\n",
       "      <td>NaN</td>\n",
       "      <td>NaN</td>\n",
       "      <td>NaN</td>\n",
       "      <td>NaN</td>\n",
       "      <td>...</td>\n",
       "      <td>NaN</td>\n",
       "      <td>NaN</td>\n",
       "      <td>NaN</td>\n",
       "      <td>NaN</td>\n",
       "      <td>NaN</td>\n",
       "      <td>NaN</td>\n",
       "      <td>NaN</td>\n",
       "      <td>NaN</td>\n",
       "      <td>NaN</td>\n",
       "      <td>NaN</td>\n",
       "    </tr>\n",
       "    <tr>\n",
       "      <th>4</th>\n",
       "      <td>24</td>\n",
       "      <td>Angola</td>\n",
       "      <td>AGO</td>\n",
       "      <td>540.0</td>\n",
       "      <td>24.0</td>\n",
       "      <td>QoGStdCSJan18</td>\n",
       "      <td>NaN</td>\n",
       "      <td>NaN</td>\n",
       "      <td>22.0</td>\n",
       "      <td>13.0</td>\n",
       "      <td>...</td>\n",
       "      <td>NaN</td>\n",
       "      <td>NaN</td>\n",
       "      <td>NaN</td>\n",
       "      <td>NaN</td>\n",
       "      <td>NaN</td>\n",
       "      <td>NaN</td>\n",
       "      <td>NaN</td>\n",
       "      <td>NaN</td>\n",
       "      <td>NaN</td>\n",
       "      <td>NaN</td>\n",
       "    </tr>\n",
       "    <tr>\n",
       "      <th>...</th>\n",
       "      <td>...</td>\n",
       "      <td>...</td>\n",
       "      <td>...</td>\n",
       "      <td>...</td>\n",
       "      <td>...</td>\n",
       "      <td>...</td>\n",
       "      <td>...</td>\n",
       "      <td>...</td>\n",
       "      <td>...</td>\n",
       "      <td>...</td>\n",
       "      <td>...</td>\n",
       "      <td>...</td>\n",
       "      <td>...</td>\n",
       "      <td>...</td>\n",
       "      <td>...</td>\n",
       "      <td>...</td>\n",
       "      <td>...</td>\n",
       "      <td>...</td>\n",
       "      <td>...</td>\n",
       "      <td>...</td>\n",
       "      <td>...</td>\n",
       "    </tr>\n",
       "    <tr>\n",
       "      <th>189</th>\n",
       "      <td>860</td>\n",
       "      <td>Uzbekistan</td>\n",
       "      <td>UZB</td>\n",
       "      <td>704.0</td>\n",
       "      <td>860.0</td>\n",
       "      <td>QoGStdCSJan18</td>\n",
       "      <td>NaN</td>\n",
       "      <td>NaN</td>\n",
       "      <td>21.0</td>\n",
       "      <td>16.0</td>\n",
       "      <td>...</td>\n",
       "      <td>3.247667</td>\n",
       "      <td>2.191377</td>\n",
       "      <td>2.171875</td>\n",
       "      <td>4.076407</td>\n",
       "      <td>7.888145</td>\n",
       "      <td>5.364856</td>\n",
       "      <td>3.950634</td>\n",
       "      <td>NaN</td>\n",
       "      <td>NaN</td>\n",
       "      <td>0.140921</td>\n",
       "    </tr>\n",
       "    <tr>\n",
       "      <th>190</th>\n",
       "      <td>862</td>\n",
       "      <td>Venezuela</td>\n",
       "      <td>VEN</td>\n",
       "      <td>101.0</td>\n",
       "      <td>862.0</td>\n",
       "      <td>QoGStdCSJan18</td>\n",
       "      <td>NaN</td>\n",
       "      <td>NaN</td>\n",
       "      <td>20.0</td>\n",
       "      <td>6.0</td>\n",
       "      <td>...</td>\n",
       "      <td>NaN</td>\n",
       "      <td>NaN</td>\n",
       "      <td>NaN</td>\n",
       "      <td>NaN</td>\n",
       "      <td>NaN</td>\n",
       "      <td>NaN</td>\n",
       "      <td>NaN</td>\n",
       "      <td>NaN</td>\n",
       "      <td>NaN</td>\n",
       "      <td>NaN</td>\n",
       "    </tr>\n",
       "    <tr>\n",
       "      <th>191</th>\n",
       "      <td>882</td>\n",
       "      <td>Samoa</td>\n",
       "      <td>WSM</td>\n",
       "      <td>990.0</td>\n",
       "      <td>882.0</td>\n",
       "      <td>QoGStdCSJan18</td>\n",
       "      <td>NaN</td>\n",
       "      <td>NaN</td>\n",
       "      <td>10.0</td>\n",
       "      <td>7.0</td>\n",
       "      <td>...</td>\n",
       "      <td>NaN</td>\n",
       "      <td>NaN</td>\n",
       "      <td>NaN</td>\n",
       "      <td>NaN</td>\n",
       "      <td>NaN</td>\n",
       "      <td>NaN</td>\n",
       "      <td>NaN</td>\n",
       "      <td>NaN</td>\n",
       "      <td>NaN</td>\n",
       "      <td>NaN</td>\n",
       "    </tr>\n",
       "    <tr>\n",
       "      <th>192</th>\n",
       "      <td>887</td>\n",
       "      <td>Yemen</td>\n",
       "      <td>YEM</td>\n",
       "      <td>679.0</td>\n",
       "      <td>887.0</td>\n",
       "      <td>QoGStdCSJan18</td>\n",
       "      <td>NaN</td>\n",
       "      <td>NaN</td>\n",
       "      <td>26.0</td>\n",
       "      <td>16.0</td>\n",
       "      <td>...</td>\n",
       "      <td>3.598178</td>\n",
       "      <td>1.697442</td>\n",
       "      <td>3.752032</td>\n",
       "      <td>4.671357</td>\n",
       "      <td>5.887310</td>\n",
       "      <td>3.384707</td>\n",
       "      <td>3.892000</td>\n",
       "      <td>-0.591479</td>\n",
       "      <td>-0.875164</td>\n",
       "      <td>0.403987</td>\n",
       "    </tr>\n",
       "    <tr>\n",
       "      <th>193</th>\n",
       "      <td>894</td>\n",
       "      <td>Zambia</td>\n",
       "      <td>ZMB</td>\n",
       "      <td>551.0</td>\n",
       "      <td>894.0</td>\n",
       "      <td>QoGStdCSJan18</td>\n",
       "      <td>NaN</td>\n",
       "      <td>NaN</td>\n",
       "      <td>22.0</td>\n",
       "      <td>18.0</td>\n",
       "      <td>...</td>\n",
       "      <td>NaN</td>\n",
       "      <td>NaN</td>\n",
       "      <td>NaN</td>\n",
       "      <td>NaN</td>\n",
       "      <td>NaN</td>\n",
       "      <td>NaN</td>\n",
       "      <td>NaN</td>\n",
       "      <td>NaN</td>\n",
       "      <td>NaN</td>\n",
       "      <td>NaN</td>\n",
       "    </tr>\n",
       "  </tbody>\n",
       "</table>\n",
       "<p>194 rows × 1882 columns</p>\n",
       "</div>"
      ],
      "text/plain": [
       "     ccode        cname ccodealp  ccodecow  ccodewb        version  aid_cpnc  \\\n",
       "0        4  Afghanistan      AFG     700.0      4.0  QoGStdCSJan18       NaN   \n",
       "1        8      Albania      ALB     339.0      8.0  QoGStdCSJan18       NaN   \n",
       "2       12      Algeria      DZA     615.0     12.0  QoGStdCSJan18       NaN   \n",
       "3       20      Andorra      AND     232.0     20.0  QoGStdCSJan18       NaN   \n",
       "4       24       Angola      AGO     540.0     24.0  QoGStdCSJan18       NaN   \n",
       "..     ...          ...      ...       ...      ...            ...       ...   \n",
       "189    860   Uzbekistan      UZB     704.0    860.0  QoGStdCSJan18       NaN   \n",
       "190    862    Venezuela      VEN     101.0    862.0  QoGStdCSJan18       NaN   \n",
       "191    882        Samoa      WSM     990.0    882.0  QoGStdCSJan18       NaN   \n",
       "192    887        Yemen      YEM     679.0    887.0  QoGStdCSJan18       NaN   \n",
       "193    894       Zambia      ZMB     551.0    894.0  QoGStdCSJan18       NaN   \n",
       "\n",
       "     aid_cpsc  aid_crnc  aid_crnio  ...  wvs_relacc  wvs_relsch  wvs_relsci  \\\n",
       "0         NaN      29.0       13.0  ...         NaN         NaN         NaN   \n",
       "1         NaN      26.0       13.0  ...         NaN         NaN         NaN   \n",
       "2         NaN      21.0        6.0  ...    3.710616    1.704692    3.681347   \n",
       "3         NaN       NaN        NaN  ...         NaN         NaN         NaN   \n",
       "4         NaN      22.0       13.0  ...         NaN         NaN         NaN   \n",
       "..        ...       ...        ...  ...         ...         ...         ...   \n",
       "189       NaN      21.0       16.0  ...    3.247667    2.191377    2.171875   \n",
       "190       NaN      20.0        6.0  ...         NaN         NaN         NaN   \n",
       "191       NaN      10.0        7.0  ...         NaN         NaN         NaN   \n",
       "192       NaN      26.0       16.0  ...    3.598178    1.697442    3.752032   \n",
       "193       NaN      22.0       18.0  ...         NaN         NaN         NaN   \n",
       "\n",
       "     wvs_satfin  wvs_satlif  wvs_screl  wvs_subh  wvs_survself  wvs_tradrat  \\\n",
       "0           NaN         NaN        NaN       NaN           NaN          NaN   \n",
       "1           NaN         NaN        NaN       NaN           NaN          NaN   \n",
       "2      5.988125    6.301029   5.339371  3.805579     -0.409807    -0.498164   \n",
       "3           NaN         NaN        NaN       NaN           NaN          NaN   \n",
       "4           NaN         NaN        NaN       NaN           NaN          NaN   \n",
       "..          ...         ...        ...       ...           ...          ...   \n",
       "189    4.076407    7.888145   5.364856  3.950634           NaN          NaN   \n",
       "190         NaN         NaN        NaN       NaN           NaN          NaN   \n",
       "191         NaN         NaN        NaN       NaN           NaN          NaN   \n",
       "192    4.671357    5.887310   3.384707  3.892000     -0.591479    -0.875164   \n",
       "193         NaN         NaN        NaN       NaN           NaN          NaN   \n",
       "\n",
       "     wvs_trust  \n",
       "0          NaN  \n",
       "1          NaN  \n",
       "2     0.179286  \n",
       "3          NaN  \n",
       "4          NaN  \n",
       "..         ...  \n",
       "189   0.140921  \n",
       "190        NaN  \n",
       "191        NaN  \n",
       "192   0.403987  \n",
       "193        NaN  \n",
       "\n",
       "[194 rows x 1882 columns]"
      ]
     },
     "execution_count": 2,
     "metadata": {},
     "output_type": "execute_result"
    }
   ],
   "source": [
    "df_full = pd.read_csv(\"qog_std_cs_jan18.csv\")\n",
    "df_full"
   ]
  },
  {
   "cell_type": "markdown",
   "metadata": {},
   "source": [
    "<a id='desafiouno' />\n",
    "\n",
    "### Desafío 1: \n",
    "[(back to top)](#contents)"
   ]
  },
  {
   "cell_type": "markdown",
   "metadata": {},
   "source": [
    "* Utilice los últimos 4 dígitos de su DNI como semilla pseudoaleatoria.\n",
    "* Seleccione el 50% de los casos.\n",
    "* Cada base generada debe contener los siguientes elementos:\n",
    "    - El índice de desarrollo humano ( undp_hdi )\n",
    "    - El nombre del país ( ccodealp )\n",
    "    - La región a la que pertenece ( ht_region )\n",
    "    - El PIB per capita. ( gle_cgdpc )\n",
    "    - El total de la población ( imf_pop )\n",
    "    \n",
    "* Si su apellido está entre la N y la Z, escoja las siguientes variables del módulo Salud:\n",
    "    - wef_imort : Infant mortality , deaths/1000 live births\n",
    "    - who_alc2000 : Alcohol consumption per capita (2000-)\n",
    "    - who_tobt : Current smoking of any tobacco product (T otal).\n",
    "    - wdi_exph : Government expenditure on health, total (% of GDP)\n",
    "* Guarde esta tabla procesada en un nuevo objeto\n",
    "* Renombre las categorías de la variable  ht_region de números a regiones"
   ]
  },
  {
   "cell_type": "code",
   "execution_count": 3,
   "metadata": {
    "ExecuteTime": {
     "end_time": "2020-11-23T22:50:21.823943Z",
     "start_time": "2020-11-23T22:50:21.816353Z"
    }
   },
   "outputs": [],
   "source": [
    "columnas = ['undp_hdi','ccodealp','ht_region','gle_cgdpc','imf_pop','wef_imort','who_alc2000','who_tobt','wdi_exph']\n",
    "df = df_full[columnas]"
   ]
  },
  {
   "cell_type": "code",
   "execution_count": 4,
   "metadata": {
    "ExecuteTime": {
     "end_time": "2020-11-23T22:50:21.976070Z",
     "start_time": "2020-11-23T22:50:21.828053Z"
    }
   },
   "outputs": [
    {
     "name": "stderr",
     "output_type": "stream",
     "text": [
      "C:\\Users\\nparco\\Anaconda3\\lib\\site-packages\\ipykernel_launcher.py:2: SettingWithCopyWarning: \n",
      "A value is trying to be set on a copy of a slice from a DataFrame.\n",
      "Try using .loc[row_indexer,col_indexer] = value instead\n",
      "\n",
      "See the caveats in the documentation: https://pandas.pydata.org/pandas-docs/stable/user_guide/indexing.html#returning-a-view-versus-a-copy\n",
      "  \n"
     ]
    }
   ],
   "source": [
    "df['ht_region'] = df['ht_region'].replace([1,2,3,4,5,6,7,8,9,10],['EastEurope', 'LatAm','NorthAfrica', 'Subsaharian', \n",
    "                                       'WesternDem', 'EastAsia', 'SouthEastAsia','SouthAsia', 'Pacific', 'Caribbean'])"
   ]
  },
  {
   "cell_type": "code",
   "execution_count": 5,
   "metadata": {
    "ExecuteTime": {
     "end_time": "2020-11-23T22:50:22.124075Z",
     "start_time": "2020-11-23T22:50:21.979249Z"
    }
   },
   "outputs": [],
   "source": [
    "df = df.sample(int(len(df)/2),random_state = 2054)"
   ]
  },
  {
   "cell_type": "markdown",
   "metadata": {},
   "source": [
    "<a id='desafiodos' />\n",
    "\n",
    "### Desafío 2: \n",
    "[(back to top)](#contents)"
   ]
  },
  {
   "cell_type": "markdown",
   "metadata": {},
   "source": [
    "1. Por  cada  variable  existente  en  su  objeto,  calcule  las  medidas  descriptivas  para  los  casos contínuos\n",
    "2. Para cada variable discreta, que calcule la frecuencia.\n",
    "3. Reporte las estadísticas descriptivas para  gle_cgdpc ,  undp_hdi ,  imf_pop .\n",
    "4. Compare  las  estadísticas  con  algún  compañero.  ¿Ve  alguna  diferencia  substancial  en  alguna de ellas?"
   ]
  },
  {
   "cell_type": "code",
   "execution_count": 6,
   "metadata": {
    "ExecuteTime": {
     "end_time": "2020-11-23T22:50:22.611619Z",
     "start_time": "2020-11-23T22:50:22.133431Z"
    },
    "code_folding": [
     0
    ]
   },
   "outputs": [],
   "source": [
    "def medidas_descriptivas(df):\n",
    "    \n",
    "    for col in df.columns:\n",
    "        print(f\"{col.upper()}\")\n",
    "        print(\"----------\")\n",
    "        \n",
    "        # Si la variable es continua:\n",
    "        if df[col].dtype in [int, float]:\n",
    "            print(round(df[col].describe(),2))\n",
    "         \n",
    "        # Si la variable es discreta:\n",
    "        else:\n",
    "            print(df[col].value_counts()) \n",
    "            \n",
    "        print(\"----------\")"
   ]
  },
  {
   "cell_type": "code",
   "execution_count": 7,
   "metadata": {
    "ExecuteTime": {
     "end_time": "2020-11-23T22:50:22.803050Z",
     "start_time": "2020-11-23T22:50:22.612985Z"
    }
   },
   "outputs": [
    {
     "name": "stdout",
     "output_type": "stream",
     "text": [
      "GLE_CGDPC\n",
      "----------\n",
      "count        96.00\n",
      "mean      13050.59\n",
      "std       17017.49\n",
      "min         324.16\n",
      "25%        1719.25\n",
      "50%        5532.56\n",
      "75%       17614.97\n",
      "max      102243.52\n",
      "Name: gle_cgdpc, dtype: float64\n",
      "----------\n",
      "UNDP_HDI\n",
      "----------\n",
      "count    93.00\n",
      "mean      0.68\n",
      "std       0.17\n",
      "min       0.35\n",
      "25%       0.55\n",
      "50%       0.70\n",
      "75%       0.83\n",
      "max       0.95\n",
      "Name: undp_hdi, dtype: float64\n",
      "----------\n",
      "CCODEALP\n",
      "----------\n",
      "NAM    1\n",
      "POL    1\n",
      "RUS    1\n",
      "GNB    1\n",
      "KHM    1\n",
      "      ..\n",
      "SVN    1\n",
      "CUB    1\n",
      "EGY    1\n",
      "NIC    1\n",
      "PAK    1\n",
      "Name: ccodealp, Length: 97, dtype: int64\n",
      "----------\n",
      "Las diferencias radican en las diferentes submuestras consideradas.\n"
     ]
    }
   ],
   "source": [
    "medidas_descriptivas(df[['gle_cgdpc','undp_hdi','ccodealp']])\n",
    "print(\"Las diferencias radican en las diferentes submuestras consideradas.\")"
   ]
  },
  {
   "cell_type": "markdown",
   "metadata": {},
   "source": [
    "<a id='desafiotres' />\n",
    "\n",
    "### Desafío 3: \n",
    "[(back to top)](#contents)"
   ]
  },
  {
   "cell_type": "markdown",
   "metadata": {},
   "source": [
    "Genere una función que liste las observaciones perdidas de una variable.\n",
    "\n",
    "* La función debe contener los siguientes argumentos:\n",
    "    - dataframe : La función debe ingresar un objeto DataFrame.\n",
    "    - var : variable a inspeccionar .\n",
    "    - print_list : Opción para imprimir la lista de observaciones perdidas en la variable. Debe ser  False por defecto.\n",
    "* La función debe retornar la cantidad de casos perdidos y el porcentaje correspondiente.\n",
    "* Cuando  print_list = True , debe retornar la lista de casos.\n",
    "* Analice todas las variables y sus casos perdidos."
   ]
  },
  {
   "cell_type": "code",
   "execution_count": 8,
   "metadata": {
    "ExecuteTime": {
     "end_time": "2020-11-23T22:50:23.129431Z",
     "start_time": "2020-11-23T22:50:22.808309Z"
    },
    "code_folding": [
     0
    ]
   },
   "outputs": [],
   "source": [
    "# def reporte_perdidos(df, var, print_list = False):\n",
    "#     perdidos = df[df[var].isnull()]\n",
    "#     print(f\"Variable: {var}\")\n",
    "#     print(f\"Cantidad de datos perdidos: {len(perdidos)}.\")\n",
    "#     print(f\"La cantidad de datos perdidos representa el: {round((len(perdidos)/len(df)),2)} de los datos.\")  \n",
    "#     if print_list is True:\n",
    "#         display(perdidos)\n",
    "#     print(\"-----------------\\n\")    "
   ]
  },
  {
   "cell_type": "code",
   "execution_count": 9,
   "metadata": {
    "ExecuteTime": {
     "end_time": "2020-11-23T22:50:23.637808Z",
     "start_time": "2020-11-23T22:50:23.131657Z"
    }
   },
   "outputs": [],
   "source": [
    "def reporte_perdidos(df, var, print_list = False):\n",
    "    variable = []\n",
    "    perdidos = []\n",
    "    porc_datos_perdidos = []\n",
    "    \n",
    "    for i in var:\n",
    "        perdidos_1 = df[df[i].isnull()]\n",
    "        \n",
    "        variable.append(i)\n",
    "        perdidos.append(len(perdidos_1))\n",
    "        porc_datos_perdidos.append(round((len(perdidos_1)/len(df)),2))\n",
    "        \n",
    "        if print_list is True:\n",
    "            print(f\"Lista de observaciones perdidas en la variable: {i.upper()}\")\n",
    "            display(perdidos_1)\n",
    "                   \n",
    "    tmp = pd.DataFrame({'variable': variable ,\n",
    "                        'perdidos': perdidos,\n",
    "                        '% de datos perdidos':porc_datos_perdidos })\n",
    "    \n",
    "    tmp = tmp.sort_values(by = \"perdidos\", ascending = False)\n",
    "    display(tmp)    "
   ]
  },
  {
   "cell_type": "code",
   "execution_count": 10,
   "metadata": {
    "ExecuteTime": {
     "end_time": "2020-11-23T22:50:23.932657Z",
     "start_time": "2020-11-23T22:50:23.645267Z"
    }
   },
   "outputs": [
    {
     "data": {
      "text/html": [
       "<div>\n",
       "<style scoped>\n",
       "    .dataframe tbody tr th:only-of-type {\n",
       "        vertical-align: middle;\n",
       "    }\n",
       "\n",
       "    .dataframe tbody tr th {\n",
       "        vertical-align: top;\n",
       "    }\n",
       "\n",
       "    .dataframe thead th {\n",
       "        text-align: right;\n",
       "    }\n",
       "</style>\n",
       "<table border=\"1\" class=\"dataframe\">\n",
       "  <thead>\n",
       "    <tr style=\"text-align: right;\">\n",
       "      <th></th>\n",
       "      <th>variable</th>\n",
       "      <th>perdidos</th>\n",
       "      <th>% de datos perdidos</th>\n",
       "    </tr>\n",
       "  </thead>\n",
       "  <tbody>\n",
       "    <tr>\n",
       "      <th>7</th>\n",
       "      <td>who_tobt</td>\n",
       "      <td>32</td>\n",
       "      <td>0.33</td>\n",
       "    </tr>\n",
       "    <tr>\n",
       "      <th>5</th>\n",
       "      <td>wef_imort</td>\n",
       "      <td>26</td>\n",
       "      <td>0.27</td>\n",
       "    </tr>\n",
       "    <tr>\n",
       "      <th>4</th>\n",
       "      <td>imf_pop</td>\n",
       "      <td>25</td>\n",
       "      <td>0.26</td>\n",
       "    </tr>\n",
       "    <tr>\n",
       "      <th>6</th>\n",
       "      <td>who_alc2000</td>\n",
       "      <td>5</td>\n",
       "      <td>0.05</td>\n",
       "    </tr>\n",
       "    <tr>\n",
       "      <th>0</th>\n",
       "      <td>undp_hdi</td>\n",
       "      <td>4</td>\n",
       "      <td>0.04</td>\n",
       "    </tr>\n",
       "    <tr>\n",
       "      <th>8</th>\n",
       "      <td>wdi_exph</td>\n",
       "      <td>3</td>\n",
       "      <td>0.03</td>\n",
       "    </tr>\n",
       "    <tr>\n",
       "      <th>3</th>\n",
       "      <td>gle_cgdpc</td>\n",
       "      <td>1</td>\n",
       "      <td>0.01</td>\n",
       "    </tr>\n",
       "    <tr>\n",
       "      <th>1</th>\n",
       "      <td>ccodealp</td>\n",
       "      <td>0</td>\n",
       "      <td>0.00</td>\n",
       "    </tr>\n",
       "    <tr>\n",
       "      <th>2</th>\n",
       "      <td>ht_region</td>\n",
       "      <td>0</td>\n",
       "      <td>0.00</td>\n",
       "    </tr>\n",
       "  </tbody>\n",
       "</table>\n",
       "</div>"
      ],
      "text/plain": [
       "      variable  perdidos  % de datos perdidos\n",
       "7     who_tobt        32                 0.33\n",
       "5    wef_imort        26                 0.27\n",
       "4      imf_pop        25                 0.26\n",
       "6  who_alc2000         5                 0.05\n",
       "0     undp_hdi         4                 0.04\n",
       "8     wdi_exph         3                 0.03\n",
       "3    gle_cgdpc         1                 0.01\n",
       "1     ccodealp         0                 0.00\n",
       "2    ht_region         0                 0.00"
      ]
     },
     "metadata": {},
     "output_type": "display_data"
    }
   ],
   "source": [
    "reporte_perdidos(df, columnas, False)"
   ]
  },
  {
   "cell_type": "markdown",
   "metadata": {},
   "source": [
    "* Para las  3 variables con un mayor porcentaje de casos perdidos, solicite la  lista  de países con ausencia de datos."
   ]
  },
  {
   "cell_type": "code",
   "execution_count": 11,
   "metadata": {
    "ExecuteTime": {
     "end_time": "2020-11-23T22:50:24.110562Z",
     "start_time": "2020-11-23T22:50:23.935792Z"
    }
   },
   "outputs": [
    {
     "name": "stdout",
     "output_type": "stream",
     "text": [
      "Para la variable who_tobt los países con ausencia de datos son:\n"
     ]
    },
    {
     "data": {
      "text/plain": [
       "124    NIC\n",
       "9      AUT\n",
       "79     IRQ\n",
       "0      AFG\n",
       "52     SLV\n",
       "99     LIE\n",
       "41     COD\n",
       "147    VCT\n",
       "89     PRK\n",
       "133    PNG\n",
       "140    TLS\n",
       "2      DZA\n",
       "164    SDN\n",
       "53     GNQ\n",
       "21     BLZ\n",
       "175    ARE\n",
       "179    TUV\n",
       "49     DMA\n",
       "70     GIN\n",
       "34     TCD\n",
       "16     BTN\n",
       "63     GMB\n",
       "174    TTO\n",
       "26     BDI\n",
       "159    SOM\n",
       "68     GRD\n",
       "5      ATG\n",
       "61     GAB\n",
       "71     GUY\n",
       "139    GNB\n",
       "192    YEM\n",
       "161    ZWE\n",
       "Name: ccodealp, dtype: object"
      ]
     },
     "metadata": {},
     "output_type": "display_data"
    },
    {
     "name": "stdout",
     "output_type": "stream",
     "text": [
      "Para la variable wef_imort los países con ausencia de datos son:\n"
     ]
    },
    {
     "data": {
      "text/plain": [
       "173    TON\n",
       "57     FJI\n",
       "79     IRQ\n",
       "0      AFG\n",
       "99     LIE\n",
       "147    VCT\n",
       "89     PRK\n",
       "133    PNG\n",
       "191    WSM\n",
       "119    NRU\n",
       "164    SDN\n",
       "53     GNQ\n",
       "179    TUV\n",
       "49     DMA\n",
       "40     COG\n",
       "3      AND\n",
       "66     KIR\n",
       "125    NER\n",
       "27     BLR\n",
       "159    SOM\n",
       "68     GRD\n",
       "5      ATG\n",
       "189    UZB\n",
       "139    GNB\n",
       "44     CUB\n",
       "39     COM\n",
       "Name: ccodealp, dtype: object"
      ]
     },
     "metadata": {},
     "output_type": "display_data"
    },
    {
     "name": "stdout",
     "output_type": "stream",
     "text": [
      "Para la variable imf_pop los países con ausencia de datos son:\n"
     ]
    },
    {
     "data": {
      "text/plain": [
       "52     SLV\n",
       "99     LIE\n",
       "118    NAM\n",
       "41     COD\n",
       "89     PRK\n",
       "164    SDN\n",
       "53     GNQ\n",
       "175    ARE\n",
       "49     DMA\n",
       "34     TCD\n",
       "40     COG\n",
       "3      AND\n",
       "95     LSO\n",
       "76     IND\n",
       "63     GMB\n",
       "125    NER\n",
       "26     BDI\n",
       "159    SOM\n",
       "68     GRD\n",
       "5      ATG\n",
       "61     GAB\n",
       "97     LBR\n",
       "139    GNB\n",
       "44     CUB\n",
       "192    YEM\n",
       "Name: ccodealp, dtype: object"
      ]
     },
     "metadata": {},
     "output_type": "display_data"
    }
   ],
   "source": [
    "for i in [\"who_tobt\",\"wef_imort\",\"imf_pop\"]:\n",
    "    print(f\"Para la variable {i} los países con ausencia de datos son:\")\n",
    "    perdidos = df[df[i].isnull()][\"ccodealp\"]\n",
    "    display(perdidos)"
   ]
  },
  {
   "cell_type": "markdown",
   "metadata": {
    "ExecuteTime": {
     "end_time": "2020-11-03T00:28:40.332783Z",
     "start_time": "2020-11-03T00:28:40.318022Z"
    }
   },
   "source": [
    "<a id='desafiocuatro' />\n",
    "\n",
    "### Desafío 4: \n",
    "[(back to top)](#contents)"
   ]
  },
  {
   "cell_type": "markdown",
   "metadata": {},
   "source": [
    "* Genere una función que grafique un histograma en conjunto y señale las medias.\n",
    "* La función debe incluír los siguientes argumentos:\n",
    "    - dataframe: La base de datos donde se encuentran los datos específicos.\n",
    "    - var: La variable a graficar .\n",
    "    - sample_mean: Booleano. Si es verdadero, debe generar una recta vertical indicando la media de la variable en la selección muestral. Por defecto debe ser  False .\n",
    "    - true_mean: Booleano. Si es verdadero, debe generar una recta vertical indicando la media de variable en la base de datos completa.\n",
    "* Implemente las funciones para las 4 variables seleccionadas según su grupo.\n",
    "* ¿En qué variables la media de la submuestra es mayor a la de la muestra completa?"
   ]
  },
  {
   "cell_type": "code",
   "execution_count": 18,
   "metadata": {
    "ExecuteTime": {
     "end_time": "2020-11-23T22:51:53.223164Z",
     "start_time": "2020-11-23T22:51:53.211891Z"
    }
   },
   "outputs": [],
   "source": [
    "def grafica_hist(df, var, sample_mean = False, true_mean = False, df_full =[], bin = 10):\n",
    "    \n",
    "    df[var].hist(color=\"lightblue\")\n",
    "    \n",
    "    if sample_mean is True:\n",
    "        plt.axvline(df[var].mean(), color=\"indigo\", linestyle = \"--\", label = \"Media submuestral\")\n",
    "    \n",
    "    if true_mean is True:\n",
    "        plt.axvline(df_full[var].mean(), color=\"red\", linestyle = \"--\", label = \"Media muestral\")\n",
    "    \n",
    "    if np.mean(df[var]) > np.mean(df_full[var]):\n",
    "        print(f\"En la variable {var} la media submuestral es mayor a la media muestral:\")\n",
    "    else:\n",
    "        print(f\"En la variable {var} la media muestral es mayor a la media submuestral:\")\n",
    "    \n",
    "    plt.title(f\"Histograma {var}\")\n",
    "    plt.legend()\n",
    "    \n",
    "    #plt.text(0,0,\"HISTOGRAMA 1.0\") \n",
    "    #plt.savefig(\"Histograma.png\")"
   ]
  },
  {
   "cell_type": "code",
   "execution_count": 19,
   "metadata": {
    "ExecuteTime": {
     "end_time": "2020-11-23T22:51:56.130287Z",
     "start_time": "2020-11-23T22:51:54.715387Z"
    }
   },
   "outputs": [
    {
     "name": "stdout",
     "output_type": "stream",
     "text": [
      "En la variable wef_imort la media submuestral es mayor a la media muestral:\n"
     ]
    },
    {
     "data": {
      "image/png": "[encoded data removed]",
      "text/plain": [
       "<Figure size 432x288 with 1 Axes>"
      ]
     },
     "metadata": {},
     "output_type": "display_data"
    },
    {
     "name": "stdout",
     "output_type": "stream",
     "text": [
      "En la variable who_alc2000 la media muestral es mayor a la media submuestral:\n"
     ]
    },
    {
     "data": {
      "image/png": "[encoded data removed]",
      "text/plain": [
       "<Figure size 432x288 with 1 Axes>"
      ]
     },
     "metadata": {},
     "output_type": "display_data"
    },
    {
     "name": "stdout",
     "output_type": "stream",
     "text": [
      "En la variable who_tobt la media submuestral es mayor a la media muestral:\n"
     ]
    },
    {
     "data": {
      "image/png": "[encoded data removed]",
      "text/plain": [
       "<Figure size 432x288 with 1 Axes>"
      ]
     },
     "metadata": {},
     "output_type": "display_data"
    },
    {
     "name": "stdout",
     "output_type": "stream",
     "text": [
      "En la variable wdi_exph la media submuestral es mayor a la media muestral:\n"
     ]
    },
    {
     "data": {
      "image/png": "[encoded data removed]",
      "text/plain": [
       "<Figure size 432x288 with 1 Axes>"
      ]
     },
     "metadata": {},
     "output_type": "display_data"
    }
   ],
   "source": [
    "for i in [\"wef_imort\", \"who_alc2000\", \"who_tobt\", \"wdi_exph\"]:\n",
    "    grafica_hist(df, i, True, True, df_full)\n",
    "    plt.show()"
   ]
  },
  {
   "cell_type": "markdown",
   "metadata": {},
   "source": [
    "<a id='desafiocinco' />\n",
    "\n",
    "### Desafío 5: \n",
    "[(back to top)](#contents)"
   ]
  },
  {
   "cell_type": "markdown",
   "metadata": {},
   "source": [
    "* La función debe contener los siguientes argumentos:\n",
    "    - dataframe: La tabla de datos donde buscar las variables.\n",
    "    - plot_var: La variable a analizar y extraer las medias.\n",
    "    - plot_by: La variable agrupadora.\n",
    "    - global_stat: Booleano. Si es  True debe graficar la media global de la variable. Por defecto debe ser  False.\n",
    "    - statistic: Debe presentar dos opciones.  mean para la media y  median para la mediana. Por defecto debe ser  mean."
   ]
  },
  {
   "cell_type": "code",
   "execution_count": 14,
   "metadata": {
    "ExecuteTime": {
     "end_time": "2020-11-23T22:50:26.407609Z",
     "start_time": "2020-11-23T22:50:26.395965Z"
    }
   },
   "outputs": [],
   "source": [
    "#df.groupby('ht_region')['who_tobt'].agg(np.mean).sort_values(ascending=False)"
   ]
  },
  {
   "cell_type": "code",
   "execution_count": 15,
   "metadata": {
    "ExecuteTime": {
     "end_time": "2020-11-23T22:50:26.628512Z",
     "start_time": "2020-11-23T22:50:26.411283Z"
    }
   },
   "outputs": [],
   "source": [
    "def dotplot(df, plot_var, plot_by, global_state = False, df_completo =[], statistic=\"mean\"):\n",
    "    plt.figure(figsize=(15,5))\n",
    "    \n",
    "    if statistic == \"mean\":\n",
    "        tmp = df.groupby(plot_by)[plot_var].agg(np.mean)\n",
    "    elif statistic == \"median\":\n",
    "        tmp = df.groupby(plot_by)[plot_var].agg(np.median)\n",
    "        \n",
    "        \n",
    "    if global_state is True:\n",
    "        if statistic == \"mean\":\n",
    "            plt.axhline(df_completo[plot_var].mean(), label = f\"Media global de {plot_var}\",linestyle = \"--\")\n",
    "        elif statistic ==\"median\":\n",
    "            plt.axhline(df_completo[plot_var].median(), label = f\"Mediana global de {plot_var}\",linestyle = \"--\")\n",
    "\n",
    "    plt.plot(tmp, marker='o', markersize=7)  \n",
    "    plt.legend()\n",
    "    plt.show()"
   ]
  },
  {
   "cell_type": "markdown",
   "metadata": {},
   "source": [
    "* Implemente la función en las 3 variables con una menor cantidad de datos perdidos."
   ]
  },
  {
   "cell_type": "code",
   "execution_count": 16,
   "metadata": {
    "ExecuteTime": {
     "end_time": "2020-11-23T22:50:27.670921Z",
     "start_time": "2020-11-23T22:50:26.637664Z"
    }
   },
   "outputs": [
    {
     "data": {
      "image/png": "[encoded data removed]",
      "text/plain": [
       "<Figure size 1080x360 with 1 Axes>"
      ]
     },
     "metadata": {},
     "output_type": "display_data"
    },
    {
     "data": {
      "image/png": "[encoded data removed]",
      "text/plain": [
       "<Figure size 1080x360 with 1 Axes>"
      ]
     },
     "metadata": {},
     "output_type": "display_data"
    },
    {
     "data": {
      "image/png": "[encoded data removed]",
      "text/plain": [
       "<Figure size 1080x360 with 1 Axes>"
      ]
     },
     "metadata": {},
     "output_type": "display_data"
    }
   ],
   "source": [
    "for i in [\"undp_hdi\", \"wdi_exph\",\"gle_cgdpc\"]:\n",
    "    dotplot(df,i,'ht_region', True, df_full, statistic=\"median\")"
   ]
  },
  {
   "cell_type": "markdown",
   "metadata": {
    "ExecuteTime": {
     "end_time": "2020-11-03T00:31:04.410936Z",
     "start_time": "2020-11-03T00:31:04.395510Z"
    }
   },
   "source": [
    "<a id='desafioseis' />\n",
    "\n",
    "### Desafío 6: \n",
    "[(back to top)](#contents)"
   ]
  },
  {
   "cell_type": "markdown",
   "metadata": {},
   "source": [
    "* La submuestra creada tiene un método llamado  to_csv .\n",
    "    - Acceda  a  éste  y  guarde  la  base  de  datos  con  la  siguiente  nomenclatura: subsample_<iniciales>_demo.csv.\n",
    "    \n",
    "    - (Súbala a la plataforma, junto al desafío)"
   ]
  },
  {
   "cell_type": "code",
   "execution_count": 17,
   "metadata": {
    "ExecuteTime": {
     "end_time": "2020-11-23T22:50:29.263628Z",
     "start_time": "2020-11-23T22:50:27.674337Z"
    }
   },
   "outputs": [],
   "source": [
    "df.to_csv(\"subdample_np_demo.csv\")"
   ]
  }
 ],
 "metadata": {
  "kernelspec": {
   "display_name": "Python 3 (ipykernel)",
   "language": "python",
   "name": "python3"
  },
  "language_info": {
   "codemirror_mode": {
    "name": "ipython",
    "version": 3
   },
   "file_extension": ".py",
   "mimetype": "text/x-python",
   "name": "python",
   "nbconvert_exporter": "python",
   "pygments_lexer": "ipython3",
   "version": "3.9.13"
  },
  "varInspector": {
   "cols": {
    "lenName": 16,
    "lenType": 16,
    "lenVar": 40
   },
   "kernels_config": {
    "python": {
     "delete_cmd_postfix": "",
     "delete_cmd_prefix": "del ",
     "library": "var_list.py",
     "varRefreshCmd": "print(var_dic_list())"
    },
    "r": {
     "delete_cmd_postfix": ") ",
     "delete_cmd_prefix": "rm(",
     "library": "var_list.r",
     "varRefreshCmd": "cat(var_dic_list()) "
    }
   },
   "types_to_exclude": [
    "module",
    "function",
    "builtin_function_or_method",
    "instance",
    "_Feature"
   ],
   "window_display": false
  }
 },
 "nbformat": 4,
 "nbformat_minor": 4
}
