{
 "cells": [
  {
   "cell_type": "markdown",
   "metadata": {},
   "source": [
    "## Gráficos y Correlaciones\n",
    "\n",
    "- La prueba de hipótesis por lo general plantea en H0 igualdad estadistica en los valores. "
   ]
  },
  {
   "cell_type": "markdown",
   "metadata": {
    "ExecuteTime": {
     "end_time": "2020-11-24T21:20:59.208934Z",
     "start_time": "2020-11-24T21:20:59.201984Z"
    }
   },
   "source": [
    "### Desafío 1: \n",
    "\n",
    "\n",
    "A continuación se presenta una serie de enunciados de hipótesis. Usted debe discernir si es posible rechazar la hipótesis nula.\n",
    "\n",
    "- 75 individuos elegidos al azar fueron alcanzados por activistas pro-LGTB que se identificaron como homosexuales, y 75 alcanzados por activistas pro-LGTB que se identificaron como heterosexuales. El objetivo era medir actitudes frente a la adopción homoparentales. La organización encargada de procesar los datos obtuvo los siguientes resultados:\n",
    "    - El 67% de los encuestados por heterosexuales se mostró a favor de la adopción homoparental, mientras que un 72% de los encuestados por activistas que se identifaron como homosexuales se mostraron a favor de la adopción homoparental.\n",
    "    - Asumiendo que la hipótesis nula es que ambos porcentajes no son diferentes, y la hipótesis alternativa es que existe una diferencia substancial entre ambos.\n",
    "    - Con un valor de prueba  𝑝=11.83  y un puntaje de corte de 2.58, ¿qué se debe concluir?\n",
    "- Un investigador de la Sociedad de Abstemios de Chile sugiere que los hombres tienen mayores niveles de consumo de alcohol que las mujeres, siendo esta diferencia estadísticamente significativa. Esto en base a su estudio realizado con 48 individuos, donde contrastó su puntaje de prueba a una distribución asintóticamente normal. ¿Qué se puede decir sobre su estudio?"
   ]
  },
  {
   "cell_type": "markdown",
   "metadata": {},
   "source": [
    "#### Respuestas:\n",
    "* Considerando que el p-value es mayor que un alpha de 0,1-0,05-0,01 no existe evidencia suficiente para rechazar la Ho de que ambos porcentajes son distintos. A pesar de ser matematicamente diferentes estadisticamente no lo son.\n",
    "* En el segundo caso no es posible afirmar o rechazar la hipótesis con los datos presentados en el enunciado."
   ]
  },
  {
   "cell_type": "markdown",
   "metadata": {
    "ExecuteTime": {
     "end_time": "2020-11-24T21:32:43.242593Z",
     "start_time": "2020-11-24T21:32:43.235610Z"
    }
   },
   "source": [
    "### Desafío 2: \n",
    "\n",
    "\n",
    "- Agrege una serie de variables binarias por cada continente de la variable region .\n",
    "    * tip: Utilice np.where para ello.\n",
    "- De manera similar a la sesión anterior, enfóquese en las siguientes variables:\n",
    "    * Apellidos desde la A hasta la N: Enfocarse en las variables chldmort , adfert y life.\n",
    "    * Apellidos desde la N hasta la Z: Enfocarse en las variables femlab , literacy y school."
   ]
  },
  {
   "cell_type": "code",
   "execution_count": 1,
   "metadata": {
    "ExecuteTime": {
     "end_time": "2020-12-03T23:38:11.708951Z",
     "start_time": "2020-12-03T23:38:10.367043Z"
    }
   },
   "outputs": [],
   "source": [
    "import pandas as pd\n",
    "import numpy as np\n",
    "import matplotlib.pyplot as plt\n",
    "import scipy.stats as stats"
   ]
  },
  {
   "cell_type": "code",
   "execution_count": 2,
   "metadata": {
    "ExecuteTime": {
     "end_time": "2020-12-03T23:38:11.722702Z",
     "start_time": "2020-12-03T23:38:11.712697Z"
    }
   },
   "outputs": [],
   "source": [
    "df = pd.read_csv(\"nations.csv\", encoding=\"Latin_1\")"
   ]
  },
  {
   "cell_type": "code",
   "execution_count": 3,
   "metadata": {
    "ExecuteTime": {
     "end_time": "2020-12-03T23:38:13.680407Z",
     "start_time": "2020-12-03T23:38:11.724665Z"
    }
   },
   "outputs": [
    {
     "data": {
      "text/html": [
       "<div>\n",
       "<style scoped>\n",
       "    .dataframe tbody tr th:only-of-type {\n",
       "        vertical-align: middle;\n",
       "    }\n",
       "\n",
       "    .dataframe tbody tr th {\n",
       "        vertical-align: top;\n",
       "    }\n",
       "\n",
       "    .dataframe thead th {\n",
       "        text-align: right;\n",
       "    }\n",
       "</style>\n",
       "<table border=\"1\" class=\"dataframe\">\n",
       "  <thead>\n",
       "    <tr style=\"text-align: right;\">\n",
       "      <th></th>\n",
       "      <th>country</th>\n",
       "      <th>region</th>\n",
       "      <th>femlab</th>\n",
       "      <th>literacy</th>\n",
       "      <th>school</th>\n",
       "    </tr>\n",
       "  </thead>\n",
       "  <tbody>\n",
       "    <tr>\n",
       "      <th>0</th>\n",
       "      <td>Algeria</td>\n",
       "      <td>Africa</td>\n",
       "      <td>0.4522</td>\n",
       "      <td>72.599998</td>\n",
       "      <td>6.716667</td>\n",
       "    </tr>\n",
       "    <tr>\n",
       "      <th>1</th>\n",
       "      <td>Benin</td>\n",
       "      <td>Africa</td>\n",
       "      <td>0.8482</td>\n",
       "      <td>41.700001</td>\n",
       "      <td>3.100000</td>\n",
       "    </tr>\n",
       "    <tr>\n",
       "      <th>2</th>\n",
       "      <td>Botswana</td>\n",
       "      <td>Africa</td>\n",
       "      <td>0.8870</td>\n",
       "      <td>84.099998</td>\n",
       "      <td>8.600000</td>\n",
       "    </tr>\n",
       "    <tr>\n",
       "      <th>3</th>\n",
       "      <td>Burkina Faso</td>\n",
       "      <td>Africa</td>\n",
       "      <td>0.8584</td>\n",
       "      <td>23.600000</td>\n",
       "      <td>1.300000</td>\n",
       "    </tr>\n",
       "    <tr>\n",
       "      <th>4</th>\n",
       "      <td>Burundi</td>\n",
       "      <td>Africa</td>\n",
       "      <td>1.0344</td>\n",
       "      <td>66.599998</td>\n",
       "      <td>2.483333</td>\n",
       "    </tr>\n",
       "    <tr>\n",
       "      <th>...</th>\n",
       "      <td>...</td>\n",
       "      <td>...</td>\n",
       "      <td>...</td>\n",
       "      <td>...</td>\n",
       "      <td>...</td>\n",
       "    </tr>\n",
       "    <tr>\n",
       "      <th>189</th>\n",
       "      <td>Samoa</td>\n",
       "      <td>Oceania</td>\n",
       "      <td>0.5010</td>\n",
       "      <td>98.800003</td>\n",
       "      <td>10.300000</td>\n",
       "    </tr>\n",
       "    <tr>\n",
       "      <th>190</th>\n",
       "      <td>Solomon Islands</td>\n",
       "      <td>Oceania</td>\n",
       "      <td>0.4858</td>\n",
       "      <td>NaN</td>\n",
       "      <td>4.500000</td>\n",
       "    </tr>\n",
       "    <tr>\n",
       "      <th>191</th>\n",
       "      <td>Tonga</td>\n",
       "      <td>Oceania</td>\n",
       "      <td>0.7150</td>\n",
       "      <td>99.000000</td>\n",
       "      <td>10.133333</td>\n",
       "    </tr>\n",
       "    <tr>\n",
       "      <th>192</th>\n",
       "      <td>Tuvalu</td>\n",
       "      <td>Oceania</td>\n",
       "      <td>NaN</td>\n",
       "      <td>NaN</td>\n",
       "      <td>NaN</td>\n",
       "    </tr>\n",
       "    <tr>\n",
       "      <th>193</th>\n",
       "      <td>Vanuatu</td>\n",
       "      <td>Oceania</td>\n",
       "      <td>0.8988</td>\n",
       "      <td>82.000000</td>\n",
       "      <td>6.700000</td>\n",
       "    </tr>\n",
       "  </tbody>\n",
       "</table>\n",
       "<p>194 rows × 5 columns</p>\n",
       "</div>"
      ],
      "text/plain": [
       "             country   region  femlab   literacy     school\n",
       "0            Algeria   Africa  0.4522  72.599998   6.716667\n",
       "1              Benin   Africa  0.8482  41.700001   3.100000\n",
       "2           Botswana   Africa  0.8870  84.099998   8.600000\n",
       "3       Burkina Faso   Africa  0.8584  23.600000   1.300000\n",
       "4            Burundi   Africa  1.0344  66.599998   2.483333\n",
       "..               ...      ...     ...        ...        ...\n",
       "189            Samoa  Oceania  0.5010  98.800003  10.300000\n",
       "190  Solomon Islands  Oceania  0.4858        NaN   4.500000\n",
       "191            Tonga  Oceania  0.7150  99.000000  10.133333\n",
       "192           Tuvalu  Oceania     NaN        NaN        NaN\n",
       "193          Vanuatu  Oceania  0.8988  82.000000   6.700000\n",
       "\n",
       "[194 rows x 5 columns]"
      ]
     },
     "execution_count": 3,
     "metadata": {},
     "output_type": "execute_result"
    }
   ],
   "source": [
    "# Agregamos country y region\n",
    "df = df[['country', 'region','femlab','literacy', 'school']]\n",
    "df"
   ]
  },
  {
   "cell_type": "code",
   "execution_count": 4,
   "metadata": {
    "ExecuteTime": {
     "end_time": "2020-12-03T23:38:14.616871Z",
     "start_time": "2020-12-03T23:38:13.681374Z"
    }
   },
   "outputs": [
    {
     "name": "stdout",
     "output_type": "stream",
     "text": [
      "Africa\n",
      "Americas\n",
      "Asia\n",
      "Europe\n",
      "Oceania\n"
     ]
    },
    {
     "data": {
      "text/html": [
       "<div>\n",
       "<style scoped>\n",
       "    .dataframe tbody tr th:only-of-type {\n",
       "        vertical-align: middle;\n",
       "    }\n",
       "\n",
       "    .dataframe tbody tr th {\n",
       "        vertical-align: top;\n",
       "    }\n",
       "\n",
       "    .dataframe thead th {\n",
       "        text-align: right;\n",
       "    }\n",
       "</style>\n",
       "<table border=\"1\" class=\"dataframe\">\n",
       "  <thead>\n",
       "    <tr style=\"text-align: right;\">\n",
       "      <th></th>\n",
       "      <th>country</th>\n",
       "      <th>region</th>\n",
       "      <th>femlab</th>\n",
       "      <th>literacy</th>\n",
       "      <th>school</th>\n",
       "      <th>Africa</th>\n",
       "      <th>Americas</th>\n",
       "      <th>Asia</th>\n",
       "      <th>Europe</th>\n",
       "      <th>Oceania</th>\n",
       "    </tr>\n",
       "  </thead>\n",
       "  <tbody>\n",
       "    <tr>\n",
       "      <th>0</th>\n",
       "      <td>Algeria</td>\n",
       "      <td>Africa</td>\n",
       "      <td>0.4522</td>\n",
       "      <td>72.599998</td>\n",
       "      <td>6.716667</td>\n",
       "      <td>1</td>\n",
       "      <td>0</td>\n",
       "      <td>0</td>\n",
       "      <td>0</td>\n",
       "      <td>0</td>\n",
       "    </tr>\n",
       "    <tr>\n",
       "      <th>1</th>\n",
       "      <td>Benin</td>\n",
       "      <td>Africa</td>\n",
       "      <td>0.8482</td>\n",
       "      <td>41.700001</td>\n",
       "      <td>3.100000</td>\n",
       "      <td>1</td>\n",
       "      <td>0</td>\n",
       "      <td>0</td>\n",
       "      <td>0</td>\n",
       "      <td>0</td>\n",
       "    </tr>\n",
       "    <tr>\n",
       "      <th>2</th>\n",
       "      <td>Botswana</td>\n",
       "      <td>Africa</td>\n",
       "      <td>0.8870</td>\n",
       "      <td>84.099998</td>\n",
       "      <td>8.600000</td>\n",
       "      <td>1</td>\n",
       "      <td>0</td>\n",
       "      <td>0</td>\n",
       "      <td>0</td>\n",
       "      <td>0</td>\n",
       "    </tr>\n",
       "    <tr>\n",
       "      <th>3</th>\n",
       "      <td>Burkina Faso</td>\n",
       "      <td>Africa</td>\n",
       "      <td>0.8584</td>\n",
       "      <td>23.600000</td>\n",
       "      <td>1.300000</td>\n",
       "      <td>1</td>\n",
       "      <td>0</td>\n",
       "      <td>0</td>\n",
       "      <td>0</td>\n",
       "      <td>0</td>\n",
       "    </tr>\n",
       "    <tr>\n",
       "      <th>4</th>\n",
       "      <td>Burundi</td>\n",
       "      <td>Africa</td>\n",
       "      <td>1.0344</td>\n",
       "      <td>66.599998</td>\n",
       "      <td>2.483333</td>\n",
       "      <td>1</td>\n",
       "      <td>0</td>\n",
       "      <td>0</td>\n",
       "      <td>0</td>\n",
       "      <td>0</td>\n",
       "    </tr>\n",
       "    <tr>\n",
       "      <th>...</th>\n",
       "      <td>...</td>\n",
       "      <td>...</td>\n",
       "      <td>...</td>\n",
       "      <td>...</td>\n",
       "      <td>...</td>\n",
       "      <td>...</td>\n",
       "      <td>...</td>\n",
       "      <td>...</td>\n",
       "      <td>...</td>\n",
       "      <td>...</td>\n",
       "    </tr>\n",
       "    <tr>\n",
       "      <th>189</th>\n",
       "      <td>Samoa</td>\n",
       "      <td>Oceania</td>\n",
       "      <td>0.5010</td>\n",
       "      <td>98.800003</td>\n",
       "      <td>10.300000</td>\n",
       "      <td>0</td>\n",
       "      <td>0</td>\n",
       "      <td>0</td>\n",
       "      <td>0</td>\n",
       "      <td>1</td>\n",
       "    </tr>\n",
       "    <tr>\n",
       "      <th>190</th>\n",
       "      <td>Solomon Islands</td>\n",
       "      <td>Oceania</td>\n",
       "      <td>0.4858</td>\n",
       "      <td>NaN</td>\n",
       "      <td>4.500000</td>\n",
       "      <td>0</td>\n",
       "      <td>0</td>\n",
       "      <td>0</td>\n",
       "      <td>0</td>\n",
       "      <td>1</td>\n",
       "    </tr>\n",
       "    <tr>\n",
       "      <th>191</th>\n",
       "      <td>Tonga</td>\n",
       "      <td>Oceania</td>\n",
       "      <td>0.7150</td>\n",
       "      <td>99.000000</td>\n",
       "      <td>10.133333</td>\n",
       "      <td>0</td>\n",
       "      <td>0</td>\n",
       "      <td>0</td>\n",
       "      <td>0</td>\n",
       "      <td>1</td>\n",
       "    </tr>\n",
       "    <tr>\n",
       "      <th>192</th>\n",
       "      <td>Tuvalu</td>\n",
       "      <td>Oceania</td>\n",
       "      <td>NaN</td>\n",
       "      <td>NaN</td>\n",
       "      <td>NaN</td>\n",
       "      <td>0</td>\n",
       "      <td>0</td>\n",
       "      <td>0</td>\n",
       "      <td>0</td>\n",
       "      <td>1</td>\n",
       "    </tr>\n",
       "    <tr>\n",
       "      <th>193</th>\n",
       "      <td>Vanuatu</td>\n",
       "      <td>Oceania</td>\n",
       "      <td>0.8988</td>\n",
       "      <td>82.000000</td>\n",
       "      <td>6.700000</td>\n",
       "      <td>0</td>\n",
       "      <td>0</td>\n",
       "      <td>0</td>\n",
       "      <td>0</td>\n",
       "      <td>1</td>\n",
       "    </tr>\n",
       "  </tbody>\n",
       "</table>\n",
       "<p>194 rows × 10 columns</p>\n",
       "</div>"
      ],
      "text/plain": [
       "             country   region  femlab   literacy     school  Africa  Americas  \\\n",
       "0            Algeria   Africa  0.4522  72.599998   6.716667       1         0   \n",
       "1              Benin   Africa  0.8482  41.700001   3.100000       1         0   \n",
       "2           Botswana   Africa  0.8870  84.099998   8.600000       1         0   \n",
       "3       Burkina Faso   Africa  0.8584  23.600000   1.300000       1         0   \n",
       "4            Burundi   Africa  1.0344  66.599998   2.483333       1         0   \n",
       "..               ...      ...     ...        ...        ...     ...       ...   \n",
       "189            Samoa  Oceania  0.5010  98.800003  10.300000       0         0   \n",
       "190  Solomon Islands  Oceania  0.4858        NaN   4.500000       0         0   \n",
       "191            Tonga  Oceania  0.7150  99.000000  10.133333       0         0   \n",
       "192           Tuvalu  Oceania     NaN        NaN        NaN       0         0   \n",
       "193          Vanuatu  Oceania  0.8988  82.000000   6.700000       0         0   \n",
       "\n",
       "     Asia  Europe  Oceania  \n",
       "0       0       0        0  \n",
       "1       0       0        0  \n",
       "2       0       0        0  \n",
       "3       0       0        0  \n",
       "4       0       0        0  \n",
       "..    ...     ...      ...  \n",
       "189     0       0        1  \n",
       "190     0       0        1  \n",
       "191     0       0        1  \n",
       "192     0       0        1  \n",
       "193     0       0        1  \n",
       "\n",
       "[194 rows x 10 columns]"
      ]
     },
     "execution_count": 4,
     "metadata": {},
     "output_type": "execute_result"
    }
   ],
   "source": [
    "for i in df[\"region\"].unique():\n",
    "    print(i)\n",
    "    df[i] = np.where(df[\"region\"] == i, 1, 0)\n",
    "df"
   ]
  },
  {
   "cell_type": "markdown",
   "metadata": {
    "ExecuteTime": {
     "end_time": "2020-11-24T21:49:29.553046Z",
     "start_time": "2020-11-24T21:49:29.545092Z"
    }
   },
   "source": [
    "### Desafío 3: \n",
    "\n",
    "- La función debe ingresar los siguientes argumentos:\n",
    "    * df : La tabla de datos.\n",
    "    * variable : La variable a analizar.\n",
    "    * binarize : El indicador binario a utilizar.\n",
    "- tips:\n",
    "    * Separe la variable en dos, utilizando el indicador binario. Recuerde eliminar los perdidos\n",
    "con dropna() .\n",
    "    * Implemente ttest_ind de scipy.stats y guarde el valor t y pval .\n",
    "    * Reporte las medias para cada grupo (0 y 1).\n",
    "    * Reporte la diferencia de entre las medias.\n",
    "    * Reporte los valores t y p"
   ]
  },
  {
   "cell_type": "code",
   "execution_count": 5,
   "metadata": {
    "ExecuteTime": {
     "end_time": "2020-12-03T23:38:15.449418Z",
     "start_time": "2020-12-03T23:38:14.617869Z"
    }
   },
   "outputs": [],
   "source": [
    "# rtado = stats.ttest_ind(df[df['Africa']== 1]['femlab'].dropna(), df[df['Africa'] == 0]['femlab'].dropna())"
   ]
  },
  {
   "cell_type": "code",
   "execution_count": 6,
   "metadata": {
    "ExecuteTime": {
     "end_time": "2020-12-03T23:38:15.916124Z",
     "start_time": "2020-12-03T23:38:15.450370Z"
    }
   },
   "outputs": [],
   "source": [
    "def ttest(df,var, binarize):\n",
    "    serie_es = df[df[binarize] == 1][var].dropna()\n",
    "    serie_no_es =df[df[binarize] == 0][var].dropna()\n",
    "    rtado = stats.ttest_ind (serie_es, serie_no_es)\n",
    "    print(f\"El estadistico es {round(rtado[0],2)}\\nEl p-value es {round(rtado[1],2)}\")\n",
    "    if rtado[1] < .05:\n",
    "        print(\"Se rechaza H0 con un nivel de significancia de 0.05\")\n",
    "        print(f\"Por lo que se concluye que el valor que asume la variable {var} en {i} es estadisticamente distinto a los valores que asume en el resto del mundo\")\n",
    "    return          "
   ]
  },
  {
   "cell_type": "code",
   "execution_count": 7,
   "metadata": {
    "ExecuteTime": {
     "end_time": "2020-12-03T23:38:16.409805Z",
     "start_time": "2020-12-03T23:38:15.917121Z"
    }
   },
   "outputs": [
    {
     "name": "stdout",
     "output_type": "stream",
     "text": [
      "AFRICA\n",
      "El estadistico es 1.78\n",
      "El p-value es 0.08\n",
      "----------------\n",
      "\n",
      "AMERICAS\n",
      "El estadistico es -1.37\n",
      "El p-value es 0.17\n",
      "----------------\n",
      "\n",
      "ASIA\n",
      "El estadistico es -3.75\n",
      "El p-value es 0.0\n",
      "Se rechaza H0 con un nivel de significancia de 0.05\n",
      "Por lo que se concluye que el valor que asume la variable femlab en Asia es estadisticamente distinto a los valores que asume en el resto del mundo\n",
      "----------------\n",
      "\n",
      "EUROPE\n",
      "El estadistico es 3.06\n",
      "El p-value es 0.0\n",
      "Se rechaza H0 con un nivel de significancia de 0.05\n",
      "Por lo que se concluye que el valor que asume la variable femlab en Europe es estadisticamente distinto a los valores que asume en el resto del mundo\n",
      "----------------\n",
      "\n",
      "OCEANIA\n",
      "El estadistico es 0.53\n",
      "El p-value es 0.59\n",
      "----------------\n",
      "\n"
     ]
    }
   ],
   "source": [
    "for i in df[\"region\"].unique():\n",
    "    print(i.upper())\n",
    "    ttest(df, 'femlab', i)\n",
    "    print(\"----------------\\n\")"
   ]
  },
  {
   "cell_type": "markdown",
   "metadata": {
    "ExecuteTime": {
     "end_time": "2020-11-24T21:50:21.796594Z",
     "start_time": "2020-11-24T21:50:21.787620Z"
    }
   },
   "source": [
    "### Desafío 4: \n",
    "\n",
    "- Genere una función que devuelva un gráfico donde visualice las dos histogramas cuando la\n",
    "variable es 1 y 0, respectivamente.\n",
    "- tips: Refactorize la función incluyendo el método hist de matplotlib.pyplot .\n",
    "Incluya los argumentos alpha y label .\n",
    "- Para las tres variables de interés acorde a su grupo, analice las diferencias de medias por\n",
    "cada continente, y posteriormente grafique. Concluya con los principales resultados al\n",
    "respecto."
   ]
  },
  {
   "cell_type": "code",
   "execution_count": 8,
   "metadata": {
    "ExecuteTime": {
     "end_time": "2020-12-03T23:38:16.707116Z",
     "start_time": "2020-12-03T23:38:16.412797Z"
    }
   },
   "outputs": [],
   "source": [
    "def plot_hist (df, var , binarize):\n",
    "    es=df[df[binarize]== 1][var].dropna()\n",
    "    no_es=df[df[binarize]== 0][var].dropna()\n",
    "    plt.hist(es, alpha = .5, color = \"purple\", label =f\"{binarize}\")\n",
    "    plt.hist(no_es,alpha = .5, color = \"pink\", label =f\"Resto del Mundo\")\n",
    "    plt.legend()"
   ]
  },
  {
   "cell_type": "code",
   "execution_count": 9,
   "metadata": {
    "ExecuteTime": {
     "end_time": "2020-12-03T23:38:18.131810Z",
     "start_time": "2020-12-03T23:38:16.709067Z"
    }
   },
   "outputs": [
    {
     "data": {
      "image/png": "[encoded data removed]",
      "text/plain": [
       "<Figure size 432x288 with 1 Axes>"
      ]
     },
     "metadata": {
      "needs_background": "light"
     },
     "output_type": "display_data"
    },
    {
     "data": {
      "image/png": "[encoded data removed]",
      "text/plain": [
       "<Figure size 432x288 with 1 Axes>"
      ]
     },
     "metadata": {
      "needs_background": "light"
     },
     "output_type": "display_data"
    },
    {
     "data": {
      "image/png": "[encoded data removed]",
      "text/plain": [
       "<Figure size 432x288 with 1 Axes>"
      ]
     },
     "metadata": {
      "needs_background": "light"
     },
     "output_type": "display_data"
    },
    {
     "data": {
      "image/png": "[encoded data removed]",
      "text/plain": [
       "<Figure size 432x288 with 1 Axes>"
      ]
     },
     "metadata": {
      "needs_background": "light"
     },
     "output_type": "display_data"
    },
    {
     "data": {
      "image/png": "[encoded data removed]",
      "text/plain": [
       "<Figure size 432x288 with 1 Axes>"
      ]
     },
     "metadata": {
      "needs_background": "light"
     },
     "output_type": "display_data"
    }
   ],
   "source": [
    "for i in df[\"region\"].unique():\n",
    "    plot_hist(df,'femlab', i)\n",
    "    plt.show()"
   ]
  },
  {
   "cell_type": "markdown",
   "metadata": {},
   "source": [
    "Para el caso del femlab es posible observar que en los casos en los que no rechazamos la H0 el comportamiento entre la region y el resto del mundo es semejante"
   ]
  }
 ],
 "metadata": {
  "kernelspec": {
   "display_name": "Python 3 (ipykernel)",
   "language": "python",
   "name": "python3"
  },
  "language_info": {
   "codemirror_mode": {
    "name": "ipython",
    "version": 3
   },
   "file_extension": ".py",
   "mimetype": "text/x-python",
   "name": "python",
   "nbconvert_exporter": "python",
   "pygments_lexer": "ipython3",
   "version": "3.9.13"
  },
  "varInspector": {
   "cols": {
    "lenName": 16,
    "lenType": 16,
    "lenVar": 40
   },
   "kernels_config": {
    "python": {
     "delete_cmd_postfix": "",
     "delete_cmd_prefix": "del ",
     "library": "var_list.py",
     "varRefreshCmd": "print(var_dic_list())"
    },
    "r": {
     "delete_cmd_postfix": ") ",
     "delete_cmd_prefix": "rm(",
     "library": "var_list.r",
     "varRefreshCmd": "cat(var_dic_list()) "
    }
   },
   "types_to_exclude": [
    "module",
    "function",
    "builtin_function_or_method",
    "instance",
    "_Feature"
   ],
   "window_display": false
  }
 },
 "nbformat": 4,
 "nbformat_minor": 4
}
