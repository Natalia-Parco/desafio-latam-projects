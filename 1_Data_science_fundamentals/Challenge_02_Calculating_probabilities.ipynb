{
 "cells": [
  {
   "cell_type": "markdown",
   "metadata": {},
   "source": [
    "## Calculando Probabilidades"
   ]
  },
  {
   "cell_type": "markdown",
   "metadata": {
    "heading_collapsed": true
   },
   "source": [
    "#### Desafío 1:\n",
    "- Importe pandas y numpy siguiendo las convenciones.\n",
    "- Lea la base de datos worldcup2014.csv y asígnela a un objeto df.\n",
    "- Solicite las primeras 5 observaciones con head"
   ]
  },
  {
   "cell_type": "code",
   "execution_count": 1,
   "metadata": {
    "ExecuteTime": {
     "end_time": "2020-11-15T15:43:36.755541Z",
     "start_time": "2020-11-15T15:43:34.071133Z"
    },
    "hidden": true
   },
   "outputs": [],
   "source": [
    "import numpy as np\n",
    "import pandas as pd\n",
    "import matplotlib.pyplot as plt\n",
    "import warnings\n",
    "warnings.filterwarnings(\"ignore\")\n",
    "\n",
    "plt.style.use(\"ggplot\")"
   ]
  },
  {
   "cell_type": "code",
   "execution_count": 2,
   "metadata": {
    "ExecuteTime": {
     "end_time": "2020-11-15T15:43:36.794726Z",
     "start_time": "2020-11-15T15:43:36.756538Z"
    },
    "hidden": true
   },
   "outputs": [],
   "source": [
    "df = pd.read_csv(\"worldcup2014.csv\")"
   ]
  },
  {
   "cell_type": "code",
   "execution_count": 3,
   "metadata": {
    "ExecuteTime": {
     "end_time": "2020-11-15T15:43:37.090439Z",
     "start_time": "2020-11-15T15:43:36.799360Z"
    },
    "hidden": true
   },
   "outputs": [
    {
     "data": {
      "text/html": [
       "<div>\n",
       "<style scoped>\n",
       "    .dataframe tbody tr th:only-of-type {\n",
       "        vertical-align: middle;\n",
       "    }\n",
       "\n",
       "    .dataframe tbody tr th {\n",
       "        vertical-align: top;\n",
       "    }\n",
       "\n",
       "    .dataframe thead th {\n",
       "        text-align: right;\n",
       "    }\n",
       "</style>\n",
       "<table border=\"1\" class=\"dataframe\">\n",
       "  <thead>\n",
       "    <tr style=\"text-align: right;\">\n",
       "      <th></th>\n",
       "      <th>team</th>\n",
       "      <th>continent</th>\n",
       "      <th>group</th>\n",
       "      <th>group_pos</th>\n",
       "      <th>cantidad_juegos</th>\n",
       "      <th>juegos_ganados</th>\n",
       "      <th>juegos_empatados</th>\n",
       "      <th>juegos_perdidos</th>\n",
       "      <th>goles_favor</th>\n",
       "      <th>goles_contra</th>\n",
       "      <th>goles_diferencia</th>\n",
       "      <th>puntos</th>\n",
       "      <th>clasificado</th>\n",
       "    </tr>\n",
       "  </thead>\n",
       "  <tbody>\n",
       "    <tr>\n",
       "      <th>0</th>\n",
       "      <td>Brazil</td>\n",
       "      <td>southamerica</td>\n",
       "      <td>A</td>\n",
       "      <td>1</td>\n",
       "      <td>3</td>\n",
       "      <td>2</td>\n",
       "      <td>1</td>\n",
       "      <td>0</td>\n",
       "      <td>7</td>\n",
       "      <td>2</td>\n",
       "      <td>5</td>\n",
       "      <td>7</td>\n",
       "      <td>1</td>\n",
       "    </tr>\n",
       "    <tr>\n",
       "      <th>1</th>\n",
       "      <td>Mexico</td>\n",
       "      <td>northamerica</td>\n",
       "      <td>A</td>\n",
       "      <td>2</td>\n",
       "      <td>3</td>\n",
       "      <td>2</td>\n",
       "      <td>1</td>\n",
       "      <td>0</td>\n",
       "      <td>4</td>\n",
       "      <td>1</td>\n",
       "      <td>3</td>\n",
       "      <td>7</td>\n",
       "      <td>1</td>\n",
       "    </tr>\n",
       "    <tr>\n",
       "      <th>2</th>\n",
       "      <td>Croatia</td>\n",
       "      <td>europe</td>\n",
       "      <td>A</td>\n",
       "      <td>3</td>\n",
       "      <td>3</td>\n",
       "      <td>1</td>\n",
       "      <td>0</td>\n",
       "      <td>2</td>\n",
       "      <td>6</td>\n",
       "      <td>6</td>\n",
       "      <td>0</td>\n",
       "      <td>3</td>\n",
       "      <td>0</td>\n",
       "    </tr>\n",
       "    <tr>\n",
       "      <th>3</th>\n",
       "      <td>Cameroon</td>\n",
       "      <td>africa</td>\n",
       "      <td>A</td>\n",
       "      <td>4</td>\n",
       "      <td>3</td>\n",
       "      <td>0</td>\n",
       "      <td>0</td>\n",
       "      <td>3</td>\n",
       "      <td>1</td>\n",
       "      <td>9</td>\n",
       "      <td>−8</td>\n",
       "      <td>0</td>\n",
       "      <td>0</td>\n",
       "    </tr>\n",
       "    <tr>\n",
       "      <th>4</th>\n",
       "      <td>Netherlands</td>\n",
       "      <td>europe</td>\n",
       "      <td>B</td>\n",
       "      <td>1</td>\n",
       "      <td>3</td>\n",
       "      <td>3</td>\n",
       "      <td>0</td>\n",
       "      <td>0</td>\n",
       "      <td>10</td>\n",
       "      <td>3</td>\n",
       "      <td>7</td>\n",
       "      <td>9</td>\n",
       "      <td>1</td>\n",
       "    </tr>\n",
       "  </tbody>\n",
       "</table>\n",
       "</div>"
      ],
      "text/plain": [
       "          team     continent group  group_pos  cantidad_juegos  \\\n",
       "0       Brazil  southamerica     A          1                3   \n",
       "1       Mexico  northamerica     A          2                3   \n",
       "2      Croatia        europe     A          3                3   \n",
       "3     Cameroon        africa     A          4                3   \n",
       "4  Netherlands        europe     B          1                3   \n",
       "\n",
       "   juegos_ganados  juegos_empatados  juegos_perdidos  goles_favor  \\\n",
       "0               2                 1                0            7   \n",
       "1               2                 1                0            4   \n",
       "2               1                 0                2            6   \n",
       "3               0                 0                3            1   \n",
       "4               3                 0                0           10   \n",
       "\n",
       "   goles_contra goles_diferencia  puntos  clasificado  \n",
       "0             2                5       7            1  \n",
       "1             1                3       7            1  \n",
       "2             6                0       3            0  \n",
       "3             9               −8       0            0  \n",
       "4             3                7       9            1  "
      ]
     },
     "execution_count": 3,
     "metadata": {},
     "output_type": "execute_result"
    }
   ],
   "source": [
    "df.head()"
   ]
  },
  {
   "cell_type": "markdown",
   "metadata": {
    "heading_collapsed": true
   },
   "source": [
    "#### Desafío 2:\n",
    "Utilice value_counts para responder lo siguiente:\n",
    "1. ¿Cuál es el continente con una mayor presencia en la muestra? "
   ]
  },
  {
   "cell_type": "code",
   "execution_count": 4,
   "metadata": {
    "ExecuteTime": {
     "end_time": "2020-11-15T15:43:37.216091Z",
     "start_time": "2020-11-15T15:43:37.090439Z"
    },
    "hidden": true
   },
   "outputs": [
    {
     "name": "stdout",
     "output_type": "stream",
     "text": [
      "europe          13\n",
      "southamerica     6\n",
      "africa           5\n",
      "asia             4\n",
      "northamerica     4\n",
      "Name: continent, dtype: int64\n",
      "\n",
      "El continente con mayor presencia en la muestra es EUROPE\n"
     ]
    }
   ],
   "source": [
    "#Considerando que cada fila del df representa a un equipo que pertenece a un determinado continente\n",
    "continentes= df[\"continent\"].value_counts()\n",
    "print(continentes)\n",
    "print(f\"\\nEl continente con mayor presencia en la muestra es {continentes.index[0].upper()}\")"
   ]
  },
  {
   "cell_type": "code",
   "execution_count": 5,
   "metadata": {
    "ExecuteTime": {
     "end_time": "2020-11-15T15:43:37.668753Z",
     "start_time": "2020-11-15T15:43:37.219186Z"
    },
    "hidden": true
   },
   "outputs": [
    {
     "data": {
      "image/png": "[encoded data removed]",
      "text/plain": [
       "<Figure size 432x288 with 1 Axes>"
      ]
     },
     "metadata": {},
     "output_type": "display_data"
    }
   ],
   "source": [
    "df[\"continent\"].value_counts().plot(kind =\"bar\", color = \"red\")\n",
    "plt.show()"
   ]
  },
  {
   "cell_type": "markdown",
   "metadata": {
    "hidden": true
   },
   "source": [
    "2. ¿Cuál es la probabilidad de elegir un equipo asiático al azar? \n",
    "3. ¿Cuál es la probabilidad de elegir un equipo africano al azar?"
   ]
  },
  {
   "cell_type": "code",
   "execution_count": 6,
   "metadata": {
    "ExecuteTime": {
     "end_time": "2020-11-15T15:43:37.676541Z",
     "start_time": "2020-11-15T15:43:37.671985Z"
    },
    "hidden": true
   },
   "outputs": [],
   "source": [
    "#df[\"continent\"].value_counts(\"%\")\n",
    "#round(df[\"continent\"].value_counts()/len(df),2)\n",
    "#df[\"continent\"].value_counts(normalize = True)"
   ]
  },
  {
   "cell_type": "code",
   "execution_count": 7,
   "metadata": {
    "ExecuteTime": {
     "end_time": "2020-11-15T15:43:37.813307Z",
     "start_time": "2020-11-15T15:43:37.678535Z"
    },
    "hidden": true
   },
   "outputs": [
    {
     "name": "stdout",
     "output_type": "stream",
     "text": [
      "Existe una probabilidad del 0.125 de elegir un país y que el mismo sea del continente asiático.\n",
      "Existe una probabilidad del 0.15625 de elegir un país africano al azar.\n"
     ]
    }
   ],
   "source": [
    "asia = len(df[df[\"continent\"] == \"asia\"]) / len(df[\"continent\"])\n",
    "africa = len(df[df[\"continent\"] == \"africa\"]) / len(df[\"continent\"])\n",
    "print(f\"Existe una probabilidad del {asia} de elegir un país y que el mismo sea del continente asiático.\\nExiste una probabilidad del {africa} de elegir un país africano al azar.\")"
   ]
  },
  {
   "cell_type": "markdown",
   "metadata": {
    "heading_collapsed": true
   },
   "source": [
    "#### Desafío 3:\n",
    "Por cada continente, genere un nuevo objeto que almacene sólo las observaciones del continente\n",
    "- tip: Para ello puede utilizar la siguiente sintáxis: df[df['variable'] == condicion]"
   ]
  },
  {
   "cell_type": "code",
   "execution_count": 8,
   "metadata": {
    "ExecuteTime": {
     "end_time": "2020-11-15T15:43:37.925283Z",
     "start_time": "2020-11-15T15:43:37.825757Z"
    },
    "hidden": true
   },
   "outputs": [],
   "source": [
    "# df_europa = df[df[\"continent\"] == \"europe\"]\n",
    "# df_europa"
   ]
  },
  {
   "cell_type": "code",
   "execution_count": 9,
   "metadata": {
    "ExecuteTime": {
     "end_time": "2020-11-15T15:43:38.070946Z",
     "start_time": "2020-11-15T15:43:37.934091Z"
    },
    "hidden": true
   },
   "outputs": [],
   "source": [
    "# Es un diccionario con todos los continentes\n",
    "dfs_continentes = {}\n",
    "for i in df[\"continent\"].unique():\n",
    "    dfs_continentes[i] = df[df[\"continent\"] == i]"
   ]
  },
  {
   "cell_type": "code",
   "execution_count": 10,
   "metadata": {
    "ExecuteTime": {
     "end_time": "2020-11-15T15:43:38.329850Z",
     "start_time": "2020-11-15T15:43:38.076696Z"
    },
    "hidden": true
   },
   "outputs": [
    {
     "name": "stdout",
     "output_type": "stream",
     "text": [
      "\n",
      "SOUTHAMERICA\n"
     ]
    },
    {
     "data": {
      "text/html": [
       "<div>\n",
       "<style scoped>\n",
       "    .dataframe tbody tr th:only-of-type {\n",
       "        vertical-align: middle;\n",
       "    }\n",
       "\n",
       "    .dataframe tbody tr th {\n",
       "        vertical-align: top;\n",
       "    }\n",
       "\n",
       "    .dataframe thead th {\n",
       "        text-align: right;\n",
       "    }\n",
       "</style>\n",
       "<table border=\"1\" class=\"dataframe\">\n",
       "  <thead>\n",
       "    <tr style=\"text-align: right;\">\n",
       "      <th></th>\n",
       "      <th>team</th>\n",
       "      <th>continent</th>\n",
       "      <th>group</th>\n",
       "      <th>group_pos</th>\n",
       "      <th>cantidad_juegos</th>\n",
       "      <th>juegos_ganados</th>\n",
       "      <th>juegos_empatados</th>\n",
       "      <th>juegos_perdidos</th>\n",
       "      <th>goles_favor</th>\n",
       "      <th>goles_contra</th>\n",
       "      <th>goles_diferencia</th>\n",
       "      <th>puntos</th>\n",
       "      <th>clasificado</th>\n",
       "    </tr>\n",
       "  </thead>\n",
       "  <tbody>\n",
       "    <tr>\n",
       "      <th>0</th>\n",
       "      <td>Brazil</td>\n",
       "      <td>southamerica</td>\n",
       "      <td>A</td>\n",
       "      <td>1</td>\n",
       "      <td>3</td>\n",
       "      <td>2</td>\n",
       "      <td>1</td>\n",
       "      <td>0</td>\n",
       "      <td>7</td>\n",
       "      <td>2</td>\n",
       "      <td>5</td>\n",
       "      <td>7</td>\n",
       "      <td>1</td>\n",
       "    </tr>\n",
       "    <tr>\n",
       "      <th>5</th>\n",
       "      <td>Chile</td>\n",
       "      <td>southamerica</td>\n",
       "      <td>B</td>\n",
       "      <td>2</td>\n",
       "      <td>3</td>\n",
       "      <td>2</td>\n",
       "      <td>0</td>\n",
       "      <td>1</td>\n",
       "      <td>5</td>\n",
       "      <td>3</td>\n",
       "      <td>2</td>\n",
       "      <td>6</td>\n",
       "      <td>1</td>\n",
       "    </tr>\n",
       "    <tr>\n",
       "      <th>8</th>\n",
       "      <td>Colombia</td>\n",
       "      <td>southamerica</td>\n",
       "      <td>C</td>\n",
       "      <td>1</td>\n",
       "      <td>3</td>\n",
       "      <td>3</td>\n",
       "      <td>0</td>\n",
       "      <td>0</td>\n",
       "      <td>9</td>\n",
       "      <td>2</td>\n",
       "      <td>7</td>\n",
       "      <td>9</td>\n",
       "      <td>1</td>\n",
       "    </tr>\n",
       "    <tr>\n",
       "      <th>13</th>\n",
       "      <td>Uruguay</td>\n",
       "      <td>southamerica</td>\n",
       "      <td>D</td>\n",
       "      <td>2</td>\n",
       "      <td>3</td>\n",
       "      <td>2</td>\n",
       "      <td>0</td>\n",
       "      <td>1</td>\n",
       "      <td>4</td>\n",
       "      <td>4</td>\n",
       "      <td>0</td>\n",
       "      <td>6</td>\n",
       "      <td>1</td>\n",
       "    </tr>\n",
       "    <tr>\n",
       "      <th>18</th>\n",
       "      <td>Ecuador</td>\n",
       "      <td>southamerica</td>\n",
       "      <td>E</td>\n",
       "      <td>3</td>\n",
       "      <td>3</td>\n",
       "      <td>1</td>\n",
       "      <td>1</td>\n",
       "      <td>1</td>\n",
       "      <td>3</td>\n",
       "      <td>3</td>\n",
       "      <td>0</td>\n",
       "      <td>4</td>\n",
       "      <td>0</td>\n",
       "    </tr>\n",
       "    <tr>\n",
       "      <th>20</th>\n",
       "      <td>Argentina</td>\n",
       "      <td>southamerica</td>\n",
       "      <td>F</td>\n",
       "      <td>1</td>\n",
       "      <td>3</td>\n",
       "      <td>3</td>\n",
       "      <td>0</td>\n",
       "      <td>0</td>\n",
       "      <td>6</td>\n",
       "      <td>3</td>\n",
       "      <td>3</td>\n",
       "      <td>9</td>\n",
       "      <td>1</td>\n",
       "    </tr>\n",
       "  </tbody>\n",
       "</table>\n",
       "</div>"
      ],
      "text/plain": [
       "         team     continent group  group_pos  cantidad_juegos  juegos_ganados  \\\n",
       "0      Brazil  southamerica     A          1                3               2   \n",
       "5       Chile  southamerica     B          2                3               2   \n",
       "8    Colombia  southamerica     C          1                3               3   \n",
       "13    Uruguay  southamerica     D          2                3               2   \n",
       "18    Ecuador  southamerica     E          3                3               1   \n",
       "20  Argentina  southamerica     F          1                3               3   \n",
       "\n",
       "    juegos_empatados  juegos_perdidos  goles_favor  goles_contra  \\\n",
       "0                  1                0            7             2   \n",
       "5                  0                1            5             3   \n",
       "8                  0                0            9             2   \n",
       "13                 0                1            4             4   \n",
       "18                 1                1            3             3   \n",
       "20                 0                0            6             3   \n",
       "\n",
       "   goles_diferencia  puntos  clasificado  \n",
       "0                 5       7            1  \n",
       "5                 2       6            1  \n",
       "8                 7       9            1  \n",
       "13                0       6            1  \n",
       "18                0       4            0  \n",
       "20                3       9            1  "
      ]
     },
     "metadata": {},
     "output_type": "display_data"
    },
    {
     "name": "stdout",
     "output_type": "stream",
     "text": [
      "\n",
      "NORTHAMERICA\n"
     ]
    },
    {
     "data": {
      "text/html": [
       "<div>\n",
       "<style scoped>\n",
       "    .dataframe tbody tr th:only-of-type {\n",
       "        vertical-align: middle;\n",
       "    }\n",
       "\n",
       "    .dataframe tbody tr th {\n",
       "        vertical-align: top;\n",
       "    }\n",
       "\n",
       "    .dataframe thead th {\n",
       "        text-align: right;\n",
       "    }\n",
       "</style>\n",
       "<table border=\"1\" class=\"dataframe\">\n",
       "  <thead>\n",
       "    <tr style=\"text-align: right;\">\n",
       "      <th></th>\n",
       "      <th>team</th>\n",
       "      <th>continent</th>\n",
       "      <th>group</th>\n",
       "      <th>group_pos</th>\n",
       "      <th>cantidad_juegos</th>\n",
       "      <th>juegos_ganados</th>\n",
       "      <th>juegos_empatados</th>\n",
       "      <th>juegos_perdidos</th>\n",
       "      <th>goles_favor</th>\n",
       "      <th>goles_contra</th>\n",
       "      <th>goles_diferencia</th>\n",
       "      <th>puntos</th>\n",
       "      <th>clasificado</th>\n",
       "    </tr>\n",
       "  </thead>\n",
       "  <tbody>\n",
       "    <tr>\n",
       "      <th>1</th>\n",
       "      <td>Mexico</td>\n",
       "      <td>northamerica</td>\n",
       "      <td>A</td>\n",
       "      <td>2</td>\n",
       "      <td>3</td>\n",
       "      <td>2</td>\n",
       "      <td>1</td>\n",
       "      <td>0</td>\n",
       "      <td>4</td>\n",
       "      <td>1</td>\n",
       "      <td>3</td>\n",
       "      <td>7</td>\n",
       "      <td>1</td>\n",
       "    </tr>\n",
       "    <tr>\n",
       "      <th>12</th>\n",
       "      <td>Costa Rica</td>\n",
       "      <td>northamerica</td>\n",
       "      <td>D</td>\n",
       "      <td>1</td>\n",
       "      <td>3</td>\n",
       "      <td>2</td>\n",
       "      <td>1</td>\n",
       "      <td>0</td>\n",
       "      <td>4</td>\n",
       "      <td>1</td>\n",
       "      <td>3</td>\n",
       "      <td>7</td>\n",
       "      <td>1</td>\n",
       "    </tr>\n",
       "    <tr>\n",
       "      <th>19</th>\n",
       "      <td>Honduras</td>\n",
       "      <td>northamerica</td>\n",
       "      <td>E</td>\n",
       "      <td>4</td>\n",
       "      <td>3</td>\n",
       "      <td>0</td>\n",
       "      <td>0</td>\n",
       "      <td>3</td>\n",
       "      <td>1</td>\n",
       "      <td>8</td>\n",
       "      <td>−7</td>\n",
       "      <td>0</td>\n",
       "      <td>0</td>\n",
       "    </tr>\n",
       "    <tr>\n",
       "      <th>25</th>\n",
       "      <td>United States</td>\n",
       "      <td>northamerica</td>\n",
       "      <td>G</td>\n",
       "      <td>2</td>\n",
       "      <td>3</td>\n",
       "      <td>1</td>\n",
       "      <td>1</td>\n",
       "      <td>1</td>\n",
       "      <td>4</td>\n",
       "      <td>4</td>\n",
       "      <td>0</td>\n",
       "      <td>4</td>\n",
       "      <td>1</td>\n",
       "    </tr>\n",
       "  </tbody>\n",
       "</table>\n",
       "</div>"
      ],
      "text/plain": [
       "             team     continent group  group_pos  cantidad_juegos  \\\n",
       "1          Mexico  northamerica     A          2                3   \n",
       "12     Costa Rica  northamerica     D          1                3   \n",
       "19       Honduras  northamerica     E          4                3   \n",
       "25  United States  northamerica     G          2                3   \n",
       "\n",
       "    juegos_ganados  juegos_empatados  juegos_perdidos  goles_favor  \\\n",
       "1                2                 1                0            4   \n",
       "12               2                 1                0            4   \n",
       "19               0                 0                3            1   \n",
       "25               1                 1                1            4   \n",
       "\n",
       "    goles_contra goles_diferencia  puntos  clasificado  \n",
       "1              1                3       7            1  \n",
       "12             1                3       7            1  \n",
       "19             8               −7       0            0  \n",
       "25             4                0       4            1  "
      ]
     },
     "metadata": {},
     "output_type": "display_data"
    },
    {
     "name": "stdout",
     "output_type": "stream",
     "text": [
      "\n",
      "EUROPE\n"
     ]
    },
    {
     "data": {
      "text/html": [
       "<div>\n",
       "<style scoped>\n",
       "    .dataframe tbody tr th:only-of-type {\n",
       "        vertical-align: middle;\n",
       "    }\n",
       "\n",
       "    .dataframe tbody tr th {\n",
       "        vertical-align: top;\n",
       "    }\n",
       "\n",
       "    .dataframe thead th {\n",
       "        text-align: right;\n",
       "    }\n",
       "</style>\n",
       "<table border=\"1\" class=\"dataframe\">\n",
       "  <thead>\n",
       "    <tr style=\"text-align: right;\">\n",
       "      <th></th>\n",
       "      <th>team</th>\n",
       "      <th>continent</th>\n",
       "      <th>group</th>\n",
       "      <th>group_pos</th>\n",
       "      <th>cantidad_juegos</th>\n",
       "      <th>juegos_ganados</th>\n",
       "      <th>juegos_empatados</th>\n",
       "      <th>juegos_perdidos</th>\n",
       "      <th>goles_favor</th>\n",
       "      <th>goles_contra</th>\n",
       "      <th>goles_diferencia</th>\n",
       "      <th>puntos</th>\n",
       "      <th>clasificado</th>\n",
       "    </tr>\n",
       "  </thead>\n",
       "  <tbody>\n",
       "    <tr>\n",
       "      <th>2</th>\n",
       "      <td>Croatia</td>\n",
       "      <td>europe</td>\n",
       "      <td>A</td>\n",
       "      <td>3</td>\n",
       "      <td>3</td>\n",
       "      <td>1</td>\n",
       "      <td>0</td>\n",
       "      <td>2</td>\n",
       "      <td>6</td>\n",
       "      <td>6</td>\n",
       "      <td>0</td>\n",
       "      <td>3</td>\n",
       "      <td>0</td>\n",
       "    </tr>\n",
       "    <tr>\n",
       "      <th>4</th>\n",
       "      <td>Netherlands</td>\n",
       "      <td>europe</td>\n",
       "      <td>B</td>\n",
       "      <td>1</td>\n",
       "      <td>3</td>\n",
       "      <td>3</td>\n",
       "      <td>0</td>\n",
       "      <td>0</td>\n",
       "      <td>10</td>\n",
       "      <td>3</td>\n",
       "      <td>7</td>\n",
       "      <td>9</td>\n",
       "      <td>1</td>\n",
       "    </tr>\n",
       "    <tr>\n",
       "      <th>6</th>\n",
       "      <td>Spain</td>\n",
       "      <td>europe</td>\n",
       "      <td>B</td>\n",
       "      <td>3</td>\n",
       "      <td>3</td>\n",
       "      <td>1</td>\n",
       "      <td>0</td>\n",
       "      <td>2</td>\n",
       "      <td>4</td>\n",
       "      <td>7</td>\n",
       "      <td>−3</td>\n",
       "      <td>3</td>\n",
       "      <td>0</td>\n",
       "    </tr>\n",
       "    <tr>\n",
       "      <th>9</th>\n",
       "      <td>Greece</td>\n",
       "      <td>europe</td>\n",
       "      <td>C</td>\n",
       "      <td>2</td>\n",
       "      <td>3</td>\n",
       "      <td>1</td>\n",
       "      <td>1</td>\n",
       "      <td>1</td>\n",
       "      <td>2</td>\n",
       "      <td>4</td>\n",
       "      <td>−2</td>\n",
       "      <td>4</td>\n",
       "      <td>1</td>\n",
       "    </tr>\n",
       "    <tr>\n",
       "      <th>14</th>\n",
       "      <td>Italy</td>\n",
       "      <td>europe</td>\n",
       "      <td>D</td>\n",
       "      <td>3</td>\n",
       "      <td>3</td>\n",
       "      <td>1</td>\n",
       "      <td>0</td>\n",
       "      <td>2</td>\n",
       "      <td>2</td>\n",
       "      <td>3</td>\n",
       "      <td>−1</td>\n",
       "      <td>3</td>\n",
       "      <td>0</td>\n",
       "    </tr>\n",
       "    <tr>\n",
       "      <th>15</th>\n",
       "      <td>England</td>\n",
       "      <td>europe</td>\n",
       "      <td>D</td>\n",
       "      <td>4</td>\n",
       "      <td>3</td>\n",
       "      <td>0</td>\n",
       "      <td>1</td>\n",
       "      <td>2</td>\n",
       "      <td>2</td>\n",
       "      <td>4</td>\n",
       "      <td>−2</td>\n",
       "      <td>1</td>\n",
       "      <td>0</td>\n",
       "    </tr>\n",
       "    <tr>\n",
       "      <th>16</th>\n",
       "      <td>France</td>\n",
       "      <td>europe</td>\n",
       "      <td>E</td>\n",
       "      <td>1</td>\n",
       "      <td>3</td>\n",
       "      <td>2</td>\n",
       "      <td>1</td>\n",
       "      <td>0</td>\n",
       "      <td>8</td>\n",
       "      <td>2</td>\n",
       "      <td>6</td>\n",
       "      <td>7</td>\n",
       "      <td>1</td>\n",
       "    </tr>\n",
       "    <tr>\n",
       "      <th>17</th>\n",
       "      <td>Switzerland</td>\n",
       "      <td>europe</td>\n",
       "      <td>E</td>\n",
       "      <td>2</td>\n",
       "      <td>3</td>\n",
       "      <td>2</td>\n",
       "      <td>0</td>\n",
       "      <td>1</td>\n",
       "      <td>7</td>\n",
       "      <td>6</td>\n",
       "      <td>1</td>\n",
       "      <td>6</td>\n",
       "      <td>1</td>\n",
       "    </tr>\n",
       "    <tr>\n",
       "      <th>22</th>\n",
       "      <td>Bosnia and Herzegovina</td>\n",
       "      <td>europe</td>\n",
       "      <td>F</td>\n",
       "      <td>3</td>\n",
       "      <td>3</td>\n",
       "      <td>1</td>\n",
       "      <td>0</td>\n",
       "      <td>2</td>\n",
       "      <td>4</td>\n",
       "      <td>4</td>\n",
       "      <td>0</td>\n",
       "      <td>3</td>\n",
       "      <td>0</td>\n",
       "    </tr>\n",
       "    <tr>\n",
       "      <th>24</th>\n",
       "      <td>Germany</td>\n",
       "      <td>europe</td>\n",
       "      <td>G</td>\n",
       "      <td>1</td>\n",
       "      <td>3</td>\n",
       "      <td>2</td>\n",
       "      <td>1</td>\n",
       "      <td>0</td>\n",
       "      <td>7</td>\n",
       "      <td>2</td>\n",
       "      <td>5</td>\n",
       "      <td>7</td>\n",
       "      <td>1</td>\n",
       "    </tr>\n",
       "    <tr>\n",
       "      <th>26</th>\n",
       "      <td>Portugal</td>\n",
       "      <td>europe</td>\n",
       "      <td>G</td>\n",
       "      <td>3</td>\n",
       "      <td>3</td>\n",
       "      <td>1</td>\n",
       "      <td>1</td>\n",
       "      <td>1</td>\n",
       "      <td>4</td>\n",
       "      <td>7</td>\n",
       "      <td>−3</td>\n",
       "      <td>4</td>\n",
       "      <td>0</td>\n",
       "    </tr>\n",
       "    <tr>\n",
       "      <th>28</th>\n",
       "      <td>Belgium</td>\n",
       "      <td>europe</td>\n",
       "      <td>H</td>\n",
       "      <td>1</td>\n",
       "      <td>3</td>\n",
       "      <td>3</td>\n",
       "      <td>0</td>\n",
       "      <td>0</td>\n",
       "      <td>4</td>\n",
       "      <td>1</td>\n",
       "      <td>3</td>\n",
       "      <td>9</td>\n",
       "      <td>1</td>\n",
       "    </tr>\n",
       "    <tr>\n",
       "      <th>30</th>\n",
       "      <td>Russia</td>\n",
       "      <td>europe</td>\n",
       "      <td>H</td>\n",
       "      <td>3</td>\n",
       "      <td>3</td>\n",
       "      <td>0</td>\n",
       "      <td>2</td>\n",
       "      <td>1</td>\n",
       "      <td>2</td>\n",
       "      <td>3</td>\n",
       "      <td>−1</td>\n",
       "      <td>2</td>\n",
       "      <td>0</td>\n",
       "    </tr>\n",
       "  </tbody>\n",
       "</table>\n",
       "</div>"
      ],
      "text/plain": [
       "                      team continent group  group_pos  cantidad_juegos  \\\n",
       "2                  Croatia    europe     A          3                3   \n",
       "4              Netherlands    europe     B          1                3   \n",
       "6                    Spain    europe     B          3                3   \n",
       "9                   Greece    europe     C          2                3   \n",
       "14                   Italy    europe     D          3                3   \n",
       "15                 England    europe     D          4                3   \n",
       "16                  France    europe     E          1                3   \n",
       "17             Switzerland    europe     E          2                3   \n",
       "22  Bosnia and Herzegovina    europe     F          3                3   \n",
       "24                 Germany    europe     G          1                3   \n",
       "26                Portugal    europe     G          3                3   \n",
       "28                 Belgium    europe     H          1                3   \n",
       "30                  Russia    europe     H          3                3   \n",
       "\n",
       "    juegos_ganados  juegos_empatados  juegos_perdidos  goles_favor  \\\n",
       "2                1                 0                2            6   \n",
       "4                3                 0                0           10   \n",
       "6                1                 0                2            4   \n",
       "9                1                 1                1            2   \n",
       "14               1                 0                2            2   \n",
       "15               0                 1                2            2   \n",
       "16               2                 1                0            8   \n",
       "17               2                 0                1            7   \n",
       "22               1                 0                2            4   \n",
       "24               2                 1                0            7   \n",
       "26               1                 1                1            4   \n",
       "28               3                 0                0            4   \n",
       "30               0                 2                1            2   \n",
       "\n",
       "    goles_contra goles_diferencia  puntos  clasificado  \n",
       "2              6                0       3            0  \n",
       "4              3                7       9            1  \n",
       "6              7               −3       3            0  \n",
       "9              4               −2       4            1  \n",
       "14             3               −1       3            0  \n",
       "15             4               −2       1            0  \n",
       "16             2                6       7            1  \n",
       "17             6                1       6            1  \n",
       "22             4                0       3            0  \n",
       "24             2                5       7            1  \n",
       "26             7               −3       4            0  \n",
       "28             1                3       9            1  \n",
       "30             3               −1       2            0  "
      ]
     },
     "metadata": {},
     "output_type": "display_data"
    },
    {
     "name": "stdout",
     "output_type": "stream",
     "text": [
      "\n",
      "AFRICA\n"
     ]
    },
    {
     "data": {
      "text/html": [
       "<div>\n",
       "<style scoped>\n",
       "    .dataframe tbody tr th:only-of-type {\n",
       "        vertical-align: middle;\n",
       "    }\n",
       "\n",
       "    .dataframe tbody tr th {\n",
       "        vertical-align: top;\n",
       "    }\n",
       "\n",
       "    .dataframe thead th {\n",
       "        text-align: right;\n",
       "    }\n",
       "</style>\n",
       "<table border=\"1\" class=\"dataframe\">\n",
       "  <thead>\n",
       "    <tr style=\"text-align: right;\">\n",
       "      <th></th>\n",
       "      <th>team</th>\n",
       "      <th>continent</th>\n",
       "      <th>group</th>\n",
       "      <th>group_pos</th>\n",
       "      <th>cantidad_juegos</th>\n",
       "      <th>juegos_ganados</th>\n",
       "      <th>juegos_empatados</th>\n",
       "      <th>juegos_perdidos</th>\n",
       "      <th>goles_favor</th>\n",
       "      <th>goles_contra</th>\n",
       "      <th>goles_diferencia</th>\n",
       "      <th>puntos</th>\n",
       "      <th>clasificado</th>\n",
       "    </tr>\n",
       "  </thead>\n",
       "  <tbody>\n",
       "    <tr>\n",
       "      <th>3</th>\n",
       "      <td>Cameroon</td>\n",
       "      <td>africa</td>\n",
       "      <td>A</td>\n",
       "      <td>4</td>\n",
       "      <td>3</td>\n",
       "      <td>0</td>\n",
       "      <td>0</td>\n",
       "      <td>3</td>\n",
       "      <td>1</td>\n",
       "      <td>9</td>\n",
       "      <td>−8</td>\n",
       "      <td>0</td>\n",
       "      <td>0</td>\n",
       "    </tr>\n",
       "    <tr>\n",
       "      <th>10</th>\n",
       "      <td>Ivory Coast</td>\n",
       "      <td>africa</td>\n",
       "      <td>C</td>\n",
       "      <td>3</td>\n",
       "      <td>3</td>\n",
       "      <td>1</td>\n",
       "      <td>0</td>\n",
       "      <td>2</td>\n",
       "      <td>4</td>\n",
       "      <td>5</td>\n",
       "      <td>−1</td>\n",
       "      <td>3</td>\n",
       "      <td>0</td>\n",
       "    </tr>\n",
       "    <tr>\n",
       "      <th>21</th>\n",
       "      <td>Nigeria</td>\n",
       "      <td>africa</td>\n",
       "      <td>F</td>\n",
       "      <td>2</td>\n",
       "      <td>3</td>\n",
       "      <td>1</td>\n",
       "      <td>1</td>\n",
       "      <td>1</td>\n",
       "      <td>3</td>\n",
       "      <td>3</td>\n",
       "      <td>0</td>\n",
       "      <td>4</td>\n",
       "      <td>1</td>\n",
       "    </tr>\n",
       "    <tr>\n",
       "      <th>27</th>\n",
       "      <td>Ghana</td>\n",
       "      <td>africa</td>\n",
       "      <td>G</td>\n",
       "      <td>4</td>\n",
       "      <td>3</td>\n",
       "      <td>0</td>\n",
       "      <td>1</td>\n",
       "      <td>2</td>\n",
       "      <td>4</td>\n",
       "      <td>6</td>\n",
       "      <td>−2</td>\n",
       "      <td>1</td>\n",
       "      <td>0</td>\n",
       "    </tr>\n",
       "    <tr>\n",
       "      <th>29</th>\n",
       "      <td>Algeria</td>\n",
       "      <td>africa</td>\n",
       "      <td>H</td>\n",
       "      <td>2</td>\n",
       "      <td>3</td>\n",
       "      <td>1</td>\n",
       "      <td>1</td>\n",
       "      <td>1</td>\n",
       "      <td>6</td>\n",
       "      <td>5</td>\n",
       "      <td>1</td>\n",
       "      <td>4</td>\n",
       "      <td>1</td>\n",
       "    </tr>\n",
       "  </tbody>\n",
       "</table>\n",
       "</div>"
      ],
      "text/plain": [
       "           team continent group  group_pos  cantidad_juegos  juegos_ganados  \\\n",
       "3      Cameroon    africa     A          4                3               0   \n",
       "10  Ivory Coast    africa     C          3                3               1   \n",
       "21      Nigeria    africa     F          2                3               1   \n",
       "27        Ghana    africa     G          4                3               0   \n",
       "29      Algeria    africa     H          2                3               1   \n",
       "\n",
       "    juegos_empatados  juegos_perdidos  goles_favor  goles_contra  \\\n",
       "3                  0                3            1             9   \n",
       "10                 0                2            4             5   \n",
       "21                 1                1            3             3   \n",
       "27                 1                2            4             6   \n",
       "29                 1                1            6             5   \n",
       "\n",
       "   goles_diferencia  puntos  clasificado  \n",
       "3                −8       0            0  \n",
       "10               −1       3            0  \n",
       "21                0       4            1  \n",
       "27               −2       1            0  \n",
       "29                1       4            1  "
      ]
     },
     "metadata": {},
     "output_type": "display_data"
    },
    {
     "name": "stdout",
     "output_type": "stream",
     "text": [
      "\n",
      "ASIA\n"
     ]
    },
    {
     "data": {
      "text/html": [
       "<div>\n",
       "<style scoped>\n",
       "    .dataframe tbody tr th:only-of-type {\n",
       "        vertical-align: middle;\n",
       "    }\n",
       "\n",
       "    .dataframe tbody tr th {\n",
       "        vertical-align: top;\n",
       "    }\n",
       "\n",
       "    .dataframe thead th {\n",
       "        text-align: right;\n",
       "    }\n",
       "</style>\n",
       "<table border=\"1\" class=\"dataframe\">\n",
       "  <thead>\n",
       "    <tr style=\"text-align: right;\">\n",
       "      <th></th>\n",
       "      <th>team</th>\n",
       "      <th>continent</th>\n",
       "      <th>group</th>\n",
       "      <th>group_pos</th>\n",
       "      <th>cantidad_juegos</th>\n",
       "      <th>juegos_ganados</th>\n",
       "      <th>juegos_empatados</th>\n",
       "      <th>juegos_perdidos</th>\n",
       "      <th>goles_favor</th>\n",
       "      <th>goles_contra</th>\n",
       "      <th>goles_diferencia</th>\n",
       "      <th>puntos</th>\n",
       "      <th>clasificado</th>\n",
       "    </tr>\n",
       "  </thead>\n",
       "  <tbody>\n",
       "    <tr>\n",
       "      <th>7</th>\n",
       "      <td>Australia</td>\n",
       "      <td>asia</td>\n",
       "      <td>B</td>\n",
       "      <td>4</td>\n",
       "      <td>3</td>\n",
       "      <td>0</td>\n",
       "      <td>0</td>\n",
       "      <td>3</td>\n",
       "      <td>3</td>\n",
       "      <td>9</td>\n",
       "      <td>−6</td>\n",
       "      <td>0</td>\n",
       "      <td>0</td>\n",
       "    </tr>\n",
       "    <tr>\n",
       "      <th>11</th>\n",
       "      <td>Japan</td>\n",
       "      <td>asia</td>\n",
       "      <td>C</td>\n",
       "      <td>4</td>\n",
       "      <td>3</td>\n",
       "      <td>0</td>\n",
       "      <td>1</td>\n",
       "      <td>2</td>\n",
       "      <td>2</td>\n",
       "      <td>6</td>\n",
       "      <td>−4</td>\n",
       "      <td>1</td>\n",
       "      <td>0</td>\n",
       "    </tr>\n",
       "    <tr>\n",
       "      <th>23</th>\n",
       "      <td>Iran</td>\n",
       "      <td>asia</td>\n",
       "      <td>F</td>\n",
       "      <td>4</td>\n",
       "      <td>3</td>\n",
       "      <td>0</td>\n",
       "      <td>1</td>\n",
       "      <td>2</td>\n",
       "      <td>1</td>\n",
       "      <td>4</td>\n",
       "      <td>−3</td>\n",
       "      <td>1</td>\n",
       "      <td>0</td>\n",
       "    </tr>\n",
       "    <tr>\n",
       "      <th>31</th>\n",
       "      <td>South Korea</td>\n",
       "      <td>asia</td>\n",
       "      <td>H</td>\n",
       "      <td>4</td>\n",
       "      <td>3</td>\n",
       "      <td>0</td>\n",
       "      <td>1</td>\n",
       "      <td>2</td>\n",
       "      <td>3</td>\n",
       "      <td>6</td>\n",
       "      <td>−3</td>\n",
       "      <td>1</td>\n",
       "      <td>0</td>\n",
       "    </tr>\n",
       "  </tbody>\n",
       "</table>\n",
       "</div>"
      ],
      "text/plain": [
       "           team continent group  group_pos  cantidad_juegos  juegos_ganados  \\\n",
       "7     Australia      asia     B          4                3               0   \n",
       "11        Japan      asia     C          4                3               0   \n",
       "23         Iran      asia     F          4                3               0   \n",
       "31  South Korea      asia     H          4                3               0   \n",
       "\n",
       "    juegos_empatados  juegos_perdidos  goles_favor  goles_contra  \\\n",
       "7                  0                3            3             9   \n",
       "11                 1                2            2             6   \n",
       "23                 1                2            1             4   \n",
       "31                 1                2            3             6   \n",
       "\n",
       "   goles_diferencia  puntos  clasificado  \n",
       "7                −6       0            0  \n",
       "11               −4       1            0  \n",
       "23               −3       1            0  \n",
       "31               −3       1            0  "
      ]
     },
     "metadata": {},
     "output_type": "display_data"
    }
   ],
   "source": [
    "for k, v in dfs_continentes.items():\n",
    "    print(f\"\\n{k.upper()}\")\n",
    "    display(v)"
   ]
  },
  {
   "cell_type": "markdown",
   "metadata": {
    "heading_collapsed": true
   },
   "source": [
    "#### Desafío 4:\n",
    "Pase todos los objetos creados en un loop que imprima la probabilidad de pasar a la siguiente ronda por continente.\n",
    "\n",
    "-tip: Genere un array que contenga los objetos a pasar en el loop.\n"
   ]
  },
  {
   "cell_type": "code",
   "execution_count": 11,
   "metadata": {
    "ExecuteTime": {
     "end_time": "2020-11-15T15:43:38.337773Z",
     "start_time": "2020-11-15T15:43:38.332074Z"
    },
    "hidden": true
   },
   "outputs": [],
   "source": [
    "# Columna con 1 si clasificó u 0 cuando no clasificó\n",
    "#df[\"clasificado\"].value_counts()"
   ]
  },
  {
   "cell_type": "code",
   "execution_count": 12,
   "metadata": {
    "ExecuteTime": {
     "end_time": "2020-11-15T15:43:38.465078Z",
     "start_time": "2020-11-15T15:43:38.339574Z"
    },
    "hidden": true
   },
   "outputs": [
    {
     "name": "stdout",
     "output_type": "stream",
     "text": [
      "La probabilidad de pasar a la siguiente ronda para SOUTHAMERICA es de 0.83\n",
      "La probabilidad de pasar a la siguiente ronda para NORTHAMERICA es de 0.75\n",
      "La probabilidad de pasar a la siguiente ronda para EUROPE es de 0.46\n",
      "La probabilidad de pasar a la siguiente ronda para AFRICA es de 0.4\n",
      "La probabilidad de pasar a la siguiente ronda para ASIA es de 0.0\n"
     ]
    }
   ],
   "source": [
    "# El tipo de dato utilizado es dataframe por eso se le pone []\n",
    "for k, v in dfs_continentes.items():\n",
    "    prob = round((dfs_continentes[k][\"clasificado\"].sum()/len(dfs_continentes[k][\"clasificado\"])),2)\n",
    "    print(f\"La probabilidad de pasar a la siguiente ronda para {k.upper()} es de {prob}\")\n",
    "    #display(dfs_continentes[k][\"clasificado\"].value_counts(\"%\"))\n"
   ]
  },
  {
   "cell_type": "markdown",
   "metadata": {
    "hidden": true
   },
   "source": [
    "- ¿Cuál fue la probabilidad de que un país asiático pase a la siguiente ronda? "
   ]
  },
  {
   "cell_type": "code",
   "execution_count": 13,
   "metadata": {
    "ExecuteTime": {
     "end_time": "2020-11-15T15:43:38.594113Z",
     "start_time": "2020-11-15T15:43:38.473029Z"
    },
    "hidden": true
   },
   "outputs": [
    {
     "name": "stdout",
     "output_type": "stream",
     "text": [
      "La probabilidad de que un país asiático pase a la siguiente ronda es nula\n"
     ]
    }
   ],
   "source": [
    "#prob_asia = round((dfs_continentes[\"asia\"][\"clasificado\"].sum()/len(dfs_continentes[\"asia\"][\"clasificado\"])),2)\n",
    "print(\"La probabilidad de que un país asiático pase a la siguiente ronda es nula\")"
   ]
  },
  {
   "cell_type": "markdown",
   "metadata": {
    "hidden": true
   },
   "source": [
    "- ¿Cuáles fueron los dos continentes que tuvieron la mayor probabilidad de clasificar?\n"
   ]
  },
  {
   "cell_type": "code",
   "execution_count": 14,
   "metadata": {
    "ExecuteTime": {
     "end_time": "2020-11-15T15:43:38.693366Z",
     "start_time": "2020-11-15T15:43:38.599241Z"
    },
    "hidden": true
   },
   "outputs": [
    {
     "name": "stdout",
     "output_type": "stream",
     "text": [
      "El continente americano fue el que mayor probabilidad de clasificar tuvo.\n"
     ]
    }
   ],
   "source": [
    "print(\"El continente americano fue el que mayor probabilidad de clasificar tuvo.\")"
   ]
  },
  {
   "cell_type": "markdown",
   "metadata": {
    "hidden": true
   },
   "source": [
    "- ¿Cuál fue la probabilidad de no clasificar de un país europeo?"
   ]
  },
  {
   "cell_type": "code",
   "execution_count": 15,
   "metadata": {
    "ExecuteTime": {
     "end_time": "2020-11-15T15:43:38.849641Z",
     "start_time": "2020-11-15T15:43:38.697369Z"
    },
    "hidden": true
   },
   "outputs": [
    {
     "name": "stdout",
     "output_type": "stream",
     "text": [
      "La probabilidad de no clasificar siendo un país europeo es de 0.54\n"
     ]
    }
   ],
   "source": [
    "prob_europa = 1-(dfs_continentes[\"europe\"][\"clasificado\"].sum()/len(dfs_continentes[\"europe\"][\"clasificado\"]))\n",
    "print(f\"La probabilidad de no clasificar siendo un país europeo es de {round(prob_europa,2)}\")"
   ]
  },
  {
   "cell_type": "markdown",
   "metadata": {},
   "source": [
    "#### Desafío 5:\n",
    "A continuación se presenta un loop que cuenta las **probabilidades de juegos ganados**.\n",
    "\n",
    "Se pide que value_counts cuente los juegos no ganados y ganados, ignorando la cantidad de juegos. Para ello puede utilizar np.where, que devuelve un array con valores imputados cuando se satisface una condición. En este caso, debemos clasificar como 0 cuando los juegos ganados sean igual a 0, y 1 cuando sean igual o mayor a 1. Este array es difícil de trabajar, por lo que pueden transformarlo con pd.Series para utilizar value_counts."
   ]
  },
  {
   "cell_type": "code",
   "execution_count": 16,
   "metadata": {
    "ExecuteTime": {
     "end_time": "2020-11-15T15:43:38.996362Z",
     "start_time": "2020-11-15T15:43:38.852855Z"
    }
   },
   "outputs": [],
   "source": [
    "#df[\"gano al menos uno\"] = pd.Series(np.where(df[\"juegos_ganados\"] > 0, 1, 0))\n",
    "#df.head(2)"
   ]
  },
  {
   "cell_type": "markdown",
   "metadata": {},
   "source": [
    "En base a la refactorización del código, responda lo siguiente:\n",
    "1. De acuerdo a la **totalidad de partidos jugados** (denominador-es el \"dado que\"), ¿Qué continente tuvo una mayor probabilidad de ganar? ¿Qué continente presentó un nivel similar entre juegos ganados y perdidos?\n",
    "2. Utilize el código para el caso de juegos perdidos y analize el continente con una mayor probabilidad de perder."
   ]
  },
  {
   "cell_type": "code",
   "execution_count": 17,
   "metadata": {
    "ExecuteTime": {
     "end_time": "2020-11-15T15:43:39.199490Z",
     "start_time": "2020-11-15T15:43:39.005803Z"
    },
    "scrolled": true
   },
   "outputs": [
    {
     "name": "stdout",
     "output_type": "stream",
     "text": [
      "Se jugaron 48.0 partidos en total.\n",
      "Juegos Empatados: 9.0\n",
      "La probabilidad de empatar es:0.1875\n",
      "\n",
      "------------------------------------------------------\n",
      "SOUTHAMERICA\n",
      "Cantidad de países: 6\n",
      "\n",
      "Juegos Ganados: 13\n",
      "La probabilidad de ganar un partido es de: 0.271\n",
      "\n",
      "Juegos Perdidos: 3\n",
      "La probabilidad de perder un partido es de: 0.062\n",
      "\n",
      "------------------------------------------------------\n",
      "\n",
      "------------------------------------------------------\n",
      "NORTHAMERICA\n",
      "Cantidad de países: 4\n",
      "\n",
      "Juegos Ganados: 5\n",
      "La probabilidad de ganar un partido es de: 0.104\n",
      "\n",
      "Juegos Perdidos: 4\n",
      "La probabilidad de perder un partido es de: 0.083\n",
      "\n",
      "------------------------------------------------------\n",
      "\n",
      "------------------------------------------------------\n",
      "EUROPE\n",
      "Cantidad de países: 13\n",
      "\n",
      "Juegos Ganados: 18\n",
      "La probabilidad de ganar un partido es de: 0.375\n",
      "\n",
      "Juegos Perdidos: 14\n",
      "La probabilidad de perder un partido es de: 0.292\n",
      "\n",
      "------------------------------------------------------\n",
      "\n",
      "------------------------------------------------------\n",
      "AFRICA\n",
      "Cantidad de países: 5\n",
      "\n",
      "Juegos Ganados: 3\n",
      "La probabilidad de ganar un partido es de: 0.062\n",
      "\n",
      "Juegos Perdidos: 9\n",
      "La probabilidad de perder un partido es de: 0.188\n",
      "\n",
      "------------------------------------------------------\n",
      "\n",
      "------------------------------------------------------\n",
      "ASIA\n",
      "Cantidad de países: 4\n",
      "\n",
      "Juegos Ganados: 0\n",
      "La probabilidad de ganar un partido es de: 0.0\n",
      "\n",
      "Juegos Perdidos: 9\n",
      "La probabilidad de perder un partido es de: 0.188\n",
      "\n",
      "------------------------------------------------------\n"
     ]
    }
   ],
   "source": [
    "# Lo que entendí de la consigna:\n",
    "\n",
    "# Totalidad de juegos jugados: \n",
    "totalidad = df[\"cantidad_juegos\"].sum()/2\n",
    "print(f\"Se jugaron {totalidad} partidos en total.\")\n",
    "    \n",
    "# Juegos Empatados\n",
    "juegos_empatados = (df[\"juegos_empatados\"].sum())/2\n",
    "print(f\"Juegos Empatados: {juegos_empatados}\") \n",
    "print(f\"La probabilidad de empatar es:{juegos_empatados/totalidad}\")\n",
    "\n",
    "\n",
    "for clave, valor in dfs_continentes.items():\n",
    "    \n",
    "    # El continente gano o no al menos un juego\n",
    "    dfs_continentes[clave][\"gano al menos uno\"] = np.where(dfs_continentes[clave][\"juegos_ganados\"] > 0, 1, 0)    \n",
    "    \n",
    "    print(\"\\n------------------------------------------------------\") \n",
    "    \n",
    "    print(f\"{clave.upper()}\")\n",
    "    cantidad_paises = len(dfs_continentes[clave])\n",
    "    print(f\"Cantidad de países: {cantidad_paises}\\n\")\n",
    "\n",
    "      \n",
    "    # Juegos Ganados por continente\n",
    "    juegos_ganados = dfs_continentes[clave][\"juegos_ganados\"].sum()\n",
    "    print(f\"Juegos Ganados: {juegos_ganados}\")\n",
    "\n",
    "    # Probabilidad de ganar por continente un partido\n",
    "    prob_ganar = (dfs_continentes[clave][\"juegos_ganados\"].sum() / totalidad) #/ cantidad_paises\n",
    "    print(f\"La probabilidad de ganar un partido es de: {round(prob_ganar,3)}\\n\")\n",
    "    \n",
    " \n",
    "\n",
    "    # Juegos Perdidos por continente\n",
    "    juegos_perdidos = dfs_continentes[clave][\"juegos_perdidos\"].sum()\n",
    "    print(f\"Juegos Perdidos: {juegos_perdidos}\")\n",
    "\n",
    "    # Probabilidad de perder por continente un partido\n",
    "    prob_perder = (dfs_continentes[clave][\"juegos_perdidos\"].sum() / totalidad)# / cantidad_paises\n",
    "    print(f\"La probabilidad de perder un partido es de: {round(prob_perder,3)}\\n\")\n",
    "    \n",
    "         \n",
    "    \n",
    "    print(\"------------------------------------------------------\")\n",
    "\n",
    "        \n",
    "\n",
    "    #display(valor)"
   ]
  },
  {
   "cell_type": "code",
   "execution_count": 18,
   "metadata": {
    "ExecuteTime": {
     "end_time": "2020-11-15T15:43:39.284961Z",
     "start_time": "2020-11-15T15:43:39.201518Z"
    }
   },
   "outputs": [
    {
     "name": "stdout",
     "output_type": "stream",
     "text": [
      "El continente que tiene una mayor probabilidad de ganar un partido es Europa.\n",
      "El continente que tuvo un nivel similar de juegos ganados y perdidos es NORTHAMERICA.\n",
      "El continente que tiene una mayor probabilidad de perder un partido es Europa.\n"
     ]
    }
   ],
   "source": [
    "print(\"El continente que tiene una mayor probabilidad de ganar un partido es Europa.\")\n",
    "print(\"El continente que tuvo un nivel similar de juegos ganados y perdidos es NORTHAMERICA.\")\n",
    "print(\"El continente que tiene una mayor probabilidad de perder un partido es Europa.\")"
   ]
  },
  {
   "cell_type": "code",
   "execution_count": 19,
   "metadata": {
    "ExecuteTime": {
     "end_time": "2020-11-15T15:43:39.404265Z",
     "start_time": "2020-11-15T15:43:39.287988Z"
    }
   },
   "outputs": [
    {
     "name": "stdout",
     "output_type": "stream",
     "text": [
      " No se si es correcto dividir por la cantidad de países que pertenecen al continente pero si no consideramos esto la mayor probabilidad de ganar y perder es de Europa por la cantidad de partidos jugados.\n",
      " Si dividimos por la cantidad de países pertenecientes al continente el país con mayor probabilidad de ganar es SOUTHAMERICA y de perder es ASIA\n"
     ]
    }
   ],
   "source": [
    "print(\" No se si es correcto dividir por la cantidad de países que pertenecen al continente pero si no consideramos esto la mayor probabilidad de ganar y perder es de Europa por la cantidad de partidos jugados.\\n Si dividimos por la cantidad de países pertenecientes al continente el país con mayor probabilidad de ganar es SOUTHAMERICA y de perder es ASIA\") "
   ]
  },
  {
   "cell_type": "code",
   "execution_count": 20,
   "metadata": {
    "ExecuteTime": {
     "end_time": "2020-11-15T15:43:39.535316Z",
     "start_time": "2020-11-15T15:43:39.406872Z"
    }
   },
   "outputs": [
    {
     "name": "stdout",
     "output_type": "stream",
     "text": [
      "La probabilidad de ganar al menos un partido siendo del continente southamerica es de: 1.0\n",
      "La probabilidad de perder al menos un partido siendo del continente southamerica es de: 0.0\n",
      "\n",
      "La probabilidad de ganar al menos un partido siendo del continente northamerica es de: 0.75\n",
      "La probabilidad de perder al menos un partido siendo del continente northamerica es de: 0.25\n",
      "\n",
      "La probabilidad de ganar al menos un partido siendo del continente europe es de: 0.85\n",
      "La probabilidad de perder al menos un partido siendo del continente europe es de: 0.15\n",
      "\n",
      "La probabilidad de ganar al menos un partido siendo del continente africa es de: 0.6\n",
      "La probabilidad de perder al menos un partido siendo del continente africa es de: 0.4\n",
      "\n",
      "La probabilidad de ganar al menos un partido siendo del continente asia es de: 0.0\n",
      "La probabilidad de perder al menos un partido siendo del continente asia es de: 1.0\n",
      "\n"
     ]
    }
   ],
   "source": [
    "# Si en realidad lo que esta pidiendo es utilizar lo del primer punto\n",
    "for key, value in dfs_continentes.items():\n",
    "    prob_ganar_al_menos_uno =  round(sum(value[\"gano al menos uno\"])/ len(value), 2)\n",
    "    print(f\"La probabilidad de ganar al menos un partido siendo del continente {key} es de: {prob_ganar_al_menos_uno}\")\n",
    "    print(f\"La probabilidad de perder al menos un partido siendo del continente {key} es de: {round(1-prob_ganar_al_menos_uno,2)}\\n\")\n",
    "    #display(value)"
   ]
  }
 ],
 "metadata": {
  "kernelspec": {
   "display_name": "Python 3 (ipykernel)",
   "language": "python",
   "name": "python3"
  },
  "language_info": {
   "codemirror_mode": {
    "name": "ipython",
    "version": 3
   },
   "file_extension": ".py",
   "mimetype": "text/x-python",
   "name": "python",
   "nbconvert_exporter": "python",
   "pygments_lexer": "ipython3",
   "version": "3.9.13"
  },
  "varInspector": {
   "cols": {
    "lenName": 16,
    "lenType": 16,
    "lenVar": 40
   },
   "kernels_config": {
    "python": {
     "delete_cmd_postfix": "",
     "delete_cmd_prefix": "del ",
     "library": "var_list.py",
     "varRefreshCmd": "print(var_dic_list())"
    },
    "r": {
     "delete_cmd_postfix": ") ",
     "delete_cmd_prefix": "rm(",
     "library": "var_list.r",
     "varRefreshCmd": "cat(var_dic_list()) "
    }
   },
   "types_to_exclude": [
    "module",
    "function",
    "builtin_function_or_method",
    "instance",
    "_Feature"
   ],
   "window_display": false
  }
 },
 "nbformat": 4,
 "nbformat_minor": 4
}
