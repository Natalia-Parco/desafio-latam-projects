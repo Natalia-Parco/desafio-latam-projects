{
 "cells": [
  {
   "cell_type": "markdown",
   "metadata": {},
   "source": [
    "## Control de Flujo"
   ]
  },
  {
   "cell_type": "code",
   "execution_count": 1,
   "metadata": {
    "ExecuteTime": {
     "end_time": "2020-10-29T00:31:39.697982Z",
     "start_time": "2020-10-29T00:31:38.767319Z"
    }
   },
   "outputs": [],
   "source": [
    "import pandas as pd\n",
    "import numpy as np"
   ]
  },
  {
   "cell_type": "markdown",
   "metadata": {
    "heading_collapsed": true
   },
   "source": [
    "#### Desafío 1:\n",
    "Generar un par de arrays ficticios con numpy.\n",
    "- tip: utilice la función linspace para generar un array entre 1 y 50, y un array entre 50 y 150"
   ]
  },
  {
   "cell_type": "code",
   "execution_count": 2,
   "metadata": {
    "ExecuteTime": {
     "end_time": "2020-10-29T00:31:39.721179Z",
     "start_time": "2020-10-29T00:31:39.701013Z"
    },
    "hidden": true
   },
   "outputs": [
    {
     "data": {
      "text/plain": [
       "array([ 1,  2,  3,  4,  5,  6,  7,  8,  9, 10, 11, 12, 13, 14, 15, 16, 17,\n",
       "       18, 19, 20, 21, 22, 23, 24, 25, 26, 27, 28, 29, 30, 31, 32, 33, 34,\n",
       "       35, 36, 37, 38, 39, 40, 41, 42, 43, 44, 45, 46, 47, 48, 49, 50])"
      ]
     },
     "execution_count": 2,
     "metadata": {},
     "output_type": "execute_result"
    }
   ],
   "source": [
    "a1 = np.linspace(1, 50, 50, dtype = int)\n",
    "a1"
   ]
  },
  {
   "cell_type": "code",
   "execution_count": 3,
   "metadata": {
    "ExecuteTime": {
     "end_time": "2020-10-29T00:31:39.881441Z",
     "start_time": "2020-10-29T00:31:39.726692Z"
    },
    "hidden": true
   },
   "outputs": [
    {
     "data": {
      "text/plain": [
       "array([ 50,  52,  54,  56,  58,  60,  62,  64,  66,  68,  70,  72,  74,\n",
       "        76,  78,  80,  82,  84,  86,  88,  90,  92,  94,  96,  98, 101,\n",
       "       103, 105, 107, 109, 111, 113, 115, 117, 119, 121, 123, 125, 127,\n",
       "       129, 131, 133, 135, 137, 139, 141, 143, 145, 147, 150])"
      ]
     },
     "execution_count": 3,
     "metadata": {},
     "output_type": "execute_result"
    }
   ],
   "source": [
    "a2 = np.linspace(50,150, dtype = int)\n",
    "a2"
   ]
  },
  {
   "cell_type": "code",
   "execution_count": 4,
   "metadata": {
    "ExecuteTime": {
     "end_time": "2020-10-29T00:31:40.057269Z",
     "start_time": "2020-10-29T00:31:39.888121Z"
    },
    "hidden": true
   },
   "outputs": [
    {
     "data": {
      "text/plain": [
       "True"
      ]
     },
     "execution_count": 4,
     "metadata": {},
     "output_type": "execute_result"
    }
   ],
   "source": [
    "len(a1) == len(a2)"
   ]
  },
  {
   "cell_type": "markdown",
   "metadata": {
    "heading_collapsed": true
   },
   "source": [
    "#### Desafío 2:\n",
    "Ejecute un loop que devuelva si el número en el primer array es par o impar.\n",
    "- tip: utilice la función módulo para encontrar si el número es divisible por 2"
   ]
  },
  {
   "cell_type": "code",
   "execution_count": 5,
   "metadata": {
    "ExecuteTime": {
     "end_time": "2020-10-29T00:31:40.248883Z",
     "start_time": "2020-10-29T00:31:40.061568Z"
    },
    "hidden": true
   },
   "outputs": [
    {
     "name": "stdout",
     "output_type": "stream",
     "text": [
      "1 es impar\n",
      "2 es par\n",
      "3 es impar\n",
      "4 es par\n",
      "5 es impar\n",
      "6 es par\n",
      "7 es impar\n",
      "8 es par\n",
      "9 es impar\n",
      "10 es par\n",
      "11 es impar\n",
      "12 es par\n",
      "13 es impar\n",
      "14 es par\n",
      "15 es impar\n",
      "16 es par\n",
      "17 es impar\n",
      "18 es par\n",
      "19 es impar\n",
      "20 es par\n",
      "21 es impar\n",
      "22 es par\n",
      "23 es impar\n",
      "24 es par\n",
      "25 es impar\n",
      "26 es par\n",
      "27 es impar\n",
      "28 es par\n",
      "29 es impar\n",
      "30 es par\n",
      "31 es impar\n",
      "32 es par\n",
      "33 es impar\n",
      "34 es par\n",
      "35 es impar\n",
      "36 es par\n",
      "37 es impar\n",
      "38 es par\n",
      "39 es impar\n",
      "40 es par\n",
      "41 es impar\n",
      "42 es par\n",
      "43 es impar\n",
      "44 es par\n",
      "45 es impar\n",
      "46 es par\n",
      "47 es impar\n",
      "48 es par\n",
      "49 es impar\n",
      "50 es par\n"
     ]
    }
   ],
   "source": [
    "#np.where(a1 % 2 == 0, \"Es par\", \"Es impar\")\n",
    "#[f\"{x} es par\" if x % 2 == 0 else f\"{x} es impar\" for x in a1]\n",
    "#par = list(filter(lambda x:x %2 ==0, a1))\n",
    "#impar = list(filter(lambda x:x %2 !=0, a1))\n",
    "\n",
    "for i in a1:\n",
    "    if i % 2 == 0:\n",
    "        print(f\"{i} es par\")\n",
    "    else:\n",
    "        print(f\"{i} es impar\")"
   ]
  },
  {
   "cell_type": "markdown",
   "metadata": {
    "heading_collapsed": true
   },
   "source": [
    "#### Desafío 3:\n",
    "Genere un loop con el segundo array que cuente las siguientes condiciones:\n",
    "- Si el número es divisible por 2 o 3 \n",
    "- Si el número es divisible por 2 y 3 \n",
    "- Si el número es divisible por 3 pero no por 2 \n",
    "- Si el número no es divisible por 2 ni 3"
   ]
  },
  {
   "cell_type": "code",
   "execution_count": 6,
   "metadata": {
    "ExecuteTime": {
     "end_time": "2020-10-29T00:31:40.407515Z",
     "start_time": "2020-10-29T00:31:40.257266Z"
    },
    "hidden": true
   },
   "outputs": [
    {
     "name": "stdout",
     "output_type": "stream",
     "text": [
      "Los números divisibles por dos o tres son:\n",
      "0      50\n",
      "1      52\n",
      "2      54\n",
      "3      56\n",
      "4      58\n",
      "5      60\n",
      "6      62\n",
      "7      64\n",
      "8      66\n",
      "9      68\n",
      "10     70\n",
      "11     72\n",
      "12     74\n",
      "13     76\n",
      "14     78\n",
      "15     80\n",
      "16     82\n",
      "17     84\n",
      "18     86\n",
      "19     88\n",
      "20     90\n",
      "21     92\n",
      "22     94\n",
      "23     96\n",
      "24     98\n",
      "25    105\n",
      "26    111\n",
      "27    117\n",
      "28    123\n",
      "29    129\n",
      "30    135\n",
      "31    141\n",
      "32    147\n",
      "33    150\n",
      "dtype: int64\n",
      "Los números divisibles por dos y tres son:\n",
      "0     54\n",
      "1     60\n",
      "2     66\n",
      "3     72\n",
      "4     78\n",
      "5     84\n",
      "6     90\n",
      "7     96\n",
      "8    150\n",
      "dtype: int64\n",
      "Los números divisibles por tres y no por dos son:\n",
      "0    105\n",
      "1    111\n",
      "2    117\n",
      "3    123\n",
      "4    129\n",
      "5    135\n",
      "6    141\n",
      "7    147\n",
      "dtype: int64\n",
      "Los números no divisibles por dos ni por tres son:\n",
      "0     101\n",
      "1     103\n",
      "2     107\n",
      "3     109\n",
      "4     113\n",
      "5     115\n",
      "6     119\n",
      "7     121\n",
      "8     125\n",
      "9     127\n",
      "10    131\n",
      "11    133\n",
      "12    137\n",
      "13    139\n",
      "14    143\n",
      "15    145\n",
      "dtype: int64\n"
     ]
    }
   ],
   "source": [
    "# Generamos listas vacias \n",
    "div_2_o_3 = [] \n",
    "div_2_y_3 = []\n",
    "div_3_no_2 = []\n",
    "no_div_2_ni_3 = []\n",
    "\n",
    "for i in a2:\n",
    "    if i % 2 == 0 or i % 3 == 0:\n",
    "        div_2_o_3.append(i)\n",
    "    if i % 2 == 0 and i % 3 == 0:\n",
    "        div_2_y_3.append(i)\n",
    "    if i % 3 == 0 and i % 2 != 0:\n",
    "        div_3_no_2.append(i)\n",
    "    if i % 2 != 0 and i % 3 != 0:\n",
    "        no_div_2_ni_3.append(i)\n",
    "\n",
    "div_2_o_3 = pd.Series(div_2_o_3) \n",
    "div_2_y_3 = pd.Series(div_2_y_3)\n",
    "div_3_no_2 = pd.Series(div_3_no_2)\n",
    "no_div_2_ni_3 = pd.Series(no_div_2_ni_3) \n",
    "print(f\"Los números divisibles por dos o tres son:\\n{div_2_o_3}\")\n",
    "print(f\"Los números divisibles por dos y tres son:\\n{div_2_y_3}\")\n",
    "print(f\"Los números divisibles por tres y no por dos son:\\n{div_3_no_2}\")\n",
    "print(f\"Los números no divisibles por dos ni por tres son:\\n{no_div_2_ni_3}\")"
   ]
  },
  {
   "cell_type": "markdown",
   "metadata": {
    "heading_collapsed": true
   },
   "source": [
    "#### Desafío 4: \n",
    "Correción de errores:\n",
    "- for i in range(100): \n",
    "-     print(I**2)\n"
   ]
  },
  {
   "cell_type": "code",
   "execution_count": 7,
   "metadata": {
    "ExecuteTime": {
     "end_time": "2020-10-29T00:31:40.598573Z",
     "start_time": "2020-10-29T00:31:40.412762Z"
    },
    "code_folding": [],
    "hidden": true
   },
   "outputs": [
    {
     "name": "stdout",
     "output_type": "stream",
     "text": [
      "Error: El error se encuentra en la mayúscula de la letra I.\n",
      "0\n",
      "1\n",
      "4\n",
      "9\n",
      "16\n",
      "25\n",
      "36\n",
      "49\n",
      "64\n",
      "81\n",
      "100\n",
      "121\n",
      "144\n",
      "169\n",
      "196\n",
      "225\n",
      "256\n",
      "289\n",
      "324\n",
      "361\n",
      "400\n",
      "441\n",
      "484\n",
      "529\n",
      "576\n",
      "625\n",
      "676\n",
      "729\n",
      "784\n",
      "841\n",
      "900\n",
      "961\n",
      "1024\n",
      "1089\n",
      "1156\n",
      "1225\n",
      "1296\n",
      "1369\n",
      "1444\n",
      "1521\n",
      "1600\n",
      "1681\n",
      "1764\n",
      "1849\n",
      "1936\n",
      "2025\n",
      "2116\n",
      "2209\n",
      "2304\n",
      "2401\n",
      "2500\n",
      "2601\n",
      "2704\n",
      "2809\n",
      "2916\n",
      "3025\n",
      "3136\n",
      "3249\n",
      "3364\n",
      "3481\n",
      "3600\n",
      "3721\n",
      "3844\n",
      "3969\n",
      "4096\n",
      "4225\n",
      "4356\n",
      "4489\n",
      "4624\n",
      "4761\n",
      "4900\n",
      "5041\n",
      "5184\n",
      "5329\n",
      "5476\n",
      "5625\n",
      "5776\n",
      "5929\n",
      "6084\n",
      "6241\n",
      "6400\n",
      "6561\n",
      "6724\n",
      "6889\n",
      "7056\n",
      "7225\n",
      "7396\n",
      "7569\n",
      "7744\n",
      "7921\n",
      "8100\n",
      "8281\n",
      "8464\n",
      "8649\n",
      "8836\n",
      "9025\n",
      "9216\n",
      "9409\n",
      "9604\n",
      "9801\n"
     ]
    }
   ],
   "source": [
    "print(\"Error: El error se encuentra en la mayúscula de la letra I.\")\n",
    "for i in range(100):\n",
    "    print(i**2)"
   ]
  },
  {
   "cell_type": "markdown",
   "metadata": {
    "heading_collapsed": true
   },
   "source": [
    "#### Desafío 5:\n",
    "Utilizando la misma base flights.csv hacer un loop  y clasificar los meses con una cantidad de pasajeros menor a la media"
   ]
  },
  {
   "cell_type": "code",
   "execution_count": 8,
   "metadata": {
    "ExecuteTime": {
     "end_time": "2020-10-29T00:31:40.739935Z",
     "start_time": "2020-10-29T00:31:40.601275Z"
    },
    "hidden": true
   },
   "outputs": [
    {
     "data": {
      "text/html": [
       "<div>\n",
       "<style scoped>\n",
       "    .dataframe tbody tr th:only-of-type {\n",
       "        vertical-align: middle;\n",
       "    }\n",
       "\n",
       "    .dataframe tbody tr th {\n",
       "        vertical-align: top;\n",
       "    }\n",
       "\n",
       "    .dataframe thead th {\n",
       "        text-align: right;\n",
       "    }\n",
       "</style>\n",
       "<table border=\"1\" class=\"dataframe\">\n",
       "  <thead>\n",
       "    <tr style=\"text-align: right;\">\n",
       "      <th></th>\n",
       "      <th>year</th>\n",
       "      <th>month</th>\n",
       "      <th>passengers</th>\n",
       "    </tr>\n",
       "  </thead>\n",
       "  <tbody>\n",
       "    <tr>\n",
       "      <th>142</th>\n",
       "      <td>1960</td>\n",
       "      <td>November</td>\n",
       "      <td>390</td>\n",
       "    </tr>\n",
       "    <tr>\n",
       "      <th>143</th>\n",
       "      <td>1960</td>\n",
       "      <td>December</td>\n",
       "      <td>432</td>\n",
       "    </tr>\n",
       "  </tbody>\n",
       "</table>\n",
       "</div>"
      ],
      "text/plain": [
       "     year     month  passengers\n",
       "142  1960  November         390\n",
       "143  1960  December         432"
      ]
     },
     "execution_count": 8,
     "metadata": {},
     "output_type": "execute_result"
    }
   ],
   "source": [
    "df = pd.read_csv(\"flights.csv\")\n",
    "df.tail(2)"
   ]
  },
  {
   "cell_type": "markdown",
   "metadata": {
    "hidden": true
   },
   "source": [
    "Para ello, genere un nuevo objeto que represente la media de passengers "
   ]
  },
  {
   "cell_type": "code",
   "execution_count": 9,
   "metadata": {
    "ExecuteTime": {
     "end_time": "2020-10-29T00:31:40.889441Z",
     "start_time": "2020-10-29T00:31:40.744611Z"
    },
    "hidden": true
   },
   "outputs": [
    {
     "data": {
      "text/plain": [
       "280.2986111111111"
      ]
     },
     "execution_count": 9,
     "metadata": {},
     "output_type": "execute_result"
    }
   ],
   "source": [
    "media_pasajeros = np.mean(df[\"passengers\"])\n",
    "media_pasajeros"
   ]
  },
  {
   "cell_type": "markdown",
   "metadata": {
    "hidden": true
   },
   "source": [
    "Genere una columna en la base de datos que se llame underperforming y asígnele 0.\n",
    "\n",
    "Ejecute un loop que recorra cada observación de passengers, donde si la observación es menor a la media de passengers se le asigne a underperforming un 1. \n",
    "\n",
    "Para asignar unos en la columna underperforming ya creada, utilice la función DataFrame.at"
   ]
  },
  {
   "cell_type": "code",
   "execution_count": 10,
   "metadata": {
    "ExecuteTime": {
     "end_time": "2020-10-29T00:31:41.510632Z",
     "start_time": "2020-10-29T00:31:40.891616Z"
    },
    "hidden": true
   },
   "outputs": [
    {
     "data": {
      "text/html": [
       "<div>\n",
       "<style scoped>\n",
       "    .dataframe tbody tr th:only-of-type {\n",
       "        vertical-align: middle;\n",
       "    }\n",
       "\n",
       "    .dataframe tbody tr th {\n",
       "        vertical-align: top;\n",
       "    }\n",
       "\n",
       "    .dataframe thead th {\n",
       "        text-align: right;\n",
       "    }\n",
       "</style>\n",
       "<table border=\"1\" class=\"dataframe\">\n",
       "  <thead>\n",
       "    <tr style=\"text-align: right;\">\n",
       "      <th></th>\n",
       "      <th>year</th>\n",
       "      <th>month</th>\n",
       "      <th>passengers</th>\n",
       "      <th>underperforming</th>\n",
       "    </tr>\n",
       "  </thead>\n",
       "  <tbody>\n",
       "    <tr>\n",
       "      <th>0</th>\n",
       "      <td>1949</td>\n",
       "      <td>January</td>\n",
       "      <td>112</td>\n",
       "      <td>1</td>\n",
       "    </tr>\n",
       "    <tr>\n",
       "      <th>1</th>\n",
       "      <td>1949</td>\n",
       "      <td>February</td>\n",
       "      <td>118</td>\n",
       "      <td>1</td>\n",
       "    </tr>\n",
       "    <tr>\n",
       "      <th>2</th>\n",
       "      <td>1949</td>\n",
       "      <td>March</td>\n",
       "      <td>132</td>\n",
       "      <td>1</td>\n",
       "    </tr>\n",
       "    <tr>\n",
       "      <th>3</th>\n",
       "      <td>1949</td>\n",
       "      <td>April</td>\n",
       "      <td>129</td>\n",
       "      <td>1</td>\n",
       "    </tr>\n",
       "    <tr>\n",
       "      <th>4</th>\n",
       "      <td>1949</td>\n",
       "      <td>May</td>\n",
       "      <td>121</td>\n",
       "      <td>1</td>\n",
       "    </tr>\n",
       "    <tr>\n",
       "      <th>...</th>\n",
       "      <td>...</td>\n",
       "      <td>...</td>\n",
       "      <td>...</td>\n",
       "      <td>...</td>\n",
       "    </tr>\n",
       "    <tr>\n",
       "      <th>139</th>\n",
       "      <td>1960</td>\n",
       "      <td>August</td>\n",
       "      <td>606</td>\n",
       "      <td>0</td>\n",
       "    </tr>\n",
       "    <tr>\n",
       "      <th>140</th>\n",
       "      <td>1960</td>\n",
       "      <td>September</td>\n",
       "      <td>508</td>\n",
       "      <td>0</td>\n",
       "    </tr>\n",
       "    <tr>\n",
       "      <th>141</th>\n",
       "      <td>1960</td>\n",
       "      <td>October</td>\n",
       "      <td>461</td>\n",
       "      <td>0</td>\n",
       "    </tr>\n",
       "    <tr>\n",
       "      <th>142</th>\n",
       "      <td>1960</td>\n",
       "      <td>November</td>\n",
       "      <td>390</td>\n",
       "      <td>0</td>\n",
       "    </tr>\n",
       "    <tr>\n",
       "      <th>143</th>\n",
       "      <td>1960</td>\n",
       "      <td>December</td>\n",
       "      <td>432</td>\n",
       "      <td>0</td>\n",
       "    </tr>\n",
       "  </tbody>\n",
       "</table>\n",
       "<p>144 rows × 4 columns</p>\n",
       "</div>"
      ],
      "text/plain": [
       "     year      month  passengers  underperforming\n",
       "0    1949    January         112                1\n",
       "1    1949   February         118                1\n",
       "2    1949      March         132                1\n",
       "3    1949      April         129                1\n",
       "4    1949        May         121                1\n",
       "..    ...        ...         ...              ...\n",
       "139  1960     August         606                0\n",
       "140  1960  September         508                0\n",
       "141  1960    October         461                0\n",
       "142  1960   November         390                0\n",
       "143  1960   December         432                0\n",
       "\n",
       "[144 rows x 4 columns]"
      ]
     },
     "execution_count": 10,
     "metadata": {},
     "output_type": "execute_result"
    }
   ],
   "source": [
    "#df[\"underperforming\"] = np.where(df[\"passengers\"] < media_pasajeros, 1, 0)\n",
    "df[\"underperforming\"] = 0\n",
    "for index, row in df.iterrows():\n",
    "    if row.values[2] < media_pasajeros:\n",
    "        df[\"underperforming\"].at[index] = 1\n",
    "df       "
   ]
  },
  {
   "cell_type": "markdown",
   "metadata": {
    "heading_collapsed": true
   },
   "source": [
    "#### Desafío 6:\n",
    "Hacer un loop que clasifique los meses donde la cantidad de pasajeros se escapa de la tendencia.\n",
    "\n",
    "Para ello, genere dos objetos que guarden la media general y la desviación estandar general de passengers "
   ]
  },
  {
   "cell_type": "code",
   "execution_count": 11,
   "metadata": {
    "ExecuteTime": {
     "end_time": "2020-10-29T00:31:41.518803Z",
     "start_time": "2020-10-29T00:31:41.512623Z"
    },
    "hidden": true
   },
   "outputs": [
    {
     "data": {
      "text/plain": [
       "280.2986111111111"
      ]
     },
     "execution_count": 11,
     "metadata": {},
     "output_type": "execute_result"
    }
   ],
   "source": [
    "media_pasajeros"
   ]
  },
  {
   "cell_type": "code",
   "execution_count": 12,
   "metadata": {
    "ExecuteTime": {
     "end_time": "2020-10-29T00:31:41.707656Z",
     "start_time": "2020-10-29T00:31:41.520762Z"
    },
    "hidden": true
   },
   "outputs": [
    {
     "data": {
      "text/plain": [
       "119.96631694294321"
      ]
     },
     "execution_count": 12,
     "metadata": {},
     "output_type": "execute_result"
    }
   ],
   "source": [
    "desvio = df[\"passengers\"].std()\n",
    "desvio"
   ]
  },
  {
   "cell_type": "markdown",
   "metadata": {
    "ExecuteTime": {
     "end_time": "2020-10-24T15:00:38.340503Z",
     "start_time": "2020-10-24T15:00:38.326015Z"
    },
    "hidden": true
   },
   "source": [
    "Genere una nueva columna en la tabla de datos que se llame outlier y asignele 0"
   ]
  },
  {
   "cell_type": "code",
   "execution_count": 13,
   "metadata": {
    "ExecuteTime": {
     "end_time": "2020-10-29T00:31:41.868901Z",
     "start_time": "2020-10-29T00:31:41.711279Z"
    },
    "hidden": true
   },
   "outputs": [],
   "source": [
    "df[\"outlier\"] = 0\n",
    "#df"
   ]
  },
  {
   "cell_type": "markdown",
   "metadata": {
    "hidden": true
   },
   "source": [
    "Ejecute un loop que recorra cada observación de passengers, donde si la observación se escapa de la tendencia sea 1, de lo contrario 0.\n",
    "\n",
    "Para clasificar los casos que se escapen la tendencia, la observación debe satisfacer una de las siguientes condiciones:\n",
    "- La observación debe ser menor a la  media menos la desviación estándar.\n",
    "- La observación debe ser mayor a la media más la desviación estándar. "
   ]
  },
  {
   "cell_type": "code",
   "execution_count": 14,
   "metadata": {
    "ExecuteTime": {
     "end_time": "2020-10-29T00:31:42.055949Z",
     "start_time": "2020-10-29T00:31:41.876589Z"
    },
    "hidden": true
   },
   "outputs": [],
   "source": [
    "cota_izq = media_pasajeros - desvio\n",
    "cota_derecha = media_pasajeros + desvio"
   ]
  },
  {
   "cell_type": "code",
   "execution_count": 15,
   "metadata": {
    "ExecuteTime": {
     "end_time": "2020-10-29T00:31:42.256667Z",
     "start_time": "2020-10-29T00:31:42.062779Z"
    },
    "hidden": true
   },
   "outputs": [],
   "source": [
    "# escapan_tend =(df[\"passengers\"] < cota_izq) & (df[\"passengers\"] > cota_derecha)\n",
    "# df[\"outliers\"] = np.where(escapan_tend, 1, 0)"
   ]
  },
  {
   "cell_type": "code",
   "execution_count": 16,
   "metadata": {
    "ExecuteTime": {
     "end_time": "2020-10-29T00:31:42.431534Z",
     "start_time": "2020-10-29T00:31:42.264755Z"
    },
    "hidden": true
   },
   "outputs": [],
   "source": [
    "df[\"outlier\"] = 0\n",
    "for index, row in df.iterrows():\n",
    "    if ((row.values[2] < cota_izq)|(row.values[2] > cota_derecha)):\n",
    "        df[\"outlier\"].at[index] = 1"
   ]
  },
  {
   "cell_type": "markdown",
   "metadata": {
    "hidden": true
   },
   "source": [
    "¿Cuántas observaciones se pueden clasificar como casos extremos?"
   ]
  },
  {
   "cell_type": "code",
   "execution_count": 17,
   "metadata": {
    "ExecuteTime": {
     "end_time": "2020-10-29T00:31:42.756366Z",
     "start_time": "2020-10-29T00:31:42.432569Z"
    },
    "hidden": true
   },
   "outputs": [
    {
     "name": "stdout",
     "output_type": "stream",
     "text": [
      "53 observaciones se pueden clasificar como casos extremos.\n"
     ]
    }
   ],
   "source": [
    "extremos = df[\"outlier\"].sum()\n",
    "print(f\"{extremos} observaciones se pueden clasificar como casos extremos.\")"
   ]
  }
 ],
 "metadata": {
  "kernelspec": {
   "display_name": "Python 3 (ipykernel)",
   "language": "python",
   "name": "python3"
  },
  "language_info": {
   "codemirror_mode": {
    "name": "ipython",
    "version": 3
   },
   "file_extension": ".py",
   "mimetype": "text/x-python",
   "name": "python",
   "nbconvert_exporter": "python",
   "pygments_lexer": "ipython3",
   "version": "3.9.13"
  },
  "varInspector": {
   "cols": {
    "lenName": 16,
    "lenType": 16,
    "lenVar": 40
   },
   "kernels_config": {
    "python": {
     "delete_cmd_postfix": "",
     "delete_cmd_prefix": "del ",
     "library": "var_list.py",
     "varRefreshCmd": "print(var_dic_list())"
    },
    "r": {
     "delete_cmd_postfix": ") ",
     "delete_cmd_prefix": "rm(",
     "library": "var_list.r",
     "varRefreshCmd": "cat(var_dic_list()) "
    }
   },
   "types_to_exclude": [
    "module",
    "function",
    "builtin_function_or_method",
    "instance",
    "_Feature"
   ],
   "window_display": false
  }
 },
 "nbformat": 4,
 "nbformat_minor": 4
}
