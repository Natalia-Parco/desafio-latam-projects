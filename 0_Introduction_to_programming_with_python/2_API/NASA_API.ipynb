{
 "cells": [
  {
   "cell_type": "markdown",
   "metadata": {},
   "source": [
    "## Prueba\n",
    "\n",
    "Para desarrollar esta prueba nos conectaremos a la API de la NASA para descargar fotos de los Rovers y filtrar resultados acorde a lo pedido."
   ]
  },
  {
   "cell_type": "code",
   "execution_count": 1,
   "metadata": {
    "ExecuteTime": {
     "end_time": "2021-01-09T12:28:57.107271Z",
     "start_time": "2021-01-09T12:28:56.898659Z"
    }
   },
   "outputs": [],
   "source": [
    "import requests\n",
    "import webbrowser"
   ]
  },
  {
   "cell_type": "markdown",
   "metadata": {},
   "source": [
    "**Requerimientos**\n",
    "1. Una función request que debe:\n",
    "    * Recibir como parámetro la URL y el api_key\n",
    "    * Concatenar la API key en la URL\n",
    "    * Retrornar el diccionario con los resultados\n",
    "\n",
    "**Tip:** Se puede seguir el paso a paso explicado en la lectura en el capítulo API con\n",
    "autenticación e ingresar al Portal de la Nasa para autenticarse."
   ]
  },
  {
   "cell_type": "code",
   "execution_count": 2,
   "metadata": {
    "ExecuteTime": {
     "end_time": "2021-01-09T12:28:57.113085Z",
     "start_time": "2021-01-09T12:28:57.108097Z"
    },
    "code_folding": []
   },
   "outputs": [],
   "source": [
    "def request(url,api_key):\n",
    "    response = requests.get(f\"{url}&api_key={api_key}\").json()\n",
    "    return response"
   ]
  },
  {
   "cell_type": "code",
   "execution_count": 3,
   "metadata": {
    "ExecuteTime": {
     "end_time": "2021-01-09T12:28:57.235098Z",
     "start_time": "2021-01-09T12:28:57.115078Z"
    }
   },
   "outputs": [],
   "source": [
    "# https://api.nasa.gov/mars-photos/api/v1/rovers/curiosity/photos?sol=1000&camera=fhaz&api_key=DEMO_KEY\n",
    "url = \"https://api.nasa.gov/mars-photos/api/v1/rovers/curiosity/photos?sol=1000&camera=fhaz\"\n",
    "api_key = \"o6MYFpRC3nNaw0gPl8pGsRD4Ys1LAfVLNPJwFj4T\""
   ]
  },
  {
   "cell_type": "code",
   "execution_count": 4,
   "metadata": {
    "ExecuteTime": {
     "end_time": "2021-01-09T12:28:59.570053Z",
     "start_time": "2021-01-09T12:28:57.239092Z"
    }
   },
   "outputs": [
    {
     "data": {
      "text/plain": [
       "{'photos': [{'id': 102693,\n",
       "   'sol': 1000,\n",
       "   'camera': {'id': 20,\n",
       "    'name': 'FHAZ',\n",
       "    'rover_id': 5,\n",
       "    'full_name': 'Front Hazard Avoidance Camera'},\n",
       "   'img_src': 'http://mars.jpl.nasa.gov/msl-raw-images/proj/msl/redops/ods/surface/sol/01000/opgs/edr/fcam/FLB_486265257EDR_F0481570FHAZ00323M_.JPG',\n",
       "   'earth_date': '2015-05-30',\n",
       "   'rover': {'id': 5,\n",
       "    'name': 'Curiosity',\n",
       "    'landing_date': '2012-08-06',\n",
       "    'launch_date': '2011-11-26',\n",
       "    'status': 'active'}},\n",
       "  {'id': 102694,\n",
       "   'sol': 1000,\n",
       "   'camera': {'id': 20,\n",
       "    'name': 'FHAZ',\n",
       "    'rover_id': 5,\n",
       "    'full_name': 'Front Hazard Avoidance Camera'},\n",
       "   'img_src': 'http://mars.jpl.nasa.gov/msl-raw-images/proj/msl/redops/ods/surface/sol/01000/opgs/edr/fcam/FRB_486265257EDR_F0481570FHAZ00323M_.JPG',\n",
       "   'earth_date': '2015-05-30',\n",
       "   'rover': {'id': 5,\n",
       "    'name': 'Curiosity',\n",
       "    'landing_date': '2012-08-06',\n",
       "    'launch_date': '2011-11-26',\n",
       "    'status': 'active'}}]}"
      ]
     },
     "execution_count": 4,
     "metadata": {},
     "output_type": "execute_result"
    }
   ],
   "source": [
    "response = request(url,api_key)\n",
    "response"
   ]
  },
  {
   "cell_type": "code",
   "execution_count": 5,
   "metadata": {
    "ExecuteTime": {
     "end_time": "2021-01-09T12:28:59.580981Z",
     "start_time": "2021-01-09T12:28:59.573004Z"
    },
    "code_folding": []
   },
   "outputs": [
    {
     "name": "stdout",
     "output_type": "stream",
     "text": [
      "http://mars.jpl.nasa.gov/msl-raw-images/proj/msl/redops/ods/surface/sol/01000/opgs/edr/fcam/FLB_486265257EDR_F0481570FHAZ00323M_.JPG\n",
      "http://mars.jpl.nasa.gov/msl-raw-images/proj/msl/redops/ods/surface/sol/01000/opgs/edr/fcam/FRB_486265257EDR_F0481570FHAZ00323M_.JPG\n"
     ]
    }
   ],
   "source": [
    "# Links de las fotos\n",
    "for i in response[\"photos\"]:\n",
    "    print(i[\"img_src\"])"
   ]
  },
  {
   "cell_type": "markdown",
   "metadata": {},
   "source": [
    "2. Una función llamada build_web_page que debe:\n",
    "    * Recibir como parámetro el diccionario de respuesta con todos los datos de las fotos.\n",
    "    * Construir una página web que muestre las fotos.\n",
    "    \n",
    "**Tip:** Al revisar la documentación, se encontrarán con un parámetro que representa la cantidad de fotos. No coloquen un valor muy alto, o pueden generar una página web que tarde mucho en cargar."
   ]
  },
  {
   "cell_type": "code",
   "execution_count": 6,
   "metadata": {
    "ExecuteTime": {
     "end_time": "2021-01-09T12:28:59.848452Z",
     "start_time": "2021-01-09T12:28:59.582976Z"
    },
    "code_folding": [
     0
    ]
   },
   "outputs": [],
   "source": [
    "def build_web_page(response):\n",
    "    arriba = \"\"\"<html>\n",
    "    <head> \n",
    "    </head>\n",
    "    <body>\n",
    "    <ul> \"\"\"\n",
    "    fotos = \"\"\n",
    "    abajo = \"\"\"</ul>\n",
    "    </body>\n",
    "    </html>\"\"\"\n",
    "    \n",
    "    for i in response[\"photos\"]:\n",
    "        fotos += f\"<li><img src=\\'{i['img_src']}\\'></li>\"\n",
    "        \n",
    "    html = arriba + fotos + abajo\n",
    "    \n",
    "    return html"
   ]
  },
  {
   "cell_type": "code",
   "execution_count": 7,
   "metadata": {
    "ExecuteTime": {
     "end_time": "2021-01-09T12:28:59.975632Z",
     "start_time": "2021-01-09T12:28:59.854433Z"
    }
   },
   "outputs": [
    {
     "data": {
      "text/plain": [
       "\"<html>\\n    <head> \\n    </head>\\n    <body>\\n    <ul> <li><img src='http://mars.jpl.nasa.gov/msl-raw-images/proj/msl/redops/ods/surface/sol/01000/opgs/edr/fcam/FLB_486265257EDR_F0481570FHAZ00323M_.JPG'></li><li><img src='http://mars.jpl.nasa.gov/msl-raw-images/proj/msl/redops/ods/surface/sol/01000/opgs/edr/fcam/FRB_486265257EDR_F0481570FHAZ00323M_.JPG'></li></ul>\\n    </body>\\n    </html>\""
      ]
     },
     "execution_count": 7,
     "metadata": {},
     "output_type": "execute_result"
    }
   ],
   "source": [
    "nasa_html = build_web_page(response)\n",
    "nasa_html"
   ]
  },
  {
   "cell_type": "markdown",
   "metadata": {},
   "source": [
    "Guardar el codigo del html en un archivo de texto como.html y luego abrir con la web. Está la página creada con las fotos de la nasa."
   ]
  },
  {
   "cell_type": "code",
   "execution_count": 8,
   "metadata": {
    "ExecuteTime": {
     "end_time": "2021-01-09T12:29:00.326141Z",
     "start_time": "2021-01-09T12:28:59.982616Z"
    }
   },
   "outputs": [
    {
     "data": {
      "text/plain": [
       "True"
      ]
     },
     "execution_count": 8,
     "metadata": {},
     "output_type": "execute_result"
    }
   ],
   "source": [
    "guardar_html = open('Fotos_Nasa.html','w')\n",
    "guardar_html.write(nasa_html)\n",
    "guardar_html.close()\n",
    "webbrowser.open_new_tab('Fotos_Nasa.html')"
   ]
  },
  {
   "cell_type": "markdown",
   "metadata": {},
   "source": [
    "**Pregunta bonus:** Crear la función photos_count que reciba el diccionario de respuesta, y devuelva un nuevo diccionario con el nombre de la cámara y la cantidad de fotos."
   ]
  },
  {
   "cell_type": "code",
   "execution_count": 9,
   "metadata": {
    "ExecuteTime": {
     "end_time": "2021-01-09T12:29:00.335115Z",
     "start_time": "2021-01-09T12:29:00.329131Z"
    }
   },
   "outputs": [],
   "source": [
    "def photos_count (response):\n",
    "    \n",
    "    name = []\n",
    "    cantidad_fotos = []\n",
    "    \n",
    "    for i in response[\"photos\"]:\n",
    "        nombre = i['camera'].get('full_name')\n",
    "        name.append(nombre)\n",
    "        cantidad = i['img_src'].count('http')\n",
    "        cantidad_fotos.append(cantidad)\n",
    "    print(name , cantidad_fotos)\n",
    "    \n",
    "    dicc = dict(zip(name, cantidad_fotos))\n",
    "    return dicc"
   ]
  },
  {
   "cell_type": "code",
   "execution_count": 10,
   "metadata": {
    "ExecuteTime": {
     "end_time": "2021-01-09T12:29:00.550260Z",
     "start_time": "2021-01-09T12:29:00.337115Z"
    }
   },
   "outputs": [
    {
     "name": "stdout",
     "output_type": "stream",
     "text": [
      "['Front Hazard Avoidance Camera', 'Front Hazard Avoidance Camera'] [1, 1]\n"
     ]
    },
    {
     "data": {
      "text/plain": [
       "{'Front Hazard Avoidance Camera': 1}"
      ]
     },
     "execution_count": 10,
     "metadata": {},
     "output_type": "execute_result"
    }
   ],
   "source": [
    "photos_count(response)"
   ]
  }
 ],
 "metadata": {
  "kernelspec": {
   "display_name": "Python 3",
   "language": "python",
   "name": "python3"
  },
  "language_info": {
   "codemirror_mode": {
    "name": "ipython",
    "version": 3
   },
   "file_extension": ".py",
   "mimetype": "text/x-python",
   "name": "python",
   "nbconvert_exporter": "python",
   "pygments_lexer": "ipython3",
   "version": "3.7.6"
  },
  "varInspector": {
   "cols": {
    "lenName": 16,
    "lenType": 16,
    "lenVar": 40
   },
   "kernels_config": {
    "python": {
     "delete_cmd_postfix": "",
     "delete_cmd_prefix": "del ",
     "library": "var_list.py",
     "varRefreshCmd": "print(var_dic_list())"
    },
    "r": {
     "delete_cmd_postfix": ") ",
     "delete_cmd_prefix": "rm(",
     "library": "var_list.r",
     "varRefreshCmd": "cat(var_dic_list()) "
    }
   },
   "types_to_exclude": [
    "module",
    "function",
    "builtin_function_or_method",
    "instance",
    "_Feature"
   ],
   "window_display": false
  }
 },
 "nbformat": 4,
 "nbformat_minor": 4
}
