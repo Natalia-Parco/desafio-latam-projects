{
 "cells": [
  {
   "cell_type": "markdown",
   "metadata": {},
   "source": [
    "<a id='contents' />\n",
    "\n",
    "## Desafio: API\n",
    "\n",
    "* [Desafío 1](#desafiouno)\n",
    "* [Desafío 2](#desafiodos)\n",
    "* [Desafío 3](#desafiotres)\n",
    "* [Desafío 4](#desafiocuatro)\n",
    "* [Desafío 5](#desafiocinco)\n"
   ]
  },
  {
   "cell_type": "markdown",
   "metadata": {},
   "source": [
    "### Teoría"
   ]
  },
  {
   "cell_type": "markdown",
   "metadata": {},
   "source": [
    "* Request = pedido del cliente\n",
    "* url = direccion de la página web\n",
    "* Response = respuesta al pedido del cliente que se encuentra en el url\n",
    "* Json(JavaScript Object Notation) = es el formato que posee response. Es un string - un texto plano\n",
    "\n",
    "\n",
    "- Códigos de respuestas:\n",
    "    * 1xx: Información \n",
    "    * 2xx: Solicitudes exitosas\n",
    "    * 3xx: Redireccionamiento\n",
    "    * 4xx: Error del cliente (no hizo la request correctamente)\n",
    "    * 5xx: Error del servidor (no puede dar una respuesta)"
   ]
  },
  {
   "cell_type": "markdown",
   "metadata": {},
   "source": [
    "### Actividad\n",
    "Para este desafío, se debe usar la API de pruebas de reqres, disponible en https://reqres.in/ .\n",
    "\n",
    "Esta API no requiere autenticación, y su único recurso es users. \n",
    "\n",
    "Todas las solicitudes se hacen a https://reqres.in/api/users. \n",
    "\n",
    "Puede utilizar el código entregado por Postman. \n",
    "\n",
    "Se considerará para la evaluación que las respuestas de la API sean exitosas."
   ]
  },
  {
   "cell_type": "markdown",
   "metadata": {},
   "source": [
    "<a id='desafiouno' />\n",
    "\n",
    "### Desafío 1\n",
    "[(back to top)](#contents)\n",
    "\n",
    "Crear la función request que reciba como parametro:\n",
    "- Obligatorio un method, que será el verbo a utilizar en la request \n",
    "- Obligatorio una url, que será la url a usar en la request \n",
    "- Opcional un payload (por defecto string vacío), que será la data a utilizar en la request\n",
    "\n",
    "La función debe realizar una solicitud a la api con la URL, el verbo, y el payload indicado, y retornar la respuesta obtenida:\n",
    "  - Para los casos de GET, POST y PUT, la respuesta exitosa entrega un json y un código. En estos casos, debe retornar el json como diccionario de Python. \n",
    "  - Para el caso de DELETE, la respuesta exitosa solo entrega el código de respuesta. En este caso, debe retornar el código de respuesta. "
   ]
  },
  {
   "cell_type": "code",
   "execution_count": 1,
   "metadata": {
    "ExecuteTime": {
     "end_time": "2021-02-16T22:30:06.432793Z",
     "start_time": "2021-02-16T22:30:05.723438Z"
    }
   },
   "outputs": [],
   "source": [
    "import pandas as pd\n",
    "import requests\n",
    "import json"
   ]
  },
  {
   "cell_type": "code",
   "execution_count": 2,
   "metadata": {
    "ExecuteTime": {
     "end_time": "2021-02-16T22:30:06.439603Z",
     "start_time": "2021-02-16T22:30:06.434613Z"
    }
   },
   "outputs": [],
   "source": [
    "def request(method, url, data = {}, all_usuarios = False):\n",
    "    if all_usuarios == True:\n",
    "        res = requests.request(method, url)\n",
    "        if res.status_code == 200:\n",
    "            usuarios = res.json()\n",
    "            df = pd.DataFrame(usuarios)\n",
    "            return df.head(3)\n",
    "        return \"Hubo un error\"\n",
    "        \n",
    "    else:     \n",
    "        res = requests.request(method, url, data = {})\n",
    "        return res.json()           "
   ]
  },
  {
   "cell_type": "code",
   "execution_count": 3,
   "metadata": {
    "ExecuteTime": {
     "end_time": "2021-02-16T22:30:06.652776Z",
     "start_time": "2021-02-16T22:30:06.441594Z"
    }
   },
   "outputs": [],
   "source": [
    "url = \"https://jsonplaceholder.typicode.com/posts\""
   ]
  },
  {
   "cell_type": "markdown",
   "metadata": {},
   "source": [
    "<a id='desafiodos' />\n",
    "\n",
    "### Desafío 2\n",
    "[(back to top)](#contents)\n",
    "\n",
    "Utilice la función del ejercicio 1 para **listar** los usuarios, e imprima el retorno en pantalla (por defecto mostrará 3)"
   ]
  },
  {
   "cell_type": "code",
   "execution_count": 4,
   "metadata": {
    "ExecuteTime": {
     "end_time": "2021-02-16T22:30:06.983434Z",
     "start_time": "2021-02-16T22:30:06.660746Z"
    }
   },
   "outputs": [
    {
     "data": {
      "text/html": [
       "<div>\n",
       "<style scoped>\n",
       "    .dataframe tbody tr th:only-of-type {\n",
       "        vertical-align: middle;\n",
       "    }\n",
       "\n",
       "    .dataframe tbody tr th {\n",
       "        vertical-align: top;\n",
       "    }\n",
       "\n",
       "    .dataframe thead th {\n",
       "        text-align: right;\n",
       "    }\n",
       "</style>\n",
       "<table border=\"1\" class=\"dataframe\">\n",
       "  <thead>\n",
       "    <tr style=\"text-align: right;\">\n",
       "      <th></th>\n",
       "      <th>userId</th>\n",
       "      <th>id</th>\n",
       "      <th>title</th>\n",
       "      <th>body</th>\n",
       "    </tr>\n",
       "  </thead>\n",
       "  <tbody>\n",
       "    <tr>\n",
       "      <th>0</th>\n",
       "      <td>1</td>\n",
       "      <td>1</td>\n",
       "      <td>sunt aut facere repellat provident occaecati e...</td>\n",
       "      <td>quia et suscipit\\nsuscipit recusandae consequu...</td>\n",
       "    </tr>\n",
       "    <tr>\n",
       "      <th>1</th>\n",
       "      <td>1</td>\n",
       "      <td>2</td>\n",
       "      <td>qui est esse</td>\n",
       "      <td>est rerum tempore vitae\\nsequi sint nihil repr...</td>\n",
       "    </tr>\n",
       "    <tr>\n",
       "      <th>2</th>\n",
       "      <td>1</td>\n",
       "      <td>3</td>\n",
       "      <td>ea molestias quasi exercitationem repellat qui...</td>\n",
       "      <td>et iusto sed quo iure\\nvoluptatem occaecati om...</td>\n",
       "    </tr>\n",
       "  </tbody>\n",
       "</table>\n",
       "</div>"
      ],
      "text/plain": [
       "   userId  id                                              title  \\\n",
       "0       1   1  sunt aut facere repellat provident occaecati e...   \n",
       "1       1   2                                       qui est esse   \n",
       "2       1   3  ea molestias quasi exercitationem repellat qui...   \n",
       "\n",
       "                                                body  \n",
       "0  quia et suscipit\\nsuscipit recusandae consequu...  \n",
       "1  est rerum tempore vitae\\nsequi sint nihil repr...  \n",
       "2  et iusto sed quo iure\\nvoluptatem occaecati om...  "
      ]
     },
     "execution_count": 4,
     "metadata": {},
     "output_type": "execute_result"
    }
   ],
   "source": [
    "request(\"GET\", url , all_usuarios = True)"
   ]
  },
  {
   "cell_type": "markdown",
   "metadata": {},
   "source": [
    "<a id='desafiotres' />\n",
    "\n",
    "### Desafío 3\n",
    "[(back to top)](#contents)\n",
    "\n",
    "Utilice la función del ejercicio 1 para **crear** un usuario, e imprima el retorno en pantalla"
   ]
  },
  {
   "cell_type": "code",
   "execution_count": 5,
   "metadata": {
    "ExecuteTime": {
     "end_time": "2021-02-16T22:30:07.445989Z",
     "start_time": "2021-02-16T22:30:06.985428Z"
    }
   },
   "outputs": [],
   "source": [
    "data = {\"userId\": 4,\n",
    "        \"id\":4,\n",
    "        \"title\": \"qui est esse\",\n",
    "        \"body\": \"est rerum tempore vitae\"}"
   ]
  },
  {
   "cell_type": "code",
   "execution_count": 6,
   "metadata": {
    "ExecuteTime": {
     "end_time": "2021-02-16T22:30:08.098207Z",
     "start_time": "2021-02-16T22:30:07.446923Z"
    }
   },
   "outputs": [
    {
     "data": {
      "text/plain": [
       "{'id': 101}"
      ]
     },
     "execution_count": 6,
     "metadata": {},
     "output_type": "execute_result"
    }
   ],
   "source": [
    "request(method = \"POST\",\n",
    "        url = url,\n",
    "        data = data,\n",
    "        all_usuarios = False)"
   ]
  },
  {
   "cell_type": "markdown",
   "metadata": {},
   "source": [
    "<a id='desafiocuatro' />\n",
    "\n",
    "### Desafío 4\n",
    "[(back to top)](#contents)\n",
    "\n",
    "Utilice la función del ejercicio 1 para **actualizar** un usuario, e imprima el retorno en pantalla"
   ]
  },
  {
   "cell_type": "code",
   "execution_count": 7,
   "metadata": {
    "ExecuteTime": {
     "end_time": "2021-02-16T22:30:08.183380Z",
     "start_time": "2021-02-16T22:30:08.100166Z"
    }
   },
   "outputs": [],
   "source": [
    "# El .request devuelve un objeto con dos elementos el código de la rta y el cuerpo\n",
    "url = \"https://jsonplaceholder.typicode.com/posts/1\"\n",
    "\n",
    "data = {\"userId\": 4,\n",
    "        \"id\":4,\n",
    "        \"title\": \"qui est\",\n",
    "        \"body\": \"est rerum tempore\"}"
   ]
  },
  {
   "cell_type": "code",
   "execution_count": 8,
   "metadata": {
    "ExecuteTime": {
     "end_time": "2021-02-16T22:30:09.221591Z",
     "start_time": "2021-02-16T22:30:08.190361Z"
    }
   },
   "outputs": [
    {
     "data": {
      "text/plain": [
       "{'id': 1}"
      ]
     },
     "execution_count": 8,
     "metadata": {},
     "output_type": "execute_result"
    }
   ],
   "source": [
    "request(\"PUT\", url, data=data, all_usuarios = False)"
   ]
  },
  {
   "cell_type": "markdown",
   "metadata": {},
   "source": [
    "<a id='desafiocinco' />\n",
    "\n",
    "### Desafío 5\n",
    "[(back to top)](#contents)\n",
    "\n",
    "Utilice la función del ejercicio 1 para **eliminar** un usuario, e imprima el retorno en pantalla"
   ]
  },
  {
   "cell_type": "code",
   "execution_count": 9,
   "metadata": {
    "ExecuteTime": {
     "end_time": "2021-02-16T22:30:09.227576Z",
     "start_time": "2021-02-16T22:30:09.223587Z"
    }
   },
   "outputs": [],
   "source": [
    "data = \"\""
   ]
  },
  {
   "cell_type": "code",
   "execution_count": 10,
   "metadata": {
    "ExecuteTime": {
     "end_time": "2021-02-16T22:30:09.839783Z",
     "start_time": "2021-02-16T22:30:09.230566Z"
    }
   },
   "outputs": [
    {
     "data": {
      "text/plain": [
       "{}"
      ]
     },
     "execution_count": 10,
     "metadata": {},
     "output_type": "execute_result"
    }
   ],
   "source": [
    "request(\"DELETE\", url, data = data)"
   ]
  }
 ],
 "metadata": {
  "kernelspec": {
   "display_name": "Python 3",
   "language": "python",
   "name": "python3"
  },
  "language_info": {
   "codemirror_mode": {
    "name": "ipython",
    "version": 3
   },
   "file_extension": ".py",
   "mimetype": "text/x-python",
   "name": "python",
   "nbconvert_exporter": "python",
   "pygments_lexer": "ipython3",
   "version": "3.7.6"
  },
  "varInspector": {
   "cols": {
    "lenName": 16,
    "lenType": 16,
    "lenVar": 40
   },
   "kernels_config": {
    "python": {
     "delete_cmd_postfix": "",
     "delete_cmd_prefix": "del ",
     "library": "var_list.py",
     "varRefreshCmd": "print(var_dic_list())"
    },
    "r": {
     "delete_cmd_postfix": ") ",
     "delete_cmd_prefix": "rm(",
     "library": "var_list.r",
     "varRefreshCmd": "cat(var_dic_list()) "
    }
   },
   "types_to_exclude": [
    "module",
    "function",
    "builtin_function_or_method",
    "instance",
    "_Feature"
   ],
   "window_display": false
  }
 },
 "nbformat": 4,
 "nbformat_minor": 4
}
